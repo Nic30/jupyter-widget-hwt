{
 "cells": [
  {
   "cell_type": "code",
   "execution_count": 1,
   "metadata": {},
   "outputs": [],
   "source": [
    "from hwt.synthesizer.interface import Interface\n",
    "from hwt.interfaces.std import VectSignal, Signal\n",
    "from hwt.synthesizer.unit import Unit\n",
    "from hwtLib.amba.axis import AxiStreamAgent\n",
    "from hwt.hdl.constants import DIRECTION\n",
    "\n",
    "# An Interface is a base class of HWT interfaces, it's usage is straight forward\n",
    "# Note that hwtLib.amba.axis already contains definition of AxiStream\n",
    "class AxiStream(Interface):\n",
    "    \"\"\"\n",
    "    An example of interface definition in HWT\n",
    "    (AMBA4 AXI-4 Stream https://static.docs.arm.com/ihi0051/a/IHI0051A_amba4_axi4_stream_v1_0_protocol_spec.pdf)\n",
    "    \"\"\"\n",
    "    def _declr(self):\n",
    "        \"\"\"\n",
    "        Interface has the _declr() method with same meaning as Unit._declr shown in previous tutorial\n",
    "        it is the place where publically visible interfaces should be declared.\n",
    "        \"\"\"\n",
    "        DATA_WIDTH = 64\n",
    "        # self.<interface name> = <interface object>\n",
    "        self.data = VectSignal(DATA_WIDTH)\n",
    "        self.strb = VectSignal(DATA_WIDTH//8)\n",
    "        self.last = Signal()\n",
    "        self.valid = Signal()\n",
    "        self.ready = Signal(masterDir=DIRECTION.IN) # ready will be input to master\n",
    "\n",
    "    def _getIpCoreIntfClass(self):\n",
    "        \"\"\"\n",
    "        An optional method where you can override how the interface should be represented in exported IP-cores\n",
    "        \"\"\"\n",
    "        return IP_AXIStream\n",
    "\n",
    "    def _initSimAgent(self, sim):\n",
    "        \"\"\"\n",
    "        An optional method where you can override the simulation agent used is simulation\n",
    "        to read/write from/to interface\n",
    "        \"\"\"\n",
    "        # the ._ag has to be specified otherwise the simulator won't be able to communicate\n",
    "        # with the circuit if this inteface is on top component\n",
    "        self._ag = AxiStreamAgent(sim, self)\n",
    "\n",
    "\n",
    "from hwt.interfaces.utils import addClkRstn\n",
    "# simple wire with our interface\n",
    "class AxiStreamWire(Unit):\n",
    "\n",
    "    def _declr(self):\n",
    "        # addClkRstn just adds self.clk = Clk(); self.rst_n = Rst_n()\n",
    "        # we are adding it because the AxiStreamAgent needs it as AxiStream is synchronous interface\n",
    "        addClkRstn(self) \n",
    "        self.a = AxiStream()\n",
    "        self.b = AxiStream()._m()\n",
    "\n",
    "    def _impl(self):\n",
    "        self.b(self.a)\n",
    "\n",
    "\n",
    "class AxiStreamWireSignalBySignal(AxiStreamWire):\n",
    "\n",
    "    def _impl(self):\n",
    "        a, b = self.a, self.b\n",
    "        b.data(a.data)\n",
    "        b.strb(a.strb)\n",
    "        b.last(a.last)\n",
    "        b.valid(a.valid)\n",
    "        # note that there the direction is reversed\n",
    "        # because the direction in AxiStream definition is reversed as well\n",
    "        a.ready(b.ready)\n",
    "\n",
    "\n",
    "class AxiStreamWireSignalBySignal2(AxiStreamWire):\n",
    "\n",
    "    def _impl(self):\n",
    "        # each Interface/Unit instance has _interface list of children which can be\n",
    "        # used for introspection etc.\n",
    "        for a, b in zip(self.a._interface, self.b._interface):\n",
    "            if a is self.a.ready:\n",
    "                a(b)\n",
    "            else:\n",
    "                b(a)"
   ]
  },
  {
   "cell_type": "code",
   "execution_count": 2,
   "metadata": {},
   "outputs": [],
   "source": [
    "from hwt.hdl.constants import Time\n",
    "from hwt.simulator.simTestCase import SimTestCase\n",
    "from pycocotb.constants import CLK_PERIOD\n",
    "from pyMathBitPrecise.bit_utils import mask\n",
    "\n",
    "# An example simulation with our interface\n",
    "class AxiStreamWireWireTC(SimTestCase):\n",
    "\n",
    "    def test_simple(self):\n",
    "        u = AxiStreamWire()\n",
    "        self.compileSimAndStart(u)\n",
    "        # The data format depends on implementation of simulation agent\n",
    "        # and it can be found in documentation of the agent.\n",
    "        # It is usually a tuple of integers corresponding to values of signals\n",
    "        # in order in which they are defined.\n",
    "        inputData = [\n",
    "            # (data, strb, last) as AxiStreamAgent requires\n",
    "            (i, mask(64//8), 1)\n",
    "            for i in range(5)\n",
    "        ]\n",
    "        u.a._ag.data.extend(inputData)\n",
    "        self.runSim(10 * CLK_PERIOD)\n",
    "        self.assertValSequenceEqual(u.b._ag.data, inputData)\n"
   ]
  },
  {
   "cell_type": "code",
   "execution_count": 3,
   "metadata": {
    "scrolled": true
   },
   "outputs": [
    {
     "data": {
      "application/vnd.jupyter.widget-view+json": {
       "model_id": "68ae5c3f45a74d688c3637d182b30874",
       "version_major": 2,
       "version_minor": 0
      },
      "text/plain": [
       "HwtSignalDumpWidget(height='500px', value={'name': 'AxiStreamWireWireTC_test_simple__AxiStreamWire', 'type': {…"
      ]
     },
     "metadata": {},
     "output_type": "display_data"
    }
   ],
   "source": [
    "from jupyter_widget_hwt import HwtSignalDumpWidget\n",
    "\n",
    "selected_test = AxiStreamWireWireTC('test_simple')\n",
    "trace = HwtSignalDumpWidget(selected_test, width=1000, height=500)\n",
    "display(trace)"
   ]
  },
  {
   "cell_type": "code",
   "execution_count": null,
   "metadata": {},
   "outputs": [],
   "source": []
  }
 ],
 "metadata": {
  "kernelspec": {
   "display_name": "Python 3",
   "language": "python",
   "name": "python3"
  },
  "language_info": {
   "codemirror_mode": {
    "name": "ipython",
    "version": 3
   },
   "file_extension": ".py",
   "mimetype": "text/x-python",
   "name": "python",
   "nbconvert_exporter": "python",
   "pygments_lexer": "ipython3",
   "version": "3.8.2"
  }
 },
 "nbformat": 4,
 "nbformat_minor": 4
}
