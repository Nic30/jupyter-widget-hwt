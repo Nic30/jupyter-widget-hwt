{
 "cells": [
  {
   "cell_type": "code",
   "execution_count": 1,
   "metadata": {},
   "outputs": [],
   "source": [
    "from hwt.synthesizer.interface import Interface\n",
    "from hwt.interfaces.std import VectSignal, Signal\n",
    "from hwt.synthesizer.unit import Unit\n",
    "from hwtLib.amba.axis import AxiStreamAgent\n",
    "from hwt.hdl.constants import DIRECTION\n",
    "\n",
    "# An Interface is a base class of HWT interfaces, it's usage is straight forward\n",
    "# Note that hwtLib.amba.axis already contains definition of AxiStream\n",
    "class AxiStream(Interface):\n",
    "    \"\"\"\n",
    "    An example of interface definition in HWT\n",
    "    (AMBA4 AXI-4 Stream https://static.docs.arm.com/ihi0051/a/IHI0051A_amba4_axi4_stream_v1_0_protocol_spec.pdf)\n",
    "    \"\"\"\n",
    "    def _declr(self):\n",
    "        \"\"\"\n",
    "        Interface has the _declr() method with same meaning as Unit._declr shown in previous tutorial\n",
    "        it is the place where publically visible interfaces should be declared.\n",
    "        \"\"\"\n",
    "        DATA_WIDTH = 64\n",
    "        # self.<interface name> = <interface object>\n",
    "        self.data = VectSignal(DATA_WIDTH)\n",
    "        self.strb = VectSignal(DATA_WIDTH//8)\n",
    "        self.last = Signal()\n",
    "        self.valid = Signal()\n",
    "        self.ready = Signal(masterDir=DIRECTION.IN) # ready will be input to master\n",
    "\n",
    "    def _getIpCoreIntfClass(self):\n",
    "        \"\"\"\n",
    "        An optional method where you can override how the interface should be represented in exported IP-cores\n",
    "        \"\"\"\n",
    "        return IP_AXIStream\n",
    "\n",
    "    def _initSimAgent(self, sim):\n",
    "        \"\"\"\n",
    "        An optional method where you can override the simulation agent used is simulation\n",
    "        to read/write from/to interface\n",
    "        \"\"\"\n",
    "        # the ._ag has to be specified otherwise the simulator won't be able to communicate\n",
    "        # with the circuit if this inteface is on top component\n",
    "        self._ag = AxiStreamAgent(sim, self)\n",
    "\n",
    "\n",
    "from hwt.interfaces.utils import addClkRstn\n",
    "# simple wire with our interface\n",
    "class AxiStreamWire(Unit):\n",
    "\n",
    "    def _declr(self):\n",
    "        # addClkRstn just adds self.clk = Clk(); self.rst_n = Rst_n()\n",
    "        # we are adding it because the AxiStreamAgent needs it as AxiStream is synchronous interface\n",
    "        addClkRstn(self) \n",
    "        self.a = AxiStream()\n",
    "        self.b = AxiStream()._m()\n",
    "\n",
    "    def _impl(self):\n",
    "        self.b(self.a)\n",
    "\n",
    "\n",
    "class AxiStreamWireSignalBySignal(AxiStreamWire):\n",
    "\n",
    "    def _impl(self):\n",
    "        a, b = self.a, self.b\n",
    "        b.data(a.data)\n",
    "        b.strb(a.strb)\n",
    "        b.last(a.last)\n",
    "        b.valid(a.valid)\n",
    "        # note that there the direction is reversed\n",
    "        # because the direction in AxiStream definition is reversed as well\n",
    "        a.ready(b.ready)\n",
    "\n",
    "\n",
    "class AxiStreamWireSignalBySignal2(AxiStreamWire):\n",
    "\n",
    "    def _impl(self):\n",
    "        # each Interface/Unit instance has _interface list of children which can be\n",
    "        # used for introspection etc.\n",
    "        for a, b in zip(self.a._interface, self.b._interface):\n",
    "            if a is self.a.ready:\n",
    "                a(b)\n",
    "            else:\n",
    "                b(a)"
   ]
  },
  {
   "cell_type": "code",
   "execution_count": 2,
   "metadata": {},
   "outputs": [],
   "source": [
    "from hwt.hdl.constants import Time\n",
    "from hwt.simulator.simTestCase import SimTestCase\n",
    "from pycocotb.constants import CLK_PERIOD\n",
    "from pyMathBitPrecise.bit_utils import mask\n",
    "\n",
    "# An example simulation with our interface\n",
    "class AxiStreamWireWireTC(SimTestCase):\n",
    "\n",
    "    def test_simple(self):\n",
    "        u = AxiStreamWire()\n",
    "        self.compileSimAndStart(u)\n",
    "        # The data format depends on implementation of simulation agent\n",
    "        # and it can be found in documentation of the agent.\n",
    "        # It is usually a tuple of integers corresponding to values of signals\n",
    "        # in order in which they are defined.\n",
    "        inputData = [\n",
    "            # (data, strb, last) as AxiStreamAgent requires\n",
    "            (i, mask(64//8), 1)\n",
    "            for i in range(5)\n",
    "        ]\n",
    "        u.a._ag.data.extend(inputData)\n",
    "        self.runSim(10 * CLK_PERIOD)\n",
    "        self.assertValSequenceEqual(u.b._ag.data, inputData)\n"
   ]
  },
  {
   "cell_type": "code",
   "execution_count": 3,
   "metadata": {
    "scrolled": true
   },
   "outputs": [
    {
     "data": {
      "application/vnd.jupyter.widget-view+json": {
       "model_id": "64e48aba14ac4d88aea26c005ff8a678",
       "version_major": 2,
       "version_minor": 0
      },
      "text/plain": [
       "HwtSignalDumpWidget(height='500px', signal_data={'name': 'AxiStreamWireWireTC_test_simple__AxiStreamWire', 'ty…"
      ]
     },
     "metadata": {},
     "output_type": "display_data"
    }
   ],
   "source": [
    "from jupyter_widget_hwt import HwtSignalDumpWidget\n",
    "\n",
    "selected_test = AxiStreamWireWireTC('test_simple')\n",
    "trace = HwtSignalDumpWidget(selected_test, width=1000, height=500)\n",
    "display(trace)"
   ]
  },
  {
   "cell_type": "code",
   "execution_count": null,
   "metadata": {},
   "outputs": [],
   "source": []
  }
 ],
 "metadata": {
  "kernelspec": {
   "display_name": "Python 3",
   "language": "python",
   "name": "python3"
  },
  "language_info": {
   "codemirror_mode": {
    "name": "ipython",
    "version": 3
   },
   "file_extension": ".py",
   "mimetype": "text/x-python",
   "name": "python",
   "nbconvert_exporter": "python",
   "pygments_lexer": "ipython3",
   "version": "3.8.2"
  },
  "widgets": {
   "application/vnd.jupyter.widget-state+json": {
    "state": {
     "14f6a907e90642f08942b408c8a7e389": {
      "model_module": "jupyter_widget_hwt",
      "model_module_version": "^0.0.1",
      "model_name": "HwtSignalDumpModel",
      "state": {
       "_model_module_version": "^0.0.1",
       "_view_module_version": "^0.0.1",
       "height": "500px",
       "layout": "IPY_MODEL_d14edc1f182e4687ac7437331060a2e2",
       "signal_data": {
        "children": [
         {
          "data": [
           [
            0,
            "0"
           ],
           [
            5000,
            "1"
           ],
           [
            10000,
            "0"
           ],
           [
            15000,
            "1"
           ],
           [
            20000,
            "0"
           ],
           [
            25000,
            "1"
           ],
           [
            30000,
            "0"
           ],
           [
            35000,
            "1"
           ],
           [
            40000,
            "0"
           ],
           [
            45000,
            "1"
           ],
           [
            50000,
            "0"
           ],
           [
            55000,
            "1"
           ],
           [
            60000,
            "0"
           ],
           [
            65000,
            "1"
           ],
           [
            70000,
            "0"
           ],
           [
            75000,
            "1"
           ],
           [
            80000,
            "0"
           ],
           [
            85000,
            "1"
           ],
           [
            90000,
            "0"
           ],
           [
            95000,
            "1"
           ]
          ],
          "name": "clk",
          "type": {
           "name": "wire",
           "width": 1
          }
         },
         {
          "data": [
           [
            0,
            "0"
           ],
           [
            6000,
            "1"
           ]
          ],
          "name": "rst_n",
          "type": {
           "name": "wire",
           "width": 1
          }
         },
         {
          "children": [
           {
            "data": [
             [
              5000,
              "b0000000000000000000000000000000000000000000000000000000000000000"
             ],
             [
              25000,
              "b0000000000000000000000000000000000000000000000000000000000000001"
             ],
             [
              35000,
              "b0000000000000000000000000000000000000000000000000000000000000010"
             ],
             [
              45000,
              "b0000000000000000000000000000000000000000000000000000000000000011"
             ],
             [
              55000,
              "b0000000000000000000000000000000000000000000000000000000000000100"
             ],
             [
              65000,
              "bXXXXXXXXXXXXXXXXXXXXXXXXXXXXXXXXXXXXXXXXXXXXXXXXXXXXXXXXXXXXXXXX"
             ]
            ],
            "name": "a_data",
            "type": {
             "name": "wire",
             "width": 64
            }
           },
           {
            "data": [
             [
              5000,
              "b11111111"
             ],
             [
              65000,
              "bXXXXXXXX"
             ]
            ],
            "name": "a_strb",
            "type": {
             "name": "wire",
             "width": 8
            }
           },
           {
            "data": [
             [
              5000,
              "1"
             ],
             [
              65000,
              "X"
             ]
            ],
            "name": "a_last",
            "type": {
             "name": "wire",
             "width": 1
            }
           },
           {
            "data": [
             [
              5000,
              "0"
             ],
             [
              15000,
              "1"
             ],
             [
              65000,
              "0"
             ]
            ],
            "name": "a_valid",
            "type": {
             "name": "wire",
             "width": 1
            }
           },
           {
            "data": [
             [
              5000,
              "0"
             ],
             [
              15000,
              "1"
             ]
            ],
            "name": "a_ready",
            "type": {
             "name": "wire",
             "width": 1
            }
           }
          ],
          "name": "a",
          "type": {
           "name": "struct"
          }
         },
         {
          "children": [
           {
            "data": [
             [
              5000,
              "b0000000000000000000000000000000000000000000000000000000000000000"
             ],
             [
              25000,
              "b0000000000000000000000000000000000000000000000000000000000000001"
             ],
             [
              35000,
              "b0000000000000000000000000000000000000000000000000000000000000010"
             ],
             [
              45000,
              "b0000000000000000000000000000000000000000000000000000000000000011"
             ],
             [
              55000,
              "b0000000000000000000000000000000000000000000000000000000000000100"
             ],
             [
              65000,
              "bXXXXXXXXXXXXXXXXXXXXXXXXXXXXXXXXXXXXXXXXXXXXXXXXXXXXXXXXXXXXXXXX"
             ]
            ],
            "name": "b_data",
            "type": {
             "name": "wire",
             "width": 64
            }
           },
           {
            "data": [
             [
              5000,
              "b11111111"
             ],
             [
              65000,
              "bXXXXXXXX"
             ]
            ],
            "name": "b_strb",
            "type": {
             "name": "wire",
             "width": 8
            }
           },
           {
            "data": [
             [
              5000,
              "1"
             ],
             [
              65000,
              "X"
             ]
            ],
            "name": "b_last",
            "type": {
             "name": "wire",
             "width": 1
            }
           },
           {
            "data": [
             [
              5000,
              "0"
             ],
             [
              15000,
              "1"
             ],
             [
              65000,
              "0"
             ]
            ],
            "name": "b_valid",
            "type": {
             "name": "wire",
             "width": 1
            }
           },
           {
            "data": [
             [
              5000,
              "0"
             ],
             [
              15000,
              "1"
             ]
            ],
            "name": "b_ready",
            "type": {
             "name": "wire",
             "width": 1
            }
           }
          ],
          "name": "b",
          "type": {
           "name": "struct"
          }
         }
        ],
        "name": "AxiStreamWireWireTC_test_simple__AxiStreamWire",
        "type": {
         "name": "struct"
        }
       },
       "width": "1000px"
      }
     },
     "2039954dc3994eb5962d42c8d9c0dda6": {
      "model_module": "jupyter_widget_hwt",
      "model_module_version": "^0.0.1",
      "model_name": "HwtSignalDumpModel",
      "state": {
       "_model_module_version": "^0.0.1",
       "_view_module_version": "^0.0.1",
       "height": "500px",
       "layout": "IPY_MODEL_8d1e7b796d6045aa99512e3f340aff69",
       "signal_data": {
        "children": [
         {
          "data": [
           [
            0,
            "0"
           ],
           [
            5000,
            "1"
           ],
           [
            10000,
            "0"
           ],
           [
            15000,
            "1"
           ],
           [
            20000,
            "0"
           ],
           [
            25000,
            "1"
           ],
           [
            30000,
            "0"
           ],
           [
            35000,
            "1"
           ],
           [
            40000,
            "0"
           ],
           [
            45000,
            "1"
           ],
           [
            50000,
            "0"
           ],
           [
            55000,
            "1"
           ],
           [
            60000,
            "0"
           ],
           [
            65000,
            "1"
           ],
           [
            70000,
            "0"
           ],
           [
            75000,
            "1"
           ],
           [
            80000,
            "0"
           ],
           [
            85000,
            "1"
           ],
           [
            90000,
            "0"
           ],
           [
            95000,
            "1"
           ]
          ],
          "name": "clk",
          "type": {
           "name": "wire",
           "width": 1
          }
         },
         {
          "data": [
           [
            0,
            "0"
           ],
           [
            6000,
            "1"
           ]
          ],
          "name": "rst_n",
          "type": {
           "name": "wire",
           "width": 1
          }
         },
         {
          "children": [
           {
            "data": [
             [
              5000,
              "b0000000000000000000000000000000000000000000000000000000000000000"
             ],
             [
              25000,
              "b0000000000000000000000000000000000000000000000000000000000000001"
             ],
             [
              35000,
              "b0000000000000000000000000000000000000000000000000000000000000010"
             ],
             [
              45000,
              "b0000000000000000000000000000000000000000000000000000000000000011"
             ],
             [
              55000,
              "b0000000000000000000000000000000000000000000000000000000000000100"
             ],
             [
              65000,
              "bXXXXXXXXXXXXXXXXXXXXXXXXXXXXXXXXXXXXXXXXXXXXXXXXXXXXXXXXXXXXXXXX"
             ]
            ],
            "name": "a_data",
            "type": {
             "name": "wire",
             "width": 64
            }
           },
           {
            "data": [
             [
              5000,
              "b11111111"
             ],
             [
              65000,
              "bXXXXXXXX"
             ]
            ],
            "name": "a_strb",
            "type": {
             "name": "wire",
             "width": 8
            }
           },
           {
            "data": [
             [
              5000,
              "1"
             ],
             [
              65000,
              "X"
             ]
            ],
            "name": "a_last",
            "type": {
             "name": "wire",
             "width": 1
            }
           },
           {
            "data": [
             [
              5000,
              "0"
             ],
             [
              15000,
              "1"
             ],
             [
              65000,
              "0"
             ]
            ],
            "name": "a_valid",
            "type": {
             "name": "wire",
             "width": 1
            }
           },
           {
            "data": [
             [
              5000,
              "0"
             ],
             [
              15000,
              "1"
             ]
            ],
            "name": "a_ready",
            "type": {
             "name": "wire",
             "width": 1
            }
           }
          ],
          "name": "a",
          "type": {
           "name": "struct"
          }
         },
         {
          "children": [
           {
            "data": [
             [
              5000,
              "b0000000000000000000000000000000000000000000000000000000000000000"
             ],
             [
              25000,
              "b0000000000000000000000000000000000000000000000000000000000000001"
             ],
             [
              35000,
              "b0000000000000000000000000000000000000000000000000000000000000010"
             ],
             [
              45000,
              "b0000000000000000000000000000000000000000000000000000000000000011"
             ],
             [
              55000,
              "b0000000000000000000000000000000000000000000000000000000000000100"
             ],
             [
              65000,
              "bXXXXXXXXXXXXXXXXXXXXXXXXXXXXXXXXXXXXXXXXXXXXXXXXXXXXXXXXXXXXXXXX"
             ]
            ],
            "name": "b_data",
            "type": {
             "name": "wire",
             "width": 64
            }
           },
           {
            "data": [
             [
              5000,
              "b11111111"
             ],
             [
              65000,
              "bXXXXXXXX"
             ]
            ],
            "name": "b_strb",
            "type": {
             "name": "wire",
             "width": 8
            }
           },
           {
            "data": [
             [
              5000,
              "1"
             ],
             [
              65000,
              "X"
             ]
            ],
            "name": "b_last",
            "type": {
             "name": "wire",
             "width": 1
            }
           },
           {
            "data": [
             [
              5000,
              "0"
             ],
             [
              15000,
              "1"
             ],
             [
              65000,
              "0"
             ]
            ],
            "name": "b_valid",
            "type": {
             "name": "wire",
             "width": 1
            }
           },
           {
            "data": [
             [
              5000,
              "0"
             ],
             [
              15000,
              "1"
             ]
            ],
            "name": "b_ready",
            "type": {
             "name": "wire",
             "width": 1
            }
           }
          ],
          "name": "b",
          "type": {
           "name": "struct"
          }
         }
        ],
        "name": "AxiStreamWireWireTC_test_simple__AxiStreamWire",
        "type": {
         "name": "struct"
        }
       },
       "width": "1000px"
      }
     },
     "64e48aba14ac4d88aea26c005ff8a678": {
      "model_module": "jupyter_widget_hwt",
      "model_module_version": "^0.0.1",
      "model_name": "HwtSignalDumpModel",
      "state": {
       "_model_module_version": "^0.0.1",
       "_view_module_version": "^0.0.1",
       "height": "500px",
       "layout": "IPY_MODEL_fcf3c57719a64ff1ad8fc77ad8adf30b",
       "signal_data": {
        "children": [
         {
          "data": [
           [
            0,
            "0"
           ],
           [
            5000,
            "1"
           ],
           [
            10000,
            "0"
           ],
           [
            15000,
            "1"
           ],
           [
            20000,
            "0"
           ],
           [
            25000,
            "1"
           ],
           [
            30000,
            "0"
           ],
           [
            35000,
            "1"
           ],
           [
            40000,
            "0"
           ],
           [
            45000,
            "1"
           ],
           [
            50000,
            "0"
           ],
           [
            55000,
            "1"
           ],
           [
            60000,
            "0"
           ],
           [
            65000,
            "1"
           ],
           [
            70000,
            "0"
           ],
           [
            75000,
            "1"
           ],
           [
            80000,
            "0"
           ],
           [
            85000,
            "1"
           ],
           [
            90000,
            "0"
           ],
           [
            95000,
            "1"
           ]
          ],
          "name": "clk",
          "type": {
           "name": "wire",
           "width": 1
          }
         },
         {
          "data": [
           [
            0,
            "0"
           ],
           [
            6000,
            "1"
           ]
          ],
          "name": "rst_n",
          "type": {
           "name": "wire",
           "width": 1
          }
         },
         {
          "children": [
           {
            "data": [
             [
              5000,
              "b0000000000000000000000000000000000000000000000000000000000000000"
             ],
             [
              25000,
              "b0000000000000000000000000000000000000000000000000000000000000001"
             ],
             [
              35000,
              "b0000000000000000000000000000000000000000000000000000000000000010"
             ],
             [
              45000,
              "b0000000000000000000000000000000000000000000000000000000000000011"
             ],
             [
              55000,
              "b0000000000000000000000000000000000000000000000000000000000000100"
             ],
             [
              65000,
              "bXXXXXXXXXXXXXXXXXXXXXXXXXXXXXXXXXXXXXXXXXXXXXXXXXXXXXXXXXXXXXXXX"
             ]
            ],
            "name": "a_data",
            "type": {
             "formatter": "UINT_HEX",
             "name": "wire",
             "width": 64
            }
           },
           {
            "data": [
             [
              5000,
              "b11111111"
             ],
             [
              65000,
              "bXXXXXXXX"
             ]
            ],
            "name": "a_strb",
            "type": {
             "formatter": "UINT_HEX",
             "name": "wire",
             "width": 8
            }
           },
           {
            "data": [
             [
              5000,
              "1"
             ],
             [
              65000,
              "X"
             ]
            ],
            "name": "a_last",
            "type": {
             "name": "wire",
             "width": 1
            }
           },
           {
            "data": [
             [
              5000,
              "0"
             ],
             [
              15000,
              "1"
             ],
             [
              65000,
              "0"
             ]
            ],
            "name": "a_valid",
            "type": {
             "name": "wire",
             "width": 1
            }
           },
           {
            "data": [
             [
              5000,
              "0"
             ],
             [
              15000,
              "1"
             ]
            ],
            "name": "a_ready",
            "type": {
             "name": "wire",
             "width": 1
            }
           }
          ],
          "name": "a",
          "type": {
           "name": "struct"
          }
         },
         {
          "children": [
           {
            "data": [
             [
              5000,
              "b0000000000000000000000000000000000000000000000000000000000000000"
             ],
             [
              25000,
              "b0000000000000000000000000000000000000000000000000000000000000001"
             ],
             [
              35000,
              "b0000000000000000000000000000000000000000000000000000000000000010"
             ],
             [
              45000,
              "b0000000000000000000000000000000000000000000000000000000000000011"
             ],
             [
              55000,
              "b0000000000000000000000000000000000000000000000000000000000000100"
             ],
             [
              65000,
              "bXXXXXXXXXXXXXXXXXXXXXXXXXXXXXXXXXXXXXXXXXXXXXXXXXXXXXXXXXXXXXXXX"
             ]
            ],
            "name": "b_data",
            "type": {
             "formatter": "UINT_HEX",
             "name": "wire",
             "width": 64
            }
           },
           {
            "data": [
             [
              5000,
              "b11111111"
             ],
             [
              65000,
              "bXXXXXXXX"
             ]
            ],
            "name": "b_strb",
            "type": {
             "formatter": "UINT_HEX",
             "name": "wire",
             "width": 8
            }
           },
           {
            "data": [
             [
              5000,
              "1"
             ],
             [
              65000,
              "X"
             ]
            ],
            "name": "b_last",
            "type": {
             "name": "wire",
             "width": 1
            }
           },
           {
            "data": [
             [
              5000,
              "0"
             ],
             [
              15000,
              "1"
             ],
             [
              65000,
              "0"
             ]
            ],
            "name": "b_valid",
            "type": {
             "name": "wire",
             "width": 1
            }
           },
           {
            "data": [
             [
              5000,
              "0"
             ],
             [
              15000,
              "1"
             ]
            ],
            "name": "b_ready",
            "type": {
             "name": "wire",
             "width": 1
            }
           }
          ],
          "name": "b",
          "type": {
           "name": "struct"
          }
         }
        ],
        "name": "AxiStreamWireWireTC_test_simple__AxiStreamWire",
        "type": {
         "name": "struct"
        }
       },
       "width": "1000px"
      }
     },
     "8d1e7b796d6045aa99512e3f340aff69": {
      "model_module": "@jupyter-widgets/base",
      "model_module_version": "1.2.0",
      "model_name": "LayoutModel",
      "state": {}
     },
     "d14edc1f182e4687ac7437331060a2e2": {
      "model_module": "@jupyter-widgets/base",
      "model_module_version": "1.2.0",
      "model_name": "LayoutModel",
      "state": {}
     },
     "fcf3c57719a64ff1ad8fc77ad8adf30b": {
      "model_module": "@jupyter-widgets/base",
      "model_module_version": "1.2.0",
      "model_name": "LayoutModel",
      "state": {}
     }
    },
    "version_major": 2,
    "version_minor": 0
   }
  }
 },
 "nbformat": 4,
 "nbformat_minor": 4
}
