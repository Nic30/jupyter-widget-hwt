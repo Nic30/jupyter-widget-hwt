{
 "cells": [
  {
   "cell_type": "code",
   "execution_count": 1,
   "metadata": {},
   "outputs": [
    {
     "data": {
      "application/vnd.jupyter.widget-view+json": {
       "model_id": "ac9b9fdc2e234e2a93640a6f0ab8dd60",
       "version_major": 2,
       "version_minor": 0
      },
      "text/plain": [
       "HwtSchemeWidget(height='1000px', value={'hwMeta': {'name': 'CuckooHashTable', 'maxId': 3036}, 'properties': {'…"
      ]
     },
     "metadata": {},
     "output_type": "display_data"
    }
   ],
   "source": [
    "from jupyter_widget_hwt.scheme import HwtSchemeWidget\n",
    "from hwtLib.logic.crcPoly import CRC_32\n",
    "from hwtLib.mem.cuckooHashTable import CuckooHashTable\n",
    "\n",
    "u = CuckooHashTable([CRC_32, ])\n",
    "u.KEY_WIDTH = 16\n",
    "u.DATA_WIDTH = 8\n",
    "u.LOOKUP_KEY = True\n",
    "u.TABLE_SIZE = 32\n",
    "\n",
    "HwtSchemeWidget(u, width=1500, height=1000)\n"
   ]
  },
  {
   "cell_type": "code",
   "execution_count": null,
   "metadata": {},
   "outputs": [],
   "source": []
  }
 ],
 "metadata": {
  "kernelspec": {
   "display_name": "Python 3",
   "language": "python",
   "name": "python3"
  },
  "language_info": {
   "codemirror_mode": {
    "name": "ipython",
    "version": 3
   },
   "file_extension": ".py",
   "mimetype": "text/x-python",
   "name": "python",
   "nbconvert_exporter": "python",
   "pygments_lexer": "ipython3",
   "version": "3.7.5"
  }
 },
 "nbformat": 4,
 "nbformat_minor": 4
}
