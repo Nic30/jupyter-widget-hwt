{
 "cells": [
  {
   "cell_type": "markdown",
   "metadata": {},
   "source": [
    "# Examples of notebooks for jupyter_widget_hwt\n",
    "\n",
    "\n",
    "* An example of simple schematics [simple schemes](example_scheme.ipynb)\n",
    "* An example of schematics for a large component [cuckoo hash](example_scheme_cuckoo_hash.ipynb)\n",
    "* An example of signal data widget [signal dump](example_signal_dump.ipynb)\n",
    "\n",
    "\n",
    "## HWT tutorial\n",
    "\n",
    "* [Component export](hwt_tutorial_0_component_export.ipynb)\n",
    "* [Simulation basics](hwt_tutorial_1_simulation.ipynb)\n",
    "* [Custom interface definitions](hwt_tutorial_2_custom_interface.ipynb)\n",
    "* [Syntax of hwt HDL/HCL language](hwt_tutorial_3_hdl_syntax.ipynb)\n"
   ]
  },
  {
   "cell_type": "code",
   "execution_count": null,
   "metadata": {},
   "outputs": [],
   "source": []
  }
 ],
 "metadata": {
  "kernelspec": {
   "display_name": "Python 3",
   "language": "python",
   "name": "python3"
  },
  "language_info": {
   "codemirror_mode": {
    "name": "ipython",
    "version": 3
   },
   "file_extension": ".py",
   "mimetype": "text/x-python",
   "name": "python",
   "nbconvert_exporter": "python",
   "pygments_lexer": "ipython3",
   "version": "3.8.2"
  }
 },
 "nbformat": 4,
 "nbformat_minor": 4
}
