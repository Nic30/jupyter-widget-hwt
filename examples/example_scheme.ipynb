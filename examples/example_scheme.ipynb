{
 "cells": [
  {
   "cell_type": "code",
   "execution_count": 1,
   "metadata": {},
   "outputs": [],
   "source": [
    "from jupyter_widget_hwt import HwtSchemeWidget\n",
    "# if you do not see the widgets click on restart kernel (widget is not trusted = executed by default)\n",
    "# currently HwtSchemeWidget can be used only once for each Unit istance as it modifies it\n",
    "# in order to create a new schema of same unit you need to deep copy it before passing it to HwtSchemeWidget\n",
    "# (temporary solution)\n",
    "#\n",
    "# Imported modules can be set to update automatically on change, use autoreload\n",
    "# https://medium.com/@chrieke/jupyter-tips-and-tricks-994fdddb2057"
   ]
  },
  {
   "cell_type": "code",
   "execution_count": 2,
   "metadata": {},
   "outputs": [
    {
     "data": {
      "application/vnd.jupyter.widget-view+json": {
       "model_id": "1660a62d589e46ffafa4227e5c6288c9",
       "version_major": 2,
       "version_minor": 0
      },
      "text/plain": [
       "HwtSchemeWidget(height='50px', value={'hwMeta': {'name': 'SimpleUnit', 'maxId': 5}, 'properties': {'org.eclips…"
      ]
     },
     "metadata": {},
     "output_type": "display_data"
    }
   ],
   "source": [
    "from hwtLib.examples.simple import SimpleUnit\n",
    "u = SimpleUnit()\n",
    "HwtSchemeWidget(u, height=50)"
   ]
  },
  {
   "cell_type": "code",
   "execution_count": 3,
   "metadata": {},
   "outputs": [
    {
     "data": {
      "application/vnd.jupyter.widget-view+json": {
       "model_id": "47b168b2bc084a6b88835546d4138822",
       "version_major": 2,
       "version_minor": 0
      },
      "text/plain": [
       "HwtSchemeWidget(height='100px', value={'hwMeta': {'name': 'DReg_asyncRst', 'maxId': 34}, 'properties': {'org.e…"
      ]
     },
     "metadata": {},
     "output_type": "display_data"
    }
   ],
   "source": [
    "from hwtLib.examples.mem.reg import DReg_asyncRst\n",
    "u = DReg_asyncRst()\n",
    "HwtSchemeWidget(u, height=100)"
   ]
  },
  {
   "cell_type": "code",
   "execution_count": 4,
   "metadata": {},
   "outputs": [
    {
     "data": {
      "application/vnd.jupyter.widget-view+json": {
       "model_id": "9d638233379a4a96b23b1a1ef9d4a7fe",
       "version_major": 2,
       "version_minor": 0
      },
      "text/plain": [
       "HwtSchemeWidget(value={'hwMeta': {'name': 'Cdc', 'maxId': 86}, 'properties': {'org.eclipse.elk.portConstraints…"
      ]
     },
     "metadata": {},
     "output_type": "display_data"
    }
   ],
   "source": [
    "from hwtLib.clocking.cdc import Cdc\n",
    "u = Cdc()\n",
    "HwtSchemeWidget(u, height=250, width=1000)"
   ]
  },
  {
   "cell_type": "code",
   "execution_count": 5,
   "metadata": {},
   "outputs": [
    {
     "data": {
      "application/vnd.jupyter.widget-view+json": {
       "model_id": "1be1c939f4e9425cbf351b873544c155",
       "version_major": 2,
       "version_minor": 0
      },
      "text/plain": [
       "HwtSchemeWidget(height='400px', value={'hwMeta': {'name': 'PidController', 'maxId': 159}, 'properties': {'org.…"
      ]
     },
     "metadata": {},
     "output_type": "display_data"
    }
   ],
   "source": [
    "from hwtLib.logic.pid import PidController\n",
    "u = PidController()\n",
    "HwtSchemeWidget(u, height=400, width=1000)"
   ]
  },
  {
   "cell_type": "code",
   "execution_count": 6,
   "metadata": {},
   "outputs": [
    {
     "data": {
      "application/vnd.jupyter.widget-view+json": {
       "model_id": "fbfafe780e5f48f6b0a18c88a818cb60",
       "version_major": 2,
       "version_minor": 0
      },
      "text/plain": [
       "HwtSchemeWidget(height='600px', value={'hwMeta': {'name': 'HsFifoAsync', 'maxId': 578}, 'properties': {'org.ec…"
      ]
     },
     "metadata": {},
     "output_type": "display_data"
    }
   ],
   "source": [
    "from hwtLib.handshaked.fifoAsync import HsFifoAsync\n",
    "from hwt.interfaces.std import Handshaked\n",
    "u = HsFifoAsync(Handshaked)\n",
    "u.DEPTH = 8 + 1\n",
    "HwtSchemeWidget(u, height=600, width=1000)"
   ]
  },
  {
   "cell_type": "code",
   "execution_count": null,
   "metadata": {},
   "outputs": [],
   "source": []
  }
 ],
 "metadata": {
  "kernelspec": {
   "display_name": "Python 3",
   "language": "python",
   "name": "python3"
  },
  "language_info": {
   "codemirror_mode": {
    "name": "ipython",
    "version": 3
   },
   "file_extension": ".py",
   "mimetype": "text/x-python",
   "name": "python",
   "nbconvert_exporter": "python",
   "pygments_lexer": "ipython3",
   "version": "3.8.2"
  },
  "widgets": {
   "application/vnd.jupyter.widget-state+json": {
    "state": {
     "1660a62d589e46ffafa4227e5c6288c9": {
      "model_module": "jupyter_widget_hwt",
      "model_module_version": "^0.0.1",
      "model_name": "HwtSchemeModel",
      "state": {
       "_model_module_version": "^0.0.1",
       "_view_module_version": "^0.0.1",
       "height": "50px",
       "layout": "IPY_MODEL_6e5f0efd24f343faa87447aa1cb28f2d",
       "value": {
        "children": [
         {
          "hideChildren": true,
          "hwMeta": {
           "isExternalPort": true,
           "maxId": 4,
           "name": "a"
          },
          "id": "1",
          "ports": [
           {
            "direction": "OUTPUT",
            "hwMeta": {
             "level": 0,
             "name": "a"
            },
            "id": "3",
            "properties": {
             "portIndex": 0,
             "portSide": "EAST"
            }
           }
          ],
          "properties": {
           "org.eclipse.elk.layered.mergeEdges": 1,
           "org.eclipse.elk.portConstraints": "FIXED_ORDER",
           "org.eclipse.elk.randomSeed": 0
          }
         },
         {
          "hideChildren": true,
          "hwMeta": {
           "isExternalPort": true,
           "maxId": 4,
           "name": "b"
          },
          "id": "2",
          "ports": [
           {
            "direction": "INPUT",
            "hwMeta": {
             "level": 0,
             "name": "b"
            },
            "id": "4",
            "properties": {
             "portIndex": 0,
             "portSide": "WEST"
            }
           }
          ],
          "properties": {
           "org.eclipse.elk.layered.mergeEdges": 1,
           "org.eclipse.elk.portConstraints": "FIXED_ORDER",
           "org.eclipse.elk.randomSeed": 0
          }
         }
        ],
        "edges": [
         {
          "hwMeta": {
           "name": "b"
          },
          "id": "5",
          "source": "1",
          "sourcePort": "3",
          "target": "2",
          "targetPort": "4"
         }
        ],
        "hwMeta": {
         "maxId": 5,
         "name": "SimpleUnit"
        },
        "ports": [],
        "properties": {
         "org.eclipse.elk.layered.mergeEdges": 1,
         "org.eclipse.elk.portConstraints": "FIXED_ORDER",
         "org.eclipse.elk.randomSeed": 0
        }
       }
      }
     },
     "1be1c939f4e9425cbf351b873544c155": {
      "model_module": "jupyter_widget_hwt",
      "model_module_version": "^0.0.1",
      "model_name": "HwtSchemeModel",
      "state": {
       "_model_module_version": "^0.0.1",
       "_view_module_version": "^0.0.1",
       "height": "400px",
       "layout": "IPY_MODEL_abb90332054944ecb16eee1dc5aae464",
       "value": {
        "children": [
         {
          "children": [
           {
            "hideChildren": true,
            "hwMeta": {
             "maxId": 119,
             "name": "MUX"
            },
            "id": "10",
            "ports": [
             {
              "direction": "OUTPUT",
              "hwMeta": {
               "level": 0,
               "name": ""
              },
              "id": "64",
              "properties": {
               "portIndex": 0,
               "portSide": "EAST"
              }
             },
             {
              "direction": "INPUT",
              "hwMeta": {
               "level": 0,
               "name": ""
              },
              "id": "65",
              "properties": {
               "portIndex": 1,
               "portSide": "SOUTH"
              }
             },
             {
              "direction": "INPUT",
              "hwMeta": {
               "level": 0,
               "name": ""
              },
              "id": "66",
              "properties": {
               "portIndex": 2,
               "portSide": "WEST"
              }
             },
             {
              "direction": "INPUT",
              "hwMeta": {
               "level": 0,
               "name": ""
              },
              "id": "67",
              "properties": {
               "portIndex": 3,
               "portSide": "WEST"
              }
             }
            ],
            "properties": {
             "org.eclipse.elk.layered.mergeEdges": 1,
             "org.eclipse.elk.portConstraints": "FIXED_ORDER",
             "org.eclipse.elk.randomSeed": 0
            }
           },
           {
            "hideChildren": true,
            "hwMeta": {
             "maxId": 119,
             "name": "FF"
            },
            "id": "11",
            "ports": [
             {
              "direction": "OUTPUT",
              "hwMeta": {
               "level": 0,
               "name": "o"
              },
              "id": "68",
              "properties": {
               "portIndex": 0,
               "portSide": "EAST"
              }
             },
             {
              "direction": "INPUT",
              "hwMeta": {
               "level": 0,
               "name": "i"
              },
              "id": "69",
              "properties": {
               "portIndex": 1,
               "portSide": "WEST"
              }
             },
             {
              "direction": "INPUT",
              "hwMeta": {
               "level": 0,
               "name": "clk"
              },
              "id": "70",
              "properties": {
               "portIndex": 2,
               "portSide": "WEST"
              }
             }
            ],
            "properties": {
             "org.eclipse.elk.layered.mergeEdges": 1,
             "org.eclipse.elk.portConstraints": "FIXED_ORDER",
             "org.eclipse.elk.randomSeed": 0
            }
           },
           {
            "hideChildren": true,
            "hwMeta": {
             "maxId": 119,
             "name": "MUX"
            },
            "id": "2",
            "ports": [
             {
              "direction": "OUTPUT",
              "hwMeta": {
               "level": 0,
               "name": ""
              },
              "id": "43",
              "properties": {
               "portIndex": 0,
               "portSide": "EAST"
              }
             },
             {
              "direction": "INPUT",
              "hwMeta": {
               "level": 0,
               "name": ""
              },
              "id": "44",
              "properties": {
               "portIndex": 1,
               "portSide": "SOUTH"
              }
             },
             {
              "direction": "INPUT",
              "hwMeta": {
               "level": 0,
               "name": ""
              },
              "id": "45",
              "properties": {
               "portIndex": 2,
               "portSide": "WEST"
              }
             },
             {
              "direction": "INPUT",
              "hwMeta": {
               "level": 0,
               "name": ""
              },
              "id": "46",
              "properties": {
               "portIndex": 3,
               "portSide": "WEST"
              }
             }
            ],
            "properties": {
             "org.eclipse.elk.layered.mergeEdges": 1,
             "org.eclipse.elk.portConstraints": "FIXED_ORDER",
             "org.eclipse.elk.randomSeed": 0
            }
           },
           {
            "hideChildren": true,
            "hwMeta": {
             "maxId": 119,
             "name": "EQ"
            },
            "id": "3",
            "ports": [
             {
              "direction": "OUTPUT",
              "hwMeta": {
               "level": 0,
               "name": null
              },
              "id": "47",
              "properties": {
               "portIndex": 0,
               "portSide": "EAST"
              }
             },
             {
              "direction": "INPUT",
              "hwMeta": {
               "level": 0,
               "name": null
              },
              "id": "48",
              "properties": {
               "portIndex": 1,
               "portSide": "WEST"
              }
             },
             {
              "direction": "INPUT",
              "hwMeta": {
               "level": 0,
               "name": null
              },
              "id": "49",
              "properties": {
               "portIndex": 2,
               "portSide": "WEST"
              }
             }
            ],
            "properties": {
             "org.eclipse.elk.layered.mergeEdges": 1,
             "org.eclipse.elk.portConstraints": "FIXED_ORDER",
             "org.eclipse.elk.randomSeed": 0
            }
           },
           {
            "hideChildren": true,
            "hwMeta": {
             "bodyText": "0",
             "maxId": 119,
             "name": null
            },
            "id": "4",
            "ports": [
             {
              "direction": "OUTPUT",
              "hwMeta": {
               "level": 0,
               "name": null
              },
              "id": "50",
              "properties": {
               "portSide": "EAST"
              }
             }
            ],
            "properties": {
             "org.eclipse.elk.layered.mergeEdges": 1,
             "org.eclipse.elk.portConstraints": "FREE",
             "org.eclipse.elk.randomSeed": 0
            }
           },
           {
            "hideChildren": true,
            "hwMeta": {
             "bodyText": "0",
             "maxId": 119,
             "name": null
            },
            "id": "5",
            "ports": [
             {
              "direction": "OUTPUT",
              "hwMeta": {
               "level": 0,
               "name": null
              },
              "id": "51",
              "properties": {
               "portSide": "EAST"
              }
             }
            ],
            "properties": {
             "org.eclipse.elk.layered.mergeEdges": 1,
             "org.eclipse.elk.portConstraints": "FREE",
             "org.eclipse.elk.randomSeed": 0
            }
           },
           {
            "hideChildren": true,
            "hwMeta": {
             "maxId": 119,
             "name": "FF"
            },
            "id": "6",
            "ports": [
             {
              "direction": "OUTPUT",
              "hwMeta": {
               "level": 0,
               "name": "o"
              },
              "id": "52",
              "properties": {
               "portIndex": 0,
               "portSide": "EAST"
              }
             },
             {
              "direction": "INPUT",
              "hwMeta": {
               "level": 0,
               "name": "i"
              },
              "id": "53",
              "properties": {
               "portIndex": 1,
               "portSide": "WEST"
              }
             },
             {
              "direction": "INPUT",
              "hwMeta": {
               "level": 0,
               "name": "clk"
              },
              "id": "54",
              "properties": {
               "portIndex": 2,
               "portSide": "WEST"
              }
             }
            ],
            "properties": {
             "org.eclipse.elk.layered.mergeEdges": 1,
             "org.eclipse.elk.portConstraints": "FIXED_ORDER",
             "org.eclipse.elk.randomSeed": 0
            }
           },
           {
            "hideChildren": true,
            "hwMeta": {
             "maxId": 119,
             "name": "RISING_EDGE"
            },
            "id": "7",
            "ports": [
             {
              "direction": "OUTPUT",
              "hwMeta": {
               "level": 0,
               "name": null
              },
              "id": "55",
              "properties": {
               "portIndex": 0,
               "portSide": "EAST"
              }
             },
             {
              "direction": "INPUT",
              "hwMeta": {
               "level": 0,
               "name": null
              },
              "id": "56",
              "properties": {
               "portIndex": 1,
               "portSide": "WEST"
              }
             }
            ],
            "properties": {
             "org.eclipse.elk.layered.mergeEdges": 1,
             "org.eclipse.elk.portConstraints": "FIXED_ORDER",
             "org.eclipse.elk.randomSeed": 0
            }
           },
           {
            "hideChildren": true,
            "hwMeta": {
             "maxId": 119,
             "name": "MUX"
            },
            "id": "8",
            "ports": [
             {
              "direction": "OUTPUT",
              "hwMeta": {
               "level": 0,
               "name": ""
              },
              "id": "57",
              "properties": {
               "portIndex": 0,
               "portSide": "EAST"
              }
             },
             {
              "direction": "INPUT",
              "hwMeta": {
               "level": 0,
               "name": ""
              },
              "id": "58",
              "properties": {
               "portIndex": 1,
               "portSide": "SOUTH"
              }
             },
             {
              "direction": "INPUT",
              "hwMeta": {
               "level": 0,
               "name": ""
              },
              "id": "59",
              "properties": {
               "portIndex": 2,
               "portSide": "WEST"
              }
             },
             {
              "direction": "INPUT",
              "hwMeta": {
               "level": 0,
               "name": ""
              },
              "id": "60",
              "properties": {
               "portIndex": 3,
               "portSide": "WEST"
              }
             }
            ],
            "properties": {
             "org.eclipse.elk.layered.mergeEdges": 1,
             "org.eclipse.elk.portConstraints": "FIXED_ORDER",
             "org.eclipse.elk.randomSeed": 0
            }
           },
           {
            "hideChildren": true,
            "hwMeta": {
             "maxId": 119,
             "name": "FF"
            },
            "id": "9",
            "ports": [
             {
              "direction": "OUTPUT",
              "hwMeta": {
               "level": 0,
               "name": "o"
              },
              "id": "61",
              "properties": {
               "portIndex": 0,
               "portSide": "EAST"
              }
             },
             {
              "direction": "INPUT",
              "hwMeta": {
               "level": 0,
               "name": "i"
              },
              "id": "62",
              "properties": {
               "portIndex": 1,
               "portSide": "WEST"
              }
             },
             {
              "direction": "INPUT",
              "hwMeta": {
               "level": 0,
               "name": "clk"
              },
              "id": "63",
              "properties": {
               "portIndex": 2,
               "portSide": "WEST"
              }
             }
            ],
            "properties": {
             "org.eclipse.elk.layered.mergeEdges": 1,
             "org.eclipse.elk.portConstraints": "FIXED_ORDER",
             "org.eclipse.elk.randomSeed": 0
            }
           }
          ],
          "edges": [
           {
            "hwMeta": {
             "name": null
            },
            "id": "120",
            "source": "2",
            "sourcePort": "43",
            "target": "6",
            "targetPort": "53"
           },
           {
            "hwMeta": {
             "name": "rst_n._eq(0)"
            },
            "id": "121",
            "sources": [
             [
              "3",
              "47"
             ]
            ],
            "targets": [
             [
              "2",
              "44"
             ],
             [
              "8",
              "58"
             ],
             [
              "10",
              "65"
             ]
            ]
           },
           {
            "hwMeta": {
             "name": "y1_next"
            },
            "id": "122",
            "source": "1",
            "sourcePort": "41",
            "target": "2",
            "targetPort": "45"
           },
           {
            "hwMeta": {
             "name": "<BitsVal 0>"
            },
            "id": "123",
            "sources": [
             [
              "5",
              "51"
             ]
            ],
            "targets": [
             [
              "2",
              "46"
             ],
             [
              "8",
              "60"
             ],
             [
              "10",
              "67"
             ]
            ]
           },
           {
            "hwMeta": {
             "name": "<BitsVal 0>"
            },
            "id": "124",
            "source": "4",
            "sourcePort": "50",
            "target": "3",
            "targetPort": "48"
           },
           {
            "hwMeta": {
             "name": "rst_n"
            },
            "id": "125",
            "source": "1",
            "sourcePort": "42",
            "target": "3",
            "targetPort": "49"
           },
           {
            "hwMeta": {
             "name": "y1"
            },
            "id": "126",
            "source": "6",
            "sourcePort": "52",
            "target": "1",
            "targetPort": "35"
           },
           {
            "hwMeta": {
             "name": "clk._onRisingEdge()"
            },
            "id": "127",
            "sources": [
             [
              "7",
              "55"
             ]
            ],
            "targets": [
             [
              "6",
              "54"
             ],
             [
              "9",
              "63"
             ],
             [
              "11",
              "70"
             ]
            ]
           },
           {
            "hwMeta": {
             "name": "clk"
            },
            "id": "128",
            "source": "1",
            "sourcePort": "40",
            "target": "7",
            "targetPort": "56"
           },
           {
            "hwMeta": {
             "name": null
            },
            "id": "129",
            "source": "8",
            "sourcePort": "57",
            "target": "9",
            "targetPort": "62"
           },
           {
            "hwMeta": {
             "name": "y0_next"
            },
            "id": "130",
            "source": "1",
            "sourcePort": "39",
            "target": "8",
            "targetPort": "59"
           },
           {
            "hwMeta": {
             "name": "y0"
            },
            "id": "131",
            "source": "9",
            "sourcePort": "61",
            "target": "1",
            "targetPort": "36"
           },
           {
            "hwMeta": {
             "name": null
            },
            "id": "132",
            "source": "10",
            "sourcePort": "64",
            "target": "11",
            "targetPort": "69"
           },
           {
            "hwMeta": {
             "name": "u_next"
            },
            "id": "133",
            "source": "1",
            "sourcePort": "38",
            "target": "10",
            "targetPort": "66"
           },
           {
            "hwMeta": {
             "name": "u"
            },
            "id": "134",
            "source": "11",
            "sourcePort": "68",
            "target": "1",
            "targetPort": "37"
           }
          ],
          "hideChildren": true,
          "hwMeta": {
           "bodyText": "If(clk._onRisingEdge(),\n    If(rst_n._eq(0),\n        y1(0),\n        y0(0),\n        u(0)\n    ).Else(\n        y1(y1_next),\n        y0(y0_next),\n        u(u_next)\n    )\n)",
           "maxId": 134,
           "name": null
          },
          "id": "1",
          "ports": [
           {
            "direction": "OUTPUT",
            "hwMeta": {
             "level": 0,
             "name": "y1"
            },
            "id": "35",
            "properties": {
             "portIndex": 0,
             "portSide": "EAST"
            }
           },
           {
            "direction": "OUTPUT",
            "hwMeta": {
             "level": 0,
             "name": "y0"
            },
            "id": "36",
            "properties": {
             "portIndex": 1,
             "portSide": "EAST"
            }
           },
           {
            "direction": "OUTPUT",
            "hwMeta": {
             "level": 0,
             "name": "u"
            },
            "id": "37",
            "properties": {
             "portIndex": 2,
             "portSide": "EAST"
            }
           },
           {
            "direction": "INPUT",
            "hwMeta": {
             "level": 0,
             "name": "u_next"
            },
            "id": "38",
            "properties": {
             "portIndex": 3,
             "portSide": "WEST"
            }
           },
           {
            "direction": "INPUT",
            "hwMeta": {
             "level": 0,
             "name": "y0_next"
            },
            "id": "39",
            "properties": {
             "portIndex": 4,
             "portSide": "WEST"
            }
           },
           {
            "direction": "INPUT",
            "hwMeta": {
             "level": 0,
             "name": "clk"
            },
            "id": "40",
            "properties": {
             "portIndex": 5,
             "portSide": "WEST"
            }
           },
           {
            "direction": "INPUT",
            "hwMeta": {
             "level": 0,
             "name": "y1_next"
            },
            "id": "41",
            "properties": {
             "portIndex": 6,
             "portSide": "WEST"
            }
           },
           {
            "direction": "INPUT",
            "hwMeta": {
             "level": 0,
             "name": "rst_n"
            },
            "id": "42",
            "properties": {
             "portIndex": 7,
             "portSide": "WEST"
            }
           }
          ],
          "properties": {
           "org.eclipse.elk.layered.mergeEdges": 1,
           "org.eclipse.elk.portConstraints": "FIXED_ORDER",
           "org.eclipse.elk.randomSeed": 0
          }
         },
         {
          "hideChildren": true,
          "hwMeta": {
           "isExternalPort": true,
           "maxId": 134,
           "name": "clk"
          },
          "id": "12",
          "ports": [
           {
            "direction": "OUTPUT",
            "hwMeta": {
             "level": 0,
             "name": "clk"
            },
            "id": "71",
            "properties": {
             "portIndex": 0,
             "portSide": "EAST"
            }
           }
          ],
          "properties": {
           "org.eclipse.elk.layered.mergeEdges": 1,
           "org.eclipse.elk.portConstraints": "FIXED_ORDER",
           "org.eclipse.elk.randomSeed": 0
          }
         },
         {
          "hideChildren": true,
          "hwMeta": {
           "isExternalPort": true,
           "maxId": 134,
           "name": "rst_n"
          },
          "id": "13",
          "ports": [
           {
            "direction": "OUTPUT",
            "hwMeta": {
             "level": 0,
             "name": "rst_n"
            },
            "id": "72",
            "properties": {
             "portIndex": 0,
             "portSide": "EAST"
            }
           }
          ],
          "properties": {
           "org.eclipse.elk.layered.mergeEdges": 1,
           "org.eclipse.elk.portConstraints": "FIXED_ORDER",
           "org.eclipse.elk.randomSeed": 0
          }
         },
         {
          "hideChildren": true,
          "hwMeta": {
           "isExternalPort": true,
           "maxId": 134,
           "name": "input"
          },
          "id": "14",
          "ports": [
           {
            "direction": "OUTPUT",
            "hwMeta": {
             "level": 0,
             "name": "input"
            },
            "id": "73",
            "properties": {
             "portIndex": 0,
             "portSide": "EAST"
            }
           }
          ],
          "properties": {
           "org.eclipse.elk.layered.mergeEdges": 1,
           "org.eclipse.elk.portConstraints": "FIXED_ORDER",
           "org.eclipse.elk.randomSeed": 0
          }
         },
         {
          "hideChildren": true,
          "hwMeta": {
           "isExternalPort": true,
           "maxId": 134,
           "name": "output"
          },
          "id": "15",
          "ports": [
           {
            "direction": "INPUT",
            "hwMeta": {
             "level": 0,
             "name": "output"
            },
            "id": "74",
            "properties": {
             "portIndex": 0,
             "portSide": "WEST"
            }
           }
          ],
          "properties": {
           "org.eclipse.elk.layered.mergeEdges": 1,
           "org.eclipse.elk.portConstraints": "FIXED_ORDER",
           "org.eclipse.elk.randomSeed": 0
          }
         },
         {
          "hideChildren": true,
          "hwMeta": {
           "isExternalPort": true,
           "maxId": 134,
           "name": "target"
          },
          "id": "16",
          "ports": [
           {
            "direction": "OUTPUT",
            "hwMeta": {
             "level": 0,
             "name": "target"
            },
            "id": "75",
            "properties": {
             "portIndex": 0,
             "portSide": "EAST"
            }
           }
          ],
          "properties": {
           "org.eclipse.elk.layered.mergeEdges": 1,
           "org.eclipse.elk.portConstraints": "FIXED_ORDER",
           "org.eclipse.elk.randomSeed": 0
          }
         },
         {
          "hideChildren": true,
          "hwMeta": {
           "isExternalPort": true,
           "maxId": 134,
           "name": "coefs_0"
          },
          "id": "17",
          "ports": [
           {
            "direction": "OUTPUT",
            "hwMeta": {
             "level": 0,
             "name": "coefs_0"
            },
            "id": "76",
            "properties": {
             "portIndex": 0,
             "portSide": "EAST"
            }
           }
          ],
          "properties": {
           "org.eclipse.elk.layered.mergeEdges": 1,
           "org.eclipse.elk.portConstraints": "FIXED_ORDER",
           "org.eclipse.elk.randomSeed": 0
          }
         },
         {
          "hideChildren": true,
          "hwMeta": {
           "isExternalPort": true,
           "maxId": 134,
           "name": "coefs_1"
          },
          "id": "18",
          "ports": [
           {
            "direction": "OUTPUT",
            "hwMeta": {
             "level": 0,
             "name": "coefs_1"
            },
            "id": "77",
            "properties": {
             "portIndex": 0,
             "portSide": "EAST"
            }
           }
          ],
          "properties": {
           "org.eclipse.elk.layered.mergeEdges": 1,
           "org.eclipse.elk.portConstraints": "FIXED_ORDER",
           "org.eclipse.elk.randomSeed": 0
          }
         },
         {
          "hideChildren": true,
          "hwMeta": {
           "isExternalPort": true,
           "maxId": 134,
           "name": "coefs_2"
          },
          "id": "19",
          "ports": [
           {
            "direction": "OUTPUT",
            "hwMeta": {
             "level": 0,
             "name": "coefs_2"
            },
            "id": "78",
            "properties": {
             "portIndex": 0,
             "portSide": "EAST"
            }
           }
          ],
          "properties": {
           "org.eclipse.elk.layered.mergeEdges": 1,
           "org.eclipse.elk.portConstraints": "FIXED_ORDER",
           "org.eclipse.elk.randomSeed": 0
          }
         },
         {
          "hideChildren": true,
          "hwMeta": {
           "isExternalPort": true,
           "maxId": 134,
           "name": "coefs_3"
          },
          "id": "20",
          "ports": [
           {
            "direction": "OUTPUT",
            "hwMeta": {
             "level": 0,
             "name": "coefs_3"
            },
            "id": "79",
            "properties": {
             "portIndex": 0,
             "portSide": "EAST"
            }
           }
          ],
          "properties": {
           "org.eclipse.elk.layered.mergeEdges": 1,
           "org.eclipse.elk.portConstraints": "FIXED_ORDER",
           "org.eclipse.elk.randomSeed": 0
          }
         },
         {
          "hideChildren": true,
          "hwMeta": {
           "maxId": 134,
           "name": "SUB"
          },
          "id": "21",
          "ports": [
           {
            "direction": "OUTPUT",
            "hwMeta": {
             "level": 0,
             "name": null
            },
            "id": "80",
            "properties": {
             "portIndex": 0,
             "portSide": "EAST"
            }
           },
           {
            "direction": "INPUT",
            "hwMeta": {
             "level": 0,
             "name": null
            },
            "id": "81",
            "properties": {
             "portIndex": 1,
             "portSide": "WEST"
            }
           },
           {
            "direction": "INPUT",
            "hwMeta": {
             "level": 0,
             "name": null
            },
            "id": "82",
            "properties": {
             "portIndex": 2,
             "portSide": "WEST"
            }
           }
          ],
          "properties": {
           "org.eclipse.elk.layered.mergeEdges": 1,
           "org.eclipse.elk.portConstraints": "FIXED_ORDER",
           "org.eclipse.elk.randomSeed": 0
          }
         },
         {
          "hideChildren": true,
          "hwMeta": {
           "maxId": 134,
           "name": "ADD"
          },
          "id": "22",
          "ports": [
           {
            "direction": "OUTPUT",
            "hwMeta": {
             "level": 0,
             "name": null
            },
            "id": "83",
            "properties": {
             "portIndex": 0,
             "portSide": "EAST"
            }
           },
           {
            "direction": "INPUT",
            "hwMeta": {
             "level": 0,
             "name": null
            },
            "id": "84",
            "properties": {
             "portIndex": 1,
             "portSide": "WEST"
            }
           },
           {
            "direction": "INPUT",
            "hwMeta": {
             "level": 0,
             "name": null
            },
            "id": "85",
            "properties": {
             "portIndex": 2,
             "portSide": "WEST"
            }
           }
          ],
          "properties": {
           "org.eclipse.elk.layered.mergeEdges": 1,
           "org.eclipse.elk.portConstraints": "FIXED_ORDER",
           "org.eclipse.elk.randomSeed": 0
          }
         },
         {
          "hideChildren": true,
          "hwMeta": {
           "maxId": 134,
           "name": "ADD"
          },
          "id": "23",
          "ports": [
           {
            "direction": "OUTPUT",
            "hwMeta": {
             "level": 0,
             "name": null
            },
            "id": "86",
            "properties": {
             "portIndex": 0,
             "portSide": "EAST"
            }
           },
           {
            "direction": "INPUT",
            "hwMeta": {
             "level": 0,
             "name": null
            },
            "id": "87",
            "properties": {
             "portIndex": 1,
             "portSide": "WEST"
            }
           },
           {
            "direction": "INPUT",
            "hwMeta": {
             "level": 0,
             "name": null
            },
            "id": "88",
            "properties": {
             "portIndex": 2,
             "portSide": "WEST"
            }
           }
          ],
          "properties": {
           "org.eclipse.elk.layered.mergeEdges": 1,
           "org.eclipse.elk.portConstraints": "FIXED_ORDER",
           "org.eclipse.elk.randomSeed": 0
          }
         },
         {
          "hideChildren": true,
          "hwMeta": {
           "maxId": 134,
           "name": "ADD"
          },
          "id": "24",
          "ports": [
           {
            "direction": "OUTPUT",
            "hwMeta": {
             "level": 0,
             "name": null
            },
            "id": "89",
            "properties": {
             "portIndex": 0,
             "portSide": "EAST"
            }
           },
           {
            "direction": "INPUT",
            "hwMeta": {
             "level": 0,
             "name": null
            },
            "id": "90",
            "properties": {
             "portIndex": 1,
             "portSide": "WEST"
            }
           },
           {
            "direction": "INPUT",
            "hwMeta": {
             "level": 0,
             "name": null
            },
            "id": "91",
            "properties": {
             "portIndex": 2,
             "portSide": "WEST"
            }
           }
          ],
          "properties": {
           "org.eclipse.elk.layered.mergeEdges": 1,
           "org.eclipse.elk.portConstraints": "FIXED_ORDER",
           "org.eclipse.elk.randomSeed": 0
          }
         },
         {
          "hideChildren": true,
          "hwMeta": {
           "maxId": 134,
           "name": "ADD"
          },
          "id": "25",
          "ports": [
           {
            "direction": "OUTPUT",
            "hwMeta": {
             "level": 0,
             "name": null
            },
            "id": "92",
            "properties": {
             "portIndex": 0,
             "portSide": "EAST"
            }
           },
           {
            "direction": "INPUT",
            "hwMeta": {
             "level": 0,
             "name": null
            },
            "id": "93",
            "properties": {
             "portIndex": 1,
             "portSide": "WEST"
            }
           },
           {
            "direction": "INPUT",
            "hwMeta": {
             "level": 0,
             "name": null
            },
            "id": "94",
            "properties": {
             "portIndex": 2,
             "portSide": "WEST"
            }
           }
          ],
          "properties": {
           "org.eclipse.elk.layered.mergeEdges": 1,
           "org.eclipse.elk.portConstraints": "FIXED_ORDER",
           "org.eclipse.elk.randomSeed": 0
          }
         },
         {
          "hideChildren": true,
          "hwMeta": {
           "maxId": 134,
           "name": "INDEX"
          },
          "id": "26",
          "ports": [
           {
            "direction": "OUTPUT",
            "hwMeta": {
             "level": 0,
             "name": null
            },
            "id": "95",
            "properties": {
             "portIndex": 0,
             "portSide": "EAST"
            }
           },
           {
            "direction": "INPUT",
            "hwMeta": {
             "level": 0,
             "name": "index"
            },
            "id": "96",
            "properties": {
             "portIndex": 1,
             "portSide": "WEST"
            }
           },
           {
            "direction": "INPUT",
            "hwMeta": {
             "level": 0,
             "name": "in"
            },
            "id": "97",
            "properties": {
             "portIndex": 2,
             "portSide": "WEST"
            }
           }
          ],
          "properties": {
           "org.eclipse.elk.layered.mergeEdges": 1,
           "org.eclipse.elk.portConstraints": "FIXED_ORDER",
           "org.eclipse.elk.randomSeed": 0
          }
         },
         {
          "hideChildren": true,
          "hwMeta": {
           "maxId": 134,
           "name": "MUL"
          },
          "id": "27",
          "ports": [
           {
            "direction": "OUTPUT",
            "hwMeta": {
             "level": 0,
             "name": null
            },
            "id": "98",
            "properties": {
             "portIndex": 0,
             "portSide": "EAST"
            }
           },
           {
            "direction": "INPUT",
            "hwMeta": {
             "level": 0,
             "name": null
            },
            "id": "99",
            "properties": {
             "portIndex": 1,
             "portSide": "WEST"
            }
           },
           {
            "direction": "INPUT",
            "hwMeta": {
             "level": 0,
             "name": null
            },
            "id": "100",
            "properties": {
             "portIndex": 2,
             "portSide": "WEST"
            }
           }
          ],
          "properties": {
           "org.eclipse.elk.layered.mergeEdges": 1,
           "org.eclipse.elk.portConstraints": "FIXED_ORDER",
           "org.eclipse.elk.randomSeed": 0
          }
         },
         {
          "hideChildren": true,
          "hwMeta": {
           "bodyText": "16:0",
           "maxId": 134,
           "name": null
          },
          "id": "28",
          "ports": [
           {
            "direction": "OUTPUT",
            "hwMeta": {
             "level": 0,
             "name": null
            },
            "id": "101",
            "properties": {
             "portSide": "EAST"
            }
           }
          ],
          "properties": {
           "org.eclipse.elk.layered.mergeEdges": 1,
           "org.eclipse.elk.portConstraints": "FREE",
           "org.eclipse.elk.randomSeed": 0
          }
         },
         {
          "hideChildren": true,
          "hwMeta": {
           "maxId": 134,
           "name": "INDEX"
          },
          "id": "29",
          "ports": [
           {
            "direction": "OUTPUT",
            "hwMeta": {
             "level": 0,
             "name": null
            },
            "id": "102",
            "properties": {
             "portIndex": 0,
             "portSide": "EAST"
            }
           },
           {
            "direction": "INPUT",
            "hwMeta": {
             "level": 0,
             "name": "index"
            },
            "id": "103",
            "properties": {
             "portIndex": 1,
             "portSide": "WEST"
            }
           },
           {
            "direction": "INPUT",
            "hwMeta": {
             "level": 0,
             "name": "in"
            },
            "id": "104",
            "properties": {
             "portIndex": 2,
             "portSide": "WEST"
            }
           }
          ],
          "properties": {
           "org.eclipse.elk.layered.mergeEdges": 1,
           "org.eclipse.elk.portConstraints": "FIXED_ORDER",
           "org.eclipse.elk.randomSeed": 0
          }
         },
         {
          "hideChildren": true,
          "hwMeta": {
           "maxId": 134,
           "name": "MUL"
          },
          "id": "30",
          "ports": [
           {
            "direction": "OUTPUT",
            "hwMeta": {
             "level": 0,
             "name": null
            },
            "id": "105",
            "properties": {
             "portIndex": 0,
             "portSide": "EAST"
            }
           },
           {
            "direction": "INPUT",
            "hwMeta": {
             "level": 0,
             "name": null
            },
            "id": "106",
            "properties": {
             "portIndex": 1,
             "portSide": "WEST"
            }
           },
           {
            "direction": "INPUT",
            "hwMeta": {
             "level": 0,
             "name": null
            },
            "id": "107",
            "properties": {
             "portIndex": 2,
             "portSide": "WEST"
            }
           }
          ],
          "properties": {
           "org.eclipse.elk.layered.mergeEdges": 1,
           "org.eclipse.elk.portConstraints": "FIXED_ORDER",
           "org.eclipse.elk.randomSeed": 0
          }
         },
         {
          "hideChildren": true,
          "hwMeta": {
           "maxId": 134,
           "name": "INDEX"
          },
          "id": "31",
          "ports": [
           {
            "direction": "OUTPUT",
            "hwMeta": {
             "level": 0,
             "name": null
            },
            "id": "108",
            "properties": {
             "portIndex": 0,
             "portSide": "EAST"
            }
           },
           {
            "direction": "INPUT",
            "hwMeta": {
             "level": 0,
             "name": "index"
            },
            "id": "109",
            "properties": {
             "portIndex": 1,
             "portSide": "WEST"
            }
           },
           {
            "direction": "INPUT",
            "hwMeta": {
             "level": 0,
             "name": "in"
            },
            "id": "110",
            "properties": {
             "portIndex": 2,
             "portSide": "WEST"
            }
           }
          ],
          "properties": {
           "org.eclipse.elk.layered.mergeEdges": 1,
           "org.eclipse.elk.portConstraints": "FIXED_ORDER",
           "org.eclipse.elk.randomSeed": 0
          }
         },
         {
          "hideChildren": true,
          "hwMeta": {
           "maxId": 134,
           "name": "MUL"
          },
          "id": "32",
          "ports": [
           {
            "direction": "OUTPUT",
            "hwMeta": {
             "level": 0,
             "name": null
            },
            "id": "111",
            "properties": {
             "portIndex": 0,
             "portSide": "EAST"
            }
           },
           {
            "direction": "INPUT",
            "hwMeta": {
             "level": 0,
             "name": null
            },
            "id": "112",
            "properties": {
             "portIndex": 1,
             "portSide": "WEST"
            }
           },
           {
            "direction": "INPUT",
            "hwMeta": {
             "level": 0,
             "name": null
            },
            "id": "113",
            "properties": {
             "portIndex": 2,
             "portSide": "WEST"
            }
           }
          ],
          "properties": {
           "org.eclipse.elk.layered.mergeEdges": 1,
           "org.eclipse.elk.portConstraints": "FIXED_ORDER",
           "org.eclipse.elk.randomSeed": 0
          }
         },
         {
          "hideChildren": true,
          "hwMeta": {
           "maxId": 134,
           "name": "INDEX"
          },
          "id": "33",
          "ports": [
           {
            "direction": "OUTPUT",
            "hwMeta": {
             "level": 0,
             "name": null
            },
            "id": "114",
            "properties": {
             "portIndex": 0,
             "portSide": "EAST"
            }
           },
           {
            "direction": "INPUT",
            "hwMeta": {
             "level": 0,
             "name": "index"
            },
            "id": "115",
            "properties": {
             "portIndex": 1,
             "portSide": "WEST"
            }
           },
           {
            "direction": "INPUT",
            "hwMeta": {
             "level": 0,
             "name": "in"
            },
            "id": "116",
            "properties": {
             "portIndex": 2,
             "portSide": "WEST"
            }
           }
          ],
          "properties": {
           "org.eclipse.elk.layered.mergeEdges": 1,
           "org.eclipse.elk.portConstraints": "FIXED_ORDER",
           "org.eclipse.elk.randomSeed": 0
          }
         },
         {
          "hideChildren": true,
          "hwMeta": {
           "maxId": 134,
           "name": "MUL"
          },
          "id": "34",
          "ports": [
           {
            "direction": "OUTPUT",
            "hwMeta": {
             "level": 0,
             "name": null
            },
            "id": "117",
            "properties": {
             "portIndex": 0,
             "portSide": "EAST"
            }
           },
           {
            "direction": "INPUT",
            "hwMeta": {
             "level": 0,
             "name": null
            },
            "id": "118",
            "properties": {
             "portIndex": 1,
             "portSide": "WEST"
            }
           },
           {
            "direction": "INPUT",
            "hwMeta": {
             "level": 0,
             "name": null
            },
            "id": "119",
            "properties": {
             "portIndex": 2,
             "portSide": "WEST"
            }
           }
          ],
          "properties": {
           "org.eclipse.elk.layered.mergeEdges": 1,
           "org.eclipse.elk.portConstraints": "FIXED_ORDER",
           "org.eclipse.elk.randomSeed": 0
          }
         }
        ],
        "edges": [
         {
          "hwMeta": {
           "name": "y1"
          },
          "id": "135",
          "source": "1",
          "sourcePort": "35",
          "target": "34",
          "targetPort": "118"
         },
         {
          "hwMeta": {
           "name": "y0"
          },
          "id": "136",
          "sources": [
           [
            "1",
            "36"
           ]
          ],
          "targets": [
           [
            "32",
            "112"
           ],
           [
            "1",
            "41"
           ]
          ]
         },
         {
          "hwMeta": {
           "name": "output"
          },
          "id": "137",
          "sources": [
           [
            "1",
            "37"
           ]
          ],
          "targets": [
           [
            "25",
            "94"
           ],
           [
            "15",
            "74"
           ]
          ]
         },
         {
          "hwMeta": {
           "name": "u + (coefs_0 * err)[16:0] + (coefs_1 * input)[16:0] + (coefs_2 * y0)[16:0] + (coefs_3 * y1)[16:0]"
          },
          "id": "138",
          "source": "22",
          "sourcePort": "83",
          "target": "1",
          "targetPort": "38"
         },
         {
          "hwMeta": {
           "name": "input"
          },
          "id": "139",
          "sources": [
           [
            "14",
            "73"
           ]
          ],
          "targets": [
           [
            "21",
            "82"
           ],
           [
            "30",
            "106"
           ],
           [
            "1",
            "39"
           ]
          ]
         },
         {
          "hwMeta": {
           "name": "clk"
          },
          "id": "140",
          "source": "12",
          "sourcePort": "71",
          "target": "1",
          "targetPort": "40"
         },
         {
          "hwMeta": {
           "name": "rst_n"
          },
          "id": "141",
          "source": "13",
          "sourcePort": "72",
          "target": "1",
          "targetPort": "42"
         },
         {
          "hwMeta": {
           "name": "target"
          },
          "id": "142",
          "source": "16",
          "sourcePort": "75",
          "target": "21",
          "targetPort": "81"
         },
         {
          "hwMeta": {
           "name": "coefs_0"
          },
          "id": "143",
          "source": "17",
          "sourcePort": "76",
          "target": "27",
          "targetPort": "100"
         },
         {
          "hwMeta": {
           "name": "coefs_1"
          },
          "id": "144",
          "source": "18",
          "sourcePort": "77",
          "target": "30",
          "targetPort": "107"
         },
         {
          "hwMeta": {
           "name": "coefs_2"
          },
          "id": "145",
          "source": "19",
          "sourcePort": "78",
          "target": "32",
          "targetPort": "113"
         },
         {
          "hwMeta": {
           "name": "coefs_3"
          },
          "id": "146",
          "source": "20",
          "sourcePort": "79",
          "target": "34",
          "targetPort": "119"
         },
         {
          "hwMeta": {
           "name": "input - target"
          },
          "id": "147",
          "source": "21",
          "sourcePort": "80",
          "target": "27",
          "targetPort": "99"
         },
         {
          "hwMeta": {
           "name": "(coefs_3 * y1)[16:0]"
          },
          "id": "148",
          "source": "33",
          "sourcePort": "114",
          "target": "22",
          "targetPort": "84"
         },
         {
          "hwMeta": {
           "name": "u + (coefs_0 * err)[16:0] + (coefs_1 * input)[16:0] + (coefs_2 * y0)[16:0]"
          },
          "id": "149",
          "source": "23",
          "sourcePort": "86",
          "target": "22",
          "targetPort": "85"
         },
         {
          "hwMeta": {
           "name": "(coefs_2 * y0)[16:0]"
          },
          "id": "150",
          "source": "31",
          "sourcePort": "108",
          "target": "23",
          "targetPort": "87"
         },
         {
          "hwMeta": {
           "name": "u + (coefs_0 * err)[16:0] + (coefs_1 * input)[16:0]"
          },
          "id": "151",
          "source": "24",
          "sourcePort": "89",
          "target": "23",
          "targetPort": "88"
         },
         {
          "hwMeta": {
           "name": "(coefs_1 * input)[16:0]"
          },
          "id": "152",
          "source": "29",
          "sourcePort": "102",
          "target": "24",
          "targetPort": "90"
         },
         {
          "hwMeta": {
           "name": "u + (coefs_0 * err)[16:0]"
          },
          "id": "153",
          "source": "25",
          "sourcePort": "92",
          "target": "24",
          "targetPort": "91"
         },
         {
          "hwMeta": {
           "name": "(coefs_0 * err)[16:0]"
          },
          "id": "154",
          "source": "26",
          "sourcePort": "95",
          "target": "25",
          "targetPort": "93"
         },
         {
          "hwMeta": {
           "name": "<SliceVal slice(<BitsVal 16>, <BitsVal 0>, <BitsVal -1>)>"
          },
          "id": "155",
          "sources": [
           [
            "28",
            "101"
           ]
          ],
          "targets": [
           [
            "26",
            "96"
           ],
           [
            "29",
            "103"
           ],
           [
            "31",
            "109"
           ],
           [
            "33",
            "115"
           ]
          ]
         },
         {
          "hwMeta": {
           "name": "coefs_0 * err"
          },
          "id": "156",
          "source": "27",
          "sourcePort": "98",
          "target": "26",
          "targetPort": "97"
         },
         {
          "hwMeta": {
           "name": "coefs_1 * input"
          },
          "id": "157",
          "source": "30",
          "sourcePort": "105",
          "target": "29",
          "targetPort": "104"
         },
         {
          "hwMeta": {
           "name": "coefs_2 * y0"
          },
          "id": "158",
          "source": "32",
          "sourcePort": "111",
          "target": "31",
          "targetPort": "110"
         },
         {
          "hwMeta": {
           "name": "coefs_3 * y1"
          },
          "id": "159",
          "source": "34",
          "sourcePort": "117",
          "target": "33",
          "targetPort": "116"
         }
        ],
        "hwMeta": {
         "maxId": 159,
         "name": "PidController"
        },
        "ports": [],
        "properties": {
         "org.eclipse.elk.layered.mergeEdges": 1,
         "org.eclipse.elk.portConstraints": "FIXED_ORDER",
         "org.eclipse.elk.randomSeed": 0
        }
       },
       "width": "1000px"
      }
     },
     "47b168b2bc084a6b88835546d4138822": {
      "model_module": "jupyter_widget_hwt",
      "model_module_version": "^0.0.1",
      "model_name": "HwtSchemeModel",
      "state": {
       "_model_module_version": "^0.0.1",
       "_view_module_version": "^0.0.1",
       "height": "100px",
       "layout": "IPY_MODEL_cf67eede885d4a38970caff69fc6829f",
       "value": {
        "children": [
         {
          "children": [
           {
            "hideChildren": true,
            "hwMeta": {
             "maxId": 24,
             "name": "LATCHED_MUX"
            },
            "id": "2",
            "ports": [
             {
              "direction": "OUTPUT",
              "hwMeta": {
               "level": 0,
               "name": ""
              },
              "id": "13",
              "properties": {
               "portIndex": 0,
               "portSide": "EAST"
              }
             },
             {
              "direction": "INPUT",
              "hwMeta": {
               "level": 0,
               "name": ""
              },
              "id": "14",
              "properties": {
               "portIndex": 1,
               "portSide": "SOUTH"
              }
             },
             {
              "direction": "INPUT",
              "hwMeta": {
               "level": 0,
               "name": ""
              },
              "id": "15",
              "properties": {
               "portIndex": 2,
               "portSide": "SOUTH"
              }
             },
             {
              "direction": "INPUT",
              "hwMeta": {
               "level": 0,
               "name": ""
              },
              "id": "16",
              "properties": {
               "portIndex": 3,
               "portSide": "WEST"
              }
             },
             {
              "direction": "INPUT",
              "hwMeta": {
               "level": 0,
               "name": ""
              },
              "id": "17",
              "properties": {
               "portIndex": 4,
               "portSide": "WEST"
              }
             }
            ],
            "properties": {
             "org.eclipse.elk.layered.mergeEdges": 1,
             "org.eclipse.elk.portConstraints": "FIXED_ORDER",
             "org.eclipse.elk.randomSeed": 0
            }
           },
           {
            "hideChildren": true,
            "hwMeta": {
             "maxId": 24,
             "name": "RISING_EDGE"
            },
            "id": "3",
            "ports": [
             {
              "direction": "OUTPUT",
              "hwMeta": {
               "level": 0,
               "name": null
              },
              "id": "18",
              "properties": {
               "portIndex": 0,
               "portSide": "EAST"
              }
             },
             {
              "direction": "INPUT",
              "hwMeta": {
               "level": 0,
               "name": null
              },
              "id": "19",
              "properties": {
               "portIndex": 1,
               "portSide": "WEST"
              }
             }
            ],
            "properties": {
             "org.eclipse.elk.layered.mergeEdges": 1,
             "org.eclipse.elk.portConstraints": "FIXED_ORDER",
             "org.eclipse.elk.randomSeed": 0
            }
           },
           {
            "hideChildren": true,
            "hwMeta": {
             "bodyText": "0",
             "maxId": 24,
             "name": null
            },
            "id": "4",
            "ports": [
             {
              "direction": "OUTPUT",
              "hwMeta": {
               "level": 0,
               "name": null
              },
              "id": "20",
              "properties": {
               "portSide": "EAST"
              }
             }
            ],
            "properties": {
             "org.eclipse.elk.layered.mergeEdges": 1,
             "org.eclipse.elk.portConstraints": "FREE",
             "org.eclipse.elk.randomSeed": 0
            }
           }
          ],
          "edges": [
           {
            "hwMeta": {
             "name": "r"
            },
            "id": "25",
            "source": "2",
            "sourcePort": "13",
            "target": "1",
            "targetPort": "9"
           },
           {
            "hwMeta": {
             "name": "clk._onRisingEdge()"
            },
            "id": "26",
            "source": "3",
            "sourcePort": "18",
            "target": "2",
            "targetPort": "14"
           },
           {
            "hwMeta": {
             "name": "rst._eq(1)"
            },
            "id": "27",
            "source": "1",
            "sourcePort": "12",
            "target": "2",
            "targetPort": "15"
           },
           {
            "hwMeta": {
             "name": "din"
            },
            "id": "28",
            "source": "1",
            "sourcePort": "10",
            "target": "2",
            "targetPort": "16"
           },
           {
            "hwMeta": {
             "name": "<BitsVal 0>"
            },
            "id": "29",
            "source": "4",
            "sourcePort": "20",
            "target": "2",
            "targetPort": "17"
           },
           {
            "hwMeta": {
             "name": "clk"
            },
            "id": "30",
            "source": "1",
            "sourcePort": "11",
            "target": "3",
            "targetPort": "19"
           }
          ],
          "hideChildren": true,
          "hwMeta": {
           "bodyText": "If(rst._eq(1),\n    r(0)\n).Elif(clk._onRisingEdge(),\n    r(din)\n)",
           "maxId": 30,
           "name": null
          },
          "id": "1",
          "ports": [
           {
            "direction": "OUTPUT",
            "hwMeta": {
             "level": 0,
             "name": "r"
            },
            "id": "9",
            "properties": {
             "portIndex": 0,
             "portSide": "EAST"
            }
           },
           {
            "direction": "INPUT",
            "hwMeta": {
             "level": 0,
             "name": "din"
            },
            "id": "10",
            "properties": {
             "portIndex": 1,
             "portSide": "WEST"
            }
           },
           {
            "direction": "INPUT",
            "hwMeta": {
             "level": 0,
             "name": "clk"
            },
            "id": "11",
            "properties": {
             "portIndex": 2,
             "portSide": "WEST"
            }
           },
           {
            "direction": "INPUT",
            "hwMeta": {
             "level": 0,
             "name": "rst"
            },
            "id": "12",
            "properties": {
             "portIndex": 3,
             "portSide": "WEST"
            }
           }
          ],
          "properties": {
           "org.eclipse.elk.layered.mergeEdges": 1,
           "org.eclipse.elk.portConstraints": "FIXED_ORDER",
           "org.eclipse.elk.randomSeed": 0
          }
         },
         {
          "hideChildren": true,
          "hwMeta": {
           "isExternalPort": true,
           "maxId": 30,
           "name": "clk"
          },
          "id": "5",
          "ports": [
           {
            "direction": "OUTPUT",
            "hwMeta": {
             "level": 0,
             "name": "clk"
            },
            "id": "21",
            "properties": {
             "portIndex": 0,
             "portSide": "EAST"
            }
           }
          ],
          "properties": {
           "org.eclipse.elk.layered.mergeEdges": 1,
           "org.eclipse.elk.portConstraints": "FIXED_ORDER",
           "org.eclipse.elk.randomSeed": 0
          }
         },
         {
          "hideChildren": true,
          "hwMeta": {
           "isExternalPort": true,
           "maxId": 30,
           "name": "rst"
          },
          "id": "6",
          "ports": [
           {
            "direction": "OUTPUT",
            "hwMeta": {
             "level": 0,
             "name": "rst"
            },
            "id": "22",
            "properties": {
             "portIndex": 0,
             "portSide": "EAST"
            }
           }
          ],
          "properties": {
           "org.eclipse.elk.layered.mergeEdges": 1,
           "org.eclipse.elk.portConstraints": "FIXED_ORDER",
           "org.eclipse.elk.randomSeed": 0
          }
         },
         {
          "hideChildren": true,
          "hwMeta": {
           "isExternalPort": true,
           "maxId": 30,
           "name": "din"
          },
          "id": "7",
          "ports": [
           {
            "direction": "OUTPUT",
            "hwMeta": {
             "level": 0,
             "name": "din"
            },
            "id": "23",
            "properties": {
             "portIndex": 0,
             "portSide": "EAST"
            }
           }
          ],
          "properties": {
           "org.eclipse.elk.layered.mergeEdges": 1,
           "org.eclipse.elk.portConstraints": "FIXED_ORDER",
           "org.eclipse.elk.randomSeed": 0
          }
         },
         {
          "hideChildren": true,
          "hwMeta": {
           "isExternalPort": true,
           "maxId": 30,
           "name": "dout"
          },
          "id": "8",
          "ports": [
           {
            "direction": "INPUT",
            "hwMeta": {
             "level": 0,
             "name": "dout"
            },
            "id": "24",
            "properties": {
             "portIndex": 0,
             "portSide": "WEST"
            }
           }
          ],
          "properties": {
           "org.eclipse.elk.layered.mergeEdges": 1,
           "org.eclipse.elk.portConstraints": "FIXED_ORDER",
           "org.eclipse.elk.randomSeed": 0
          }
         }
        ],
        "edges": [
         {
          "hwMeta": {
           "name": "r"
          },
          "id": "31",
          "source": "1",
          "sourcePort": "9",
          "target": "8",
          "targetPort": "24"
         },
         {
          "hwMeta": {
           "name": "din"
          },
          "id": "32",
          "source": "7",
          "sourcePort": "23",
          "target": "1",
          "targetPort": "10"
         },
         {
          "hwMeta": {
           "name": "clk"
          },
          "id": "33",
          "source": "5",
          "sourcePort": "21",
          "target": "1",
          "targetPort": "11"
         },
         {
          "hwMeta": {
           "name": "rst"
          },
          "id": "34",
          "source": "6",
          "sourcePort": "22",
          "target": "1",
          "targetPort": "12"
         }
        ],
        "hwMeta": {
         "maxId": 34,
         "name": "DReg_asyncRst"
        },
        "ports": [],
        "properties": {
         "org.eclipse.elk.layered.mergeEdges": 1,
         "org.eclipse.elk.portConstraints": "FIXED_ORDER",
         "org.eclipse.elk.randomSeed": 0
        }
       }
      }
     },
     "5b95f826d3fd4a59a7328204ea5ec938": {
      "model_module": "@jupyter-widgets/base",
      "model_module_version": "1.2.0",
      "model_name": "LayoutModel",
      "state": {}
     },
     "6e5f0efd24f343faa87447aa1cb28f2d": {
      "model_module": "@jupyter-widgets/base",
      "model_module_version": "1.2.0",
      "model_name": "LayoutModel",
      "state": {}
     },
     "9d638233379a4a96b23b1a1ef9d4a7fe": {
      "model_module": "jupyter_widget_hwt",
      "model_module_version": "^0.0.1",
      "model_name": "HwtSchemeModel",
      "state": {
       "_model_module_version": "^0.0.1",
       "_view_module_version": "^0.0.1",
       "layout": "IPY_MODEL_c4ae9fc05adc4fda8b812e5b9d18990e",
       "value": {
        "children": [
         {
          "children": [
           {
            "hideChildren": true,
            "hwMeta": {
             "maxId": 61,
             "name": "MUX"
            },
            "id": "2",
            "ports": [
             {
              "direction": "OUTPUT",
              "hwMeta": {
               "level": 0,
               "name": ""
              },
              "id": "23",
              "properties": {
               "portIndex": 0,
               "portSide": "EAST"
              }
             },
             {
              "direction": "INPUT",
              "hwMeta": {
               "level": 0,
               "name": ""
              },
              "id": "24",
              "properties": {
               "portIndex": 1,
               "portSide": "SOUTH"
              }
             },
             {
              "direction": "INPUT",
              "hwMeta": {
               "level": 0,
               "name": ""
              },
              "id": "25",
              "properties": {
               "portIndex": 2,
               "portSide": "WEST"
              }
             },
             {
              "direction": "INPUT",
              "hwMeta": {
               "level": 0,
               "name": ""
              },
              "id": "26",
              "properties": {
               "portIndex": 3,
               "portSide": "WEST"
              }
             }
            ],
            "properties": {
             "org.eclipse.elk.layered.mergeEdges": 1,
             "org.eclipse.elk.portConstraints": "FIXED_ORDER",
             "org.eclipse.elk.randomSeed": 0
            }
           },
           {
            "hideChildren": true,
            "hwMeta": {
             "bodyText": "0",
             "maxId": 61,
             "name": null
            },
            "id": "3",
            "ports": [
             {
              "direction": "OUTPUT",
              "hwMeta": {
               "level": 0,
               "name": null
              },
              "id": "27",
              "properties": {
               "portSide": "EAST"
              }
             }
            ],
            "properties": {
             "org.eclipse.elk.layered.mergeEdges": 1,
             "org.eclipse.elk.portConstraints": "FREE",
             "org.eclipse.elk.randomSeed": 0
            }
           },
           {
            "hideChildren": true,
            "hwMeta": {
             "maxId": 61,
             "name": "FF"
            },
            "id": "4",
            "ports": [
             {
              "direction": "OUTPUT",
              "hwMeta": {
               "level": 0,
               "name": "o"
              },
              "id": "28",
              "properties": {
               "portIndex": 0,
               "portSide": "EAST"
              }
             },
             {
              "direction": "INPUT",
              "hwMeta": {
               "level": 0,
               "name": "i"
              },
              "id": "29",
              "properties": {
               "portIndex": 1,
               "portSide": "WEST"
              }
             },
             {
              "direction": "INPUT",
              "hwMeta": {
               "level": 0,
               "name": "clk"
              },
              "id": "30",
              "properties": {
               "portIndex": 2,
               "portSide": "WEST"
              }
             }
            ],
            "properties": {
             "org.eclipse.elk.layered.mergeEdges": 1,
             "org.eclipse.elk.portConstraints": "FIXED_ORDER",
             "org.eclipse.elk.randomSeed": 0
            }
           },
           {
            "hideChildren": true,
            "hwMeta": {
             "maxId": 61,
             "name": "RISING_EDGE"
            },
            "id": "5",
            "ports": [
             {
              "direction": "OUTPUT",
              "hwMeta": {
               "level": 0,
               "name": null
              },
              "id": "31",
              "properties": {
               "portIndex": 0,
               "portSide": "EAST"
              }
             },
             {
              "direction": "INPUT",
              "hwMeta": {
               "level": 0,
               "name": null
              },
              "id": "32",
              "properties": {
               "portIndex": 1,
               "portSide": "WEST"
              }
             }
            ],
            "properties": {
             "org.eclipse.elk.layered.mergeEdges": 1,
             "org.eclipse.elk.portConstraints": "FIXED_ORDER",
             "org.eclipse.elk.randomSeed": 0
            }
           }
          ],
          "edges": [
           {
            "hwMeta": {
             "name": null
            },
            "id": "62",
            "source": "2",
            "sourcePort": "23",
            "target": "4",
            "targetPort": "29"
           },
           {
            "hwMeta": {
             "name": "dataIn_rst._eq(1)"
            },
            "id": "63",
            "source": "1",
            "sourcePort": "22",
            "target": "2",
            "targetPort": "24"
           },
           {
            "hwMeta": {
             "name": "in_reg0_next"
            },
            "id": "64",
            "source": "1",
            "sourcePort": "21",
            "target": "2",
            "targetPort": "25"
           },
           {
            "hwMeta": {
             "name": "<BitsVal 0>"
            },
            "id": "65",
            "source": "3",
            "sourcePort": "27",
            "target": "2",
            "targetPort": "26"
           },
           {
            "hwMeta": {
             "name": "in_reg0"
            },
            "id": "66",
            "source": "4",
            "sourcePort": "28",
            "target": "1",
            "targetPort": "19"
           },
           {
            "hwMeta": {
             "name": "dataIn_clk._onRisingEdge()"
            },
            "id": "67",
            "source": "5",
            "sourcePort": "31",
            "target": "4",
            "targetPort": "30"
           },
           {
            "hwMeta": {
             "name": "dataIn_clk"
            },
            "id": "68",
            "source": "1",
            "sourcePort": "20",
            "target": "5",
            "targetPort": "32"
           }
          ],
          "hideChildren": true,
          "hwMeta": {
           "bodyText": "If(dataIn_clk._onRisingEdge(),\n    If(dataIn_rst._eq(1),\n        in_reg0(0)\n    ).Else(\n        in_reg0(in_reg0_next)\n    )\n)",
           "maxId": 68,
           "name": null
          },
          "id": "1",
          "ports": [
           {
            "direction": "OUTPUT",
            "hwMeta": {
             "level": 0,
             "name": "in_reg0"
            },
            "id": "19",
            "properties": {
             "portIndex": 0,
             "portSide": "EAST"
            }
           },
           {
            "direction": "INPUT",
            "hwMeta": {
             "level": 0,
             "name": "dataIn_clk"
            },
            "id": "20",
            "properties": {
             "portIndex": 1,
             "portSide": "WEST"
            }
           },
           {
            "direction": "INPUT",
            "hwMeta": {
             "level": 0,
             "name": "in_reg0_next"
            },
            "id": "21",
            "properties": {
             "portIndex": 2,
             "portSide": "WEST"
            }
           },
           {
            "direction": "INPUT",
            "hwMeta": {
             "level": 0,
             "name": "dataIn_rst"
            },
            "id": "22",
            "properties": {
             "portIndex": 3,
             "portSide": "WEST"
            }
           }
          ],
          "properties": {
           "org.eclipse.elk.layered.mergeEdges": 1,
           "org.eclipse.elk.portConstraints": "FIXED_ORDER",
           "org.eclipse.elk.randomSeed": 0
          }
         },
         {
          "hideChildren": true,
          "hwMeta": {
           "isExternalPort": true,
           "maxId": 78,
           "name": "dataIn_clk"
          },
          "id": "13",
          "ports": [
           {
            "direction": "OUTPUT",
            "hwMeta": {
             "level": 0,
             "name": "dataIn_clk"
            },
            "id": "56",
            "properties": {
             "portIndex": 0,
             "portSide": "EAST"
            }
           }
          ],
          "properties": {
           "org.eclipse.elk.layered.mergeEdges": 1,
           "org.eclipse.elk.portConstraints": "FIXED_ORDER",
           "org.eclipse.elk.randomSeed": 0
          }
         },
         {
          "hideChildren": true,
          "hwMeta": {
           "isExternalPort": true,
           "maxId": 78,
           "name": "dataIn_rst"
          },
          "id": "14",
          "ports": [
           {
            "direction": "OUTPUT",
            "hwMeta": {
             "level": 0,
             "name": "dataIn_rst"
            },
            "id": "57",
            "properties": {
             "portIndex": 0,
             "portSide": "EAST"
            }
           }
          ],
          "properties": {
           "org.eclipse.elk.layered.mergeEdges": 1,
           "org.eclipse.elk.portConstraints": "FIXED_ORDER",
           "org.eclipse.elk.randomSeed": 0
          }
         },
         {
          "hideChildren": true,
          "hwMeta": {
           "isExternalPort": true,
           "maxId": 78,
           "name": "dataIn"
          },
          "id": "15",
          "ports": [
           {
            "direction": "OUTPUT",
            "hwMeta": {
             "level": 0,
             "name": "dataIn"
            },
            "id": "58",
            "properties": {
             "portIndex": 0,
             "portSide": "EAST"
            }
           }
          ],
          "properties": {
           "org.eclipse.elk.layered.mergeEdges": 1,
           "org.eclipse.elk.portConstraints": "FIXED_ORDER",
           "org.eclipse.elk.randomSeed": 0
          }
         },
         {
          "hideChildren": true,
          "hwMeta": {
           "isExternalPort": true,
           "maxId": 78,
           "name": "dataOut_clk"
          },
          "id": "16",
          "ports": [
           {
            "direction": "OUTPUT",
            "hwMeta": {
             "level": 0,
             "name": "dataOut_clk"
            },
            "id": "59",
            "properties": {
             "portIndex": 0,
             "portSide": "EAST"
            }
           }
          ],
          "properties": {
           "org.eclipse.elk.layered.mergeEdges": 1,
           "org.eclipse.elk.portConstraints": "FIXED_ORDER",
           "org.eclipse.elk.randomSeed": 0
          }
         },
         {
          "hideChildren": true,
          "hwMeta": {
           "isExternalPort": true,
           "maxId": 78,
           "name": "dataOut_rst"
          },
          "id": "17",
          "ports": [
           {
            "direction": "OUTPUT",
            "hwMeta": {
             "level": 0,
             "name": "dataOut_rst"
            },
            "id": "60",
            "properties": {
             "portIndex": 0,
             "portSide": "EAST"
            }
           }
          ],
          "properties": {
           "org.eclipse.elk.layered.mergeEdges": 1,
           "org.eclipse.elk.portConstraints": "FIXED_ORDER",
           "org.eclipse.elk.randomSeed": 0
          }
         },
         {
          "hideChildren": true,
          "hwMeta": {
           "isExternalPort": true,
           "maxId": 78,
           "name": "dataOut"
          },
          "id": "18",
          "ports": [
           {
            "direction": "INPUT",
            "hwMeta": {
             "level": 0,
             "name": "dataOut"
            },
            "id": "61",
            "properties": {
             "portIndex": 0,
             "portSide": "WEST"
            }
           }
          ],
          "properties": {
           "org.eclipse.elk.layered.mergeEdges": 1,
           "org.eclipse.elk.portConstraints": "FIXED_ORDER",
           "org.eclipse.elk.randomSeed": 0
          }
         },
         {
          "children": [
           {
            "hideChildren": true,
            "hwMeta": {
             "maxId": 68,
             "name": "RISING_EDGE"
            },
            "id": "10",
            "ports": [
             {
              "direction": "OUTPUT",
              "hwMeta": {
               "level": 0,
               "name": null
              },
              "id": "47",
              "properties": {
               "portIndex": 0,
               "portSide": "EAST"
              }
             },
             {
              "direction": "INPUT",
              "hwMeta": {
               "level": 0,
               "name": null
              },
              "id": "48",
              "properties": {
               "portIndex": 1,
               "portSide": "WEST"
              }
             }
            ],
            "properties": {
             "org.eclipse.elk.layered.mergeEdges": 1,
             "org.eclipse.elk.portConstraints": "FIXED_ORDER",
             "org.eclipse.elk.randomSeed": 0
            }
           },
           {
            "hideChildren": true,
            "hwMeta": {
             "maxId": 68,
             "name": "MUX"
            },
            "id": "11",
            "ports": [
             {
              "direction": "OUTPUT",
              "hwMeta": {
               "level": 0,
               "name": ""
              },
              "id": "49",
              "properties": {
               "portIndex": 0,
               "portSide": "EAST"
              }
             },
             {
              "direction": "INPUT",
              "hwMeta": {
               "level": 0,
               "name": ""
              },
              "id": "50",
              "properties": {
               "portIndex": 1,
               "portSide": "SOUTH"
              }
             },
             {
              "direction": "INPUT",
              "hwMeta": {
               "level": 0,
               "name": ""
              },
              "id": "51",
              "properties": {
               "portIndex": 2,
               "portSide": "WEST"
              }
             },
             {
              "direction": "INPUT",
              "hwMeta": {
               "level": 0,
               "name": ""
              },
              "id": "52",
              "properties": {
               "portIndex": 3,
               "portSide": "WEST"
              }
             }
            ],
            "properties": {
             "org.eclipse.elk.layered.mergeEdges": 1,
             "org.eclipse.elk.portConstraints": "FIXED_ORDER",
             "org.eclipse.elk.randomSeed": 0
            }
           },
           {
            "hideChildren": true,
            "hwMeta": {
             "maxId": 68,
             "name": "FF"
            },
            "id": "12",
            "ports": [
             {
              "direction": "OUTPUT",
              "hwMeta": {
               "level": 0,
               "name": "o"
              },
              "id": "53",
              "properties": {
               "portIndex": 0,
               "portSide": "EAST"
              }
             },
             {
              "direction": "INPUT",
              "hwMeta": {
               "level": 0,
               "name": "i"
              },
              "id": "54",
              "properties": {
               "portIndex": 1,
               "portSide": "WEST"
              }
             },
             {
              "direction": "INPUT",
              "hwMeta": {
               "level": 0,
               "name": "clk"
              },
              "id": "55",
              "properties": {
               "portIndex": 2,
               "portSide": "WEST"
              }
             }
            ],
            "properties": {
             "org.eclipse.elk.layered.mergeEdges": 1,
             "org.eclipse.elk.portConstraints": "FIXED_ORDER",
             "org.eclipse.elk.randomSeed": 0
            }
           },
           {
            "hideChildren": true,
            "hwMeta": {
             "maxId": 68,
             "name": "MUX"
            },
            "id": "7",
            "ports": [
             {
              "direction": "OUTPUT",
              "hwMeta": {
               "level": 0,
               "name": ""
              },
              "id": "39",
              "properties": {
               "portIndex": 0,
               "portSide": "EAST"
              }
             },
             {
              "direction": "INPUT",
              "hwMeta": {
               "level": 0,
               "name": ""
              },
              "id": "40",
              "properties": {
               "portIndex": 1,
               "portSide": "SOUTH"
              }
             },
             {
              "direction": "INPUT",
              "hwMeta": {
               "level": 0,
               "name": ""
              },
              "id": "41",
              "properties": {
               "portIndex": 2,
               "portSide": "WEST"
              }
             },
             {
              "direction": "INPUT",
              "hwMeta": {
               "level": 0,
               "name": ""
              },
              "id": "42",
              "properties": {
               "portIndex": 3,
               "portSide": "WEST"
              }
             }
            ],
            "properties": {
             "org.eclipse.elk.layered.mergeEdges": 1,
             "org.eclipse.elk.portConstraints": "FIXED_ORDER",
             "org.eclipse.elk.randomSeed": 0
            }
           },
           {
            "hideChildren": true,
            "hwMeta": {
             "bodyText": "0",
             "maxId": 68,
             "name": null
            },
            "id": "8",
            "ports": [
             {
              "direction": "OUTPUT",
              "hwMeta": {
               "level": 0,
               "name": null
              },
              "id": "43",
              "properties": {
               "portSide": "EAST"
              }
             }
            ],
            "properties": {
             "org.eclipse.elk.layered.mergeEdges": 1,
             "org.eclipse.elk.portConstraints": "FREE",
             "org.eclipse.elk.randomSeed": 0
            }
           },
           {
            "hideChildren": true,
            "hwMeta": {
             "maxId": 68,
             "name": "FF"
            },
            "id": "9",
            "ports": [
             {
              "direction": "OUTPUT",
              "hwMeta": {
               "level": 0,
               "name": "o"
              },
              "id": "44",
              "properties": {
               "portIndex": 0,
               "portSide": "EAST"
              }
             },
             {
              "direction": "INPUT",
              "hwMeta": {
               "level": 0,
               "name": "i"
              },
              "id": "45",
              "properties": {
               "portIndex": 1,
               "portSide": "WEST"
              }
             },
             {
              "direction": "INPUT",
              "hwMeta": {
               "level": 0,
               "name": "clk"
              },
              "id": "46",
              "properties": {
               "portIndex": 2,
               "portSide": "WEST"
              }
             }
            ],
            "properties": {
             "org.eclipse.elk.layered.mergeEdges": 1,
             "org.eclipse.elk.portConstraints": "FIXED_ORDER",
             "org.eclipse.elk.randomSeed": 0
            }
           }
          ],
          "edges": [
           {
            "hwMeta": {
             "name": null
            },
            "id": "69",
            "source": "7",
            "sourcePort": "39",
            "target": "9",
            "targetPort": "45"
           },
           {
            "hwMeta": {
             "name": "dataOut_rst._eq(1)"
            },
            "id": "70",
            "sources": [
             [
              "6",
              "38"
             ]
            ],
            "targets": [
             [
              "7",
              "40"
             ],
             [
              "11",
              "50"
             ]
            ]
           },
           {
            "hwMeta": {
             "name": "out_reg1_next"
            },
            "id": "71",
            "source": "6",
            "sourcePort": "37",
            "target": "7",
            "targetPort": "41"
           },
           {
            "hwMeta": {
             "name": "<BitsVal 0>"
            },
            "id": "72",
            "sources": [
             [
              "8",
              "43"
             ]
            ],
            "targets": [
             [
              "7",
              "42"
             ],
             [
              "11",
              "52"
             ]
            ]
           },
           {
            "hwMeta": {
             "name": "out_reg1"
            },
            "id": "73",
            "source": "9",
            "sourcePort": "44",
            "target": "6",
            "targetPort": "33"
           },
           {
            "hwMeta": {
             "name": "dataOut_clk._onRisingEdge()"
            },
            "id": "74",
            "sources": [
             [
              "10",
              "47"
             ]
            ],
            "targets": [
             [
              "9",
              "46"
             ],
             [
              "12",
              "55"
             ]
            ]
           },
           {
            "hwMeta": {
             "name": "dataOut_clk"
            },
            "id": "75",
            "source": "6",
            "sourcePort": "36",
            "target": "10",
            "targetPort": "48"
           },
           {
            "hwMeta": {
             "name": null
            },
            "id": "76",
            "source": "11",
            "sourcePort": "49",
            "target": "12",
            "targetPort": "54"
           },
           {
            "hwMeta": {
             "name": "out_reg0_next"
            },
            "id": "77",
            "source": "6",
            "sourcePort": "35",
            "target": "11",
            "targetPort": "51"
           },
           {
            "hwMeta": {
             "name": "out_reg0"
            },
            "id": "78",
            "source": "12",
            "sourcePort": "53",
            "target": "6",
            "targetPort": "34"
           }
          ],
          "hideChildren": true,
          "hwMeta": {
           "bodyText": "If(dataOut_clk._onRisingEdge(),\n    If(dataOut_rst._eq(1),\n        out_reg1(0),\n        out_reg0(0)\n    ).Else(\n        out_reg1(out_reg1_next),\n        out_reg0(out_reg0_next)\n    )\n)",
           "maxId": 78,
           "name": null
          },
          "id": "6",
          "ports": [
           {
            "direction": "OUTPUT",
            "hwMeta": {
             "level": 0,
             "name": "out_reg1"
            },
            "id": "33",
            "properties": {
             "portIndex": 0,
             "portSide": "EAST"
            }
           },
           {
            "direction": "OUTPUT",
            "hwMeta": {
             "level": 0,
             "name": "out_reg0"
            },
            "id": "34",
            "properties": {
             "portIndex": 1,
             "portSide": "EAST"
            }
           },
           {
            "direction": "INPUT",
            "hwMeta": {
             "level": 0,
             "name": "out_reg0_next"
            },
            "id": "35",
            "properties": {
             "portIndex": 2,
             "portSide": "WEST"
            }
           },
           {
            "direction": "INPUT",
            "hwMeta": {
             "level": 0,
             "name": "dataOut_clk"
            },
            "id": "36",
            "properties": {
             "portIndex": 3,
             "portSide": "WEST"
            }
           },
           {
            "direction": "INPUT",
            "hwMeta": {
             "level": 0,
             "name": "out_reg1_next"
            },
            "id": "37",
            "properties": {
             "portIndex": 4,
             "portSide": "WEST"
            }
           },
           {
            "direction": "INPUT",
            "hwMeta": {
             "level": 0,
             "name": "dataOut_rst"
            },
            "id": "38",
            "properties": {
             "portIndex": 5,
             "portSide": "WEST"
            }
           }
          ],
          "properties": {
           "org.eclipse.elk.layered.mergeEdges": 1,
           "org.eclipse.elk.portConstraints": "FIXED_ORDER",
           "org.eclipse.elk.randomSeed": 0
          }
         }
        ],
        "edges": [
         {
          "hwMeta": {
           "name": "in_reg0"
          },
          "id": "79",
          "source": "1",
          "sourcePort": "19",
          "target": "6",
          "targetPort": "35"
         },
         {
          "hwMeta": {
           "name": "dataIn_clk"
          },
          "id": "80",
          "source": "13",
          "sourcePort": "56",
          "target": "1",
          "targetPort": "20"
         },
         {
          "hwMeta": {
           "name": "in_reg0_next"
          },
          "id": "81",
          "source": "15",
          "sourcePort": "58",
          "target": "1",
          "targetPort": "21"
         },
         {
          "hwMeta": {
           "name": "dataIn_rst"
          },
          "id": "82",
          "source": "14",
          "sourcePort": "57",
          "target": "1",
          "targetPort": "22"
         },
         {
          "hwMeta": {
           "name": "dataOut"
          },
          "id": "83",
          "source": "6",
          "sourcePort": "33",
          "target": "18",
          "targetPort": "61"
         },
         {
          "hwMeta": {
           "name": "out_reg1_next"
          },
          "id": "84",
          "source": "6",
          "sourcePort": "34",
          "target": "6",
          "targetPort": "37"
         },
         {
          "hwMeta": {
           "name": "dataOut_clk"
          },
          "id": "85",
          "source": "16",
          "sourcePort": "59",
          "target": "6",
          "targetPort": "36"
         },
         {
          "hwMeta": {
           "name": "dataOut_rst"
          },
          "id": "86",
          "source": "17",
          "sourcePort": "60",
          "target": "6",
          "targetPort": "38"
         }
        ],
        "hwMeta": {
         "maxId": 86,
         "name": "Cdc"
        },
        "ports": [],
        "properties": {
         "org.eclipse.elk.layered.mergeEdges": 1,
         "org.eclipse.elk.portConstraints": "FIXED_ORDER",
         "org.eclipse.elk.randomSeed": 0
        }
       },
       "width": "1000px"
      }
     },
     "abb90332054944ecb16eee1dc5aae464": {
      "model_module": "@jupyter-widgets/base",
      "model_module_version": "1.2.0",
      "model_name": "LayoutModel",
      "state": {}
     },
     "c4ae9fc05adc4fda8b812e5b9d18990e": {
      "model_module": "@jupyter-widgets/base",
      "model_module_version": "1.2.0",
      "model_name": "LayoutModel",
      "state": {}
     },
     "cf67eede885d4a38970caff69fc6829f": {
      "model_module": "@jupyter-widgets/base",
      "model_module_version": "1.2.0",
      "model_name": "LayoutModel",
      "state": {}
     },
     "fbfafe780e5f48f6b0a18c88a818cb60": {
      "model_module": "jupyter_widget_hwt",
      "model_module_version": "^0.0.1",
      "model_name": "HwtSchemeModel",
      "state": {
       "_model_module_version": "^0.0.1",
       "_view_module_version": "^0.0.1",
       "height": "600px",
       "layout": "IPY_MODEL_5b95f826d3fd4a59a7328204ea5ec938",
       "value": {
        "children": [
         {
          "children": [
           {
            "children": [
             {
              "hideChildren": true,
              "hwMeta": {
               "maxId": 440,
               "name": "MUX"
              },
              "id": "18",
              "ports": [
               {
                "direction": "OUTPUT",
                "hwMeta": {
                 "level": 0,
                 "name": ""
                },
                "id": "181",
                "properties": {
                 "portIndex": 0,
                 "portSide": "EAST"
                }
               },
               {
                "direction": "INPUT",
                "hwMeta": {
                 "level": 0,
                 "name": ""
                },
                "id": "182",
                "properties": {
                 "portIndex": 1,
                 "portSide": "SOUTH"
                }
               },
               {
                "direction": "INPUT",
                "hwMeta": {
                 "level": 0,
                 "name": ""
                },
                "id": "183",
                "properties": {
                 "portIndex": 2,
                 "portSide": "WEST"
                }
               },
               {
                "direction": "INPUT",
                "hwMeta": {
                 "level": 0,
                 "name": ""
                },
                "id": "184",
                "properties": {
                 "portIndex": 3,
                 "portSide": "WEST"
                }
               }
              ],
              "properties": {
               "org.eclipse.elk.layered.mergeEdges": 1,
               "org.eclipse.elk.portConstraints": "FIXED_ORDER",
               "org.eclipse.elk.randomSeed": 0
              }
             },
             {
              "hideChildren": true,
              "hwMeta": {
               "maxId": 440,
               "name": "EQ"
              },
              "id": "19",
              "ports": [
               {
                "direction": "OUTPUT",
                "hwMeta": {
                 "level": 0,
                 "name": null
                },
                "id": "185",
                "properties": {
                 "portIndex": 0,
                 "portSide": "EAST"
                }
               },
               {
                "direction": "INPUT",
                "hwMeta": {
                 "level": 0,
                 "name": null
                },
                "id": "186",
                "properties": {
                 "portIndex": 1,
                 "portSide": "WEST"
                }
               },
               {
                "direction": "INPUT",
                "hwMeta": {
                 "level": 0,
                 "name": null
                },
                "id": "187",
                "properties": {
                 "portIndex": 2,
                 "portSide": "WEST"
                }
               }
              ],
              "properties": {
               "org.eclipse.elk.layered.mergeEdges": 1,
               "org.eclipse.elk.portConstraints": "FIXED_ORDER",
               "org.eclipse.elk.randomSeed": 0
              }
             },
             {
              "hideChildren": true,
              "hwMeta": {
               "bodyText": "0",
               "maxId": 440,
               "name": null
              },
              "id": "20",
              "ports": [
               {
                "direction": "OUTPUT",
                "hwMeta": {
                 "level": 0,
                 "name": null
                },
                "id": "188",
                "properties": {
                 "portSide": "EAST"
                }
               }
              ],
              "properties": {
               "org.eclipse.elk.layered.mergeEdges": 1,
               "org.eclipse.elk.portConstraints": "FREE",
               "org.eclipse.elk.randomSeed": 0
              }
             },
             {
              "hideChildren": true,
              "hwMeta": {
               "bodyText": "0",
               "maxId": 440,
               "name": null
              },
              "id": "21",
              "ports": [
               {
                "direction": "OUTPUT",
                "hwMeta": {
                 "level": 0,
                 "name": null
                },
                "id": "189",
                "properties": {
                 "portSide": "EAST"
                }
               }
              ],
              "properties": {
               "org.eclipse.elk.layered.mergeEdges": 1,
               "org.eclipse.elk.portConstraints": "FREE",
               "org.eclipse.elk.randomSeed": 0
              }
             },
             {
              "hideChildren": true,
              "hwMeta": {
               "maxId": 440,
               "name": "FF"
              },
              "id": "22",
              "ports": [
               {
                "direction": "OUTPUT",
                "hwMeta": {
                 "level": 0,
                 "name": "o"
                },
                "id": "190",
                "properties": {
                 "portIndex": 0,
                 "portSide": "EAST"
                }
               },
               {
                "direction": "INPUT",
                "hwMeta": {
                 "level": 0,
                 "name": "i"
                },
                "id": "191",
                "properties": {
                 "portIndex": 1,
                 "portSide": "WEST"
                }
               },
               {
                "direction": "INPUT",
                "hwMeta": {
                 "level": 0,
                 "name": "clk"
                },
                "id": "192",
                "properties": {
                 "portIndex": 2,
                 "portSide": "WEST"
                }
               }
              ],
              "properties": {
               "org.eclipse.elk.layered.mergeEdges": 1,
               "org.eclipse.elk.portConstraints": "FIXED_ORDER",
               "org.eclipse.elk.randomSeed": 0
              }
             },
             {
              "hideChildren": true,
              "hwMeta": {
               "maxId": 440,
               "name": "RISING_EDGE"
              },
              "id": "23",
              "ports": [
               {
                "direction": "OUTPUT",
                "hwMeta": {
                 "level": 0,
                 "name": null
                },
                "id": "193",
                "properties": {
                 "portIndex": 0,
                 "portSide": "EAST"
                }
               },
               {
                "direction": "INPUT",
                "hwMeta": {
                 "level": 0,
                 "name": null
                },
                "id": "194",
                "properties": {
                 "portIndex": 1,
                 "portSide": "WEST"
                }
               }
              ],
              "properties": {
               "org.eclipse.elk.layered.mergeEdges": 1,
               "org.eclipse.elk.portConstraints": "FIXED_ORDER",
               "org.eclipse.elk.randomSeed": 0
              }
             },
             {
              "hideChildren": true,
              "hwMeta": {
               "maxId": 440,
               "name": "MUX"
              },
              "id": "24",
              "ports": [
               {
                "direction": "OUTPUT",
                "hwMeta": {
                 "level": 0,
                 "name": ""
                },
                "id": "195",
                "properties": {
                 "portIndex": 0,
                 "portSide": "EAST"
                }
               },
               {
                "direction": "INPUT",
                "hwMeta": {
                 "level": 0,
                 "name": ""
                },
                "id": "196",
                "properties": {
                 "portIndex": 1,
                 "portSide": "SOUTH"
                }
               },
               {
                "direction": "INPUT",
                "hwMeta": {
                 "level": 0,
                 "name": ""
                },
                "id": "197",
                "properties": {
                 "portIndex": 2,
                 "portSide": "WEST"
                }
               },
               {
                "direction": "INPUT",
                "hwMeta": {
                 "level": 0,
                 "name": ""
                },
                "id": "198",
                "properties": {
                 "portIndex": 3,
                 "portSide": "WEST"
                }
               }
              ],
              "properties": {
               "org.eclipse.elk.layered.mergeEdges": 1,
               "org.eclipse.elk.portConstraints": "FIXED_ORDER",
               "org.eclipse.elk.randomSeed": 0
              }
             },
             {
              "hideChildren": true,
              "hwMeta": {
               "maxId": 440,
               "name": "FF"
              },
              "id": "25",
              "ports": [
               {
                "direction": "OUTPUT",
                "hwMeta": {
                 "level": 0,
                 "name": "o"
                },
                "id": "199",
                "properties": {
                 "portIndex": 0,
                 "portSide": "EAST"
                }
               },
               {
                "direction": "INPUT",
                "hwMeta": {
                 "level": 0,
                 "name": "i"
                },
                "id": "200",
                "properties": {
                 "portIndex": 1,
                 "portSide": "WEST"
                }
               },
               {
                "direction": "INPUT",
                "hwMeta": {
                 "level": 0,
                 "name": "clk"
                },
                "id": "201",
                "properties": {
                 "portIndex": 2,
                 "portSide": "WEST"
                }
               }
              ],
              "properties": {
               "org.eclipse.elk.layered.mergeEdges": 1,
               "org.eclipse.elk.portConstraints": "FIXED_ORDER",
               "org.eclipse.elk.randomSeed": 0
              }
             },
             {
              "hideChildren": true,
              "hwMeta": {
               "maxId": 440,
               "name": "MUX"
              },
              "id": "26",
              "ports": [
               {
                "direction": "OUTPUT",
                "hwMeta": {
                 "level": 0,
                 "name": ""
                },
                "id": "202",
                "properties": {
                 "portIndex": 0,
                 "portSide": "EAST"
                }
               },
               {
                "direction": "INPUT",
                "hwMeta": {
                 "level": 0,
                 "name": ""
                },
                "id": "203",
                "properties": {
                 "portIndex": 1,
                 "portSide": "SOUTH"
                }
               },
               {
                "direction": "INPUT",
                "hwMeta": {
                 "level": 0,
                 "name": ""
                },
                "id": "204",
                "properties": {
                 "portIndex": 2,
                 "portSide": "WEST"
                }
               },
               {
                "direction": "INPUT",
                "hwMeta": {
                 "level": 0,
                 "name": ""
                },
                "id": "205",
                "properties": {
                 "portIndex": 3,
                 "portSide": "WEST"
                }
               }
              ],
              "properties": {
               "org.eclipse.elk.layered.mergeEdges": 1,
               "org.eclipse.elk.portConstraints": "FIXED_ORDER",
               "org.eclipse.elk.randomSeed": 0
              }
             },
             {
              "hideChildren": true,
              "hwMeta": {
               "maxId": 440,
               "name": "FF"
              },
              "id": "27",
              "ports": [
               {
                "direction": "OUTPUT",
                "hwMeta": {
                 "level": 0,
                 "name": "o"
                },
                "id": "206",
                "properties": {
                 "portIndex": 0,
                 "portSide": "EAST"
                }
               },
               {
                "direction": "INPUT",
                "hwMeta": {
                 "level": 0,
                 "name": "i"
                },
                "id": "207",
                "properties": {
                 "portIndex": 1,
                 "portSide": "WEST"
                }
               },
               {
                "direction": "INPUT",
                "hwMeta": {
                 "level": 0,
                 "name": "clk"
                },
                "id": "208",
                "properties": {
                 "portIndex": 2,
                 "portSide": "WEST"
                }
               }
              ],
              "properties": {
               "org.eclipse.elk.layered.mergeEdges": 1,
               "org.eclipse.elk.portConstraints": "FIXED_ORDER",
               "org.eclipse.elk.randomSeed": 0
              }
             },
             {
              "hideChildren": true,
              "hwMeta": {
               "maxId": 440,
               "name": "MUX"
              },
              "id": "28",
              "ports": [
               {
                "direction": "OUTPUT",
                "hwMeta": {
                 "level": 0,
                 "name": ""
                },
                "id": "209",
                "properties": {
                 "portIndex": 0,
                 "portSide": "EAST"
                }
               },
               {
                "direction": "INPUT",
                "hwMeta": {
                 "level": 0,
                 "name": ""
                },
                "id": "210",
                "properties": {
                 "portIndex": 1,
                 "portSide": "SOUTH"
                }
               },
               {
                "direction": "INPUT",
                "hwMeta": {
                 "level": 0,
                 "name": ""
                },
                "id": "211",
                "properties": {
                 "portIndex": 2,
                 "portSide": "WEST"
                }
               },
               {
                "direction": "INPUT",
                "hwMeta": {
                 "level": 0,
                 "name": ""
                },
                "id": "212",
                "properties": {
                 "portIndex": 3,
                 "portSide": "WEST"
                }
               }
              ],
              "properties": {
               "org.eclipse.elk.layered.mergeEdges": 1,
               "org.eclipse.elk.portConstraints": "FIXED_ORDER",
               "org.eclipse.elk.randomSeed": 0
              }
             },
             {
              "hideChildren": true,
              "hwMeta": {
               "bodyText": "1",
               "maxId": 440,
               "name": null
              },
              "id": "29",
              "ports": [
               {
                "direction": "OUTPUT",
                "hwMeta": {
                 "level": 0,
                 "name": null
                },
                "id": "213",
                "properties": {
                 "portSide": "EAST"
                }
               }
              ],
              "properties": {
               "org.eclipse.elk.layered.mergeEdges": 1,
               "org.eclipse.elk.portConstraints": "FREE",
               "org.eclipse.elk.randomSeed": 0
              }
             },
             {
              "hideChildren": true,
              "hwMeta": {
               "maxId": 440,
               "name": "FF"
              },
              "id": "30",
              "ports": [
               {
                "direction": "OUTPUT",
                "hwMeta": {
                 "level": 0,
                 "name": "o"
                },
                "id": "214",
                "properties": {
                 "portIndex": 0,
                 "portSide": "EAST"
                }
               },
               {
                "direction": "INPUT",
                "hwMeta": {
                 "level": 0,
                 "name": "i"
                },
                "id": "215",
                "properties": {
                 "portIndex": 1,
                 "portSide": "WEST"
                }
               },
               {
                "direction": "INPUT",
                "hwMeta": {
                 "level": 0,
                 "name": "clk"
                },
                "id": "216",
                "properties": {
                 "portIndex": 2,
                 "portSide": "WEST"
                }
               }
              ],
              "properties": {
               "org.eclipse.elk.layered.mergeEdges": 1,
               "org.eclipse.elk.portConstraints": "FIXED_ORDER",
               "org.eclipse.elk.randomSeed": 0
              }
             },
             {
              "hideChildren": true,
              "hwMeta": {
               "maxId": 440,
               "name": "MUX"
              },
              "id": "31",
              "ports": [
               {
                "direction": "OUTPUT",
                "hwMeta": {
                 "level": 0,
                 "name": ""
                },
                "id": "217",
                "properties": {
                 "portIndex": 0,
                 "portSide": "EAST"
                }
               },
               {
                "direction": "INPUT",
                "hwMeta": {
                 "level": 0,
                 "name": ""
                },
                "id": "218",
                "properties": {
                 "portIndex": 1,
                 "portSide": "SOUTH"
                }
               },
               {
                "direction": "INPUT",
                "hwMeta": {
                 "level": 0,
                 "name": ""
                },
                "id": "219",
                "properties": {
                 "portIndex": 2,
                 "portSide": "WEST"
                }
               },
               {
                "direction": "INPUT",
                "hwMeta": {
                 "level": 0,
                 "name": ""
                },
                "id": "220",
                "properties": {
                 "portIndex": 3,
                 "portSide": "WEST"
                }
               }
              ],
              "properties": {
               "org.eclipse.elk.layered.mergeEdges": 1,
               "org.eclipse.elk.portConstraints": "FIXED_ORDER",
               "org.eclipse.elk.randomSeed": 0
              }
             },
             {
              "hideChildren": true,
              "hwMeta": {
               "maxId": 440,
               "name": "FF"
              },
              "id": "32",
              "ports": [
               {
                "direction": "OUTPUT",
                "hwMeta": {
                 "level": 0,
                 "name": "o"
                },
                "id": "221",
                "properties": {
                 "portIndex": 0,
                 "portSide": "EAST"
                }
               },
               {
                "direction": "INPUT",
                "hwMeta": {
                 "level": 0,
                 "name": "i"
                },
                "id": "222",
                "properties": {
                 "portIndex": 1,
                 "portSide": "WEST"
                }
               },
               {
                "direction": "INPUT",
                "hwMeta": {
                 "level": 0,
                 "name": "clk"
                },
                "id": "223",
                "properties": {
                 "portIndex": 2,
                 "portSide": "WEST"
                }
               }
              ],
              "properties": {
               "org.eclipse.elk.layered.mergeEdges": 1,
               "org.eclipse.elk.portConstraints": "FIXED_ORDER",
               "org.eclipse.elk.randomSeed": 0
              }
             }
            ],
            "edges": [
             {
              "hwMeta": {
               "name": null
              },
              "id": "441",
              "source": "18",
              "sourcePort": "181",
              "target": "22",
              "targetPort": "191"
             },
             {
              "hwMeta": {
               "name": "dataOut_rst_n._eq(0)"
              },
              "id": "442",
              "sources": [
               [
                "19",
                "185"
               ]
              ],
              "targets": [
               [
                "18",
                "182"
               ],
               [
                "24",
                "196"
               ],
               [
                "26",
                "203"
               ],
               [
                "28",
                "210"
               ],
               [
                "31",
                "218"
               ]
              ]
             },
             {
              "hwMeta": {
               "name": "w_gray_out_reg1_next"
              },
              "id": "443",
              "source": "17",
              "sourcePort": "179",
              "target": "18",
              "targetPort": "183"
             },
             {
              "hwMeta": {
               "name": "<BitsVal 0>"
              },
              "id": "444",
              "sources": [
               [
                "21",
                "189"
               ]
              ],
              "targets": [
               [
                "18",
                "184"
               ],
               [
                "24",
                "198"
               ],
               [
                "26",
                "205"
               ],
               [
                "31",
                "220"
               ]
              ]
             },
             {
              "hwMeta": {
               "name": "<BitsVal 0>"
              },
              "id": "445",
              "source": "20",
              "sourcePort": "188",
              "target": "19",
              "targetPort": "186"
             },
             {
              "hwMeta": {
               "name": "dataOut_rst_n"
              },
              "id": "446",
              "source": "17",
              "sourcePort": "180",
              "target": "19",
              "targetPort": "187"
             },
             {
              "hwMeta": {
               "name": "w_gray_out_reg1"
              },
              "id": "447",
              "source": "22",
              "sourcePort": "190",
              "target": "17",
              "targetPort": "169"
             },
             {
              "hwMeta": {
               "name": "dataOut_clk._onRisingEdge()"
              },
              "id": "448",
              "sources": [
               [
                "23",
                "193"
               ]
              ],
              "targets": [
               [
                "22",
                "192"
               ],
               [
                "25",
                "201"
               ],
               [
                "27",
                "208"
               ],
               [
                "30",
                "216"
               ],
               [
                "32",
                "223"
               ]
              ]
             },
             {
              "hwMeta": {
               "name": "dataOut_clk"
              },
              "id": "449",
              "source": "17",
              "sourcePort": "178",
              "target": "23",
              "targetPort": "194"
             },
             {
              "hwMeta": {
               "name": null
              },
              "id": "450",
              "source": "24",
              "sourcePort": "195",
              "target": "25",
              "targetPort": "200"
             },
             {
              "hwMeta": {
               "name": "w_gray_out_reg0_next"
              },
              "id": "451",
              "source": "17",
              "sourcePort": "177",
              "target": "24",
              "targetPort": "197"
             },
             {
              "hwMeta": {
               "name": "w_gray_out_reg0"
              },
              "id": "452",
              "source": "25",
              "sourcePort": "199",
              "target": "17",
              "targetPort": "170"
             },
             {
              "hwMeta": {
               "name": null
              },
              "id": "453",
              "source": "26",
              "sourcePort": "202",
              "target": "27",
              "targetPort": "207"
             },
             {
              "hwMeta": {
               "name": "r_gray_next"
              },
              "id": "454",
              "source": "17",
              "sourcePort": "176",
              "target": "26",
              "targetPort": "204"
             },
             {
              "hwMeta": {
               "name": "r_gray"
              },
              "id": "455",
              "source": "27",
              "sourcePort": "206",
              "target": "17",
              "targetPort": "171"
             },
             {
              "hwMeta": {
               "name": null
              },
              "id": "456",
              "source": "28",
              "sourcePort": "209",
              "target": "30",
              "targetPort": "215"
             },
             {
              "hwMeta": {
               "name": "r_empty_next"
              },
              "id": "457",
              "source": "17",
              "sourcePort": "175",
              "target": "28",
              "targetPort": "211"
             },
             {
              "hwMeta": {
               "name": "<BitsVal 1>"
              },
              "id": "458",
              "source": "29",
              "sourcePort": "213",
              "target": "28",
              "targetPort": "212"
             },
             {
              "hwMeta": {
               "name": "r_empty"
              },
              "id": "459",
              "source": "30",
              "sourcePort": "214",
              "target": "17",
              "targetPort": "172"
             },
             {
              "hwMeta": {
               "name": null
              },
              "id": "460",
              "source": "31",
              "sourcePort": "217",
              "target": "32",
              "targetPort": "222"
             },
             {
              "hwMeta": {
               "name": "r_bin_next"
              },
              "id": "461",
              "source": "17",
              "sourcePort": "174",
              "target": "31",
              "targetPort": "219"
             },
             {
              "hwMeta": {
               "name": "r_bin"
              },
              "id": "462",
              "source": "32",
              "sourcePort": "221",
              "target": "17",
              "targetPort": "173"
             }
            ],
            "hideChildren": true,
            "hwMeta": {
             "bodyText": "If(dataOut_clk._onRisingEdge(),\n    If(dataOut_rst_n._eq(0),\n        w_gray_out_reg1(0),\n        w_gray_out_reg0(0),\n        r_gray(0),\n        r_empty(1),\n        r_bin(0)\n    ).Else(\n        w_gray_out_reg1(w_gray_out_reg1_next),\n        w_gray_out_reg0(w_gray_out_reg0_next),\n        r_gray(r_gray_next),\n        r_empty(r_empty_next),\n        r_bin(r_bin_next)\n    )\n)",
             "maxId": 462,
             "name": null
            },
            "id": "17",
            "ports": [
             {
              "direction": "OUTPUT",
              "hwMeta": {
               "level": 0,
               "name": "w_gray_out_reg1"
              },
              "id": "169",
              "properties": {
               "portIndex": 0,
               "portSide": "EAST"
              }
             },
             {
              "direction": "OUTPUT",
              "hwMeta": {
               "level": 0,
               "name": "w_gray_out_reg0"
              },
              "id": "170",
              "properties": {
               "portIndex": 1,
               "portSide": "EAST"
              }
             },
             {
              "direction": "OUTPUT",
              "hwMeta": {
               "level": 0,
               "name": "r_gray"
              },
              "id": "171",
              "properties": {
               "portIndex": 2,
               "portSide": "EAST"
              }
             },
             {
              "direction": "OUTPUT",
              "hwMeta": {
               "level": 0,
               "name": "r_empty"
              },
              "id": "172",
              "properties": {
               "portIndex": 3,
               "portSide": "EAST"
              }
             },
             {
              "direction": "OUTPUT",
              "hwMeta": {
               "level": 0,
               "name": "r_bin"
              },
              "id": "173",
              "properties": {
               "portIndex": 4,
               "portSide": "EAST"
              }
             },
             {
              "direction": "INPUT",
              "hwMeta": {
               "level": 0,
               "name": "r_bin_next"
              },
              "id": "174",
              "properties": {
               "portIndex": 5,
               "portSide": "WEST"
              }
             },
             {
              "direction": "INPUT",
              "hwMeta": {
               "level": 0,
               "name": "r_empty_next"
              },
              "id": "175",
              "properties": {
               "portIndex": 6,
               "portSide": "WEST"
              }
             },
             {
              "direction": "INPUT",
              "hwMeta": {
               "level": 0,
               "name": "r_gray_next"
              },
              "id": "176",
              "properties": {
               "portIndex": 7,
               "portSide": "WEST"
              }
             },
             {
              "direction": "INPUT",
              "hwMeta": {
               "level": 0,
               "name": "w_gray_out_reg0_next"
              },
              "id": "177",
              "properties": {
               "portIndex": 8,
               "portSide": "WEST"
              }
             },
             {
              "direction": "INPUT",
              "hwMeta": {
               "level": 0,
               "name": "dataOut_clk"
              },
              "id": "178",
              "properties": {
               "portIndex": 9,
               "portSide": "WEST"
              }
             },
             {
              "direction": "INPUT",
              "hwMeta": {
               "level": 0,
               "name": "w_gray_out_reg1_next"
              },
              "id": "179",
              "properties": {
               "portIndex": 10,
               "portSide": "WEST"
              }
             },
             {
              "direction": "INPUT",
              "hwMeta": {
               "level": 0,
               "name": "dataOut_rst_n"
              },
              "id": "180",
              "properties": {
               "portIndex": 11,
               "portSide": "WEST"
              }
             }
            ],
            "properties": {
             "org.eclipse.elk.layered.mergeEdges": 1,
             "org.eclipse.elk.portConstraints": "FIXED_ORDER",
             "org.eclipse.elk.randomSeed": 0
            }
           },
           {
            "children": [
             {
              "hideChildren": true,
              "hwMeta": {
               "maxId": 419,
               "name": "FF"
              },
              "id": "10",
              "ports": [
               {
                "direction": "OUTPUT",
                "hwMeta": {
                 "level": 0,
                 "name": "o"
                },
                "id": "145",
                "properties": {
                 "portIndex": 0,
                 "portSide": "EAST"
                }
               },
               {
                "direction": "INPUT",
                "hwMeta": {
                 "level": 0,
                 "name": "i"
                },
                "id": "146",
                "properties": {
                 "portIndex": 1,
                 "portSide": "WEST"
                }
               },
               {
                "direction": "INPUT",
                "hwMeta": {
                 "level": 0,
                 "name": "clk"
                },
                "id": "147",
                "properties": {
                 "portIndex": 2,
                 "portSide": "WEST"
                }
               }
              ],
              "properties": {
               "org.eclipse.elk.layered.mergeEdges": 1,
               "org.eclipse.elk.portConstraints": "FIXED_ORDER",
               "org.eclipse.elk.randomSeed": 0
              }
             },
             {
              "hideChildren": true,
              "hwMeta": {
               "maxId": 419,
               "name": "MUX"
              },
              "id": "11",
              "ports": [
               {
                "direction": "OUTPUT",
                "hwMeta": {
                 "level": 0,
                 "name": ""
                },
                "id": "148",
                "properties": {
                 "portIndex": 0,
                 "portSide": "EAST"
                }
               },
               {
                "direction": "INPUT",
                "hwMeta": {
                 "level": 0,
                 "name": ""
                },
                "id": "149",
                "properties": {
                 "portIndex": 1,
                 "portSide": "SOUTH"
                }
               },
               {
                "direction": "INPUT",
                "hwMeta": {
                 "level": 0,
                 "name": ""
                },
                "id": "150",
                "properties": {
                 "portIndex": 2,
                 "portSide": "WEST"
                }
               },
               {
                "direction": "INPUT",
                "hwMeta": {
                 "level": 0,
                 "name": ""
                },
                "id": "151",
                "properties": {
                 "portIndex": 3,
                 "portSide": "WEST"
                }
               }
              ],
              "properties": {
               "org.eclipse.elk.layered.mergeEdges": 1,
               "org.eclipse.elk.portConstraints": "FIXED_ORDER",
               "org.eclipse.elk.randomSeed": 0
              }
             },
             {
              "hideChildren": true,
              "hwMeta": {
               "maxId": 419,
               "name": "FF"
              },
              "id": "12",
              "ports": [
               {
                "direction": "OUTPUT",
                "hwMeta": {
                 "level": 0,
                 "name": "o"
                },
                "id": "152",
                "properties": {
                 "portIndex": 0,
                 "portSide": "EAST"
                }
               },
               {
                "direction": "INPUT",
                "hwMeta": {
                 "level": 0,
                 "name": "i"
                },
                "id": "153",
                "properties": {
                 "portIndex": 1,
                 "portSide": "WEST"
                }
               },
               {
                "direction": "INPUT",
                "hwMeta": {
                 "level": 0,
                 "name": "clk"
                },
                "id": "154",
                "properties": {
                 "portIndex": 2,
                 "portSide": "WEST"
                }
               }
              ],
              "properties": {
               "org.eclipse.elk.layered.mergeEdges": 1,
               "org.eclipse.elk.portConstraints": "FIXED_ORDER",
               "org.eclipse.elk.randomSeed": 0
              }
             },
             {
              "hideChildren": true,
              "hwMeta": {
               "maxId": 419,
               "name": "MUX"
              },
              "id": "13",
              "ports": [
               {
                "direction": "OUTPUT",
                "hwMeta": {
                 "level": 0,
                 "name": ""
                },
                "id": "155",
                "properties": {
                 "portIndex": 0,
                 "portSide": "EAST"
                }
               },
               {
                "direction": "INPUT",
                "hwMeta": {
                 "level": 0,
                 "name": ""
                },
                "id": "156",
                "properties": {
                 "portIndex": 1,
                 "portSide": "SOUTH"
                }
               },
               {
                "direction": "INPUT",
                "hwMeta": {
                 "level": 0,
                 "name": ""
                },
                "id": "157",
                "properties": {
                 "portIndex": 2,
                 "portSide": "WEST"
                }
               },
               {
                "direction": "INPUT",
                "hwMeta": {
                 "level": 0,
                 "name": ""
                },
                "id": "158",
                "properties": {
                 "portIndex": 3,
                 "portSide": "WEST"
                }
               }
              ],
              "properties": {
               "org.eclipse.elk.layered.mergeEdges": 1,
               "org.eclipse.elk.portConstraints": "FIXED_ORDER",
               "org.eclipse.elk.randomSeed": 0
              }
             },
             {
              "hideChildren": true,
              "hwMeta": {
               "maxId": 419,
               "name": "FF"
              },
              "id": "14",
              "ports": [
               {
                "direction": "OUTPUT",
                "hwMeta": {
                 "level": 0,
                 "name": "o"
                },
                "id": "159",
                "properties": {
                 "portIndex": 0,
                 "portSide": "EAST"
                }
               },
               {
                "direction": "INPUT",
                "hwMeta": {
                 "level": 0,
                 "name": "i"
                },
                "id": "160",
                "properties": {
                 "portIndex": 1,
                 "portSide": "WEST"
                }
               },
               {
                "direction": "INPUT",
                "hwMeta": {
                 "level": 0,
                 "name": "clk"
                },
                "id": "161",
                "properties": {
                 "portIndex": 2,
                 "portSide": "WEST"
                }
               }
              ],
              "properties": {
               "org.eclipse.elk.layered.mergeEdges": 1,
               "org.eclipse.elk.portConstraints": "FIXED_ORDER",
               "org.eclipse.elk.randomSeed": 0
              }
             },
             {
              "hideChildren": true,
              "hwMeta": {
               "maxId": 419,
               "name": "MUX"
              },
              "id": "15",
              "ports": [
               {
                "direction": "OUTPUT",
                "hwMeta": {
                 "level": 0,
                 "name": ""
                },
                "id": "162",
                "properties": {
                 "portIndex": 0,
                 "portSide": "EAST"
                }
               },
               {
                "direction": "INPUT",
                "hwMeta": {
                 "level": 0,
                 "name": ""
                },
                "id": "163",
                "properties": {
                 "portIndex": 1,
                 "portSide": "SOUTH"
                }
               },
               {
                "direction": "INPUT",
                "hwMeta": {
                 "level": 0,
                 "name": ""
                },
                "id": "164",
                "properties": {
                 "portIndex": 2,
                 "portSide": "WEST"
                }
               },
               {
                "direction": "INPUT",
                "hwMeta": {
                 "level": 0,
                 "name": ""
                },
                "id": "165",
                "properties": {
                 "portIndex": 3,
                 "portSide": "WEST"
                }
               }
              ],
              "properties": {
               "org.eclipse.elk.layered.mergeEdges": 1,
               "org.eclipse.elk.portConstraints": "FIXED_ORDER",
               "org.eclipse.elk.randomSeed": 0
              }
             },
             {
              "hideChildren": true,
              "hwMeta": {
               "maxId": 419,
               "name": "FF"
              },
              "id": "16",
              "ports": [
               {
                "direction": "OUTPUT",
                "hwMeta": {
                 "level": 0,
                 "name": "o"
                },
                "id": "166",
                "properties": {
                 "portIndex": 0,
                 "portSide": "EAST"
                }
               },
               {
                "direction": "INPUT",
                "hwMeta": {
                 "level": 0,
                 "name": "i"
                },
                "id": "167",
                "properties": {
                 "portIndex": 1,
                 "portSide": "WEST"
                }
               },
               {
                "direction": "INPUT",
                "hwMeta": {
                 "level": 0,
                 "name": "clk"
                },
                "id": "168",
                "properties": {
                 "portIndex": 2,
                 "portSide": "WEST"
                }
               }
              ],
              "properties": {
               "org.eclipse.elk.layered.mergeEdges": 1,
               "org.eclipse.elk.portConstraints": "FIXED_ORDER",
               "org.eclipse.elk.randomSeed": 0
              }
             },
             {
              "hideChildren": true,
              "hwMeta": {
               "maxId": 419,
               "name": "MUX"
              },
              "id": "3",
              "ports": [
               {
                "direction": "OUTPUT",
                "hwMeta": {
                 "level": 0,
                 "name": ""
                },
                "id": "127",
                "properties": {
                 "portIndex": 0,
                 "portSide": "EAST"
                }
               },
               {
                "direction": "INPUT",
                "hwMeta": {
                 "level": 0,
                 "name": ""
                },
                "id": "128",
                "properties": {
                 "portIndex": 1,
                 "portSide": "SOUTH"
                }
               },
               {
                "direction": "INPUT",
                "hwMeta": {
                 "level": 0,
                 "name": ""
                },
                "id": "129",
                "properties": {
                 "portIndex": 2,
                 "portSide": "WEST"
                }
               },
               {
                "direction": "INPUT",
                "hwMeta": {
                 "level": 0,
                 "name": ""
                },
                "id": "130",
                "properties": {
                 "portIndex": 3,
                 "portSide": "WEST"
                }
               }
              ],
              "properties": {
               "org.eclipse.elk.layered.mergeEdges": 1,
               "org.eclipse.elk.portConstraints": "FIXED_ORDER",
               "org.eclipse.elk.randomSeed": 0
              }
             },
             {
              "hideChildren": true,
              "hwMeta": {
               "maxId": 419,
               "name": "EQ"
              },
              "id": "4",
              "ports": [
               {
                "direction": "OUTPUT",
                "hwMeta": {
                 "level": 0,
                 "name": null
                },
                "id": "131",
                "properties": {
                 "portIndex": 0,
                 "portSide": "EAST"
                }
               },
               {
                "direction": "INPUT",
                "hwMeta": {
                 "level": 0,
                 "name": null
                },
                "id": "132",
                "properties": {
                 "portIndex": 1,
                 "portSide": "WEST"
                }
               },
               {
                "direction": "INPUT",
                "hwMeta": {
                 "level": 0,
                 "name": null
                },
                "id": "133",
                "properties": {
                 "portIndex": 2,
                 "portSide": "WEST"
                }
               }
              ],
              "properties": {
               "org.eclipse.elk.layered.mergeEdges": 1,
               "org.eclipse.elk.portConstraints": "FIXED_ORDER",
               "org.eclipse.elk.randomSeed": 0
              }
             },
             {
              "hideChildren": true,
              "hwMeta": {
               "bodyText": "0",
               "maxId": 419,
               "name": null
              },
              "id": "5",
              "ports": [
               {
                "direction": "OUTPUT",
                "hwMeta": {
                 "level": 0,
                 "name": null
                },
                "id": "134",
                "properties": {
                 "portSide": "EAST"
                }
               }
              ],
              "properties": {
               "org.eclipse.elk.layered.mergeEdges": 1,
               "org.eclipse.elk.portConstraints": "FREE",
               "org.eclipse.elk.randomSeed": 0
              }
             },
             {
              "hideChildren": true,
              "hwMeta": {
               "bodyText": "0",
               "maxId": 419,
               "name": null
              },
              "id": "6",
              "ports": [
               {
                "direction": "OUTPUT",
                "hwMeta": {
                 "level": 0,
                 "name": null
                },
                "id": "135",
                "properties": {
                 "portSide": "EAST"
                }
               }
              ],
              "properties": {
               "org.eclipse.elk.layered.mergeEdges": 1,
               "org.eclipse.elk.portConstraints": "FREE",
               "org.eclipse.elk.randomSeed": 0
              }
             },
             {
              "hideChildren": true,
              "hwMeta": {
               "maxId": 419,
               "name": "FF"
              },
              "id": "7",
              "ports": [
               {
                "direction": "OUTPUT",
                "hwMeta": {
                 "level": 0,
                 "name": "o"
                },
                "id": "136",
                "properties": {
                 "portIndex": 0,
                 "portSide": "EAST"
                }
               },
               {
                "direction": "INPUT",
                "hwMeta": {
                 "level": 0,
                 "name": "i"
                },
                "id": "137",
                "properties": {
                 "portIndex": 1,
                 "portSide": "WEST"
                }
               },
               {
                "direction": "INPUT",
                "hwMeta": {
                 "level": 0,
                 "name": "clk"
                },
                "id": "138",
                "properties": {
                 "portIndex": 2,
                 "portSide": "WEST"
                }
               }
              ],
              "properties": {
               "org.eclipse.elk.layered.mergeEdges": 1,
               "org.eclipse.elk.portConstraints": "FIXED_ORDER",
               "org.eclipse.elk.randomSeed": 0
              }
             },
             {
              "hideChildren": true,
              "hwMeta": {
               "maxId": 419,
               "name": "RISING_EDGE"
              },
              "id": "8",
              "ports": [
               {
                "direction": "OUTPUT",
                "hwMeta": {
                 "level": 0,
                 "name": null
                },
                "id": "139",
                "properties": {
                 "portIndex": 0,
                 "portSide": "EAST"
                }
               },
               {
                "direction": "INPUT",
                "hwMeta": {
                 "level": 0,
                 "name": null
                },
                "id": "140",
                "properties": {
                 "portIndex": 1,
                 "portSide": "WEST"
                }
               }
              ],
              "properties": {
               "org.eclipse.elk.layered.mergeEdges": 1,
               "org.eclipse.elk.portConstraints": "FIXED_ORDER",
               "org.eclipse.elk.randomSeed": 0
              }
             },
             {
              "hideChildren": true,
              "hwMeta": {
               "maxId": 419,
               "name": "MUX"
              },
              "id": "9",
              "ports": [
               {
                "direction": "OUTPUT",
                "hwMeta": {
                 "level": 0,
                 "name": ""
                },
                "id": "141",
                "properties": {
                 "portIndex": 0,
                 "portSide": "EAST"
                }
               },
               {
                "direction": "INPUT",
                "hwMeta": {
                 "level": 0,
                 "name": ""
                },
                "id": "142",
                "properties": {
                 "portIndex": 1,
                 "portSide": "SOUTH"
                }
               },
               {
                "direction": "INPUT",
                "hwMeta": {
                 "level": 0,
                 "name": ""
                },
                "id": "143",
                "properties": {
                 "portIndex": 2,
                 "portSide": "WEST"
                }
               },
               {
                "direction": "INPUT",
                "hwMeta": {
                 "level": 0,
                 "name": ""
                },
                "id": "144",
                "properties": {
                 "portIndex": 3,
                 "portSide": "WEST"
                }
               }
              ],
              "properties": {
               "org.eclipse.elk.layered.mergeEdges": 1,
               "org.eclipse.elk.portConstraints": "FIXED_ORDER",
               "org.eclipse.elk.randomSeed": 0
              }
             }
            ],
            "edges": [
             {
              "hwMeta": {
               "name": null
              },
              "id": "420",
              "source": "3",
              "sourcePort": "127",
              "target": "7",
              "targetPort": "137"
             },
             {
              "hwMeta": {
               "name": "dataIn_rst_n._eq(0)"
              },
              "id": "421",
              "sources": [
               [
                "4",
                "131"
               ]
              ],
              "targets": [
               [
                "3",
                "128"
               ],
               [
                "9",
                "142"
               ],
               [
                "11",
                "149"
               ],
               [
                "13",
                "156"
               ],
               [
                "15",
                "163"
               ]
              ]
             },
             {
              "hwMeta": {
               "name": "w_gray_next"
              },
              "id": "422",
              "source": "2",
              "sourcePort": "125",
              "target": "3",
              "targetPort": "129"
             },
             {
              "hwMeta": {
               "name": "<BitsVal 0>"
              },
              "id": "423",
              "sources": [
               [
                "6",
                "135"
               ]
              ],
              "targets": [
               [
                "3",
                "130"
               ],
               [
                "11",
                "151"
               ],
               [
                "13",
                "158"
               ],
               [
                "15",
                "165"
               ]
              ]
             },
             {
              "hwMeta": {
               "name": "<BitsVal 0>"
              },
              "id": "424",
              "sources": [
               [
                "5",
                "134"
               ]
              ],
              "targets": [
               [
                "4",
                "132"
               ],
               [
                "9",
                "144"
               ]
              ]
             },
             {
              "hwMeta": {
               "name": "dataIn_rst_n"
              },
              "id": "425",
              "source": "2",
              "sourcePort": "126",
              "target": "4",
              "targetPort": "133"
             },
             {
              "hwMeta": {
               "name": "w_gray"
              },
              "id": "426",
              "source": "7",
              "sourcePort": "136",
              "target": "2",
              "targetPort": "115"
             },
             {
              "hwMeta": {
               "name": "dataIn_clk._onRisingEdge()"
              },
              "id": "427",
              "sources": [
               [
                "8",
                "139"
               ]
              ],
              "targets": [
               [
                "7",
                "138"
               ],
               [
                "10",
                "147"
               ],
               [
                "12",
                "154"
               ],
               [
                "14",
                "161"
               ],
               [
                "16",
                "168"
               ]
              ]
             },
             {
              "hwMeta": {
               "name": "dataIn_clk"
              },
              "id": "428",
              "source": "2",
              "sourcePort": "124",
              "target": "8",
              "targetPort": "140"
             },
             {
              "hwMeta": {
               "name": null
              },
              "id": "429",
              "source": "9",
              "sourcePort": "141",
              "target": "10",
              "targetPort": "146"
             },
             {
              "hwMeta": {
               "name": "w_full_next"
              },
              "id": "430",
              "source": "2",
              "sourcePort": "123",
              "target": "9",
              "targetPort": "143"
             },
             {
              "hwMeta": {
               "name": "w_full"
              },
              "id": "431",
              "source": "10",
              "sourcePort": "145",
              "target": "2",
              "targetPort": "116"
             },
             {
              "hwMeta": {
               "name": null
              },
              "id": "432",
              "source": "11",
              "sourcePort": "148",
              "target": "12",
              "targetPort": "153"
             },
             {
              "hwMeta": {
               "name": "w_bin_next"
              },
              "id": "433",
              "source": "2",
              "sourcePort": "122",
              "target": "11",
              "targetPort": "150"
             },
             {
              "hwMeta": {
               "name": "w_bin"
              },
              "id": "434",
              "source": "12",
              "sourcePort": "152",
              "target": "2",
              "targetPort": "117"
             },
             {
              "hwMeta": {
               "name": null
              },
              "id": "435",
              "source": "13",
              "sourcePort": "155",
              "target": "14",
              "targetPort": "160"
             },
             {
              "hwMeta": {
               "name": "r_gray_out_reg1_next"
              },
              "id": "436",
              "source": "2",
              "sourcePort": "121",
              "target": "13",
              "targetPort": "157"
             },
             {
              "hwMeta": {
               "name": "r_gray_out_reg1"
              },
              "id": "437",
              "source": "14",
              "sourcePort": "159",
              "target": "2",
              "targetPort": "118"
             },
             {
              "hwMeta": {
               "name": null
              },
              "id": "438",
              "source": "15",
              "sourcePort": "162",
              "target": "16",
              "targetPort": "167"
             },
             {
              "hwMeta": {
               "name": "r_gray_out_reg0_next"
              },
              "id": "439",
              "source": "2",
              "sourcePort": "120",
              "target": "15",
              "targetPort": "164"
             },
             {
              "hwMeta": {
               "name": "r_gray_out_reg0"
              },
              "id": "440",
              "source": "16",
              "sourcePort": "166",
              "target": "2",
              "targetPort": "119"
             }
            ],
            "hideChildren": true,
            "hwMeta": {
             "bodyText": "If(dataIn_clk._onRisingEdge(),\n    If(dataIn_rst_n._eq(0),\n        w_gray(0),\n        w_full(0),\n        w_bin(0),\n        r_gray_out_reg1(0),\n        r_gray_out_reg0(0)\n    ).Else(\n        w_gray(w_gray_next),\n        w_full(w_full_next),\n        w_bin(w_bin_next),\n        r_gray_out_reg1(r_gray_out_reg1_next),\n        r_gray_out_reg0(r_gray_out_reg0_next)\n    )\n)",
             "maxId": 440,
             "name": null
            },
            "id": "2",
            "ports": [
             {
              "direction": "OUTPUT",
              "hwMeta": {
               "level": 0,
               "name": "w_gray"
              },
              "id": "115",
              "properties": {
               "portIndex": 0,
               "portSide": "EAST"
              }
             },
             {
              "direction": "OUTPUT",
              "hwMeta": {
               "level": 0,
               "name": "w_full"
              },
              "id": "116",
              "properties": {
               "portIndex": 1,
               "portSide": "EAST"
              }
             },
             {
              "direction": "OUTPUT",
              "hwMeta": {
               "level": 0,
               "name": "w_bin"
              },
              "id": "117",
              "properties": {
               "portIndex": 2,
               "portSide": "EAST"
              }
             },
             {
              "direction": "OUTPUT",
              "hwMeta": {
               "level": 0,
               "name": "r_gray_out_reg1"
              },
              "id": "118",
              "properties": {
               "portIndex": 3,
               "portSide": "EAST"
              }
             },
             {
              "direction": "OUTPUT",
              "hwMeta": {
               "level": 0,
               "name": "r_gray_out_reg0"
              },
              "id": "119",
              "properties": {
               "portIndex": 4,
               "portSide": "EAST"
              }
             },
             {
              "direction": "INPUT",
              "hwMeta": {
               "level": 0,
               "name": "r_gray_out_reg0_next"
              },
              "id": "120",
              "properties": {
               "portIndex": 5,
               "portSide": "WEST"
              }
             },
             {
              "direction": "INPUT",
              "hwMeta": {
               "level": 0,
               "name": "r_gray_out_reg1_next"
              },
              "id": "121",
              "properties": {
               "portIndex": 6,
               "portSide": "WEST"
              }
             },
             {
              "direction": "INPUT",
              "hwMeta": {
               "level": 0,
               "name": "w_bin_next"
              },
              "id": "122",
              "properties": {
               "portIndex": 7,
               "portSide": "WEST"
              }
             },
             {
              "direction": "INPUT",
              "hwMeta": {
               "level": 0,
               "name": "w_full_next"
              },
              "id": "123",
              "properties": {
               "portIndex": 8,
               "portSide": "WEST"
              }
             },
             {
              "direction": "INPUT",
              "hwMeta": {
               "level": 0,
               "name": "dataIn_clk"
              },
              "id": "124",
              "properties": {
               "portIndex": 9,
               "portSide": "WEST"
              }
             },
             {
              "direction": "INPUT",
              "hwMeta": {
               "level": 0,
               "name": "w_gray_next"
              },
              "id": "125",
              "properties": {
               "portIndex": 10,
               "portSide": "WEST"
              }
             },
             {
              "direction": "INPUT",
              "hwMeta": {
               "level": 0,
               "name": "dataIn_rst_n"
              },
              "id": "126",
              "properties": {
               "portIndex": 11,
               "portSide": "WEST"
              }
             }
            ],
            "properties": {
             "org.eclipse.elk.layered.mergeEdges": 1,
             "org.eclipse.elk.portConstraints": "FIXED_ORDER",
             "org.eclipse.elk.randomSeed": 0
            }
           },
           {
            "children": [
             {
              "hideChildren": true,
              "hwMeta": {
               "maxId": 462,
               "name": "FF"
              },
              "id": "34",
              "ports": [
               {
                "direction": "OUTPUT",
                "hwMeta": {
                 "level": 0,
                 "name": "o"
                },
                "id": "227",
                "properties": {
                 "portIndex": 0,
                 "portSide": "EAST"
                }
               },
               {
                "direction": "INPUT",
                "hwMeta": {
                 "level": 0,
                 "name": "i"
                },
                "id": "228",
                "properties": {
                 "portIndex": 1,
                 "portSide": "WEST"
                }
               },
               {
                "direction": "INPUT",
                "hwMeta": {
                 "level": 0,
                 "name": "clk"
                },
                "id": "229",
                "properties": {
                 "portIndex": 2,
                 "portSide": "WEST"
                }
               }
              ],
              "properties": {
               "org.eclipse.elk.layered.mergeEdges": 1,
               "org.eclipse.elk.portConstraints": "FIXED_ORDER",
               "org.eclipse.elk.randomSeed": 0
              }
             },
             {
              "hideChildren": true,
              "hwMeta": {
               "maxId": 462,
               "name": "RISING_EDGE"
              },
              "id": "35",
              "ports": [
               {
                "direction": "OUTPUT",
                "hwMeta": {
                 "level": 0,
                 "name": null
                },
                "id": "230",
                "properties": {
                 "portIndex": 0,
                 "portSide": "EAST"
                }
               },
               {
                "direction": "INPUT",
                "hwMeta": {
                 "level": 0,
                 "name": null
                },
                "id": "231",
                "properties": {
                 "portIndex": 1,
                 "portSide": "WEST"
                }
               }
              ],
              "properties": {
               "org.eclipse.elk.layered.mergeEdges": 1,
               "org.eclipse.elk.portConstraints": "FIXED_ORDER",
               "org.eclipse.elk.randomSeed": 0
              }
             }
            ],
            "edges": [
             {
              "hwMeta": {
               "name": "r_reg"
              },
              "id": "463",
              "source": "34",
              "sourcePort": "227",
              "target": "33",
              "targetPort": "224"
             },
             {
              "hwMeta": {
               "name": "r_reg_next"
              },
              "id": "464",
              "source": "33",
              "sourcePort": "225",
              "target": "34",
              "targetPort": "228"
             },
             {
              "hwMeta": {
               "name": "dataOut_clk._onRisingEdge()"
              },
              "id": "465",
              "source": "35",
              "sourcePort": "230",
              "target": "34",
              "targetPort": "229"
             },
             {
              "hwMeta": {
               "name": "dataOut_clk"
              },
              "id": "466",
              "source": "33",
              "sourcePort": "226",
              "target": "35",
              "targetPort": "231"
             }
            ],
            "hideChildren": true,
            "hwMeta": {
             "bodyText": "If(dataOut_clk._onRisingEdge(),\n    r_reg(r_reg_next)\n)",
             "maxId": 466,
             "name": null
            },
            "id": "33",
            "ports": [
             {
              "direction": "OUTPUT",
              "hwMeta": {
               "level": 0,
               "name": "r_reg"
              },
              "id": "224",
              "properties": {
               "portIndex": 0,
               "portSide": "EAST"
              }
             },
             {
              "direction": "INPUT",
              "hwMeta": {
               "level": 0,
               "name": "r_reg_next"
              },
              "id": "225",
              "properties": {
               "portIndex": 1,
               "portSide": "WEST"
              }
             },
             {
              "direction": "INPUT",
              "hwMeta": {
               "level": 0,
               "name": "dataOut_clk"
              },
              "id": "226",
              "properties": {
               "portIndex": 2,
               "portSide": "WEST"
              }
             }
            ],
            "properties": {
             "org.eclipse.elk.layered.mergeEdges": 1,
             "org.eclipse.elk.portConstraints": "FIXED_ORDER",
             "org.eclipse.elk.randomSeed": 0
            }
           },
           {
            "children": [
             {
              "hideChildren": true,
              "hwMeta": {
               "maxId": 466,
               "name": "RAM_WRITE"
              },
              "id": "37",
              "ports": [
               {
                "direction": "OUTPUT",
                "hwMeta": {
                 "level": 0,
                 "name": "mem"
                },
                "id": "238",
                "properties": {
                 "portIndex": 0,
                 "portSide": "EAST"
                }
               },
               {
                "direction": "INPUT",
                "hwMeta": {
                 "level": 0,
                 "name": "in"
                },
                "id": "239",
                "properties": {
                 "portIndex": 1,
                 "portSide": "WEST"
                }
               },
               {
                "direction": "INPUT",
                "hwMeta": {
                 "level": 0,
                 "name": "addr"
                },
                "id": "240",
                "properties": {
                 "portIndex": 2,
                 "portSide": "WEST"
                }
               },
               {
                "direction": "INPUT",
                "hwMeta": {
                 "level": 0,
                 "name": "clk"
                },
                "id": "241",
                "properties": {
                 "portIndex": 3,
                 "portSide": "WEST"
                }
               }
              ],
              "properties": {
               "org.eclipse.elk.layered.mergeEdges": 1,
               "org.eclipse.elk.portConstraints": "FIXED_ORDER",
               "org.eclipse.elk.randomSeed": 0
              }
             },
             {
              "hideChildren": true,
              "hwMeta": {
               "maxId": 466,
               "name": "AND"
              },
              "id": "38",
              "ports": [
               {
                "direction": "OUTPUT",
                "hwMeta": {
                 "level": 0,
                 "name": null
                },
                "id": "242",
                "properties": {
                 "portIndex": 0,
                 "portSide": "EAST"
                }
               },
               {
                "direction": "INPUT",
                "hwMeta": {
                 "level": 0,
                 "name": null
                },
                "id": "243",
                "properties": {
                 "portIndex": 1,
                 "portSide": "WEST"
                }
               },
               {
                "direction": "INPUT",
                "hwMeta": {
                 "level": 0,
                 "name": null
                },
                "id": "244",
                "properties": {
                 "portIndex": 2,
                 "portSide": "WEST"
                }
               }
              ],
              "properties": {
               "org.eclipse.elk.layered.mergeEdges": 1,
               "org.eclipse.elk.portConstraints": "FIXED_ORDER",
               "org.eclipse.elk.randomSeed": 0
              }
             },
             {
              "hideChildren": true,
              "hwMeta": {
               "maxId": 466,
               "name": "AND"
              },
              "id": "39",
              "ports": [
               {
                "direction": "OUTPUT",
                "hwMeta": {
                 "level": 0,
                 "name": null
                },
                "id": "245",
                "properties": {
                 "portIndex": 0,
                 "portSide": "EAST"
                }
               },
               {
                "direction": "INPUT",
                "hwMeta": {
                 "level": 0,
                 "name": null
                },
                "id": "246",
                "properties": {
                 "portIndex": 1,
                 "portSide": "WEST"
                }
               },
               {
                "direction": "INPUT",
                "hwMeta": {
                 "level": 0,
                 "name": null
                },
                "id": "247",
                "properties": {
                 "portIndex": 2,
                 "portSide": "WEST"
                }
               }
              ],
              "properties": {
               "org.eclipse.elk.layered.mergeEdges": 1,
               "org.eclipse.elk.portConstraints": "FIXED_ORDER",
               "org.eclipse.elk.randomSeed": 0
              }
             },
             {
              "hideChildren": true,
              "hwMeta": {
               "maxId": 466,
               "name": "NOT"
              },
              "id": "40",
              "ports": [
               {
                "direction": "OUTPUT",
                "hwMeta": {
                 "level": 0,
                 "name": null
                },
                "id": "248",
                "properties": {
                 "portIndex": 0,
                 "portSide": "EAST"
                }
               },
               {
                "direction": "INPUT",
                "hwMeta": {
                 "level": 0,
                 "name": null
                },
                "id": "249",
                "properties": {
                 "portIndex": 1,
                 "portSide": "WEST"
                }
               }
              ],
              "properties": {
               "org.eclipse.elk.layered.mergeEdges": 1,
               "org.eclipse.elk.portConstraints": "FIXED_ORDER",
               "org.eclipse.elk.randomSeed": 0
              }
             },
             {
              "hideChildren": true,
              "hwMeta": {
               "maxId": 466,
               "name": "RISING_EDGE"
              },
              "id": "41",
              "ports": [
               {
                "direction": "OUTPUT",
                "hwMeta": {
                 "level": 0,
                 "name": null
                },
                "id": "250",
                "properties": {
                 "portIndex": 0,
                 "portSide": "EAST"
                }
               },
               {
                "direction": "INPUT",
                "hwMeta": {
                 "level": 0,
                 "name": null
                },
                "id": "251",
                "properties": {
                 "portIndex": 1,
                 "portSide": "WEST"
                }
               }
              ],
              "properties": {
               "org.eclipse.elk.layered.mergeEdges": 1,
               "org.eclipse.elk.portConstraints": "FIXED_ORDER",
               "org.eclipse.elk.randomSeed": 0
              }
             }
            ],
            "edges": [
             {
              "hwMeta": {
               "name": "memory"
              },
              "id": "467",
              "source": "37",
              "sourcePort": "238",
              "target": "36",
              "targetPort": "232"
             },
             {
              "hwMeta": {
               "name": "dataIn_data"
              },
              "id": "468",
              "source": "36",
              "sourcePort": "233",
              "target": "37",
              "targetPort": "239"
             },
             {
              "hwMeta": {
               "name": "sig_4"
              },
              "id": "469",
              "source": "36",
              "sourcePort": "234",
              "target": "37",
              "targetPort": "240"
             },
             {
              "hwMeta": {
               "name": "(dataIn_en & ~w_full)._eq(1) & dataIn_clk._onRisingEdge()"
              },
              "id": "470",
              "source": "38",
              "sourcePort": "242",
              "target": "37",
              "targetPort": "241"
             },
             {
              "hwMeta": {
               "name": "dataIn_clk._onRisingEdge()"
              },
              "id": "471",
              "source": "41",
              "sourcePort": "250",
              "target": "38",
              "targetPort": "243"
             },
             {
              "hwMeta": {
               "name": "(dataIn_en & ~w_full)._eq(1)"
              },
              "id": "472",
              "source": "39",
              "sourcePort": "245",
              "target": "38",
              "targetPort": "244"
             },
             {
              "hwMeta": {
               "name": "~w_full"
              },
              "id": "473",
              "source": "40",
              "sourcePort": "248",
              "target": "39",
              "targetPort": "246"
             },
             {
              "hwMeta": {
               "name": "dataIn_en"
              },
              "id": "474",
              "source": "36",
              "sourcePort": "237",
              "target": "39",
              "targetPort": "247"
             },
             {
              "hwMeta": {
               "name": "w_full"
              },
              "id": "475",
              "source": "36",
              "sourcePort": "236",
              "target": "40",
              "targetPort": "249"
             },
             {
              "hwMeta": {
               "name": "dataIn_clk"
              },
              "id": "476",
              "source": "36",
              "sourcePort": "235",
              "target": "41",
              "targetPort": "251"
             }
            ],
            "hideChildren": true,
            "hwMeta": {
             "bodyText": "If(dataIn_clk._onRisingEdge(),\n    If((dataIn_en & ~w_full)._eq(1),\n        memory[sig_4](dataIn_data)\n    )\n)",
             "maxId": 476,
             "name": null
            },
            "id": "36",
            "ports": [
             {
              "direction": "OUTPUT",
              "hwMeta": {
               "level": 0,
               "name": "memory"
              },
              "id": "232",
              "properties": {
               "portIndex": 0,
               "portSide": "EAST"
              }
             },
             {
              "direction": "INPUT",
              "hwMeta": {
               "level": 0,
               "name": "dataIn_data"
              },
              "id": "233",
              "properties": {
               "portIndex": 1,
               "portSide": "WEST"
              }
             },
             {
              "direction": "INPUT",
              "hwMeta": {
               "level": 0,
               "name": "sig_4"
              },
              "id": "234",
              "properties": {
               "portIndex": 2,
               "portSide": "WEST"
              }
             },
             {
              "direction": "INPUT",
              "hwMeta": {
               "level": 0,
               "name": "dataIn_clk"
              },
              "id": "235",
              "properties": {
               "portIndex": 3,
               "portSide": "WEST"
              }
             },
             {
              "direction": "INPUT",
              "hwMeta": {
               "level": 0,
               "name": "w_full"
              },
              "id": "236",
              "properties": {
               "portIndex": 4,
               "portSide": "WEST"
              }
             },
             {
              "direction": "INPUT",
              "hwMeta": {
               "level": 0,
               "name": "dataIn_en"
              },
              "id": "237",
              "properties": {
               "portIndex": 5,
               "portSide": "WEST"
              }
             }
            ],
            "properties": {
             "org.eclipse.elk.layered.mergeEdges": 1,
             "org.eclipse.elk.portConstraints": "FIXED_ORDER",
             "org.eclipse.elk.randomSeed": 0
            }
           },
           {
            "children": [
             {
              "hideChildren": true,
              "hwMeta": {
               "maxId": 476,
               "name": "MUX"
              },
              "id": "43",
              "ports": [
               {
                "direction": "OUTPUT",
                "hwMeta": {
                 "level": 0,
                 "name": ""
                },
                "id": "259",
                "properties": {
                 "portIndex": 0,
                 "portSide": "EAST"
                }
               },
               {
                "direction": "INPUT",
                "hwMeta": {
                 "level": 0,
                 "name": ""
                },
                "id": "260",
                "properties": {
                 "portIndex": 1,
                 "portSide": "SOUTH"
                }
               },
               {
                "direction": "INPUT",
                "hwMeta": {
                 "level": 0,
                 "name": ""
                },
                "id": "261",
                "properties": {
                 "portIndex": 2,
                 "portSide": "WEST"
                }
               },
               {
                "direction": "INPUT",
                "hwMeta": {
                 "level": 0,
                 "name": ""
                },
                "id": "262",
                "properties": {
                 "portIndex": 3,
                 "portSide": "WEST"
                }
               }
              ],
              "properties": {
               "org.eclipse.elk.layered.mergeEdges": 1,
               "org.eclipse.elk.portConstraints": "FIXED_ORDER",
               "org.eclipse.elk.randomSeed": 0
              }
             },
             {
              "hideChildren": true,
              "hwMeta": {
               "maxId": 476,
               "name": "AND"
              },
              "id": "44",
              "ports": [
               {
                "direction": "OUTPUT",
                "hwMeta": {
                 "level": 0,
                 "name": null
                },
                "id": "263",
                "properties": {
                 "portIndex": 0,
                 "portSide": "EAST"
                }
               },
               {
                "direction": "INPUT",
                "hwMeta": {
                 "level": 0,
                 "name": null
                },
                "id": "264",
                "properties": {
                 "portIndex": 1,
                 "portSide": "WEST"
                }
               },
               {
                "direction": "INPUT",
                "hwMeta": {
                 "level": 0,
                 "name": null
                },
                "id": "265",
                "properties": {
                 "portIndex": 2,
                 "portSide": "WEST"
                }
               }
              ],
              "properties": {
               "org.eclipse.elk.layered.mergeEdges": 1,
               "org.eclipse.elk.portConstraints": "FIXED_ORDER",
               "org.eclipse.elk.randomSeed": 0
              }
             },
             {
              "hideChildren": true,
              "hwMeta": {
               "maxId": 476,
               "name": "NOT"
              },
              "id": "45",
              "ports": [
               {
                "direction": "OUTPUT",
                "hwMeta": {
                 "level": 0,
                 "name": null
                },
                "id": "266",
                "properties": {
                 "portIndex": 0,
                 "portSide": "EAST"
                }
               },
               {
                "direction": "INPUT",
                "hwMeta": {
                 "level": 0,
                 "name": null
                },
                "id": "267",
                "properties": {
                 "portIndex": 1,
                 "portSide": "WEST"
                }
               }
              ],
              "properties": {
               "org.eclipse.elk.layered.mergeEdges": 1,
               "org.eclipse.elk.portConstraints": "FIXED_ORDER",
               "org.eclipse.elk.randomSeed": 0
              }
             },
             {
              "hideChildren": true,
              "hwMeta": {
               "maxId": 476,
               "name": "BitsAsVec"
              },
              "id": "46",
              "ports": [
               {
                "direction": "OUTPUT",
                "hwMeta": {
                 "level": 0,
                 "name": null
                },
                "id": "268",
                "properties": {
                 "portIndex": 0,
                 "portSide": "EAST"
                }
               },
               {
                "direction": "INPUT",
                "hwMeta": {
                 "level": 0,
                 "name": null
                },
                "id": "269",
                "properties": {
                 "portIndex": 1,
                 "portSide": "WEST"
                }
               }
              ],
              "properties": {
               "org.eclipse.elk.layered.mergeEdges": 1,
               "org.eclipse.elk.portConstraints": "FIXED_ORDER",
               "org.eclipse.elk.randomSeed": 0
              }
             },
             {
              "hideChildren": true,
              "hwMeta": {
               "maxId": 476,
               "name": "ADD"
              },
              "id": "47",
              "ports": [
               {
                "direction": "OUTPUT",
                "hwMeta": {
                 "level": 0,
                 "name": null
                },
                "id": "270",
                "properties": {
                 "portIndex": 0,
                 "portSide": "EAST"
                }
               },
               {
                "direction": "INPUT",
                "hwMeta": {
                 "level": 0,
                 "name": null
                },
                "id": "271",
                "properties": {
                 "portIndex": 1,
                 "portSide": "WEST"
                }
               },
               {
                "direction": "INPUT",
                "hwMeta": {
                 "level": 0,
                 "name": null
                },
                "id": "272",
                "properties": {
                 "portIndex": 2,
                 "portSide": "WEST"
                }
               }
              ],
              "properties": {
               "org.eclipse.elk.layered.mergeEdges": 1,
               "org.eclipse.elk.portConstraints": "FIXED_ORDER",
               "org.eclipse.elk.randomSeed": 0
              }
             },
             {
              "hideChildren": true,
              "hwMeta": {
               "maxId": 476,
               "name": "BitsAsUnsigned"
              },
              "id": "48",
              "ports": [
               {
                "direction": "OUTPUT",
                "hwMeta": {
                 "level": 0,
                 "name": null
                },
                "id": "273",
                "properties": {
                 "portIndex": 0,
                 "portSide": "EAST"
                }
               },
               {
                "direction": "INPUT",
                "hwMeta": {
                 "level": 0,
                 "name": null
                },
                "id": "274",
                "properties": {
                 "portIndex": 1,
                 "portSide": "WEST"
                }
               }
              ],
              "properties": {
               "org.eclipse.elk.layered.mergeEdges": 1,
               "org.eclipse.elk.portConstraints": "FIXED_ORDER",
               "org.eclipse.elk.randomSeed": 0
              }
             },
             {
              "hideChildren": true,
              "hwMeta": {
               "bodyText": "1",
               "maxId": 476,
               "name": null
              },
              "id": "49",
              "ports": [
               {
                "direction": "OUTPUT",
                "hwMeta": {
                 "level": 0,
                 "name": null
                },
                "id": "275",
                "properties": {
                 "portSide": "EAST"
                }
               }
              ],
              "properties": {
               "org.eclipse.elk.layered.mergeEdges": 1,
               "org.eclipse.elk.portConstraints": "FREE",
               "org.eclipse.elk.randomSeed": 0
              }
             },
             {
              "hideChildren": true,
              "hwMeta": {
               "maxId": 476,
               "name": "MUX"
              },
              "id": "50",
              "ports": [
               {
                "direction": "OUTPUT",
                "hwMeta": {
                 "level": 0,
                 "name": ""
                },
                "id": "276",
                "properties": {
                 "portIndex": 0,
                 "portSide": "EAST"
                }
               },
               {
                "direction": "INPUT",
                "hwMeta": {
                 "level": 0,
                 "name": ""
                },
                "id": "277",
                "properties": {
                 "portIndex": 1,
                 "portSide": "SOUTH"
                }
               },
               {
                "direction": "INPUT",
                "hwMeta": {
                 "level": 0,
                 "name": ""
                },
                "id": "278",
                "properties": {
                 "portIndex": 2,
                 "portSide": "WEST"
                }
               },
               {
                "direction": "INPUT",
                "hwMeta": {
                 "level": 0,
                 "name": ""
                },
                "id": "279",
                "properties": {
                 "portIndex": 3,
                 "portSide": "WEST"
                }
               }
              ],
              "properties": {
               "org.eclipse.elk.layered.mergeEdges": 1,
               "org.eclipse.elk.portConstraints": "FIXED_ORDER",
               "org.eclipse.elk.randomSeed": 0
              }
             }
            ],
            "edges": [
             {
              "hwMeta": {
               "name": "r_reg_next"
              },
              "id": "477",
              "source": "43",
              "sourcePort": "259",
              "target": "42",
              "targetPort": "252"
             },
             {
              "hwMeta": {
               "name": "dataOut_en & ~r_empty"
              },
              "id": "478",
              "sources": [
               [
                "44",
                "263"
               ]
              ],
              "targets": [
               [
                "43",
                "260"
               ],
               [
                "50",
                "277"
               ]
              ]
             },
             {
              "hwMeta": {
               "name": "r_reg"
              },
              "id": "479",
              "source": "42",
              "sourcePort": "255",
              "target": "43",
              "targetPort": "261"
             },
             {
              "hwMeta": {
               "name": "sig_6"
              },
              "id": "480",
              "source": "42",
              "sourcePort": "256",
              "target": "43",
              "targetPort": "262"
             },
             {
              "hwMeta": {
               "name": "~r_empty"
              },
              "id": "481",
              "source": "45",
              "sourcePort": "266",
              "target": "44",
              "targetPort": "264"
             },
             {
              "hwMeta": {
               "name": "dataOut_en"
              },
              "id": "482",
              "source": "42",
              "sourcePort": "258",
              "target": "44",
              "targetPort": "265"
             },
             {
              "hwMeta": {
               "name": "r_empty"
              },
              "id": "483",
              "source": "42",
              "sourcePort": "257",
              "target": "45",
              "targetPort": "267"
             },
             {
              "hwMeta": {
               "name": "(r_bin._reinterpret_cast(Bits(4, signed=False)) + 1)._reinterpret_cast(Bits(4))"
              },
              "id": "484",
              "source": "46",
              "sourcePort": "268",
              "target": "50",
              "targetPort": "279"
             },
             {
              "hwMeta": {
               "name": "r_bin._reinterpret_cast(Bits(4, signed=False)) + 1"
              },
              "id": "485",
              "source": "47",
              "sourcePort": "270",
              "target": "46",
              "targetPort": "269"
             },
             {
              "hwMeta": {
               "name": "<BitsVal 1>"
              },
              "id": "486",
              "source": "49",
              "sourcePort": "275",
              "target": "47",
              "targetPort": "271"
             },
             {
              "hwMeta": {
               "name": "r_bin._reinterpret_cast(Bits(4, signed=False))"
              },
              "id": "487",
              "source": "48",
              "sourcePort": "273",
              "target": "47",
              "targetPort": "272"
             },
             {
              "hwMeta": {
               "name": "r_bin"
              },
              "id": "488",
              "sources": [
               [
                "42",
                "254"
               ]
              ],
              "targets": [
               [
                "48",
                "274"
               ],
               [
                "50",
                "278"
               ]
              ]
             },
             {
              "hwMeta": {
               "name": "r_bin_next"
              },
              "id": "489",
              "source": "50",
              "sourcePort": "276",
              "target": "42",
              "targetPort": "253"
             }
            ],
            "hideChildren": true,
            "hwMeta": {
             "bodyText": "If((dataOut_en & ~r_empty)._eq(1),\n    r_reg_next(sig_6),\n    r_bin_next((r_bin._reinterpret_cast(Bits(4, signed=False)) + 1)._reinterpret_cast(Bits(4)))\n).Else(\n    r_reg_next(r_reg),\n    r_bin_next(r_bin)\n)",
             "maxId": 489,
             "name": null
            },
            "id": "42",
            "ports": [
             {
              "direction": "OUTPUT",
              "hwMeta": {
               "level": 0,
               "name": "r_reg_next"
              },
              "id": "252",
              "properties": {
               "portIndex": 0,
               "portSide": "EAST"
              }
             },
             {
              "direction": "OUTPUT",
              "hwMeta": {
               "level": 0,
               "name": "r_bin_next"
              },
              "id": "253",
              "properties": {
               "portIndex": 1,
               "portSide": "EAST"
              }
             },
             {
              "direction": "INPUT",
              "hwMeta": {
               "level": 0,
               "name": "r_bin"
              },
              "id": "254",
              "properties": {
               "portIndex": 2,
               "portSide": "WEST"
              }
             },
             {
              "direction": "INPUT",
              "hwMeta": {
               "level": 0,
               "name": "r_reg"
              },
              "id": "255",
              "properties": {
               "portIndex": 3,
               "portSide": "WEST"
              }
             },
             {
              "direction": "INPUT",
              "hwMeta": {
               "level": 0,
               "name": "sig_6"
              },
              "id": "256",
              "properties": {
               "portIndex": 4,
               "portSide": "WEST"
              }
             },
             {
              "direction": "INPUT",
              "hwMeta": {
               "level": 0,
               "name": "r_empty"
              },
              "id": "257",
              "properties": {
               "portIndex": 5,
               "portSide": "WEST"
              }
             },
             {
              "direction": "INPUT",
              "hwMeta": {
               "level": 0,
               "name": "dataOut_en"
              },
              "id": "258",
              "properties": {
               "portIndex": 6,
               "portSide": "WEST"
              }
             }
            ],
            "properties": {
             "org.eclipse.elk.layered.mergeEdges": 1,
             "org.eclipse.elk.portConstraints": "FIXED_ORDER",
             "org.eclipse.elk.randomSeed": 0
            }
           },
           {
            "children": [
             {
              "hideChildren": true,
              "hwMeta": {
               "maxId": 489,
               "name": "BitsAsVec"
              },
              "id": "52",
              "ports": [
               {
                "direction": "OUTPUT",
                "hwMeta": {
                 "level": 0,
                 "name": null
                },
                "id": "284",
                "properties": {
                 "portIndex": 0,
                 "portSide": "EAST"
                }
               },
               {
                "direction": "INPUT",
                "hwMeta": {
                 "level": 0,
                 "name": null
                },
                "id": "285",
                "properties": {
                 "portIndex": 1,
                 "portSide": "WEST"
                }
               }
              ],
              "properties": {
               "org.eclipse.elk.layered.mergeEdges": 1,
               "org.eclipse.elk.portConstraints": "FIXED_ORDER",
               "org.eclipse.elk.randomSeed": 0
              }
             },
             {
              "hideChildren": true,
              "hwMeta": {
               "maxId": 489,
               "name": "ADD"
              },
              "id": "53",
              "ports": [
               {
                "direction": "OUTPUT",
                "hwMeta": {
                 "level": 0,
                 "name": null
                },
                "id": "286",
                "properties": {
                 "portIndex": 0,
                 "portSide": "EAST"
                }
               },
               {
                "direction": "INPUT",
                "hwMeta": {
                 "level": 0,
                 "name": null
                },
                "id": "287",
                "properties": {
                 "portIndex": 1,
                 "portSide": "WEST"
                }
               },
               {
                "direction": "INPUT",
                "hwMeta": {
                 "level": 0,
                 "name": null
                },
                "id": "288",
                "properties": {
                 "portIndex": 2,
                 "portSide": "WEST"
                }
               }
              ],
              "properties": {
               "org.eclipse.elk.layered.mergeEdges": 1,
               "org.eclipse.elk.portConstraints": "FIXED_ORDER",
               "org.eclipse.elk.randomSeed": 0
              }
             },
             {
              "hideChildren": true,
              "hwMeta": {
               "maxId": 489,
               "name": "BitsAsUnsigned"
              },
              "id": "54",
              "ports": [
               {
                "direction": "OUTPUT",
                "hwMeta": {
                 "level": 0,
                 "name": null
                },
                "id": "289",
                "properties": {
                 "portIndex": 0,
                 "portSide": "EAST"
                }
               },
               {
                "direction": "INPUT",
                "hwMeta": {
                 "level": 0,
                 "name": null
                },
                "id": "290",
                "properties": {
                 "portIndex": 1,
                 "portSide": "WEST"
                }
               }
              ],
              "properties": {
               "org.eclipse.elk.layered.mergeEdges": 1,
               "org.eclipse.elk.portConstraints": "FIXED_ORDER",
               "org.eclipse.elk.randomSeed": 0
              }
             },
             {
              "hideChildren": true,
              "hwMeta": {
               "bodyText": "1",
               "maxId": 489,
               "name": null
              },
              "id": "55",
              "ports": [
               {
                "direction": "OUTPUT",
                "hwMeta": {
                 "level": 0,
                 "name": null
                },
                "id": "291",
                "properties": {
                 "portSide": "EAST"
                }
               }
              ],
              "properties": {
               "org.eclipse.elk.layered.mergeEdges": 1,
               "org.eclipse.elk.portConstraints": "FREE",
               "org.eclipse.elk.randomSeed": 0
              }
             },
             {
              "hideChildren": true,
              "hwMeta": {
               "maxId": 489,
               "name": "MUX"
              },
              "id": "56",
              "ports": [
               {
                "direction": "OUTPUT",
                "hwMeta": {
                 "level": 0,
                 "name": ""
                },
                "id": "292",
                "properties": {
                 "portIndex": 0,
                 "portSide": "EAST"
                }
               },
               {
                "direction": "INPUT",
                "hwMeta": {
                 "level": 0,
                 "name": ""
                },
                "id": "293",
                "properties": {
                 "portIndex": 1,
                 "portSide": "SOUTH"
                }
               },
               {
                "direction": "INPUT",
                "hwMeta": {
                 "level": 0,
                 "name": ""
                },
                "id": "294",
                "properties": {
                 "portIndex": 2,
                 "portSide": "WEST"
                }
               },
               {
                "direction": "INPUT",
                "hwMeta": {
                 "level": 0,
                 "name": ""
                },
                "id": "295",
                "properties": {
                 "portIndex": 3,
                 "portSide": "WEST"
                }
               }
              ],
              "properties": {
               "org.eclipse.elk.layered.mergeEdges": 1,
               "org.eclipse.elk.portConstraints": "FIXED_ORDER",
               "org.eclipse.elk.randomSeed": 0
              }
             },
             {
              "hideChildren": true,
              "hwMeta": {
               "maxId": 489,
               "name": "AND"
              },
              "id": "57",
              "ports": [
               {
                "direction": "OUTPUT",
                "hwMeta": {
                 "level": 0,
                 "name": null
                },
                "id": "296",
                "properties": {
                 "portIndex": 0,
                 "portSide": "EAST"
                }
               },
               {
                "direction": "INPUT",
                "hwMeta": {
                 "level": 0,
                 "name": null
                },
                "id": "297",
                "properties": {
                 "portIndex": 1,
                 "portSide": "WEST"
                }
               },
               {
                "direction": "INPUT",
                "hwMeta": {
                 "level": 0,
                 "name": null
                },
                "id": "298",
                "properties": {
                 "portIndex": 2,
                 "portSide": "WEST"
                }
               }
              ],
              "properties": {
               "org.eclipse.elk.layered.mergeEdges": 1,
               "org.eclipse.elk.portConstraints": "FIXED_ORDER",
               "org.eclipse.elk.randomSeed": 0
              }
             },
             {
              "hideChildren": true,
              "hwMeta": {
               "maxId": 489,
               "name": "NOT"
              },
              "id": "58",
              "ports": [
               {
                "direction": "OUTPUT",
                "hwMeta": {
                 "level": 0,
                 "name": null
                },
                "id": "299",
                "properties": {
                 "portIndex": 0,
                 "portSide": "EAST"
                }
               },
               {
                "direction": "INPUT",
                "hwMeta": {
                 "level": 0,
                 "name": null
                },
                "id": "300",
                "properties": {
                 "portIndex": 1,
                 "portSide": "WEST"
                }
               }
              ],
              "properties": {
               "org.eclipse.elk.layered.mergeEdges": 1,
               "org.eclipse.elk.portConstraints": "FIXED_ORDER",
               "org.eclipse.elk.randomSeed": 0
              }
             }
            ],
            "edges": [
             {
              "hwMeta": {
               "name": "(w_bin._reinterpret_cast(Bits(4, signed=False)) + 1)._reinterpret_cast(Bits(4))"
              },
              "id": "490",
              "source": "52",
              "sourcePort": "284",
              "target": "56",
              "targetPort": "295"
             },
             {
              "hwMeta": {
               "name": "w_bin._reinterpret_cast(Bits(4, signed=False)) + 1"
              },
              "id": "491",
              "source": "53",
              "sourcePort": "286",
              "target": "52",
              "targetPort": "285"
             },
             {
              "hwMeta": {
               "name": "<BitsVal 1>"
              },
              "id": "492",
              "source": "55",
              "sourcePort": "291",
              "target": "53",
              "targetPort": "287"
             },
             {
              "hwMeta": {
               "name": "w_bin._reinterpret_cast(Bits(4, signed=False))"
              },
              "id": "493",
              "source": "54",
              "sourcePort": "289",
              "target": "53",
              "targetPort": "288"
             },
             {
              "hwMeta": {
               "name": "w_bin"
              },
              "id": "494",
              "sources": [
               [
                "51",
                "283"
               ]
              ],
              "targets": [
               [
                "54",
                "290"
               ],
               [
                "56",
                "294"
               ]
              ]
             },
             {
              "hwMeta": {
               "name": "w_bin_next"
              },
              "id": "495",
              "source": "56",
              "sourcePort": "292",
              "target": "51",
              "targetPort": "280"
             },
             {
              "hwMeta": {
               "name": "dataIn_en & ~w_full"
              },
              "id": "496",
              "source": "57",
              "sourcePort": "296",
              "target": "56",
              "targetPort": "293"
             },
             {
              "hwMeta": {
               "name": "~w_full"
              },
              "id": "497",
              "source": "58",
              "sourcePort": "299",
              "target": "57",
              "targetPort": "297"
             },
             {
              "hwMeta": {
               "name": "dataIn_en"
              },
              "id": "498",
              "source": "51",
              "sourcePort": "282",
              "target": "57",
              "targetPort": "298"
             },
             {
              "hwMeta": {
               "name": "w_full"
              },
              "id": "499",
              "source": "51",
              "sourcePort": "281",
              "target": "58",
              "targetPort": "300"
             }
            ],
            "hideChildren": true,
            "hwMeta": {
             "bodyText": "If((dataIn_en & ~w_full)._eq(1),\n    w_bin_next((w_bin._reinterpret_cast(Bits(4, signed=False)) + 1)._reinterpret_cast(Bits(4)))\n).Else(\n    w_bin_next(w_bin)\n)",
             "maxId": 499,
             "name": null
            },
            "id": "51",
            "ports": [
             {
              "direction": "OUTPUT",
              "hwMeta": {
               "level": 0,
               "name": "w_bin_next"
              },
              "id": "280",
              "properties": {
               "portIndex": 0,
               "portSide": "EAST"
              }
             },
             {
              "direction": "INPUT",
              "hwMeta": {
               "level": 0,
               "name": "w_full"
              },
              "id": "281",
              "properties": {
               "portIndex": 1,
               "portSide": "WEST"
              }
             },
             {
              "direction": "INPUT",
              "hwMeta": {
               "level": 0,
               "name": "dataIn_en"
              },
              "id": "282",
              "properties": {
               "portIndex": 2,
               "portSide": "WEST"
              }
             },
             {
              "direction": "INPUT",
              "hwMeta": {
               "level": 0,
               "name": "w_bin"
              },
              "id": "283",
              "properties": {
               "portIndex": 3,
               "portSide": "WEST"
              }
             }
            ],
            "properties": {
             "org.eclipse.elk.layered.mergeEdges": 1,
             "org.eclipse.elk.portConstraints": "FIXED_ORDER",
             "org.eclipse.elk.randomSeed": 0
            }
           },
           {
            "hideChildren": true,
            "hwMeta": {
             "isExternalPort": true,
             "maxId": 499,
             "name": "dataIn_clk"
            },
            "id": "59",
            "ports": [
             {
              "direction": "OUTPUT",
              "hwMeta": {
               "level": 0,
               "name": "dataIn_clk"
              },
              "id": "301",
              "properties": {
               "portIndex": 0,
               "portSide": "EAST"
              }
             },
             {
              "direction": "INPUT",
              "hwMeta": {
               "level": 0,
               "name": ""
              },
              "id": "302",
              "properties": {
               "portIndex": 1,
               "portSide": "WEST"
              }
             }
            ],
            "properties": {
             "org.eclipse.elk.layered.mergeEdges": 1,
             "org.eclipse.elk.portConstraints": "FIXED_ORDER",
             "org.eclipse.elk.randomSeed": 0
            }
           },
           {
            "hideChildren": true,
            "hwMeta": {
             "isExternalPort": true,
             "maxId": 499,
             "name": "dataOut_clk"
            },
            "id": "60",
            "ports": [
             {
              "direction": "OUTPUT",
              "hwMeta": {
               "level": 0,
               "name": "dataOut_clk"
              },
              "id": "303",
              "properties": {
               "portIndex": 0,
               "portSide": "EAST"
              }
             },
             {
              "direction": "INPUT",
              "hwMeta": {
               "level": 0,
               "name": ""
              },
              "id": "304",
              "properties": {
               "portIndex": 1,
               "portSide": "WEST"
              }
             }
            ],
            "properties": {
             "org.eclipse.elk.layered.mergeEdges": 1,
             "org.eclipse.elk.portConstraints": "FIXED_ORDER",
             "org.eclipse.elk.randomSeed": 0
            }
           },
           {
            "hideChildren": true,
            "hwMeta": {
             "isExternalPort": true,
             "maxId": 499,
             "name": "dataIn_rst_n"
            },
            "id": "61",
            "ports": [
             {
              "direction": "OUTPUT",
              "hwMeta": {
               "level": 0,
               "name": "dataIn_rst_n"
              },
              "id": "305",
              "properties": {
               "portIndex": 0,
               "portSide": "EAST"
              }
             },
             {
              "direction": "INPUT",
              "hwMeta": {
               "level": 0,
               "name": ""
              },
              "id": "306",
              "properties": {
               "portIndex": 1,
               "portSide": "WEST"
              }
             }
            ],
            "properties": {
             "org.eclipse.elk.layered.mergeEdges": 1,
             "org.eclipse.elk.portConstraints": "FIXED_ORDER",
             "org.eclipse.elk.randomSeed": 0
            }
           },
           {
            "hideChildren": true,
            "hwMeta": {
             "isExternalPort": true,
             "maxId": 499,
             "name": "dataIn"
            },
            "id": "62",
            "ports": [
             {
              "direction": "OUTPUT",
              "hwMeta": {
               "level": 0,
               "name": "dataIn"
              },
              "id": "307",
              "properties": {
               "portIndex": 0,
               "portSide": "EAST"
              }
             },
             {
              "direction": "OUTPUT",
              "hwMeta": {
               "level": 1,
               "name": "en"
              },
              "id": "308",
              "properties": {
               "portIndex": 1,
               "portSide": "EAST"
              }
             },
             {
              "direction": "INPUT",
              "hwMeta": {
               "level": 1,
               "name": "wait"
              },
              "id": "309",
              "properties": {
               "portIndex": 2,
               "portSide": "EAST"
              }
             },
             {
              "direction": "OUTPUT",
              "hwMeta": {
               "level": 1,
               "name": "data"
              },
              "id": "310",
              "properties": {
               "portIndex": 3,
               "portSide": "EAST"
              }
             },
             {
              "direction": "INPUT",
              "hwMeta": {
               "level": 0,
               "name": ""
              },
              "id": "311",
              "properties": {
               "portIndex": 4,
               "portSide": "WEST"
              }
             }
            ],
            "properties": {
             "org.eclipse.elk.layered.mergeEdges": 1,
             "org.eclipse.elk.portConstraints": "FIXED_ORDER",
             "org.eclipse.elk.randomSeed": 0
            }
           },
           {
            "hideChildren": true,
            "hwMeta": {
             "isExternalPort": true,
             "maxId": 499,
             "name": "dataOut_rst_n"
            },
            "id": "63",
            "ports": [
             {
              "direction": "OUTPUT",
              "hwMeta": {
               "level": 0,
               "name": "dataOut_rst_n"
              },
              "id": "312",
              "properties": {
               "portIndex": 0,
               "portSide": "EAST"
              }
             },
             {
              "direction": "INPUT",
              "hwMeta": {
               "level": 0,
               "name": ""
              },
              "id": "313",
              "properties": {
               "portIndex": 1,
               "portSide": "WEST"
              }
             }
            ],
            "properties": {
             "org.eclipse.elk.layered.mergeEdges": 1,
             "org.eclipse.elk.portConstraints": "FIXED_ORDER",
             "org.eclipse.elk.randomSeed": 0
            }
           },
           {
            "hideChildren": true,
            "hwMeta": {
             "isExternalPort": true,
             "maxId": 499,
             "name": "dataOut"
            },
            "id": "64",
            "ports": [
             {
              "direction": "OUTPUT",
              "hwMeta": {
               "level": 0,
               "name": ""
              },
              "id": "314",
              "properties": {
               "portIndex": 0,
               "portSide": "EAST"
              }
             },
             {
              "direction": "INPUT",
              "hwMeta": {
               "level": 1,
               "name": "data"
              },
              "id": "315",
              "properties": {
               "portIndex": 1,
               "portSide": "WEST"
              }
             },
             {
              "direction": "INPUT",
              "hwMeta": {
               "level": 1,
               "name": "wait"
              },
              "id": "316",
              "properties": {
               "portIndex": 2,
               "portSide": "WEST"
              }
             },
             {
              "direction": "OUTPUT",
              "hwMeta": {
               "level": 1,
               "name": "en"
              },
              "id": "317",
              "properties": {
               "portIndex": 3,
               "portSide": "WEST"
              }
             },
             {
              "direction": "INPUT",
              "hwMeta": {
               "level": 0,
               "name": "dataOut"
              },
              "id": "318",
              "properties": {
               "portIndex": 4,
               "portSide": "WEST"
              }
             }
            ],
            "properties": {
             "org.eclipse.elk.layered.mergeEdges": 1,
             "org.eclipse.elk.portConstraints": "FIXED_ORDER",
             "org.eclipse.elk.randomSeed": 0
            }
           },
           {
            "hideChildren": true,
            "hwMeta": {
             "maxId": 499,
             "name": "INDEX"
            },
            "id": "65",
            "ports": [
             {
              "direction": "OUTPUT",
              "hwMeta": {
               "level": 0,
               "name": null
              },
              "id": "319",
              "properties": {
               "portIndex": 0,
               "portSide": "EAST"
              }
             },
             {
              "direction": "INPUT",
              "hwMeta": {
               "level": 0,
               "name": "index"
              },
              "id": "320",
              "properties": {
               "portIndex": 1,
               "portSide": "WEST"
              }
             },
             {
              "direction": "INPUT",
              "hwMeta": {
               "level": 0,
               "name": "in"
              },
              "id": "321",
              "properties": {
               "portIndex": 2,
               "portSide": "WEST"
              }
             }
            ],
            "properties": {
             "org.eclipse.elk.layered.mergeEdges": 1,
             "org.eclipse.elk.portConstraints": "FIXED_ORDER",
             "org.eclipse.elk.randomSeed": 0
            }
           },
           {
            "hideChildren": true,
            "hwMeta": {
             "maxId": 499,
             "name": "EQ"
            },
            "id": "66",
            "ports": [
             {
              "direction": "OUTPUT",
              "hwMeta": {
               "level": 0,
               "name": null
              },
              "id": "322",
              "properties": {
               "portIndex": 0,
               "portSide": "EAST"
              }
             },
             {
              "direction": "INPUT",
              "hwMeta": {
               "level": 0,
               "name": null
              },
              "id": "323",
              "properties": {
               "portIndex": 1,
               "portSide": "WEST"
              }
             },
             {
              "direction": "INPUT",
              "hwMeta": {
               "level": 0,
               "name": null
              },
              "id": "324",
              "properties": {
               "portIndex": 2,
               "portSide": "WEST"
              }
             }
            ],
            "properties": {
             "org.eclipse.elk.layered.mergeEdges": 1,
             "org.eclipse.elk.portConstraints": "FIXED_ORDER",
             "org.eclipse.elk.randomSeed": 0
            }
           },
           {
            "hideChildren": true,
            "hwMeta": {
             "maxId": 499,
             "name": "XOR"
            },
            "id": "67",
            "ports": [
             {
              "direction": "OUTPUT",
              "hwMeta": {
               "level": 0,
               "name": null
              },
              "id": "325",
              "properties": {
               "portIndex": 0,
               "portSide": "EAST"
              }
             },
             {
              "direction": "INPUT",
              "hwMeta": {
               "level": 0,
               "name": null
              },
              "id": "326",
              "properties": {
               "portIndex": 1,
               "portSide": "WEST"
              }
             },
             {
              "direction": "INPUT",
              "hwMeta": {
               "level": 0,
               "name": null
              },
              "id": "327",
              "properties": {
               "portIndex": 2,
               "portSide": "WEST"
              }
             }
            ],
            "properties": {
             "org.eclipse.elk.layered.mergeEdges": 1,
             "org.eclipse.elk.portConstraints": "FIXED_ORDER",
             "org.eclipse.elk.randomSeed": 0
            }
           },
           {
            "hideChildren": true,
            "hwMeta": {
             "maxId": 499,
             "name": "CONCAT"
            },
            "id": "68",
            "ports": [
             {
              "direction": "OUTPUT",
              "hwMeta": {
               "level": 0,
               "name": null
              },
              "id": "328",
              "properties": {
               "portIndex": 0,
               "portSide": "EAST"
              }
             },
             {
              "direction": "INPUT",
              "hwMeta": {
               "level": 0,
               "name": null
              },
              "id": "329",
              "properties": {
               "portIndex": 1,
               "portSide": "WEST"
              }
             },
             {
              "direction": "INPUT",
              "hwMeta": {
               "level": 0,
               "name": null
              },
              "id": "330",
              "properties": {
               "portIndex": 2,
               "portSide": "WEST"
              }
             }
            ],
            "properties": {
             "org.eclipse.elk.layered.mergeEdges": 1,
             "org.eclipse.elk.portConstraints": "FIXED_ORDER",
             "org.eclipse.elk.randomSeed": 0
            }
           },
           {
            "hideChildren": true,
            "hwMeta": {
             "bodyText": "0",
             "maxId": 499,
             "name": null
            },
            "id": "69",
            "ports": [
             {
              "direction": "OUTPUT",
              "hwMeta": {
               "level": 0,
               "name": null
              },
              "id": "331",
              "properties": {
               "portSide": "EAST"
              }
             }
            ],
            "properties": {
             "org.eclipse.elk.layered.mergeEdges": 1,
             "org.eclipse.elk.portConstraints": "FREE",
             "org.eclipse.elk.randomSeed": 0
            }
           },
           {
            "hideChildren": true,
            "hwMeta": {
             "maxId": 499,
             "name": "INDEX"
            },
            "id": "70",
            "ports": [
             {
              "direction": "OUTPUT",
              "hwMeta": {
               "level": 0,
               "name": null
              },
              "id": "332",
              "properties": {
               "portIndex": 0,
               "portSide": "EAST"
              }
             },
             {
              "direction": "INPUT",
              "hwMeta": {
               "level": 0,
               "name": "index"
              },
              "id": "333",
              "properties": {
               "portIndex": 1,
               "portSide": "WEST"
              }
             },
             {
              "direction": "INPUT",
              "hwMeta": {
               "level": 0,
               "name": "in"
              },
              "id": "334",
              "properties": {
               "portIndex": 2,
               "portSide": "WEST"
              }
             }
            ],
            "properties": {
             "org.eclipse.elk.layered.mergeEdges": 1,
             "org.eclipse.elk.portConstraints": "FIXED_ORDER",
             "org.eclipse.elk.randomSeed": 0
            }
           },
           {
            "hideChildren": true,
            "hwMeta": {
             "bodyText": "3:0",
             "maxId": 499,
             "name": null
            },
            "id": "71",
            "ports": [
             {
              "direction": "OUTPUT",
              "hwMeta": {
               "level": 0,
               "name": null
              },
              "id": "335",
              "properties": {
               "portSide": "EAST"
              }
             }
            ],
            "properties": {
             "org.eclipse.elk.layered.mergeEdges": 1,
             "org.eclipse.elk.portConstraints": "FREE",
             "org.eclipse.elk.randomSeed": 0
            }
           },
           {
            "hideChildren": true,
            "hwMeta": {
             "maxId": 499,
             "name": "INDEX"
            },
            "id": "72",
            "ports": [
             {
              "direction": "OUTPUT",
              "hwMeta": {
               "level": 0,
               "name": null
              },
              "id": "336",
              "properties": {
               "portIndex": 0,
               "portSide": "EAST"
              }
             },
             {
              "direction": "INPUT",
              "hwMeta": {
               "level": 0,
               "name": "index"
              },
              "id": "337",
              "properties": {
               "portIndex": 1,
               "portSide": "WEST"
              }
             },
             {
              "direction": "INPUT",
              "hwMeta": {
               "level": 0,
               "name": "in"
              },
              "id": "338",
              "properties": {
               "portIndex": 2,
               "portSide": "WEST"
              }
             }
            ],
            "properties": {
             "org.eclipse.elk.layered.mergeEdges": 1,
             "org.eclipse.elk.portConstraints": "FIXED_ORDER",
             "org.eclipse.elk.randomSeed": 0
            }
           },
           {
            "hideChildren": true,
            "hwMeta": {
             "bodyText": "4:1",
             "maxId": 499,
             "name": null
            },
            "id": "73",
            "ports": [
             {
              "direction": "OUTPUT",
              "hwMeta": {
               "level": 0,
               "name": null
              },
              "id": "339",
              "properties": {
               "portSide": "EAST"
              }
             }
            ],
            "properties": {
             "org.eclipse.elk.layered.mergeEdges": 1,
             "org.eclipse.elk.portConstraints": "FREE",
             "org.eclipse.elk.randomSeed": 0
            }
           },
           {
            "hideChildren": true,
            "hwMeta": {
             "maxId": 499,
             "name": "XOR"
            },
            "id": "74",
            "ports": [
             {
              "direction": "OUTPUT",
              "hwMeta": {
               "level": 0,
               "name": null
              },
              "id": "340",
              "properties": {
               "portIndex": 0,
               "portSide": "EAST"
              }
             },
             {
              "direction": "INPUT",
              "hwMeta": {
               "level": 0,
               "name": null
              },
              "id": "341",
              "properties": {
               "portIndex": 1,
               "portSide": "WEST"
              }
             },
             {
              "direction": "INPUT",
              "hwMeta": {
               "level": 0,
               "name": null
              },
              "id": "342",
              "properties": {
               "portIndex": 2,
               "portSide": "WEST"
              }
             }
            ],
            "properties": {
             "org.eclipse.elk.layered.mergeEdges": 1,
             "org.eclipse.elk.portConstraints": "FIXED_ORDER",
             "org.eclipse.elk.randomSeed": 0
            }
           },
           {
            "hideChildren": true,
            "hwMeta": {
             "maxId": 499,
             "name": "CONCAT"
            },
            "id": "75",
            "ports": [
             {
              "direction": "OUTPUT",
              "hwMeta": {
               "level": 0,
               "name": null
              },
              "id": "343",
              "properties": {
               "portIndex": 0,
               "portSide": "EAST"
              }
             },
             {
              "direction": "INPUT",
              "hwMeta": {
               "level": 0,
               "name": null
              },
              "id": "344",
              "properties": {
               "portIndex": 1,
               "portSide": "WEST"
              }
             },
             {
              "direction": "INPUT",
              "hwMeta": {
               "level": 0,
               "name": null
              },
              "id": "345",
              "properties": {
               "portIndex": 2,
               "portSide": "WEST"
              }
             }
            ],
            "properties": {
             "org.eclipse.elk.layered.mergeEdges": 1,
             "org.eclipse.elk.portConstraints": "FIXED_ORDER",
             "org.eclipse.elk.randomSeed": 0
            }
           },
           {
            "hideChildren": true,
            "hwMeta": {
             "maxId": 499,
             "name": "INDEX"
            },
            "id": "76",
            "ports": [
             {
              "direction": "OUTPUT",
              "hwMeta": {
               "level": 0,
               "name": null
              },
              "id": "346",
              "properties": {
               "portIndex": 0,
               "portSide": "EAST"
              }
             },
             {
              "direction": "INPUT",
              "hwMeta": {
               "level": 0,
               "name": "index"
              },
              "id": "347",
              "properties": {
               "portIndex": 1,
               "portSide": "WEST"
              }
             },
             {
              "direction": "INPUT",
              "hwMeta": {
               "level": 0,
               "name": "in"
              },
              "id": "348",
              "properties": {
               "portIndex": 2,
               "portSide": "WEST"
              }
             }
            ],
            "properties": {
             "org.eclipse.elk.layered.mergeEdges": 1,
             "org.eclipse.elk.portConstraints": "FIXED_ORDER",
             "org.eclipse.elk.randomSeed": 0
            }
           },
           {
            "hideChildren": true,
            "hwMeta": {
             "maxId": 499,
             "name": "EQ"
            },
            "id": "77",
            "ports": [
             {
              "direction": "OUTPUT",
              "hwMeta": {
               "level": 0,
               "name": null
              },
              "id": "349",
              "properties": {
               "portIndex": 0,
               "portSide": "EAST"
              }
             },
             {
              "direction": "INPUT",
              "hwMeta": {
               "level": 0,
               "name": null
              },
              "id": "350",
              "properties": {
               "portIndex": 1,
               "portSide": "WEST"
              }
             },
             {
              "direction": "INPUT",
              "hwMeta": {
               "level": 0,
               "name": null
              },
              "id": "351",
              "properties": {
               "portIndex": 2,
               "portSide": "WEST"
              }
             }
            ],
            "properties": {
             "org.eclipse.elk.layered.mergeEdges": 1,
             "org.eclipse.elk.portConstraints": "FIXED_ORDER",
             "org.eclipse.elk.randomSeed": 0
            }
           },
           {
            "hideChildren": true,
            "hwMeta": {
             "maxId": 499,
             "name": "CONCAT"
            },
            "id": "78",
            "ports": [
             {
              "direction": "OUTPUT",
              "hwMeta": {
               "level": 0,
               "name": null
              },
              "id": "352",
              "properties": {
               "portIndex": 0,
               "portSide": "EAST"
              }
             },
             {
              "direction": "INPUT",
              "hwMeta": {
               "level": 0,
               "name": null
              },
              "id": "353",
              "properties": {
               "portIndex": 1,
               "portSide": "WEST"
              }
             },
             {
              "direction": "INPUT",
              "hwMeta": {
               "level": 0,
               "name": null
              },
              "id": "354",
              "properties": {
               "portIndex": 2,
               "portSide": "WEST"
              }
             }
            ],
            "properties": {
             "org.eclipse.elk.layered.mergeEdges": 1,
             "org.eclipse.elk.portConstraints": "FIXED_ORDER",
             "org.eclipse.elk.randomSeed": 0
            }
           },
           {
            "hideChildren": true,
            "hwMeta": {
             "maxId": 499,
             "name": "NOT"
            },
            "id": "79",
            "ports": [
             {
              "direction": "OUTPUT",
              "hwMeta": {
               "level": 0,
               "name": null
              },
              "id": "355",
              "properties": {
               "portIndex": 0,
               "portSide": "EAST"
              }
             },
             {
              "direction": "INPUT",
              "hwMeta": {
               "level": 0,
               "name": null
              },
              "id": "356",
              "properties": {
               "portIndex": 1,
               "portSide": "WEST"
              }
             }
            ],
            "properties": {
             "org.eclipse.elk.layered.mergeEdges": 1,
             "org.eclipse.elk.portConstraints": "FIXED_ORDER",
             "org.eclipse.elk.randomSeed": 0
            }
           },
           {
            "hideChildren": true,
            "hwMeta": {
             "maxId": 499,
             "name": "INDEX"
            },
            "id": "80",
            "ports": [
             {
              "direction": "OUTPUT",
              "hwMeta": {
               "level": 0,
               "name": null
              },
              "id": "357",
              "properties": {
               "portIndex": 0,
               "portSide": "EAST"
              }
             },
             {
              "direction": "INPUT",
              "hwMeta": {
               "level": 0,
               "name": "index"
              },
              "id": "358",
              "properties": {
               "portIndex": 1,
               "portSide": "WEST"
              }
             },
             {
              "direction": "INPUT",
              "hwMeta": {
               "level": 0,
               "name": "in"
              },
              "id": "359",
              "properties": {
               "portIndex": 2,
               "portSide": "WEST"
              }
             }
            ],
            "properties": {
             "org.eclipse.elk.layered.mergeEdges": 1,
             "org.eclipse.elk.portConstraints": "FIXED_ORDER",
             "org.eclipse.elk.randomSeed": 0
            }
           },
           {
            "hideChildren": true,
            "hwMeta": {
             "maxId": 499,
             "name": "SLICE"
            },
            "id": "81",
            "ports": [
             {
              "direction": "OUTPUT",
              "hwMeta": {
               "level": 0,
               "name": "[1]"
              },
              "id": "360",
              "properties": {
               "portIndex": 0,
               "portSide": "EAST"
              }
             },
             {
              "direction": "OUTPUT",
              "hwMeta": {
               "level": 0,
               "name": "[0]"
              },
              "id": "361",
              "properties": {
               "portIndex": 1,
               "portSide": "EAST"
              }
             },
             {
              "direction": "INPUT",
              "hwMeta": {
               "level": 0,
               "name": ""
              },
              "id": "362",
              "properties": {
               "portIndex": 2,
               "portSide": "WEST"
              }
             }
            ],
            "properties": {
             "org.eclipse.elk.layered.mergeEdges": 1,
             "org.eclipse.elk.portConstraints": "FIXED_ORDER",
             "org.eclipse.elk.randomSeed": 0
            }
           }
          ],
          "edges": [
           {
            "hwMeta": {
             "name": "w_gray"
            },
            "id": "500",
            "source": "2",
            "sourcePort": "115",
            "target": "17",
            "targetPort": "177"
           },
           {
            "hwMeta": {
             "name": "w_full"
            },
            "id": "501",
            "sources": [
             [
              "2",
              "116"
             ]
            ],
            "targets": [
             [
              "36",
              "236"
             ],
             [
              "51",
              "281"
             ],
             [
              "62",
              "309"
             ]
            ]
           },
           {
            "hwMeta": {
             "name": "w_bin"
            },
            "id": "502",
            "sources": [
             [
              "2",
              "117"
             ]
            ],
            "targets": [
             [
              "76",
              "348"
             ],
             [
              "51",
              "283"
             ]
            ]
           },
           {
            "hwMeta": {
             "name": "r_gray_out_reg1[2:0]"
            },
            "id": "503",
            "source": "2",
            "sourcePort": "118",
            "target": "81",
            "targetPort": "362"
           },
           {
            "hwMeta": {
             "name": "r_gray_out_reg1_next"
            },
            "id": "504",
            "source": "2",
            "sourcePort": "119",
            "target": "2",
            "targetPort": "121"
           },
           {
            "hwMeta": {
             "name": "r_gray_out_reg0_next"
            },
            "id": "505",
            "source": "17",
            "sourcePort": "171",
            "target": "2",
            "targetPort": "120"
           },
           {
            "hwMeta": {
             "name": "w_bin_next"
            },
            "id": "506",
            "sources": [
             [
              "51",
              "280"
             ]
            ],
            "targets": [
             [
              "2",
              "122"
             ],
             [
              "74",
              "341"
             ],
             [
              "80",
              "359"
             ]
            ]
           },
           {
            "hwMeta": {
             "name": "w_full_next"
            },
            "id": "507",
            "source": "77",
            "sourcePort": "349",
            "target": "2",
            "targetPort": "123"
           },
           {
            "hwMeta": {
             "name": "dataIn_clk"
            },
            "id": "508",
            "sources": [
             [
              "59",
              "301"
             ]
            ],
            "targets": [
             [
              "2",
              "124"
             ],
             [
              "36",
              "235"
             ]
            ]
           },
           {
            "hwMeta": {
             "name": "w_gray_next"
            },
            "id": "509",
            "sources": [
             [
              "74",
              "340"
             ]
            ],
            "targets": [
             [
              "2",
              "125"
             ],
             [
              "77",
              "351"
             ]
            ]
           },
           {
            "hwMeta": {
             "name": "dataIn_rst_n"
            },
            "id": "510",
            "source": "61",
            "sourcePort": "305",
            "target": "2",
            "targetPort": "126"
           },
           {
            "hwMeta": {
             "name": "w_gray_out_reg1"
            },
            "id": "511",
            "source": "17",
            "sourcePort": "169",
            "target": "66",
            "targetPort": "323"
           },
           {
            "hwMeta": {
             "name": "w_gray_out_reg1_next"
            },
            "id": "512",
            "source": "17",
            "sourcePort": "170",
            "target": "17",
            "targetPort": "179"
           },
           {
            "hwMeta": {
             "name": "r_empty"
            },
            "id": "513",
            "sources": [
             [
              "17",
              "172"
             ]
            ],
            "targets": [
             [
              "42",
              "257"
             ],
             [
              "64",
              "316"
             ]
            ]
           },
           {
            "hwMeta": {
             "name": "r_bin"
            },
            "id": "514",
            "sources": [
             [
              "17",
              "173"
             ]
            ],
            "targets": [
             [
              "70",
              "334"
             ],
             [
              "42",
              "254"
             ]
            ]
           },
           {
            "hwMeta": {
             "name": "r_bin_next"
            },
            "id": "515",
            "sources": [
             [
              "42",
              "253"
             ]
            ],
            "targets": [
             [
              "67",
              "326"
             ],
             [
              "17",
              "174"
             ],
             [
              "72",
              "338"
             ]
            ]
           },
           {
            "hwMeta": {
             "name": "r_gray_next._eq(w_gray_out_reg1)"
            },
            "id": "516",
            "source": "66",
            "sourcePort": "322",
            "target": "17",
            "targetPort": "175"
           },
           {
            "hwMeta": {
             "name": "r_gray_next"
            },
            "id": "517",
            "sources": [
             [
              "67",
              "325"
             ]
            ],
            "targets": [
             [
              "66",
              "324"
             ],
             [
              "17",
              "176"
             ]
            ]
           },
           {
            "hwMeta": {
             "name": "dataOut_clk"
            },
            "id": "518",
            "sources": [
             [
              "60",
              "303"
             ]
            ],
            "targets": [
             [
              "17",
              "178"
             ],
             [
              "33",
              "226"
             ]
            ]
           },
           {
            "hwMeta": {
             "name": "dataOut_rst_n"
            },
            "id": "519",
            "source": "63",
            "sourcePort": "312",
            "target": "17",
            "targetPort": "180"
           },
           {
            "hwMeta": {
             "name": "r_reg"
            },
            "id": "520",
            "sources": [
             [
              "33",
              "224"
             ]
            ],
            "targets": [
             [
              "42",
              "255"
             ],
             [
              "64",
              "315"
             ]
            ]
           },
           {
            "hwMeta": {
             "name": "r_reg_next"
            },
            "id": "521",
            "source": "42",
            "sourcePort": "252",
            "target": "33",
            "targetPort": "225"
           },
           {
            "hwMeta": {
             "name": "memory"
            },
            "id": "522",
            "source": "36",
            "sourcePort": "232",
            "target": "65",
            "targetPort": "321"
           },
           {
            "hwMeta": {
             "name": "dataIn_data"
            },
            "id": "523",
            "source": "62",
            "sourcePort": "310",
            "target": "36",
            "targetPort": "233"
           },
           {
            "hwMeta": {
             "name": "sig_4"
            },
            "id": "524",
            "source": "76",
            "sourcePort": "346",
            "target": "36",
            "targetPort": "234"
           },
           {
            "hwMeta": {
             "name": "dataIn_en"
            },
            "id": "525",
            "sources": [
             [
              "62",
              "308"
             ]
            ],
            "targets": [
             [
              "36",
              "237"
             ],
             [
              "51",
              "282"
             ]
            ]
           },
           {
            "hwMeta": {
             "name": "memory[sig_5]"
            },
            "id": "526",
            "source": "65",
            "sourcePort": "319",
            "target": "42",
            "targetPort": "256"
           },
           {
            "hwMeta": {
             "name": "dataOut_en"
            },
            "id": "527",
            "source": "64",
            "sourcePort": "317",
            "target": "42",
            "targetPort": "258"
           },
           {
            "hwMeta": {
             "name": "<Clk, name=dataIn_clk, _masterDir=DIRECTION.OUT>"
            },
            "id": "528",
            "source": "1",
            "sourcePort": "114",
            "target": "59",
            "targetPort": "302"
           },
           {
            "hwMeta": {
             "name": "<Clk, name=dataOut_clk, _masterDir=DIRECTION.OUT>"
            },
            "id": "529",
            "source": "1",
            "sourcePort": "113",
            "target": "60",
            "targetPort": "304"
           },
           {
            "hwMeta": {
             "name": "<Rst_n, name=dataIn_rst_n, _masterDir=DIRECTION.OUT>"
            },
            "id": "530",
            "source": "1",
            "sourcePort": "112",
            "target": "61",
            "targetPort": "306"
           },
           {
            "hwMeta": {
             "name": "<FifoWriter, name=dataIn, _masterDir=DIRECTION.OUT>"
            },
            "id": "531",
            "source": "1",
            "sourcePort": "111",
            "target": "62",
            "targetPort": "311"
           },
           {
            "hwMeta": {
             "name": "<Rst_n, name=dataOut_rst_n, _masterDir=DIRECTION.OUT>"
            },
            "id": "532",
            "source": "1",
            "sourcePort": "108",
            "target": "63",
            "targetPort": "313"
           },
           {
            "hwMeta": {
             "name": "<FifoReader, name=dataOut, _masterDir=DIRECTION.OUT>"
            },
            "id": "533",
            "source": "64",
            "sourcePort": "314",
            "target": "1",
            "targetPort": "105"
           },
           {
            "hwMeta": {
             "name": "sig_5"
            },
            "id": "534",
            "source": "70",
            "sourcePort": "332",
            "target": "65",
            "targetPort": "320"
           },
           {
            "hwMeta": {
             "name": "Concat(Bits(1, force_vector=True).from_py(0), sig_0)"
            },
            "id": "535",
            "source": "68",
            "sourcePort": "328",
            "target": "67",
            "targetPort": "327"
           },
           {
            "hwMeta": {
             "name": "sig_0"
            },
            "id": "536",
            "source": "72",
            "sourcePort": "336",
            "target": "68",
            "targetPort": "329"
           },
           {
            "hwMeta": {
             "name": "<BitsVal 0>"
            },
            "id": "537",
            "sources": [
             [
              "69",
              "331"
             ]
            ],
            "targets": [
             [
              "68",
              "330"
             ],
             [
              "75",
              "345"
             ]
            ]
           },
           {
            "hwMeta": {
             "name": "<SliceVal slice(<BitsVal 3>, <BitsVal 0>, <BitsVal -1>)>"
            },
            "id": "538",
            "sources": [
             [
              "71",
              "335"
             ]
            ],
            "targets": [
             [
              "70",
              "333"
             ],
             [
              "76",
              "347"
             ]
            ]
           },
           {
            "hwMeta": {
             "name": "<SliceVal slice(<BitsVal 4>, <BitsVal 1>, <BitsVal -1>)>"
            },
            "id": "539",
            "sources": [
             [
              "73",
              "339"
             ]
            ],
            "targets": [
             [
              "72",
              "337"
             ],
             [
              "80",
              "358"
             ]
            ]
           },
           {
            "hwMeta": {
             "name": "Concat(Bits(1, force_vector=True).from_py(0), sig_1)"
            },
            "id": "540",
            "source": "75",
            "sourcePort": "343",
            "target": "74",
            "targetPort": "342"
           },
           {
            "hwMeta": {
             "name": "sig_1"
            },
            "id": "541",
            "source": "80",
            "sourcePort": "357",
            "target": "75",
            "targetPort": "344"
           },
           {
            "hwMeta": {
             "name": "Concat(~sig_2, sig_3)"
            },
            "id": "542",
            "source": "78",
            "sourcePort": "352",
            "target": "77",
            "targetPort": "350"
           },
           {
            "hwMeta": {
             "name": "r_gray_out_reg1[2:0]"
            },
            "id": "543",
            "source": "81",
            "sourcePort": "361",
            "target": "78",
            "targetPort": "353"
           },
           {
            "hwMeta": {
             "name": "~sig_2"
            },
            "id": "544",
            "source": "79",
            "sourcePort": "355",
            "target": "78",
            "targetPort": "354"
           },
           {
            "hwMeta": {
             "name": "r_gray_out_reg1[4:2]"
            },
            "id": "545",
            "source": "81",
            "sourcePort": "360",
            "target": "79",
            "targetPort": "356"
           }
          ],
          "hideChildren": true,
          "hwMeta": {
           "maxId": 545,
           "name": "fifo"
          },
          "id": "1",
          "ports": [
           {
            "direction": "OUTPUT",
            "hwMeta": {
             "level": 0,
             "name": "dataOut"
            },
            "id": "105",
            "properties": {
             "portIndex": 0,
             "portSide": "EAST"
            }
           },
           {
            "direction": "INPUT",
            "hwMeta": {
             "level": 1,
             "name": "en"
            },
            "id": "106",
            "properties": {
             "portIndex": 1,
             "portSide": "EAST"
            }
           },
           {
            "direction": "OUTPUT",
            "hwMeta": {
             "level": 1,
             "name": "wait"
            },
            "id": "107",
            "properties": {
             "portIndex": 2,
             "portSide": "EAST"
            }
           },
           {
            "direction": "INPUT",
            "hwMeta": {
             "level": 0,
             "name": "dataOut_rst_n"
            },
            "id": "108",
            "properties": {
             "portIndex": 3,
             "portSide": "WEST"
            }
           },
           {
            "direction": "OUTPUT",
            "hwMeta": {
             "level": 1,
             "name": "wait"
            },
            "id": "109",
            "properties": {
             "portIndex": 4,
             "portSide": "WEST"
            }
           },
           {
            "direction": "INPUT",
            "hwMeta": {
             "level": 1,
             "name": "en"
            },
            "id": "110",
            "properties": {
             "portIndex": 5,
             "portSide": "WEST"
            }
           },
           {
            "direction": "INPUT",
            "hwMeta": {
             "level": 0,
             "name": "dataIn"
            },
            "id": "111",
            "properties": {
             "portIndex": 6,
             "portSide": "WEST"
            }
           },
           {
            "direction": "INPUT",
            "hwMeta": {
             "level": 0,
             "name": "dataIn_rst_n"
            },
            "id": "112",
            "properties": {
             "portIndex": 7,
             "portSide": "WEST"
            }
           },
           {
            "direction": "INPUT",
            "hwMeta": {
             "level": 0,
             "name": "dataOut_clk"
            },
            "id": "113",
            "properties": {
             "portIndex": 8,
             "portSide": "WEST"
            }
           },
           {
            "direction": "INPUT",
            "hwMeta": {
             "level": 0,
             "name": "dataIn_clk"
            },
            "id": "114",
            "properties": {
             "portIndex": 9,
             "portSide": "WEST"
            }
           }
          ],
          "properties": {
           "org.eclipse.elk.layered.mergeEdges": 1,
           "org.eclipse.elk.portConstraints": "FIXED_ORDER",
           "org.eclipse.elk.randomSeed": 0
          }
         },
         {
          "hideChildren": true,
          "hwMeta": {
           "maxId": 560,
           "name": "AND"
          },
          "id": "100",
          "ports": [
           {
            "direction": "OUTPUT",
            "hwMeta": {
             "level": 0,
             "name": null
            },
            "id": "407",
            "properties": {
             "portIndex": 0,
             "portSide": "EAST"
            }
           },
           {
            "direction": "INPUT",
            "hwMeta": {
             "level": 0,
             "name": null
            },
            "id": "408",
            "properties": {
             "portIndex": 1,
             "portSide": "WEST"
            }
           },
           {
            "direction": "INPUT",
            "hwMeta": {
             "level": 0,
             "name": null
            },
            "id": "409",
            "properties": {
             "portIndex": 2,
             "portSide": "WEST"
            }
           }
          ],
          "properties": {
           "org.eclipse.elk.layered.mergeEdges": 1,
           "org.eclipse.elk.portConstraints": "FIXED_ORDER",
           "org.eclipse.elk.randomSeed": 0
          }
         },
         {
          "hideChildren": true,
          "hwMeta": {
           "maxId": 560,
           "name": "AND"
          },
          "id": "101",
          "ports": [
           {
            "direction": "OUTPUT",
            "hwMeta": {
             "level": 0,
             "name": null
            },
            "id": "410",
            "properties": {
             "portIndex": 0,
             "portSide": "EAST"
            }
           },
           {
            "direction": "INPUT",
            "hwMeta": {
             "level": 0,
             "name": null
            },
            "id": "411",
            "properties": {
             "portIndex": 1,
             "portSide": "WEST"
            }
           },
           {
            "direction": "INPUT",
            "hwMeta": {
             "level": 0,
             "name": null
            },
            "id": "412",
            "properties": {
             "portIndex": 2,
             "portSide": "WEST"
            }
           }
          ],
          "properties": {
           "org.eclipse.elk.layered.mergeEdges": 1,
           "org.eclipse.elk.portConstraints": "FIXED_ORDER",
           "org.eclipse.elk.randomSeed": 0
          }
         },
         {
          "hideChildren": true,
          "hwMeta": {
           "maxId": 560,
           "name": "OR"
          },
          "id": "102",
          "ports": [
           {
            "direction": "OUTPUT",
            "hwMeta": {
             "level": 0,
             "name": null
            },
            "id": "413",
            "properties": {
             "portIndex": 0,
             "portSide": "EAST"
            }
           },
           {
            "direction": "INPUT",
            "hwMeta": {
             "level": 0,
             "name": null
            },
            "id": "414",
            "properties": {
             "portIndex": 1,
             "portSide": "WEST"
            }
           },
           {
            "direction": "INPUT",
            "hwMeta": {
             "level": 0,
             "name": null
            },
            "id": "415",
            "properties": {
             "portIndex": 2,
             "portSide": "WEST"
            }
           }
          ],
          "properties": {
           "org.eclipse.elk.layered.mergeEdges": 1,
           "org.eclipse.elk.portConstraints": "FIXED_ORDER",
           "org.eclipse.elk.randomSeed": 0
          }
         },
         {
          "hideChildren": true,
          "hwMeta": {
           "maxId": 560,
           "name": "NOT"
          },
          "id": "103",
          "ports": [
           {
            "direction": "OUTPUT",
            "hwMeta": {
             "level": 0,
             "name": null
            },
            "id": "416",
            "properties": {
             "portIndex": 0,
             "portSide": "EAST"
            }
           },
           {
            "direction": "INPUT",
            "hwMeta": {
             "level": 0,
             "name": null
            },
            "id": "417",
            "properties": {
             "portIndex": 1,
             "portSide": "WEST"
            }
           }
          ],
          "properties": {
           "org.eclipse.elk.layered.mergeEdges": 1,
           "org.eclipse.elk.portConstraints": "FIXED_ORDER",
           "org.eclipse.elk.randomSeed": 0
          }
         },
         {
          "hideChildren": true,
          "hwMeta": {
           "maxId": 560,
           "name": "NOT"
          },
          "id": "104",
          "ports": [
           {
            "direction": "OUTPUT",
            "hwMeta": {
             "level": 0,
             "name": null
            },
            "id": "418",
            "properties": {
             "portIndex": 0,
             "portSide": "EAST"
            }
           },
           {
            "direction": "INPUT",
            "hwMeta": {
             "level": 0,
             "name": null
            },
            "id": "419",
            "properties": {
             "portIndex": 1,
             "portSide": "WEST"
            }
           }
          ],
          "properties": {
           "org.eclipse.elk.layered.mergeEdges": 1,
           "org.eclipse.elk.portConstraints": "FIXED_ORDER",
           "org.eclipse.elk.randomSeed": 0
          }
         },
         {
          "children": [
           {
            "hideChildren": true,
            "hwMeta": {
             "maxId": 545,
             "name": "MUX"
            },
            "id": "83",
            "ports": [
             {
              "direction": "OUTPUT",
              "hwMeta": {
               "level": 0,
               "name": ""
              },
              "id": "367",
              "properties": {
               "portIndex": 0,
               "portSide": "EAST"
              }
             },
             {
              "direction": "INPUT",
              "hwMeta": {
               "level": 0,
               "name": ""
              },
              "id": "368",
              "properties": {
               "portIndex": 1,
               "portSide": "SOUTH"
              }
             },
             {
              "direction": "INPUT",
              "hwMeta": {
               "level": 0,
               "name": ""
              },
              "id": "369",
              "properties": {
               "portIndex": 2,
               "portSide": "WEST"
              }
             },
             {
              "direction": "INPUT",
              "hwMeta": {
               "level": 0,
               "name": ""
              },
              "id": "370",
              "properties": {
               "portIndex": 3,
               "portSide": "WEST"
              }
             }
            ],
            "properties": {
             "org.eclipse.elk.layered.mergeEdges": 1,
             "org.eclipse.elk.portConstraints": "FIXED_ORDER",
             "org.eclipse.elk.randomSeed": 0
            }
           },
           {
            "hideChildren": true,
            "hwMeta": {
             "maxId": 545,
             "name": "EQ"
            },
            "id": "84",
            "ports": [
             {
              "direction": "OUTPUT",
              "hwMeta": {
               "level": 0,
               "name": null
              },
              "id": "371",
              "properties": {
               "portIndex": 0,
               "portSide": "EAST"
              }
             },
             {
              "direction": "INPUT",
              "hwMeta": {
               "level": 0,
               "name": null
              },
              "id": "372",
              "properties": {
               "portIndex": 1,
               "portSide": "WEST"
              }
             },
             {
              "direction": "INPUT",
              "hwMeta": {
               "level": 0,
               "name": null
              },
              "id": "373",
              "properties": {
               "portIndex": 2,
               "portSide": "WEST"
              }
             }
            ],
            "properties": {
             "org.eclipse.elk.layered.mergeEdges": 1,
             "org.eclipse.elk.portConstraints": "FIXED_ORDER",
             "org.eclipse.elk.randomSeed": 0
            }
           },
           {
            "hideChildren": true,
            "hwMeta": {
             "bodyText": "0",
             "maxId": 545,
             "name": null
            },
            "id": "85",
            "ports": [
             {
              "direction": "OUTPUT",
              "hwMeta": {
               "level": 0,
               "name": null
              },
              "id": "374",
              "properties": {
               "portSide": "EAST"
              }
             }
            ],
            "properties": {
             "org.eclipse.elk.layered.mergeEdges": 1,
             "org.eclipse.elk.portConstraints": "FREE",
             "org.eclipse.elk.randomSeed": 0
            }
           },
           {
            "hideChildren": true,
            "hwMeta": {
             "maxId": 545,
             "name": "FF"
            },
            "id": "86",
            "ports": [
             {
              "direction": "OUTPUT",
              "hwMeta": {
               "level": 0,
               "name": "o"
              },
              "id": "375",
              "properties": {
               "portIndex": 0,
               "portSide": "EAST"
              }
             },
             {
              "direction": "INPUT",
              "hwMeta": {
               "level": 0,
               "name": "i"
              },
              "id": "376",
              "properties": {
               "portIndex": 1,
               "portSide": "WEST"
              }
             },
             {
              "direction": "INPUT",
              "hwMeta": {
               "level": 0,
               "name": "clk"
              },
              "id": "377",
              "properties": {
               "portIndex": 2,
               "portSide": "WEST"
              }
             }
            ],
            "properties": {
             "org.eclipse.elk.layered.mergeEdges": 1,
             "org.eclipse.elk.portConstraints": "FIXED_ORDER",
             "org.eclipse.elk.randomSeed": 0
            }
           },
           {
            "hideChildren": true,
            "hwMeta": {
             "maxId": 545,
             "name": "RISING_EDGE"
            },
            "id": "87",
            "ports": [
             {
              "direction": "OUTPUT",
              "hwMeta": {
               "level": 0,
               "name": null
              },
              "id": "378",
              "properties": {
               "portIndex": 0,
               "portSide": "EAST"
              }
             },
             {
              "direction": "INPUT",
              "hwMeta": {
               "level": 0,
               "name": null
              },
              "id": "379",
              "properties": {
               "portIndex": 1,
               "portSide": "WEST"
              }
             }
            ],
            "properties": {
             "org.eclipse.elk.layered.mergeEdges": 1,
             "org.eclipse.elk.portConstraints": "FIXED_ORDER",
             "org.eclipse.elk.randomSeed": 0
            }
           }
          ],
          "edges": [
           {
            "hwMeta": {
             "name": null
            },
            "id": "546",
            "source": "83",
            "sourcePort": "367",
            "target": "86",
            "targetPort": "376"
           },
           {
            "hwMeta": {
             "name": "dataOut_rst_n._eq(0)"
            },
            "id": "547",
            "source": "84",
            "sourcePort": "371",
            "target": "83",
            "targetPort": "368"
           },
           {
            "hwMeta": {
             "name": "out_vld_next"
            },
            "id": "548",
            "source": "82",
            "sourcePort": "365",
            "target": "83",
            "targetPort": "369"
           },
           {
            "hwMeta": {
             "name": "<BitsVal 0>"
            },
            "id": "549",
            "sources": [
             [
              "85",
              "374"
             ]
            ],
            "targets": [
             [
              "84",
              "372"
             ],
             [
              "83",
              "370"
             ]
            ]
           },
           {
            "hwMeta": {
             "name": "dataOut_rst_n"
            },
            "id": "550",
            "source": "82",
            "sourcePort": "366",
            "target": "84",
            "targetPort": "373"
           },
           {
            "hwMeta": {
             "name": "out_vld"
            },
            "id": "551",
            "source": "86",
            "sourcePort": "375",
            "target": "82",
            "targetPort": "363"
           },
           {
            "hwMeta": {
             "name": "dataOut_clk._onRisingEdge()"
            },
            "id": "552",
            "source": "87",
            "sourcePort": "378",
            "target": "86",
            "targetPort": "377"
           },
           {
            "hwMeta": {
             "name": "dataOut_clk"
            },
            "id": "553",
            "source": "82",
            "sourcePort": "364",
            "target": "87",
            "targetPort": "379"
           }
          ],
          "hideChildren": true,
          "hwMeta": {
           "bodyText": "If(dataOut_clk._onRisingEdge(),\n    If(dataOut_rst_n._eq(0),\n        out_vld(0)\n    ).Else(\n        out_vld(out_vld_next)\n    )\n)",
           "maxId": 553,
           "name": null
          },
          "id": "82",
          "ports": [
           {
            "direction": "OUTPUT",
            "hwMeta": {
             "level": 0,
             "name": "out_vld"
            },
            "id": "363",
            "properties": {
             "portIndex": 0,
             "portSide": "EAST"
            }
           },
           {
            "direction": "INPUT",
            "hwMeta": {
             "level": 0,
             "name": "dataOut_clk"
            },
            "id": "364",
            "properties": {
             "portIndex": 1,
             "portSide": "WEST"
            }
           },
           {
            "direction": "INPUT",
            "hwMeta": {
             "level": 0,
             "name": "out_vld_next"
            },
            "id": "365",
            "properties": {
             "portIndex": 2,
             "portSide": "WEST"
            }
           },
           {
            "direction": "INPUT",
            "hwMeta": {
             "level": 0,
             "name": "dataOut_rst_n"
            },
            "id": "366",
            "properties": {
             "portIndex": 3,
             "portSide": "WEST"
            }
           }
          ],
          "properties": {
           "org.eclipse.elk.layered.mergeEdges": 1,
           "org.eclipse.elk.portConstraints": "FIXED_ORDER",
           "org.eclipse.elk.randomSeed": 0
          }
         },
         {
          "children": [
           {
            "hideChildren": true,
            "hwMeta": {
             "maxId": 553,
             "name": "NOT"
            },
            "id": "89",
            "ports": [
             {
              "direction": "OUTPUT",
              "hwMeta": {
               "level": 0,
               "name": null
              },
              "id": "384",
              "properties": {
               "portIndex": 0,
               "portSide": "EAST"
              }
             },
             {
              "direction": "INPUT",
              "hwMeta": {
               "level": 0,
               "name": null
              },
              "id": "385",
              "properties": {
               "portIndex": 1,
               "portSide": "WEST"
              }
             }
            ],
            "properties": {
             "org.eclipse.elk.layered.mergeEdges": 1,
             "org.eclipse.elk.portConstraints": "FIXED_ORDER",
             "org.eclipse.elk.randomSeed": 0
            }
           },
           {
            "hideChildren": true,
            "hwMeta": {
             "maxId": 553,
             "name": "MUX"
            },
            "id": "90",
            "ports": [
             {
              "direction": "OUTPUT",
              "hwMeta": {
               "level": 0,
               "name": ""
              },
              "id": "386",
              "properties": {
               "portIndex": 0,
               "portSide": "EAST"
              }
             },
             {
              "direction": "INPUT",
              "hwMeta": {
               "level": 0,
               "name": ""
              },
              "id": "387",
              "properties": {
               "portIndex": 1,
               "portSide": "SOUTH"
              }
             },
             {
              "direction": "INPUT",
              "hwMeta": {
               "level": 0,
               "name": ""
              },
              "id": "388",
              "properties": {
               "portIndex": 2,
               "portSide": "WEST"
              }
             },
             {
              "direction": "INPUT",
              "hwMeta": {
               "level": 0,
               "name": ""
              },
              "id": "389",
              "properties": {
               "portIndex": 3,
               "portSide": "WEST"
              }
             }
            ],
            "properties": {
             "org.eclipse.elk.layered.mergeEdges": 1,
             "org.eclipse.elk.portConstraints": "FIXED_ORDER",
             "org.eclipse.elk.randomSeed": 0
            }
           },
           {
            "hideChildren": true,
            "hwMeta": {
             "maxId": 553,
             "name": "OR"
            },
            "id": "91",
            "ports": [
             {
              "direction": "OUTPUT",
              "hwMeta": {
               "level": 0,
               "name": null
              },
              "id": "390",
              "properties": {
               "portIndex": 0,
               "portSide": "EAST"
              }
             },
             {
              "direction": "INPUT",
              "hwMeta": {
               "level": 0,
               "name": null
              },
              "id": "391",
              "properties": {
               "portIndex": 1,
               "portSide": "WEST"
              }
             },
             {
              "direction": "INPUT",
              "hwMeta": {
               "level": 0,
               "name": null
              },
              "id": "392",
              "properties": {
               "portIndex": 2,
               "portSide": "WEST"
              }
             }
            ],
            "properties": {
             "org.eclipse.elk.layered.mergeEdges": 1,
             "org.eclipse.elk.portConstraints": "FIXED_ORDER",
             "org.eclipse.elk.randomSeed": 0
            }
           },
           {
            "hideChildren": true,
            "hwMeta": {
             "maxId": 553,
             "name": "NOT"
            },
            "id": "92",
            "ports": [
             {
              "direction": "OUTPUT",
              "hwMeta": {
               "level": 0,
               "name": null
              },
              "id": "393",
              "properties": {
               "portIndex": 0,
               "portSide": "EAST"
              }
             },
             {
              "direction": "INPUT",
              "hwMeta": {
               "level": 0,
               "name": null
              },
              "id": "394",
              "properties": {
               "portIndex": 1,
               "portSide": "WEST"
              }
             }
            ],
            "properties": {
             "org.eclipse.elk.layered.mergeEdges": 1,
             "org.eclipse.elk.portConstraints": "FIXED_ORDER",
             "org.eclipse.elk.randomSeed": 0
            }
           }
          ],
          "edges": [
           {
            "hwMeta": {
             "name": "~sig_fifo_dataOut_wait"
            },
            "id": "554",
            "source": "89",
            "sourcePort": "384",
            "target": "90",
            "targetPort": "389"
           },
           {
            "hwMeta": {
             "name": "sig_fifo_dataOut_wait"
            },
            "id": "555",
            "source": "88",
            "sourcePort": "383",
            "target": "89",
            "targetPort": "385"
           },
           {
            "hwMeta": {
             "name": "out_vld_next"
            },
            "id": "556",
            "source": "90",
            "sourcePort": "386",
            "target": "88",
            "targetPort": "380"
           },
           {
            "hwMeta": {
             "name": "dataOut_rd | ~out_vld"
            },
            "id": "557",
            "source": "91",
            "sourcePort": "390",
            "target": "90",
            "targetPort": "387"
           },
           {
            "hwMeta": {
             "name": "out_vld"
            },
            "id": "558",
            "sources": [
             [
              "88",
              "381"
             ]
            ],
            "targets": [
             [
              "92",
              "394"
             ],
             [
              "90",
              "388"
             ]
            ]
           },
           {
            "hwMeta": {
             "name": "~out_vld"
            },
            "id": "559",
            "source": "92",
            "sourcePort": "393",
            "target": "91",
            "targetPort": "391"
           },
           {
            "hwMeta": {
             "name": "dataOut_rd"
            },
            "id": "560",
            "source": "88",
            "sourcePort": "382",
            "target": "91",
            "targetPort": "392"
           }
          ],
          "hideChildren": true,
          "hwMeta": {
           "bodyText": "If((dataOut_rd | ~out_vld)._eq(1),\n    out_vld_next(~sig_fifo_dataOut_wait)\n).Else(\n    out_vld_next(out_vld)\n)",
           "maxId": 560,
           "name": null
          },
          "id": "88",
          "ports": [
           {
            "direction": "OUTPUT",
            "hwMeta": {
             "level": 0,
             "name": "out_vld_next"
            },
            "id": "380",
            "properties": {
             "portIndex": 0,
             "portSide": "EAST"
            }
           },
           {
            "direction": "INPUT",
            "hwMeta": {
             "level": 0,
             "name": "out_vld"
            },
            "id": "381",
            "properties": {
             "portIndex": 1,
             "portSide": "WEST"
            }
           },
           {
            "direction": "INPUT",
            "hwMeta": {
             "level": 0,
             "name": "dataOut_rd"
            },
            "id": "382",
            "properties": {
             "portIndex": 2,
             "portSide": "WEST"
            }
           },
           {
            "direction": "INPUT",
            "hwMeta": {
             "level": 0,
             "name": "sig_fifo_dataOut_wait"
            },
            "id": "383",
            "properties": {
             "portIndex": 3,
             "portSide": "WEST"
            }
           }
          ],
          "properties": {
           "org.eclipse.elk.layered.mergeEdges": 1,
           "org.eclipse.elk.portConstraints": "FIXED_ORDER",
           "org.eclipse.elk.randomSeed": 0
          }
         },
         {
          "hideChildren": true,
          "hwMeta": {
           "isExternalPort": true,
           "maxId": 560,
           "name": "dataIn_clk"
          },
          "id": "93",
          "ports": [
           {
            "direction": "OUTPUT",
            "hwMeta": {
             "level": 0,
             "name": "dataIn_clk"
            },
            "id": "395",
            "properties": {
             "portIndex": 0,
             "portSide": "EAST"
            }
           }
          ],
          "properties": {
           "org.eclipse.elk.layered.mergeEdges": 1,
           "org.eclipse.elk.portConstraints": "FIXED_ORDER",
           "org.eclipse.elk.randomSeed": 0
          }
         },
         {
          "hideChildren": true,
          "hwMeta": {
           "isExternalPort": true,
           "maxId": 560,
           "name": "dataOut_clk"
          },
          "id": "94",
          "ports": [
           {
            "direction": "OUTPUT",
            "hwMeta": {
             "level": 0,
             "name": "dataOut_clk"
            },
            "id": "396",
            "properties": {
             "portIndex": 0,
             "portSide": "EAST"
            }
           }
          ],
          "properties": {
           "org.eclipse.elk.layered.mergeEdges": 1,
           "org.eclipse.elk.portConstraints": "FIXED_ORDER",
           "org.eclipse.elk.randomSeed": 0
          }
         },
         {
          "hideChildren": true,
          "hwMeta": {
           "isExternalPort": true,
           "maxId": 560,
           "name": "dataIn_rst_n"
          },
          "id": "95",
          "ports": [
           {
            "direction": "OUTPUT",
            "hwMeta": {
             "level": 0,
             "name": "dataIn_rst_n"
            },
            "id": "397",
            "properties": {
             "portIndex": 0,
             "portSide": "EAST"
            }
           }
          ],
          "properties": {
           "org.eclipse.elk.layered.mergeEdges": 1,
           "org.eclipse.elk.portConstraints": "FIXED_ORDER",
           "org.eclipse.elk.randomSeed": 0
          }
         },
         {
          "hideChildren": true,
          "hwMeta": {
           "isExternalPort": true,
           "maxId": 560,
           "name": "dataIn"
          },
          "id": "96",
          "ports": [
           {
            "direction": "OUTPUT",
            "hwMeta": {
             "level": 0,
             "name": "dataIn"
            },
            "id": "398",
            "properties": {
             "portIndex": 0,
             "portSide": "EAST"
            }
           },
           {
            "direction": "OUTPUT",
            "hwMeta": {
             "level": 1,
             "name": "vld"
            },
            "id": "399",
            "properties": {
             "portIndex": 1,
             "portSide": "EAST"
            }
           },
           {
            "direction": "INPUT",
            "hwMeta": {
             "level": 1,
             "name": "rd"
            },
            "id": "400",
            "properties": {
             "portIndex": 2,
             "portSide": "EAST"
            }
           }
          ],
          "properties": {
           "org.eclipse.elk.layered.mergeEdges": 1,
           "org.eclipse.elk.portConstraints": "FIXED_ORDER",
           "org.eclipse.elk.randomSeed": 0
          }
         },
         {
          "hideChildren": true,
          "hwMeta": {
           "isExternalPort": true,
           "maxId": 560,
           "name": "dataOut_rst_n"
          },
          "id": "97",
          "ports": [
           {
            "direction": "OUTPUT",
            "hwMeta": {
             "level": 0,
             "name": "dataOut_rst_n"
            },
            "id": "401",
            "properties": {
             "portIndex": 0,
             "portSide": "EAST"
            }
           }
          ],
          "properties": {
           "org.eclipse.elk.layered.mergeEdges": 1,
           "org.eclipse.elk.portConstraints": "FIXED_ORDER",
           "org.eclipse.elk.randomSeed": 0
          }
         },
         {
          "hideChildren": true,
          "hwMeta": {
           "isExternalPort": true,
           "maxId": 560,
           "name": "dataOut"
          },
          "id": "98",
          "ports": [
           {
            "direction": "OUTPUT",
            "hwMeta": {
             "level": 1,
             "name": "rd"
            },
            "id": "402",
            "properties": {
             "portIndex": 0,
             "portSide": "WEST"
            }
           },
           {
            "direction": "INPUT",
            "hwMeta": {
             "level": 1,
             "name": "vld"
            },
            "id": "403",
            "properties": {
             "portIndex": 1,
             "portSide": "WEST"
            }
           },
           {
            "direction": "INPUT",
            "hwMeta": {
             "level": 0,
             "name": "dataOut"
            },
            "id": "404",
            "properties": {
             "portIndex": 2,
             "portSide": "WEST"
            }
           }
          ],
          "properties": {
           "org.eclipse.elk.layered.mergeEdges": 1,
           "org.eclipse.elk.portConstraints": "FIXED_ORDER",
           "org.eclipse.elk.randomSeed": 0
          }
         },
         {
          "hideChildren": true,
          "hwMeta": {
           "maxId": 560,
           "name": "NOT"
          },
          "id": "99",
          "ports": [
           {
            "direction": "OUTPUT",
            "hwMeta": {
             "level": 0,
             "name": null
            },
            "id": "405",
            "properties": {
             "portIndex": 0,
             "portSide": "EAST"
            }
           },
           {
            "direction": "INPUT",
            "hwMeta": {
             "level": 0,
             "name": null
            },
            "id": "406",
            "properties": {
             "portIndex": 1,
             "portSide": "WEST"
            }
           }
          ],
          "properties": {
           "org.eclipse.elk.layered.mergeEdges": 1,
           "org.eclipse.elk.portConstraints": "FIXED_ORDER",
           "org.eclipse.elk.randomSeed": 0
          }
         }
        ],
        "edges": [
         {
          "hwMeta": {
           "name": null
          },
          "id": "561",
          "source": "1",
          "sourcePort": "105",
          "target": "98",
          "targetPort": "404"
         },
         {
          "hwMeta": {
           "name": "(dataOut_rd | ~out_vld) & ~sig_fifo_dataOut_wait"
          },
          "id": "562",
          "source": "101",
          "sourcePort": "410",
          "target": "1",
          "targetPort": "106"
         },
         {
          "hwMeta": {
           "name": "sig_fifo_dataOut_wait"
          },
          "id": "563",
          "sources": [
           [
            "1",
            "107"
           ]
          ],
          "targets": [
           [
            "88",
            "383"
           ],
           [
            "104",
            "419"
           ]
          ]
         },
         {
          "hwMeta": {
           "name": "sig_fifo_dataOut_rst_n"
          },
          "id": "564",
          "sources": [
           [
            "97",
            "401"
           ]
          ],
          "targets": [
           [
            "82",
            "366"
           ],
           [
            "1",
            "108"
           ]
          ]
         },
         {
          "hwMeta": {
           "name": "sig_fifo_dataIn_wait"
          },
          "id": "565",
          "source": "1",
          "sourcePort": "109",
          "target": "99",
          "targetPort": "406"
         },
         {
          "hwMeta": {
           "name": "dataIn_vld & ~sig_fifo_dataIn_wait"
          },
          "id": "566",
          "source": "100",
          "sourcePort": "407",
          "target": "1",
          "targetPort": "110"
         },
         {
          "hwMeta": {
           "name": null
          },
          "id": "567",
          "source": "96",
          "sourcePort": "398",
          "target": "1",
          "targetPort": "111"
         },
         {
          "hwMeta": {
           "name": "sig_fifo_dataIn_rst_n"
          },
          "id": "568",
          "source": "95",
          "sourcePort": "397",
          "target": "1",
          "targetPort": "112"
         },
         {
          "hwMeta": {
           "name": "dataOut_clk"
          },
          "id": "569",
          "sources": [
           [
            "94",
            "396"
           ]
          ],
          "targets": [
           [
            "82",
            "364"
           ],
           [
            "1",
            "113"
           ]
          ]
         },
         {
          "hwMeta": {
           "name": "sig_fifo_dataIn_clk"
          },
          "id": "570",
          "source": "93",
          "sourcePort": "395",
          "target": "1",
          "targetPort": "114"
         },
         {
          "hwMeta": {
           "name": "out_vld"
          },
          "id": "571",
          "sources": [
           [
            "82",
            "363"
           ]
          ],
          "targets": [
           [
            "88",
            "381"
           ],
           [
            "103",
            "417"
           ],
           [
            "98",
            "403"
           ]
          ]
         },
         {
          "hwMeta": {
           "name": "out_vld_next"
          },
          "id": "572",
          "source": "88",
          "sourcePort": "380",
          "target": "82",
          "targetPort": "365"
         },
         {
          "hwMeta": {
           "name": "dataOut_rd"
          },
          "id": "573",
          "sources": [
           [
            "98",
            "402"
           ]
          ],
          "targets": [
           [
            "88",
            "382"
           ],
           [
            "102",
            "415"
           ]
          ]
         },
         {
          "hwMeta": {
           "name": "dataIn_vld"
          },
          "id": "574",
          "source": "96",
          "sourcePort": "399",
          "target": "100",
          "targetPort": "409"
         },
         {
          "hwMeta": {
           "name": "~sig_fifo_dataIn_wait"
          },
          "id": "575",
          "sources": [
           [
            "99",
            "405"
           ]
          ],
          "targets": [
           [
            "100",
            "408"
           ],
           [
            "96",
            "400"
           ]
          ]
         },
         {
          "hwMeta": {
           "name": "~sig_fifo_dataOut_wait"
          },
          "id": "576",
          "source": "104",
          "sourcePort": "418",
          "target": "101",
          "targetPort": "411"
         },
         {
          "hwMeta": {
           "name": "dataOut_rd | ~out_vld"
          },
          "id": "577",
          "source": "102",
          "sourcePort": "413",
          "target": "101",
          "targetPort": "412"
         },
         {
          "hwMeta": {
           "name": "~out_vld"
          },
          "id": "578",
          "source": "103",
          "sourcePort": "416",
          "target": "102",
          "targetPort": "414"
         }
        ],
        "hwMeta": {
         "maxId": 578,
         "name": "HsFifoAsync"
        },
        "ports": [],
        "properties": {
         "org.eclipse.elk.layered.mergeEdges": 1,
         "org.eclipse.elk.portConstraints": "FIXED_ORDER",
         "org.eclipse.elk.randomSeed": 0
        }
       },
       "width": "1000px"
      }
     }
    },
    "version_major": 2,
    "version_minor": 0
   }
  }
 },
 "nbformat": 4,
 "nbformat_minor": 4
}
