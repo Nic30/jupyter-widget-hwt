{
 "cells": [
  {
   "cell_type": "code",
   "execution_count": 1,
   "metadata": {},
   "outputs": [],
   "source": [
    "from jupyter_widget_hwt import HwtSchemeWidget\n",
    "# Imported modules can be set to update automatically on change, use autoreload\n",
    "# https://medium.com/@chrieke/jupyter-tips-and-tricks-994fdddb2057"
   ]
  },
  {
   "cell_type": "code",
   "execution_count": 2,
   "metadata": {},
   "outputs": [
    {
     "data": {
      "application/vnd.jupyter.widget-view+json": {
       "model_id": "08477192b7fb46c0bd482f89db895543",
       "version_major": 2,
       "version_minor": 0
      },
      "text/plain": [
       "HwtSchemeWidget(height='50px', value={'hwMeta': {'name': 'SimpleUnit', 'cls': None, 'maxId': 5}, 'properties':…"
      ]
     },
     "metadata": {},
     "output_type": "display_data"
    }
   ],
   "source": [
    "from hwtLib.examples.simple import SimpleUnit\n",
    "u = SimpleUnit()\n",
    "s = HwtSchemeWidget(u, height=50)\n",
    "s.set_css_style(u.a, \"stroke:orange;fill:red\")\n",
    "s.set_css_style(u.b, \"stroke:orange;fill:red\")\n",
    "display(s)"
   ]
  },
  {
   "cell_type": "code",
   "execution_count": 3,
   "metadata": {},
   "outputs": [
    {
     "data": {
      "application/vnd.jupyter.widget-view+json": {
       "model_id": "350251bf50684e67bdbfa608d58e0f54",
       "version_major": 2,
       "version_minor": 0
      },
      "text/plain": [
       "HwtSchemeWidget(height='100px', value={'hwMeta': {'name': 'DReg_asyncRst', 'cls': None, 'maxId': 34}, 'propert…"
      ]
     },
     "metadata": {},
     "output_type": "display_data"
    }
   ],
   "source": [
    "from hwtLib.examples.mem.reg import DReg_asyncRst\n",
    "u = DReg_asyncRst()\n",
    "HwtSchemeWidget(u, height=100)"
   ]
  },
  {
   "cell_type": "code",
   "execution_count": 4,
   "metadata": {},
   "outputs": [
    {
     "data": {
      "application/vnd.jupyter.widget-view+json": {
       "model_id": "d11d2a3935c145f184ef85b7cbe42d07",
       "version_major": 2,
       "version_minor": 0
      },
      "text/plain": [
       "HwtSchemeWidget(value={'hwMeta': {'name': 'Cdc', 'cls': None, 'maxId': 86}, 'properties': {'org.eclipse.elk.po…"
      ]
     },
     "metadata": {},
     "output_type": "display_data"
    }
   ],
   "source": [
    "from hwtLib.clocking.cdc import Cdc\n",
    "u = Cdc()\n",
    "HwtSchemeWidget(u, height=250, width=1000)"
   ]
  },
  {
   "cell_type": "code",
   "execution_count": 5,
   "metadata": {},
   "outputs": [
    {
     "data": {
      "application/vnd.jupyter.widget-view+json": {
       "model_id": "db01c621241940df8767629196a77980",
       "version_major": 2,
       "version_minor": 0
      },
      "text/plain": [
       "HwtSchemeWidget(height='400px', value={'hwMeta': {'name': 'PidController', 'cls': None, 'maxId': 136}, 'proper…"
      ]
     },
     "metadata": {},
     "output_type": "display_data"
    }
   ],
   "source": [
    "from hwtLib.logic.pid import PidController\n",
    "u = PidController()\n",
    "HwtSchemeWidget(u, height=400, width=1000)"
   ]
  },
  {
   "cell_type": "code",
   "execution_count": 6,
   "metadata": {},
   "outputs": [
    {
     "data": {
      "application/vnd.jupyter.widget-view+json": {
       "model_id": "39d45ac30ca2431cbd85e6b00fe12a71",
       "version_major": 2,
       "version_minor": 0
      },
      "text/plain": [
       "HwtSchemeWidget(height='600px', value={'hwMeta': {'name': 'HsFifoAsync', 'cls': None, 'maxId': 572}, 'properti…"
      ]
     },
     "metadata": {},
     "output_type": "display_data"
    }
   ],
   "source": [
    "from hwtLib.handshaked.fifoAsync import HsFifoAsync\n",
    "from hwt.interfaces.std import Handshaked\n",
    "u = HsFifoAsync(Handshaked)\n",
    "u.DEPTH = 8 + 1\n",
    "HwtSchemeWidget(u, height=600, width=1000)"
   ]
  },
  {
   "cell_type": "code",
   "execution_count": null,
   "metadata": {},
   "outputs": [],
   "source": []
  }
 ],
 "metadata": {
  "kernelspec": {
   "display_name": "Python 3",
   "language": "python",
   "name": "python3"
  },
  "language_info": {
   "codemirror_mode": {
    "name": "ipython",
    "version": 3
   },
   "file_extension": ".py",
   "mimetype": "text/x-python",
   "name": "python",
   "nbconvert_exporter": "python",
   "pygments_lexer": "ipython3",
   "version": "3.8.6"
  },
  "widgets": {
   "application/vnd.jupyter.widget-state+json": {
    "state": {
     "08477192b7fb46c0bd482f89db895543": {
      "model_module": "jupyter_widget_hwt",
      "model_module_version": "^0.0.1",
      "model_name": "HwtSchemeModel",
      "state": {
       "_model_module_version": "^0.0.1",
       "_view_module_version": "^0.0.1",
       "height": "50px",
       "layout": "IPY_MODEL_b0db9b7bb4ee4085bfbb4f63d2b605cc",
       "value": {
        "children": [
         {
          "hwMeta": {
           "cls": null,
           "cssStyle": "stroke:orange;fill:red",
           "isExternalPort": true,
           "maxId": 4,
           "name": "a"
          },
          "id": "1",
          "ports": [
           {
            "children": [],
            "direction": "OUTPUT",
            "hwMeta": {
             "connectedAsParent": false,
             "cssStyle": "stroke:orange;fill:red",
             "level": 0,
             "name": "a"
            },
            "id": "3",
            "properties": {
             "index": 0,
             "side": "EAST"
            }
           }
          ],
          "properties": {
           "org.eclipse.elk.layered.mergeEdges": 1,
           "org.eclipse.elk.portConstraints": "FIXED_ORDER"
          }
         },
         {
          "hwMeta": {
           "cls": null,
           "cssStyle": "stroke:orange;fill:red",
           "isExternalPort": true,
           "maxId": 4,
           "name": "b"
          },
          "id": "2",
          "ports": [
           {
            "children": [],
            "direction": "INPUT",
            "hwMeta": {
             "connectedAsParent": false,
             "cssStyle": "stroke:orange;fill:red",
             "level": 0,
             "name": "b"
            },
            "id": "4",
            "properties": {
             "index": 0,
             "side": "WEST"
            }
           }
          ],
          "properties": {
           "org.eclipse.elk.layered.mergeEdges": 1,
           "org.eclipse.elk.portConstraints": "FIXED_ORDER"
          }
         }
        ],
        "edges": [
         {
          "hwMeta": {
           "cssStyle": "stroke:orange;fill:red",
           "name": "b"
          },
          "id": "5",
          "source": "1",
          "sourcePort": "3",
          "target": "2",
          "targetPort": "4"
         }
        ],
        "hwMeta": {
         "cls": null,
         "maxId": 5,
         "name": "SimpleUnit"
        },
        "ports": [],
        "properties": {
         "org.eclipse.elk.layered.mergeEdges": 1,
         "org.eclipse.elk.portConstraints": "FIXED_ORDER"
        }
       }
      }
     },
     "0f423b693b404885a3041158970406f1": {
      "model_module": "@jupyter-widgets/base",
      "model_module_version": "1.2.0",
      "model_name": "LayoutModel",
      "state": {}
     },
     "27f0809bfa304e2c82b1f6430383c748": {
      "model_module": "@jupyter-widgets/base",
      "model_module_version": "1.2.0",
      "model_name": "LayoutModel",
      "state": {}
     },
     "350251bf50684e67bdbfa608d58e0f54": {
      "model_module": "jupyter_widget_hwt",
      "model_module_version": "^0.0.1",
      "model_name": "HwtSchemeModel",
      "state": {
       "_model_module_version": "^0.0.1",
       "_view_module_version": "^0.0.1",
       "height": "100px",
       "layout": "IPY_MODEL_eac2ce2f8d6b448a9a39ffd12b7cb450",
       "value": {
        "children": [
         {
          "_children": [
           {
            "hwMeta": {
             "cls": "Operator",
             "maxId": 24,
             "name": "LATCHED_MUX"
            },
            "id": "2",
            "ports": [
             {
              "children": [],
              "direction": "OUTPUT",
              "hwMeta": {
               "connectedAsParent": false,
               "level": 0,
               "name": ""
              },
              "id": "13",
              "properties": {
               "index": 0,
               "side": "EAST"
              }
             },
             {
              "children": [],
              "direction": "INPUT",
              "hwMeta": {
               "connectedAsParent": false,
               "level": 0,
               "name": ""
              },
              "id": "14",
              "properties": {
               "index": 1,
               "side": "SOUTH"
              }
             },
             {
              "children": [],
              "direction": "INPUT",
              "hwMeta": {
               "connectedAsParent": false,
               "level": 0,
               "name": ""
              },
              "id": "15",
              "properties": {
               "index": 2,
               "side": "SOUTH"
              }
             },
             {
              "children": [],
              "direction": "INPUT",
              "hwMeta": {
               "connectedAsParent": false,
               "level": 0,
               "name": ""
              },
              "id": "16",
              "properties": {
               "index": 3,
               "side": "WEST"
              }
             },
             {
              "children": [],
              "direction": "INPUT",
              "hwMeta": {
               "connectedAsParent": false,
               "level": 0,
               "name": ""
              },
              "id": "17",
              "properties": {
               "index": 4,
               "side": "WEST"
              }
             }
            ],
            "properties": {
             "org.eclipse.elk.layered.mergeEdges": 1,
             "org.eclipse.elk.portConstraints": "FIXED_ORDER"
            }
           },
           {
            "hwMeta": {
             "cls": "Operator",
             "maxId": 24,
             "name": "RISING_EDGE"
            },
            "id": "3",
            "ports": [
             {
              "children": [],
              "direction": "OUTPUT",
              "hwMeta": {
               "connectedAsParent": false,
               "level": 0,
               "name": null
              },
              "id": "18",
              "properties": {
               "index": 0,
               "side": "EAST"
              }
             },
             {
              "children": [],
              "direction": "INPUT",
              "hwMeta": {
               "connectedAsParent": false,
               "level": 0,
               "name": null
              },
              "id": "19",
              "properties": {
               "index": 1,
               "side": "WEST"
              }
             }
            ],
            "properties": {
             "org.eclipse.elk.layered.mergeEdges": 1,
             "org.eclipse.elk.portConstraints": "FIXED_ORDER"
            }
           },
           {
            "hwMeta": {
             "bodyText": "0",
             "cls": "Operator",
             "maxId": 24,
             "name": null
            },
            "id": "4",
            "ports": [
             {
              "children": [],
              "direction": "OUTPUT",
              "hwMeta": {
               "connectedAsParent": false,
               "level": 0,
               "name": null
              },
              "id": "20",
              "properties": {
               "side": "EAST"
              }
             }
            ],
            "properties": {
             "org.eclipse.elk.layered.mergeEdges": 1,
             "org.eclipse.elk.portConstraints": "FREE"
            }
           }
          ],
          "_edges": [
           {
            "hwMeta": {
             "name": "r"
            },
            "id": "25",
            "source": "2",
            "sourcePort": "13",
            "target": "1",
            "targetPort": "9"
           },
           {
            "hwMeta": {
             "name": "clk._onRisingEdge()"
            },
            "id": "26",
            "source": "3",
            "sourcePort": "18",
            "target": "2",
            "targetPort": "14"
           },
           {
            "hwMeta": {
             "name": "rst._eq(1)"
            },
            "id": "27",
            "source": "1",
            "sourcePort": "10",
            "target": "2",
            "targetPort": "15"
           },
           {
            "hwMeta": {
             "name": "din"
            },
            "id": "28",
            "source": "1",
            "sourcePort": "11",
            "target": "2",
            "targetPort": "16"
           },
           {
            "hwMeta": {
             "name": "<BitsVal 0>"
            },
            "id": "29",
            "source": "4",
            "sourcePort": "20",
            "target": "2",
            "targetPort": "17"
           },
           {
            "hwMeta": {
             "name": "clk"
            },
            "id": "30",
            "source": "1",
            "sourcePort": "12",
            "target": "3",
            "targetPort": "19"
           }
          ],
          "hwMeta": {
           "bodyText": "If(rst._eq(1),\n    r(0)\n).Elif(clk._onRisingEdge(),\n    r(din)\n)",
           "cls": "Process",
           "maxId": 30,
           "name": null
          },
          "id": "1",
          "ports": [
           {
            "children": [],
            "direction": "OUTPUT",
            "hwMeta": {
             "connectedAsParent": false,
             "level": 0,
             "name": "r"
            },
            "id": "9",
            "properties": {
             "index": 0,
             "side": "EAST"
            }
           },
           {
            "children": [],
            "direction": "INPUT",
            "hwMeta": {
             "connectedAsParent": false,
             "level": 0,
             "name": "rst"
            },
            "id": "10",
            "properties": {
             "index": 1,
             "side": "WEST"
            }
           },
           {
            "children": [],
            "direction": "INPUT",
            "hwMeta": {
             "connectedAsParent": false,
             "level": 0,
             "name": "din"
            },
            "id": "11",
            "properties": {
             "index": 2,
             "side": "WEST"
            }
           },
           {
            "children": [],
            "direction": "INPUT",
            "hwMeta": {
             "connectedAsParent": false,
             "level": 0,
             "name": "clk"
            },
            "id": "12",
            "properties": {
             "index": 3,
             "side": "WEST"
            }
           }
          ],
          "properties": {
           "org.eclipse.elk.layered.mergeEdges": 1,
           "org.eclipse.elk.portConstraints": "FIXED_ORDER"
          }
         },
         {
          "hwMeta": {
           "cls": null,
           "isExternalPort": true,
           "maxId": 30,
           "name": "clk"
          },
          "id": "5",
          "ports": [
           {
            "children": [],
            "direction": "OUTPUT",
            "hwMeta": {
             "connectedAsParent": false,
             "level": 0,
             "name": "clk"
            },
            "id": "21",
            "properties": {
             "index": 0,
             "side": "EAST"
            }
           }
          ],
          "properties": {
           "org.eclipse.elk.layered.mergeEdges": 1,
           "org.eclipse.elk.portConstraints": "FIXED_ORDER"
          }
         },
         {
          "hwMeta": {
           "cls": null,
           "isExternalPort": true,
           "maxId": 30,
           "name": "rst"
          },
          "id": "6",
          "ports": [
           {
            "children": [],
            "direction": "OUTPUT",
            "hwMeta": {
             "connectedAsParent": false,
             "level": 0,
             "name": "rst"
            },
            "id": "22",
            "properties": {
             "index": 0,
             "side": "EAST"
            }
           }
          ],
          "properties": {
           "org.eclipse.elk.layered.mergeEdges": 1,
           "org.eclipse.elk.portConstraints": "FIXED_ORDER"
          }
         },
         {
          "hwMeta": {
           "cls": null,
           "isExternalPort": true,
           "maxId": 30,
           "name": "din"
          },
          "id": "7",
          "ports": [
           {
            "children": [],
            "direction": "OUTPUT",
            "hwMeta": {
             "connectedAsParent": false,
             "level": 0,
             "name": "din"
            },
            "id": "23",
            "properties": {
             "index": 0,
             "side": "EAST"
            }
           }
          ],
          "properties": {
           "org.eclipse.elk.layered.mergeEdges": 1,
           "org.eclipse.elk.portConstraints": "FIXED_ORDER"
          }
         },
         {
          "hwMeta": {
           "cls": null,
           "isExternalPort": true,
           "maxId": 30,
           "name": "dout"
          },
          "id": "8",
          "ports": [
           {
            "children": [],
            "direction": "INPUT",
            "hwMeta": {
             "connectedAsParent": false,
             "level": 0,
             "name": "dout"
            },
            "id": "24",
            "properties": {
             "index": 0,
             "side": "WEST"
            }
           }
          ],
          "properties": {
           "org.eclipse.elk.layered.mergeEdges": 1,
           "org.eclipse.elk.portConstraints": "FIXED_ORDER"
          }
         }
        ],
        "edges": [
         {
          "hwMeta": {
           "name": "r"
          },
          "id": "31",
          "source": "1",
          "sourcePort": "9",
          "target": "8",
          "targetPort": "24"
         },
         {
          "hwMeta": {
           "name": "rst"
          },
          "id": "32",
          "source": "6",
          "sourcePort": "22",
          "target": "1",
          "targetPort": "10"
         },
         {
          "hwMeta": {
           "name": "din"
          },
          "id": "33",
          "source": "7",
          "sourcePort": "23",
          "target": "1",
          "targetPort": "11"
         },
         {
          "hwMeta": {
           "name": "clk"
          },
          "id": "34",
          "source": "5",
          "sourcePort": "21",
          "target": "1",
          "targetPort": "12"
         }
        ],
        "hwMeta": {
         "cls": null,
         "maxId": 34,
         "name": "DReg_asyncRst"
        },
        "ports": [],
        "properties": {
         "org.eclipse.elk.layered.mergeEdges": 1,
         "org.eclipse.elk.portConstraints": "FIXED_ORDER"
        }
       }
      }
     },
     "371092057edc4ba99889d0e940889cc3": {
      "model_module": "@jupyter-widgets/base",
      "model_module_version": "1.2.0",
      "model_name": "LayoutModel",
      "state": {}
     },
     "39d45ac30ca2431cbd85e6b00fe12a71": {
      "model_module": "jupyter_widget_hwt",
      "model_module_version": "^0.0.1",
      "model_name": "HwtSchemeModel",
      "state": {
       "_model_module_version": "^0.0.1",
       "_view_module_version": "^0.0.1",
       "height": "600px",
       "layout": "IPY_MODEL_d01e195c9fe44ea89463fc1067c295a1",
       "value": {
        "children": [
         {
          "_children": [
           {
            "_children": [
             {
              "hwMeta": {
               "cls": "Operator",
               "maxId": 436,
               "name": "RAM_WRITE"
              },
              "id": "18",
              "ports": [
               {
                "children": [],
                "direction": "OUTPUT",
                "hwMeta": {
                 "connectedAsParent": false,
                 "level": 0,
                 "name": "mem"
                },
                "id": "175",
                "properties": {
                 "index": 0,
                 "side": "EAST"
                }
               },
               {
                "children": [],
                "direction": "INPUT",
                "hwMeta": {
                 "connectedAsParent": false,
                 "level": 0,
                 "name": "in"
                },
                "id": "176",
                "properties": {
                 "index": 1,
                 "side": "WEST"
                }
               },
               {
                "children": [],
                "direction": "INPUT",
                "hwMeta": {
                 "connectedAsParent": false,
                 "level": 0,
                 "name": "addr"
                },
                "id": "177",
                "properties": {
                 "index": 2,
                 "side": "WEST"
                }
               },
               {
                "children": [],
                "direction": "INPUT",
                "hwMeta": {
                 "connectedAsParent": false,
                 "level": 0,
                 "name": "clk"
                },
                "id": "178",
                "properties": {
                 "index": 3,
                 "side": "WEST"
                }
               }
              ],
              "properties": {
               "org.eclipse.elk.layered.mergeEdges": 1,
               "org.eclipse.elk.portConstraints": "FIXED_ORDER"
              }
             },
             {
              "hwMeta": {
               "cls": "Operator",
               "maxId": 436,
               "name": "AND"
              },
              "id": "19",
              "ports": [
               {
                "children": [],
                "direction": "OUTPUT",
                "hwMeta": {
                 "connectedAsParent": false,
                 "level": 0,
                 "name": null
                },
                "id": "179",
                "properties": {
                 "index": 0,
                 "side": "EAST"
                }
               },
               {
                "children": [],
                "direction": "INPUT",
                "hwMeta": {
                 "connectedAsParent": false,
                 "level": 0,
                 "name": null
                },
                "id": "180",
                "properties": {
                 "index": 1,
                 "side": "WEST"
                }
               },
               {
                "children": [],
                "direction": "INPUT",
                "hwMeta": {
                 "connectedAsParent": false,
                 "level": 0,
                 "name": null
                },
                "id": "181",
                "properties": {
                 "index": 2,
                 "side": "WEST"
                }
               }
              ],
              "properties": {
               "org.eclipse.elk.layered.mergeEdges": 1,
               "org.eclipse.elk.portConstraints": "FIXED_ORDER"
              }
             },
             {
              "hwMeta": {
               "cls": "Operator",
               "maxId": 436,
               "name": "AND"
              },
              "id": "20",
              "ports": [
               {
                "children": [],
                "direction": "OUTPUT",
                "hwMeta": {
                 "connectedAsParent": false,
                 "level": 0,
                 "name": null
                },
                "id": "182",
                "properties": {
                 "index": 0,
                 "side": "EAST"
                }
               },
               {
                "children": [],
                "direction": "INPUT",
                "hwMeta": {
                 "connectedAsParent": false,
                 "level": 0,
                 "name": null
                },
                "id": "183",
                "properties": {
                 "index": 1,
                 "side": "WEST"
                }
               },
               {
                "children": [],
                "direction": "INPUT",
                "hwMeta": {
                 "connectedAsParent": false,
                 "level": 0,
                 "name": null
                },
                "id": "184",
                "properties": {
                 "index": 2,
                 "side": "WEST"
                }
               }
              ],
              "properties": {
               "org.eclipse.elk.layered.mergeEdges": 1,
               "org.eclipse.elk.portConstraints": "FIXED_ORDER"
              }
             },
             {
              "hwMeta": {
               "cls": "Operator",
               "maxId": 436,
               "name": "NOT"
              },
              "id": "21",
              "ports": [
               {
                "children": [],
                "direction": "OUTPUT",
                "hwMeta": {
                 "connectedAsParent": false,
                 "level": 0,
                 "name": null
                },
                "id": "185",
                "properties": {
                 "index": 0,
                 "side": "EAST"
                }
               },
               {
                "children": [],
                "direction": "INPUT",
                "hwMeta": {
                 "connectedAsParent": false,
                 "level": 0,
                 "name": null
                },
                "id": "186",
                "properties": {
                 "index": 1,
                 "side": "WEST"
                }
               }
              ],
              "properties": {
               "org.eclipse.elk.layered.mergeEdges": 1,
               "org.eclipse.elk.portConstraints": "FIXED_ORDER"
              }
             },
             {
              "hwMeta": {
               "cls": "Operator",
               "maxId": 436,
               "name": "RISING_EDGE"
              },
              "id": "22",
              "ports": [
               {
                "children": [],
                "direction": "OUTPUT",
                "hwMeta": {
                 "connectedAsParent": false,
                 "level": 0,
                 "name": null
                },
                "id": "187",
                "properties": {
                 "index": 0,
                 "side": "EAST"
                }
               },
               {
                "children": [],
                "direction": "INPUT",
                "hwMeta": {
                 "connectedAsParent": false,
                 "level": 0,
                 "name": null
                },
                "id": "188",
                "properties": {
                 "index": 1,
                 "side": "WEST"
                }
               }
              ],
              "properties": {
               "org.eclipse.elk.layered.mergeEdges": 1,
               "org.eclipse.elk.portConstraints": "FIXED_ORDER"
              }
             }
            ],
            "_edges": [
             {
              "hwMeta": {
               "name": "memory"
              },
              "id": "437",
              "source": "18",
              "sourcePort": "175",
              "target": "17",
              "targetPort": "169"
             },
             {
              "hwMeta": {
               "name": "dataIn_data"
              },
              "id": "438",
              "source": "17",
              "sourcePort": "173",
              "target": "18",
              "targetPort": "176"
             },
             {
              "hwMeta": {
               "name": "sig_4"
              },
              "id": "439",
              "source": "17",
              "sourcePort": "171",
              "target": "18",
              "targetPort": "177"
             },
             {
              "hwMeta": {
               "name": "(dataIn_en & ~w_full)._eq(1) & dataIn_clk._onRisingEdge()"
              },
              "id": "440",
              "source": "19",
              "sourcePort": "179",
              "target": "18",
              "targetPort": "178"
             },
             {
              "hwMeta": {
               "name": "dataIn_clk._onRisingEdge()"
              },
              "id": "441",
              "source": "22",
              "sourcePort": "187",
              "target": "19",
              "targetPort": "180"
             },
             {
              "hwMeta": {
               "name": "(dataIn_en & ~w_full)._eq(1)"
              },
              "id": "442",
              "source": "20",
              "sourcePort": "182",
              "target": "19",
              "targetPort": "181"
             },
             {
              "hwMeta": {
               "name": "~w_full"
              },
              "id": "443",
              "source": "21",
              "sourcePort": "185",
              "target": "20",
              "targetPort": "183"
             },
             {
              "hwMeta": {
               "name": "dataIn_en"
              },
              "id": "444",
              "source": "17",
              "sourcePort": "172",
              "target": "20",
              "targetPort": "184"
             },
             {
              "hwMeta": {
               "name": "w_full"
              },
              "id": "445",
              "source": "17",
              "sourcePort": "170",
              "target": "21",
              "targetPort": "186"
             },
             {
              "hwMeta": {
               "name": "dataIn_clk"
              },
              "id": "446",
              "source": "17",
              "sourcePort": "174",
              "target": "22",
              "targetPort": "188"
             }
            ],
            "hwMeta": {
             "bodyText": "If(dataIn_clk._onRisingEdge(),\n    If((dataIn_en & ~w_full)._eq(1),\n        memory[sig_4](dataIn_data)\n    )\n)",
             "cls": "Process",
             "maxId": 446,
             "name": null
            },
            "id": "17",
            "ports": [
             {
              "children": [],
              "direction": "OUTPUT",
              "hwMeta": {
               "connectedAsParent": false,
               "level": 0,
               "name": "memory"
              },
              "id": "169",
              "properties": {
               "index": 0,
               "side": "EAST"
              }
             },
             {
              "children": [],
              "direction": "INPUT",
              "hwMeta": {
               "connectedAsParent": false,
               "level": 0,
               "name": "w_full"
              },
              "id": "170",
              "properties": {
               "index": 1,
               "side": "WEST"
              }
             },
             {
              "children": [],
              "direction": "INPUT",
              "hwMeta": {
               "connectedAsParent": false,
               "level": 0,
               "name": "sig_4"
              },
              "id": "171",
              "properties": {
               "index": 2,
               "side": "WEST"
              }
             },
             {
              "children": [],
              "direction": "INPUT",
              "hwMeta": {
               "connectedAsParent": false,
               "level": 0,
               "name": "dataIn_en"
              },
              "id": "172",
              "properties": {
               "index": 3,
               "side": "WEST"
              }
             },
             {
              "children": [],
              "direction": "INPUT",
              "hwMeta": {
               "connectedAsParent": false,
               "level": 0,
               "name": "dataIn_data"
              },
              "id": "173",
              "properties": {
               "index": 4,
               "side": "WEST"
              }
             },
             {
              "children": [],
              "direction": "INPUT",
              "hwMeta": {
               "connectedAsParent": false,
               "level": 0,
               "name": "dataIn_clk"
              },
              "id": "174",
              "properties": {
               "index": 5,
               "side": "WEST"
              }
             }
            ],
            "properties": {
             "org.eclipse.elk.layered.mergeEdges": 1,
             "org.eclipse.elk.portConstraints": "FIXED_ORDER"
            }
           },
           {
            "_children": [
             {
              "hwMeta": {
               "cls": "Operator",
               "maxId": 415,
               "name": "FF"
              },
              "id": "10",
              "ports": [
               {
                "children": [],
                "direction": "OUTPUT",
                "hwMeta": {
                 "connectedAsParent": false,
                 "level": 0,
                 "name": "o"
                },
                "id": "145",
                "properties": {
                 "index": 0,
                 "side": "EAST"
                }
               },
               {
                "children": [],
                "direction": "INPUT",
                "hwMeta": {
                 "connectedAsParent": false,
                 "level": 0,
                 "name": "i"
                },
                "id": "146",
                "properties": {
                 "index": 1,
                 "side": "WEST"
                }
               },
               {
                "children": [],
                "direction": "INPUT",
                "hwMeta": {
                 "connectedAsParent": false,
                 "level": 0,
                 "name": "clk"
                },
                "id": "147",
                "properties": {
                 "index": 2,
                 "side": "WEST"
                }
               }
              ],
              "properties": {
               "org.eclipse.elk.layered.mergeEdges": 1,
               "org.eclipse.elk.portConstraints": "FIXED_ORDER"
              }
             },
             {
              "hwMeta": {
               "cls": "Operator",
               "maxId": 415,
               "name": "MUX"
              },
              "id": "11",
              "ports": [
               {
                "children": [],
                "direction": "OUTPUT",
                "hwMeta": {
                 "connectedAsParent": false,
                 "level": 0,
                 "name": ""
                },
                "id": "148",
                "properties": {
                 "index": 0,
                 "side": "EAST"
                }
               },
               {
                "children": [],
                "direction": "INPUT",
                "hwMeta": {
                 "connectedAsParent": false,
                 "level": 0,
                 "name": ""
                },
                "id": "149",
                "properties": {
                 "index": 1,
                 "side": "SOUTH"
                }
               },
               {
                "children": [],
                "direction": "INPUT",
                "hwMeta": {
                 "connectedAsParent": false,
                 "level": 0,
                 "name": ""
                },
                "id": "150",
                "properties": {
                 "index": 2,
                 "side": "WEST"
                }
               },
               {
                "children": [],
                "direction": "INPUT",
                "hwMeta": {
                 "connectedAsParent": false,
                 "level": 0,
                 "name": ""
                },
                "id": "151",
                "properties": {
                 "index": 3,
                 "side": "WEST"
                }
               }
              ],
              "properties": {
               "org.eclipse.elk.layered.mergeEdges": 1,
               "org.eclipse.elk.portConstraints": "FIXED_ORDER"
              }
             },
             {
              "hwMeta": {
               "cls": "Operator",
               "maxId": 415,
               "name": "FF"
              },
              "id": "12",
              "ports": [
               {
                "children": [],
                "direction": "OUTPUT",
                "hwMeta": {
                 "connectedAsParent": false,
                 "level": 0,
                 "name": "o"
                },
                "id": "152",
                "properties": {
                 "index": 0,
                 "side": "EAST"
                }
               },
               {
                "children": [],
                "direction": "INPUT",
                "hwMeta": {
                 "connectedAsParent": false,
                 "level": 0,
                 "name": "i"
                },
                "id": "153",
                "properties": {
                 "index": 1,
                 "side": "WEST"
                }
               },
               {
                "children": [],
                "direction": "INPUT",
                "hwMeta": {
                 "connectedAsParent": false,
                 "level": 0,
                 "name": "clk"
                },
                "id": "154",
                "properties": {
                 "index": 2,
                 "side": "WEST"
                }
               }
              ],
              "properties": {
               "org.eclipse.elk.layered.mergeEdges": 1,
               "org.eclipse.elk.portConstraints": "FIXED_ORDER"
              }
             },
             {
              "hwMeta": {
               "cls": "Operator",
               "maxId": 415,
               "name": "MUX"
              },
              "id": "13",
              "ports": [
               {
                "children": [],
                "direction": "OUTPUT",
                "hwMeta": {
                 "connectedAsParent": false,
                 "level": 0,
                 "name": ""
                },
                "id": "155",
                "properties": {
                 "index": 0,
                 "side": "EAST"
                }
               },
               {
                "children": [],
                "direction": "INPUT",
                "hwMeta": {
                 "connectedAsParent": false,
                 "level": 0,
                 "name": ""
                },
                "id": "156",
                "properties": {
                 "index": 1,
                 "side": "SOUTH"
                }
               },
               {
                "children": [],
                "direction": "INPUT",
                "hwMeta": {
                 "connectedAsParent": false,
                 "level": 0,
                 "name": ""
                },
                "id": "157",
                "properties": {
                 "index": 2,
                 "side": "WEST"
                }
               },
               {
                "children": [],
                "direction": "INPUT",
                "hwMeta": {
                 "connectedAsParent": false,
                 "level": 0,
                 "name": ""
                },
                "id": "158",
                "properties": {
                 "index": 3,
                 "side": "WEST"
                }
               }
              ],
              "properties": {
               "org.eclipse.elk.layered.mergeEdges": 1,
               "org.eclipse.elk.portConstraints": "FIXED_ORDER"
              }
             },
             {
              "hwMeta": {
               "cls": "Operator",
               "maxId": 415,
               "name": "FF"
              },
              "id": "14",
              "ports": [
               {
                "children": [],
                "direction": "OUTPUT",
                "hwMeta": {
                 "connectedAsParent": false,
                 "level": 0,
                 "name": "o"
                },
                "id": "159",
                "properties": {
                 "index": 0,
                 "side": "EAST"
                }
               },
               {
                "children": [],
                "direction": "INPUT",
                "hwMeta": {
                 "connectedAsParent": false,
                 "level": 0,
                 "name": "i"
                },
                "id": "160",
                "properties": {
                 "index": 1,
                 "side": "WEST"
                }
               },
               {
                "children": [],
                "direction": "INPUT",
                "hwMeta": {
                 "connectedAsParent": false,
                 "level": 0,
                 "name": "clk"
                },
                "id": "161",
                "properties": {
                 "index": 2,
                 "side": "WEST"
                }
               }
              ],
              "properties": {
               "org.eclipse.elk.layered.mergeEdges": 1,
               "org.eclipse.elk.portConstraints": "FIXED_ORDER"
              }
             },
             {
              "hwMeta": {
               "cls": "Operator",
               "maxId": 415,
               "name": "MUX"
              },
              "id": "15",
              "ports": [
               {
                "children": [],
                "direction": "OUTPUT",
                "hwMeta": {
                 "connectedAsParent": false,
                 "level": 0,
                 "name": ""
                },
                "id": "162",
                "properties": {
                 "index": 0,
                 "side": "EAST"
                }
               },
               {
                "children": [],
                "direction": "INPUT",
                "hwMeta": {
                 "connectedAsParent": false,
                 "level": 0,
                 "name": ""
                },
                "id": "163",
                "properties": {
                 "index": 1,
                 "side": "SOUTH"
                }
               },
               {
                "children": [],
                "direction": "INPUT",
                "hwMeta": {
                 "connectedAsParent": false,
                 "level": 0,
                 "name": ""
                },
                "id": "164",
                "properties": {
                 "index": 2,
                 "side": "WEST"
                }
               },
               {
                "children": [],
                "direction": "INPUT",
                "hwMeta": {
                 "connectedAsParent": false,
                 "level": 0,
                 "name": ""
                },
                "id": "165",
                "properties": {
                 "index": 3,
                 "side": "WEST"
                }
               }
              ],
              "properties": {
               "org.eclipse.elk.layered.mergeEdges": 1,
               "org.eclipse.elk.portConstraints": "FIXED_ORDER"
              }
             },
             {
              "hwMeta": {
               "cls": "Operator",
               "maxId": 415,
               "name": "FF"
              },
              "id": "16",
              "ports": [
               {
                "children": [],
                "direction": "OUTPUT",
                "hwMeta": {
                 "connectedAsParent": false,
                 "level": 0,
                 "name": "o"
                },
                "id": "166",
                "properties": {
                 "index": 0,
                 "side": "EAST"
                }
               },
               {
                "children": [],
                "direction": "INPUT",
                "hwMeta": {
                 "connectedAsParent": false,
                 "level": 0,
                 "name": "i"
                },
                "id": "167",
                "properties": {
                 "index": 1,
                 "side": "WEST"
                }
               },
               {
                "children": [],
                "direction": "INPUT",
                "hwMeta": {
                 "connectedAsParent": false,
                 "level": 0,
                 "name": "clk"
                },
                "id": "168",
                "properties": {
                 "index": 2,
                 "side": "WEST"
                }
               }
              ],
              "properties": {
               "org.eclipse.elk.layered.mergeEdges": 1,
               "org.eclipse.elk.portConstraints": "FIXED_ORDER"
              }
             },
             {
              "hwMeta": {
               "cls": "Operator",
               "maxId": 415,
               "name": "MUX"
              },
              "id": "3",
              "ports": [
               {
                "children": [],
                "direction": "OUTPUT",
                "hwMeta": {
                 "connectedAsParent": false,
                 "level": 0,
                 "name": ""
                },
                "id": "127",
                "properties": {
                 "index": 0,
                 "side": "EAST"
                }
               },
               {
                "children": [],
                "direction": "INPUT",
                "hwMeta": {
                 "connectedAsParent": false,
                 "level": 0,
                 "name": ""
                },
                "id": "128",
                "properties": {
                 "index": 1,
                 "side": "SOUTH"
                }
               },
               {
                "children": [],
                "direction": "INPUT",
                "hwMeta": {
                 "connectedAsParent": false,
                 "level": 0,
                 "name": ""
                },
                "id": "129",
                "properties": {
                 "index": 2,
                 "side": "WEST"
                }
               },
               {
                "children": [],
                "direction": "INPUT",
                "hwMeta": {
                 "connectedAsParent": false,
                 "level": 0,
                 "name": ""
                },
                "id": "130",
                "properties": {
                 "index": 3,
                 "side": "WEST"
                }
               }
              ],
              "properties": {
               "org.eclipse.elk.layered.mergeEdges": 1,
               "org.eclipse.elk.portConstraints": "FIXED_ORDER"
              }
             },
             {
              "hwMeta": {
               "cls": "Operator",
               "maxId": 415,
               "name": "EQ"
              },
              "id": "4",
              "ports": [
               {
                "children": [],
                "direction": "OUTPUT",
                "hwMeta": {
                 "connectedAsParent": false,
                 "level": 0,
                 "name": null
                },
                "id": "131",
                "properties": {
                 "index": 0,
                 "side": "EAST"
                }
               },
               {
                "children": [],
                "direction": "INPUT",
                "hwMeta": {
                 "connectedAsParent": false,
                 "level": 0,
                 "name": null
                },
                "id": "132",
                "properties": {
                 "index": 1,
                 "side": "WEST"
                }
               },
               {
                "children": [],
                "direction": "INPUT",
                "hwMeta": {
                 "connectedAsParent": false,
                 "level": 0,
                 "name": null
                },
                "id": "133",
                "properties": {
                 "index": 2,
                 "side": "WEST"
                }
               }
              ],
              "properties": {
               "org.eclipse.elk.layered.mergeEdges": 1,
               "org.eclipse.elk.portConstraints": "FIXED_ORDER"
              }
             },
             {
              "hwMeta": {
               "bodyText": "0",
               "cls": "Operator",
               "maxId": 415,
               "name": null
              },
              "id": "5",
              "ports": [
               {
                "children": [],
                "direction": "OUTPUT",
                "hwMeta": {
                 "connectedAsParent": false,
                 "level": 0,
                 "name": null
                },
                "id": "134",
                "properties": {
                 "side": "EAST"
                }
               }
              ],
              "properties": {
               "org.eclipse.elk.layered.mergeEdges": 1,
               "org.eclipse.elk.portConstraints": "FREE"
              }
             },
             {
              "hwMeta": {
               "bodyText": "0",
               "cls": "Operator",
               "maxId": 415,
               "name": null
              },
              "id": "6",
              "ports": [
               {
                "children": [],
                "direction": "OUTPUT",
                "hwMeta": {
                 "connectedAsParent": false,
                 "level": 0,
                 "name": null
                },
                "id": "135",
                "properties": {
                 "side": "EAST"
                }
               }
              ],
              "properties": {
               "org.eclipse.elk.layered.mergeEdges": 1,
               "org.eclipse.elk.portConstraints": "FREE"
              }
             },
             {
              "hwMeta": {
               "cls": "Operator",
               "maxId": 415,
               "name": "FF"
              },
              "id": "7",
              "ports": [
               {
                "children": [],
                "direction": "OUTPUT",
                "hwMeta": {
                 "connectedAsParent": false,
                 "level": 0,
                 "name": "o"
                },
                "id": "136",
                "properties": {
                 "index": 0,
                 "side": "EAST"
                }
               },
               {
                "children": [],
                "direction": "INPUT",
                "hwMeta": {
                 "connectedAsParent": false,
                 "level": 0,
                 "name": "i"
                },
                "id": "137",
                "properties": {
                 "index": 1,
                 "side": "WEST"
                }
               },
               {
                "children": [],
                "direction": "INPUT",
                "hwMeta": {
                 "connectedAsParent": false,
                 "level": 0,
                 "name": "clk"
                },
                "id": "138",
                "properties": {
                 "index": 2,
                 "side": "WEST"
                }
               }
              ],
              "properties": {
               "org.eclipse.elk.layered.mergeEdges": 1,
               "org.eclipse.elk.portConstraints": "FIXED_ORDER"
              }
             },
             {
              "hwMeta": {
               "cls": "Operator",
               "maxId": 415,
               "name": "RISING_EDGE"
              },
              "id": "8",
              "ports": [
               {
                "children": [],
                "direction": "OUTPUT",
                "hwMeta": {
                 "connectedAsParent": false,
                 "level": 0,
                 "name": null
                },
                "id": "139",
                "properties": {
                 "index": 0,
                 "side": "EAST"
                }
               },
               {
                "children": [],
                "direction": "INPUT",
                "hwMeta": {
                 "connectedAsParent": false,
                 "level": 0,
                 "name": null
                },
                "id": "140",
                "properties": {
                 "index": 1,
                 "side": "WEST"
                }
               }
              ],
              "properties": {
               "org.eclipse.elk.layered.mergeEdges": 1,
               "org.eclipse.elk.portConstraints": "FIXED_ORDER"
              }
             },
             {
              "hwMeta": {
               "cls": "Operator",
               "maxId": 415,
               "name": "MUX"
              },
              "id": "9",
              "ports": [
               {
                "children": [],
                "direction": "OUTPUT",
                "hwMeta": {
                 "connectedAsParent": false,
                 "level": 0,
                 "name": ""
                },
                "id": "141",
                "properties": {
                 "index": 0,
                 "side": "EAST"
                }
               },
               {
                "children": [],
                "direction": "INPUT",
                "hwMeta": {
                 "connectedAsParent": false,
                 "level": 0,
                 "name": ""
                },
                "id": "142",
                "properties": {
                 "index": 1,
                 "side": "SOUTH"
                }
               },
               {
                "children": [],
                "direction": "INPUT",
                "hwMeta": {
                 "connectedAsParent": false,
                 "level": 0,
                 "name": ""
                },
                "id": "143",
                "properties": {
                 "index": 2,
                 "side": "WEST"
                }
               },
               {
                "children": [],
                "direction": "INPUT",
                "hwMeta": {
                 "connectedAsParent": false,
                 "level": 0,
                 "name": ""
                },
                "id": "144",
                "properties": {
                 "index": 3,
                 "side": "WEST"
                }
               }
              ],
              "properties": {
               "org.eclipse.elk.layered.mergeEdges": 1,
               "org.eclipse.elk.portConstraints": "FIXED_ORDER"
              }
             }
            ],
            "_edges": [
             {
              "hwMeta": {
               "name": null
              },
              "id": "416",
              "source": "3",
              "sourcePort": "127",
              "target": "7",
              "targetPort": "137"
             },
             {
              "hwMeta": {
               "name": "dataIn_rst_n._eq(0)"
              },
              "id": "417",
              "sources": [
               [
                "4",
                "131"
               ]
              ],
              "targets": [
               [
                "3",
                "128"
               ],
               [
                "9",
                "142"
               ],
               [
                "11",
                "149"
               ],
               [
                "13",
                "156"
               ],
               [
                "15",
                "163"
               ]
              ]
             },
             {
              "hwMeta": {
               "name": "w_gray_next"
              },
              "id": "418",
              "source": "2",
              "sourcePort": "120",
              "target": "3",
              "targetPort": "129"
             },
             {
              "hwMeta": {
               "name": "<BitsVal 0>"
              },
              "id": "419",
              "sources": [
               [
                "6",
                "135"
               ]
              ],
              "targets": [
               [
                "3",
                "130"
               ],
               [
                "11",
                "151"
               ],
               [
                "13",
                "158"
               ],
               [
                "15",
                "165"
               ]
              ]
             },
             {
              "hwMeta": {
               "name": "<BitsVal 0>"
              },
              "id": "420",
              "sources": [
               [
                "5",
                "134"
               ]
              ],
              "targets": [
               [
                "4",
                "132"
               ],
               [
                "9",
                "144"
               ]
              ]
             },
             {
              "hwMeta": {
               "name": "dataIn_rst_n"
              },
              "id": "421",
              "source": "2",
              "sourcePort": "125",
              "target": "4",
              "targetPort": "133"
             },
             {
              "hwMeta": {
               "name": "w_gray"
              },
              "id": "422",
              "source": "7",
              "sourcePort": "136",
              "target": "2",
              "targetPort": "119"
             },
             {
              "hwMeta": {
               "name": "dataIn_clk._onRisingEdge()"
              },
              "id": "423",
              "sources": [
               [
                "8",
                "139"
               ]
              ],
              "targets": [
               [
                "7",
                "138"
               ],
               [
                "10",
                "147"
               ],
               [
                "12",
                "154"
               ],
               [
                "14",
                "161"
               ],
               [
                "16",
                "168"
               ]
              ]
             },
             {
              "hwMeta": {
               "name": "dataIn_clk"
              },
              "id": "424",
              "source": "2",
              "sourcePort": "126",
              "target": "8",
              "targetPort": "140"
             },
             {
              "hwMeta": {
               "name": null
              },
              "id": "425",
              "source": "9",
              "sourcePort": "141",
              "target": "10",
              "targetPort": "146"
             },
             {
              "hwMeta": {
               "name": "w_full_next"
              },
              "id": "426",
              "source": "2",
              "sourcePort": "121",
              "target": "9",
              "targetPort": "143"
             },
             {
              "hwMeta": {
               "name": "w_full"
              },
              "id": "427",
              "source": "10",
              "sourcePort": "145",
              "target": "2",
              "targetPort": "118"
             },
             {
              "hwMeta": {
               "name": null
              },
              "id": "428",
              "source": "11",
              "sourcePort": "148",
              "target": "12",
              "targetPort": "153"
             },
             {
              "hwMeta": {
               "name": "w_bin_next"
              },
              "id": "429",
              "source": "2",
              "sourcePort": "122",
              "target": "11",
              "targetPort": "150"
             },
             {
              "hwMeta": {
               "name": "w_bin"
              },
              "id": "430",
              "source": "12",
              "sourcePort": "152",
              "target": "2",
              "targetPort": "117"
             },
             {
              "hwMeta": {
               "name": null
              },
              "id": "431",
              "source": "13",
              "sourcePort": "155",
              "target": "14",
              "targetPort": "160"
             },
             {
              "hwMeta": {
               "name": "r_gray_out_reg1_next"
              },
              "id": "432",
              "source": "2",
              "sourcePort": "123",
              "target": "13",
              "targetPort": "157"
             },
             {
              "hwMeta": {
               "name": "r_gray_out_reg1"
              },
              "id": "433",
              "source": "14",
              "sourcePort": "159",
              "target": "2",
              "targetPort": "116"
             },
             {
              "hwMeta": {
               "name": null
              },
              "id": "434",
              "source": "15",
              "sourcePort": "162",
              "target": "16",
              "targetPort": "167"
             },
             {
              "hwMeta": {
               "name": "r_gray_out_reg0_next"
              },
              "id": "435",
              "source": "2",
              "sourcePort": "124",
              "target": "15",
              "targetPort": "164"
             },
             {
              "hwMeta": {
               "name": "r_gray_out_reg0"
              },
              "id": "436",
              "source": "16",
              "sourcePort": "166",
              "target": "2",
              "targetPort": "115"
             }
            ],
            "hwMeta": {
             "bodyText": "If(dataIn_clk._onRisingEdge(),\n    If(dataIn_rst_n._eq(0),\n        w_gray(0),\n        w_full(0),\n        w_bin(0),\n        r_gray_out_reg1(0),\n        r_gray_out_reg0(0)\n    ).Else(\n        w_gray(w_gray_next),\n        w_full(w_full_next),\n        w_bin(w_bin_next),\n        r_gray_out_reg1(r_gray_out_reg1_next),\n        r_gray_out_reg0(r_gray_out_reg0_next)\n    )\n)",
             "cls": "Process",
             "maxId": 436,
             "name": null
            },
            "id": "2",
            "ports": [
             {
              "children": [],
              "direction": "OUTPUT",
              "hwMeta": {
               "connectedAsParent": false,
               "level": 0,
               "name": "r_gray_out_reg0"
              },
              "id": "115",
              "properties": {
               "index": 0,
               "side": "EAST"
              }
             },
             {
              "children": [],
              "direction": "OUTPUT",
              "hwMeta": {
               "connectedAsParent": false,
               "level": 0,
               "name": "r_gray_out_reg1"
              },
              "id": "116",
              "properties": {
               "index": 1,
               "side": "EAST"
              }
             },
             {
              "children": [],
              "direction": "OUTPUT",
              "hwMeta": {
               "connectedAsParent": false,
               "level": 0,
               "name": "w_bin"
              },
              "id": "117",
              "properties": {
               "index": 2,
               "side": "EAST"
              }
             },
             {
              "children": [],
              "direction": "OUTPUT",
              "hwMeta": {
               "connectedAsParent": false,
               "level": 0,
               "name": "w_full"
              },
              "id": "118",
              "properties": {
               "index": 3,
               "side": "EAST"
              }
             },
             {
              "children": [],
              "direction": "OUTPUT",
              "hwMeta": {
               "connectedAsParent": false,
               "level": 0,
               "name": "w_gray"
              },
              "id": "119",
              "properties": {
               "index": 4,
               "side": "EAST"
              }
             },
             {
              "children": [],
              "direction": "INPUT",
              "hwMeta": {
               "connectedAsParent": false,
               "level": 0,
               "name": "w_gray_next"
              },
              "id": "120",
              "properties": {
               "index": 5,
               "side": "WEST"
              }
             },
             {
              "children": [],
              "direction": "INPUT",
              "hwMeta": {
               "connectedAsParent": false,
               "level": 0,
               "name": "w_full_next"
              },
              "id": "121",
              "properties": {
               "index": 6,
               "side": "WEST"
              }
             },
             {
              "children": [],
              "direction": "INPUT",
              "hwMeta": {
               "connectedAsParent": false,
               "level": 0,
               "name": "w_bin_next"
              },
              "id": "122",
              "properties": {
               "index": 7,
               "side": "WEST"
              }
             },
             {
              "children": [],
              "direction": "INPUT",
              "hwMeta": {
               "connectedAsParent": false,
               "level": 0,
               "name": "r_gray_out_reg1_next"
              },
              "id": "123",
              "properties": {
               "index": 8,
               "side": "WEST"
              }
             },
             {
              "children": [],
              "direction": "INPUT",
              "hwMeta": {
               "connectedAsParent": false,
               "level": 0,
               "name": "r_gray_out_reg0_next"
              },
              "id": "124",
              "properties": {
               "index": 9,
               "side": "WEST"
              }
             },
             {
              "children": [],
              "direction": "INPUT",
              "hwMeta": {
               "connectedAsParent": false,
               "level": 0,
               "name": "dataIn_rst_n"
              },
              "id": "125",
              "properties": {
               "index": 10,
               "side": "WEST"
              }
             },
             {
              "children": [],
              "direction": "INPUT",
              "hwMeta": {
               "connectedAsParent": false,
               "level": 0,
               "name": "dataIn_clk"
              },
              "id": "126",
              "properties": {
               "index": 11,
               "side": "WEST"
              }
             }
            ],
            "properties": {
             "org.eclipse.elk.layered.mergeEdges": 1,
             "org.eclipse.elk.portConstraints": "FIXED_ORDER"
            }
           },
           {
            "_children": [
             {
              "hwMeta": {
               "cls": "Operator",
               "maxId": 446,
               "name": "MUX"
              },
              "id": "24",
              "ports": [
               {
                "children": [],
                "direction": "OUTPUT",
                "hwMeta": {
                 "connectedAsParent": false,
                 "level": 0,
                 "name": ""
                },
                "id": "201",
                "properties": {
                 "index": 0,
                 "side": "EAST"
                }
               },
               {
                "children": [],
                "direction": "INPUT",
                "hwMeta": {
                 "connectedAsParent": false,
                 "level": 0,
                 "name": ""
                },
                "id": "202",
                "properties": {
                 "index": 1,
                 "side": "SOUTH"
                }
               },
               {
                "children": [],
                "direction": "INPUT",
                "hwMeta": {
                 "connectedAsParent": false,
                 "level": 0,
                 "name": ""
                },
                "id": "203",
                "properties": {
                 "index": 2,
                 "side": "WEST"
                }
               },
               {
                "children": [],
                "direction": "INPUT",
                "hwMeta": {
                 "connectedAsParent": false,
                 "level": 0,
                 "name": ""
                },
                "id": "204",
                "properties": {
                 "index": 3,
                 "side": "WEST"
                }
               }
              ],
              "properties": {
               "org.eclipse.elk.layered.mergeEdges": 1,
               "org.eclipse.elk.portConstraints": "FIXED_ORDER"
              }
             },
             {
              "hwMeta": {
               "cls": "Operator",
               "maxId": 446,
               "name": "EQ"
              },
              "id": "25",
              "ports": [
               {
                "children": [],
                "direction": "OUTPUT",
                "hwMeta": {
                 "connectedAsParent": false,
                 "level": 0,
                 "name": null
                },
                "id": "205",
                "properties": {
                 "index": 0,
                 "side": "EAST"
                }
               },
               {
                "children": [],
                "direction": "INPUT",
                "hwMeta": {
                 "connectedAsParent": false,
                 "level": 0,
                 "name": null
                },
                "id": "206",
                "properties": {
                 "index": 1,
                 "side": "WEST"
                }
               },
               {
                "children": [],
                "direction": "INPUT",
                "hwMeta": {
                 "connectedAsParent": false,
                 "level": 0,
                 "name": null
                },
                "id": "207",
                "properties": {
                 "index": 2,
                 "side": "WEST"
                }
               }
              ],
              "properties": {
               "org.eclipse.elk.layered.mergeEdges": 1,
               "org.eclipse.elk.portConstraints": "FIXED_ORDER"
              }
             },
             {
              "hwMeta": {
               "bodyText": "0",
               "cls": "Operator",
               "maxId": 446,
               "name": null
              },
              "id": "26",
              "ports": [
               {
                "children": [],
                "direction": "OUTPUT",
                "hwMeta": {
                 "connectedAsParent": false,
                 "level": 0,
                 "name": null
                },
                "id": "208",
                "properties": {
                 "side": "EAST"
                }
               }
              ],
              "properties": {
               "org.eclipse.elk.layered.mergeEdges": 1,
               "org.eclipse.elk.portConstraints": "FREE"
              }
             },
             {
              "hwMeta": {
               "bodyText": "0",
               "cls": "Operator",
               "maxId": 446,
               "name": null
              },
              "id": "27",
              "ports": [
               {
                "children": [],
                "direction": "OUTPUT",
                "hwMeta": {
                 "connectedAsParent": false,
                 "level": 0,
                 "name": null
                },
                "id": "209",
                "properties": {
                 "side": "EAST"
                }
               }
              ],
              "properties": {
               "org.eclipse.elk.layered.mergeEdges": 1,
               "org.eclipse.elk.portConstraints": "FREE"
              }
             },
             {
              "hwMeta": {
               "cls": "Operator",
               "maxId": 446,
               "name": "FF"
              },
              "id": "28",
              "ports": [
               {
                "children": [],
                "direction": "OUTPUT",
                "hwMeta": {
                 "connectedAsParent": false,
                 "level": 0,
                 "name": "o"
                },
                "id": "210",
                "properties": {
                 "index": 0,
                 "side": "EAST"
                }
               },
               {
                "children": [],
                "direction": "INPUT",
                "hwMeta": {
                 "connectedAsParent": false,
                 "level": 0,
                 "name": "i"
                },
                "id": "211",
                "properties": {
                 "index": 1,
                 "side": "WEST"
                }
               },
               {
                "children": [],
                "direction": "INPUT",
                "hwMeta": {
                 "connectedAsParent": false,
                 "level": 0,
                 "name": "clk"
                },
                "id": "212",
                "properties": {
                 "index": 2,
                 "side": "WEST"
                }
               }
              ],
              "properties": {
               "org.eclipse.elk.layered.mergeEdges": 1,
               "org.eclipse.elk.portConstraints": "FIXED_ORDER"
              }
             },
             {
              "hwMeta": {
               "cls": "Operator",
               "maxId": 446,
               "name": "RISING_EDGE"
              },
              "id": "29",
              "ports": [
               {
                "children": [],
                "direction": "OUTPUT",
                "hwMeta": {
                 "connectedAsParent": false,
                 "level": 0,
                 "name": null
                },
                "id": "213",
                "properties": {
                 "index": 0,
                 "side": "EAST"
                }
               },
               {
                "children": [],
                "direction": "INPUT",
                "hwMeta": {
                 "connectedAsParent": false,
                 "level": 0,
                 "name": null
                },
                "id": "214",
                "properties": {
                 "index": 1,
                 "side": "WEST"
                }
               }
              ],
              "properties": {
               "org.eclipse.elk.layered.mergeEdges": 1,
               "org.eclipse.elk.portConstraints": "FIXED_ORDER"
              }
             },
             {
              "hwMeta": {
               "cls": "Operator",
               "maxId": 446,
               "name": "MUX"
              },
              "id": "30",
              "ports": [
               {
                "children": [],
                "direction": "OUTPUT",
                "hwMeta": {
                 "connectedAsParent": false,
                 "level": 0,
                 "name": ""
                },
                "id": "215",
                "properties": {
                 "index": 0,
                 "side": "EAST"
                }
               },
               {
                "children": [],
                "direction": "INPUT",
                "hwMeta": {
                 "connectedAsParent": false,
                 "level": 0,
                 "name": ""
                },
                "id": "216",
                "properties": {
                 "index": 1,
                 "side": "SOUTH"
                }
               },
               {
                "children": [],
                "direction": "INPUT",
                "hwMeta": {
                 "connectedAsParent": false,
                 "level": 0,
                 "name": ""
                },
                "id": "217",
                "properties": {
                 "index": 2,
                 "side": "WEST"
                }
               },
               {
                "children": [],
                "direction": "INPUT",
                "hwMeta": {
                 "connectedAsParent": false,
                 "level": 0,
                 "name": ""
                },
                "id": "218",
                "properties": {
                 "index": 3,
                 "side": "WEST"
                }
               }
              ],
              "properties": {
               "org.eclipse.elk.layered.mergeEdges": 1,
               "org.eclipse.elk.portConstraints": "FIXED_ORDER"
              }
             },
             {
              "hwMeta": {
               "cls": "Operator",
               "maxId": 446,
               "name": "FF"
              },
              "id": "31",
              "ports": [
               {
                "children": [],
                "direction": "OUTPUT",
                "hwMeta": {
                 "connectedAsParent": false,
                 "level": 0,
                 "name": "o"
                },
                "id": "219",
                "properties": {
                 "index": 0,
                 "side": "EAST"
                }
               },
               {
                "children": [],
                "direction": "INPUT",
                "hwMeta": {
                 "connectedAsParent": false,
                 "level": 0,
                 "name": "i"
                },
                "id": "220",
                "properties": {
                 "index": 1,
                 "side": "WEST"
                }
               },
               {
                "children": [],
                "direction": "INPUT",
                "hwMeta": {
                 "connectedAsParent": false,
                 "level": 0,
                 "name": "clk"
                },
                "id": "221",
                "properties": {
                 "index": 2,
                 "side": "WEST"
                }
               }
              ],
              "properties": {
               "org.eclipse.elk.layered.mergeEdges": 1,
               "org.eclipse.elk.portConstraints": "FIXED_ORDER"
              }
             },
             {
              "hwMeta": {
               "cls": "Operator",
               "maxId": 446,
               "name": "MUX"
              },
              "id": "32",
              "ports": [
               {
                "children": [],
                "direction": "OUTPUT",
                "hwMeta": {
                 "connectedAsParent": false,
                 "level": 0,
                 "name": ""
                },
                "id": "222",
                "properties": {
                 "index": 0,
                 "side": "EAST"
                }
               },
               {
                "children": [],
                "direction": "INPUT",
                "hwMeta": {
                 "connectedAsParent": false,
                 "level": 0,
                 "name": ""
                },
                "id": "223",
                "properties": {
                 "index": 1,
                 "side": "SOUTH"
                }
               },
               {
                "children": [],
                "direction": "INPUT",
                "hwMeta": {
                 "connectedAsParent": false,
                 "level": 0,
                 "name": ""
                },
                "id": "224",
                "properties": {
                 "index": 2,
                 "side": "WEST"
                }
               },
               {
                "children": [],
                "direction": "INPUT",
                "hwMeta": {
                 "connectedAsParent": false,
                 "level": 0,
                 "name": ""
                },
                "id": "225",
                "properties": {
                 "index": 3,
                 "side": "WEST"
                }
               }
              ],
              "properties": {
               "org.eclipse.elk.layered.mergeEdges": 1,
               "org.eclipse.elk.portConstraints": "FIXED_ORDER"
              }
             },
             {
              "hwMeta": {
               "cls": "Operator",
               "maxId": 446,
               "name": "FF"
              },
              "id": "33",
              "ports": [
               {
                "children": [],
                "direction": "OUTPUT",
                "hwMeta": {
                 "connectedAsParent": false,
                 "level": 0,
                 "name": "o"
                },
                "id": "226",
                "properties": {
                 "index": 0,
                 "side": "EAST"
                }
               },
               {
                "children": [],
                "direction": "INPUT",
                "hwMeta": {
                 "connectedAsParent": false,
                 "level": 0,
                 "name": "i"
                },
                "id": "227",
                "properties": {
                 "index": 1,
                 "side": "WEST"
                }
               },
               {
                "children": [],
                "direction": "INPUT",
                "hwMeta": {
                 "connectedAsParent": false,
                 "level": 0,
                 "name": "clk"
                },
                "id": "228",
                "properties": {
                 "index": 2,
                 "side": "WEST"
                }
               }
              ],
              "properties": {
               "org.eclipse.elk.layered.mergeEdges": 1,
               "org.eclipse.elk.portConstraints": "FIXED_ORDER"
              }
             },
             {
              "hwMeta": {
               "cls": "Operator",
               "maxId": 446,
               "name": "MUX"
              },
              "id": "34",
              "ports": [
               {
                "children": [],
                "direction": "OUTPUT",
                "hwMeta": {
                 "connectedAsParent": false,
                 "level": 0,
                 "name": ""
                },
                "id": "229",
                "properties": {
                 "index": 0,
                 "side": "EAST"
                }
               },
               {
                "children": [],
                "direction": "INPUT",
                "hwMeta": {
                 "connectedAsParent": false,
                 "level": 0,
                 "name": ""
                },
                "id": "230",
                "properties": {
                 "index": 1,
                 "side": "SOUTH"
                }
               },
               {
                "children": [],
                "direction": "INPUT",
                "hwMeta": {
                 "connectedAsParent": false,
                 "level": 0,
                 "name": ""
                },
                "id": "231",
                "properties": {
                 "index": 2,
                 "side": "WEST"
                }
               },
               {
                "children": [],
                "direction": "INPUT",
                "hwMeta": {
                 "connectedAsParent": false,
                 "level": 0,
                 "name": ""
                },
                "id": "232",
                "properties": {
                 "index": 3,
                 "side": "WEST"
                }
               }
              ],
              "properties": {
               "org.eclipse.elk.layered.mergeEdges": 1,
               "org.eclipse.elk.portConstraints": "FIXED_ORDER"
              }
             },
             {
              "hwMeta": {
               "bodyText": "1",
               "cls": "Operator",
               "maxId": 446,
               "name": null
              },
              "id": "35",
              "ports": [
               {
                "children": [],
                "direction": "OUTPUT",
                "hwMeta": {
                 "connectedAsParent": false,
                 "level": 0,
                 "name": null
                },
                "id": "233",
                "properties": {
                 "side": "EAST"
                }
               }
              ],
              "properties": {
               "org.eclipse.elk.layered.mergeEdges": 1,
               "org.eclipse.elk.portConstraints": "FREE"
              }
             },
             {
              "hwMeta": {
               "cls": "Operator",
               "maxId": 446,
               "name": "FF"
              },
              "id": "36",
              "ports": [
               {
                "children": [],
                "direction": "OUTPUT",
                "hwMeta": {
                 "connectedAsParent": false,
                 "level": 0,
                 "name": "o"
                },
                "id": "234",
                "properties": {
                 "index": 0,
                 "side": "EAST"
                }
               },
               {
                "children": [],
                "direction": "INPUT",
                "hwMeta": {
                 "connectedAsParent": false,
                 "level": 0,
                 "name": "i"
                },
                "id": "235",
                "properties": {
                 "index": 1,
                 "side": "WEST"
                }
               },
               {
                "children": [],
                "direction": "INPUT",
                "hwMeta": {
                 "connectedAsParent": false,
                 "level": 0,
                 "name": "clk"
                },
                "id": "236",
                "properties": {
                 "index": 2,
                 "side": "WEST"
                }
               }
              ],
              "properties": {
               "org.eclipse.elk.layered.mergeEdges": 1,
               "org.eclipse.elk.portConstraints": "FIXED_ORDER"
              }
             },
             {
              "hwMeta": {
               "cls": "Operator",
               "maxId": 446,
               "name": "MUX"
              },
              "id": "37",
              "ports": [
               {
                "children": [],
                "direction": "OUTPUT",
                "hwMeta": {
                 "connectedAsParent": false,
                 "level": 0,
                 "name": ""
                },
                "id": "237",
                "properties": {
                 "index": 0,
                 "side": "EAST"
                }
               },
               {
                "children": [],
                "direction": "INPUT",
                "hwMeta": {
                 "connectedAsParent": false,
                 "level": 0,
                 "name": ""
                },
                "id": "238",
                "properties": {
                 "index": 1,
                 "side": "SOUTH"
                }
               },
               {
                "children": [],
                "direction": "INPUT",
                "hwMeta": {
                 "connectedAsParent": false,
                 "level": 0,
                 "name": ""
                },
                "id": "239",
                "properties": {
                 "index": 2,
                 "side": "WEST"
                }
               },
               {
                "children": [],
                "direction": "INPUT",
                "hwMeta": {
                 "connectedAsParent": false,
                 "level": 0,
                 "name": ""
                },
                "id": "240",
                "properties": {
                 "index": 3,
                 "side": "WEST"
                }
               }
              ],
              "properties": {
               "org.eclipse.elk.layered.mergeEdges": 1,
               "org.eclipse.elk.portConstraints": "FIXED_ORDER"
              }
             },
             {
              "hwMeta": {
               "cls": "Operator",
               "maxId": 446,
               "name": "FF"
              },
              "id": "38",
              "ports": [
               {
                "children": [],
                "direction": "OUTPUT",
                "hwMeta": {
                 "connectedAsParent": false,
                 "level": 0,
                 "name": "o"
                },
                "id": "241",
                "properties": {
                 "index": 0,
                 "side": "EAST"
                }
               },
               {
                "children": [],
                "direction": "INPUT",
                "hwMeta": {
                 "connectedAsParent": false,
                 "level": 0,
                 "name": "i"
                },
                "id": "242",
                "properties": {
                 "index": 1,
                 "side": "WEST"
                }
               },
               {
                "children": [],
                "direction": "INPUT",
                "hwMeta": {
                 "connectedAsParent": false,
                 "level": 0,
                 "name": "clk"
                },
                "id": "243",
                "properties": {
                 "index": 2,
                 "side": "WEST"
                }
               }
              ],
              "properties": {
               "org.eclipse.elk.layered.mergeEdges": 1,
               "org.eclipse.elk.portConstraints": "FIXED_ORDER"
              }
             }
            ],
            "_edges": [
             {
              "hwMeta": {
               "name": null
              },
              "id": "447",
              "source": "24",
              "sourcePort": "201",
              "target": "28",
              "targetPort": "211"
             },
             {
              "hwMeta": {
               "name": "dataOut_rst_n._eq(0)"
              },
              "id": "448",
              "sources": [
               [
                "25",
                "205"
               ]
              ],
              "targets": [
               [
                "24",
                "202"
               ],
               [
                "30",
                "216"
               ],
               [
                "32",
                "223"
               ],
               [
                "34",
                "230"
               ],
               [
                "37",
                "238"
               ]
              ]
             },
             {
              "hwMeta": {
               "name": "w_gray_out_reg1_next"
              },
              "id": "449",
              "source": "23",
              "sourcePort": "194",
              "target": "24",
              "targetPort": "203"
             },
             {
              "hwMeta": {
               "name": "<BitsVal 0>"
              },
              "id": "450",
              "sources": [
               [
                "27",
                "209"
               ]
              ],
              "targets": [
               [
                "24",
                "204"
               ],
               [
                "30",
                "218"
               ],
               [
                "32",
                "225"
               ],
               [
                "37",
                "240"
               ]
              ]
             },
             {
              "hwMeta": {
               "name": "<BitsVal 0>"
              },
              "id": "451",
              "source": "26",
              "sourcePort": "208",
              "target": "25",
              "targetPort": "206"
             },
             {
              "hwMeta": {
               "name": "dataOut_rst_n"
              },
              "id": "452",
              "source": "23",
              "sourcePort": "199",
              "target": "25",
              "targetPort": "207"
             },
             {
              "hwMeta": {
               "name": "w_gray_out_reg1"
              },
              "id": "453",
              "source": "28",
              "sourcePort": "210",
              "target": "23",
              "targetPort": "193"
             },
             {
              "hwMeta": {
               "name": "dataOut_clk._onRisingEdge()"
              },
              "id": "454",
              "sources": [
               [
                "29",
                "213"
               ]
              ],
              "targets": [
               [
                "28",
                "212"
               ],
               [
                "31",
                "221"
               ],
               [
                "33",
                "228"
               ],
               [
                "36",
                "236"
               ],
               [
                "38",
                "243"
               ]
              ]
             },
             {
              "hwMeta": {
               "name": "dataOut_clk"
              },
              "id": "455",
              "source": "23",
              "sourcePort": "200",
              "target": "29",
              "targetPort": "214"
             },
             {
              "hwMeta": {
               "name": null
              },
              "id": "456",
              "source": "30",
              "sourcePort": "215",
              "target": "31",
              "targetPort": "220"
             },
             {
              "hwMeta": {
               "name": "w_gray_out_reg0_next"
              },
              "id": "457",
              "source": "23",
              "sourcePort": "195",
              "target": "30",
              "targetPort": "217"
             },
             {
              "hwMeta": {
               "name": "w_gray_out_reg0"
              },
              "id": "458",
              "source": "31",
              "sourcePort": "219",
              "target": "23",
              "targetPort": "192"
             },
             {
              "hwMeta": {
               "name": null
              },
              "id": "459",
              "source": "32",
              "sourcePort": "222",
              "target": "33",
              "targetPort": "227"
             },
             {
              "hwMeta": {
               "name": "r_gray_next"
              },
              "id": "460",
              "source": "23",
              "sourcePort": "196",
              "target": "32",
              "targetPort": "224"
             },
             {
              "hwMeta": {
               "name": "r_gray"
              },
              "id": "461",
              "source": "33",
              "sourcePort": "226",
              "target": "23",
              "targetPort": "191"
             },
             {
              "hwMeta": {
               "name": null
              },
              "id": "462",
              "source": "34",
              "sourcePort": "229",
              "target": "36",
              "targetPort": "235"
             },
             {
              "hwMeta": {
               "name": "r_empty_next"
              },
              "id": "463",
              "source": "23",
              "sourcePort": "197",
              "target": "34",
              "targetPort": "231"
             },
             {
              "hwMeta": {
               "name": "<BitsVal 1>"
              },
              "id": "464",
              "source": "35",
              "sourcePort": "233",
              "target": "34",
              "targetPort": "232"
             },
             {
              "hwMeta": {
               "name": "r_empty"
              },
              "id": "465",
              "source": "36",
              "sourcePort": "234",
              "target": "23",
              "targetPort": "190"
             },
             {
              "hwMeta": {
               "name": null
              },
              "id": "466",
              "source": "37",
              "sourcePort": "237",
              "target": "38",
              "targetPort": "242"
             },
             {
              "hwMeta": {
               "name": "r_bin_next"
              },
              "id": "467",
              "source": "23",
              "sourcePort": "198",
              "target": "37",
              "targetPort": "239"
             },
             {
              "hwMeta": {
               "name": "r_bin"
              },
              "id": "468",
              "source": "38",
              "sourcePort": "241",
              "target": "23",
              "targetPort": "189"
             }
            ],
            "hwMeta": {
             "bodyText": "If(dataOut_clk._onRisingEdge(),\n    If(dataOut_rst_n._eq(0),\n        w_gray_out_reg1(0),\n        w_gray_out_reg0(0),\n        r_gray(0),\n        r_empty(1),\n        r_bin(0)\n    ).Else(\n        w_gray_out_reg1(w_gray_out_reg1_next),\n        w_gray_out_reg0(w_gray_out_reg0_next),\n        r_gray(r_gray_next),\n        r_empty(r_empty_next),\n        r_bin(r_bin_next)\n    )\n)",
             "cls": "Process",
             "maxId": 468,
             "name": null
            },
            "id": "23",
            "ports": [
             {
              "children": [],
              "direction": "OUTPUT",
              "hwMeta": {
               "connectedAsParent": false,
               "level": 0,
               "name": "r_bin"
              },
              "id": "189",
              "properties": {
               "index": 0,
               "side": "EAST"
              }
             },
             {
              "children": [],
              "direction": "OUTPUT",
              "hwMeta": {
               "connectedAsParent": false,
               "level": 0,
               "name": "r_empty"
              },
              "id": "190",
              "properties": {
               "index": 1,
               "side": "EAST"
              }
             },
             {
              "children": [],
              "direction": "OUTPUT",
              "hwMeta": {
               "connectedAsParent": false,
               "level": 0,
               "name": "r_gray"
              },
              "id": "191",
              "properties": {
               "index": 2,
               "side": "EAST"
              }
             },
             {
              "children": [],
              "direction": "OUTPUT",
              "hwMeta": {
               "connectedAsParent": false,
               "level": 0,
               "name": "w_gray_out_reg0"
              },
              "id": "192",
              "properties": {
               "index": 3,
               "side": "EAST"
              }
             },
             {
              "children": [],
              "direction": "OUTPUT",
              "hwMeta": {
               "connectedAsParent": false,
               "level": 0,
               "name": "w_gray_out_reg1"
              },
              "id": "193",
              "properties": {
               "index": 4,
               "side": "EAST"
              }
             },
             {
              "children": [],
              "direction": "INPUT",
              "hwMeta": {
               "connectedAsParent": false,
               "level": 0,
               "name": "w_gray_out_reg1_next"
              },
              "id": "194",
              "properties": {
               "index": 5,
               "side": "WEST"
              }
             },
             {
              "children": [],
              "direction": "INPUT",
              "hwMeta": {
               "connectedAsParent": false,
               "level": 0,
               "name": "w_gray_out_reg0_next"
              },
              "id": "195",
              "properties": {
               "index": 6,
               "side": "WEST"
              }
             },
             {
              "children": [],
              "direction": "INPUT",
              "hwMeta": {
               "connectedAsParent": false,
               "level": 0,
               "name": "r_gray_next"
              },
              "id": "196",
              "properties": {
               "index": 7,
               "side": "WEST"
              }
             },
             {
              "children": [],
              "direction": "INPUT",
              "hwMeta": {
               "connectedAsParent": false,
               "level": 0,
               "name": "r_empty_next"
              },
              "id": "197",
              "properties": {
               "index": 8,
               "side": "WEST"
              }
             },
             {
              "children": [],
              "direction": "INPUT",
              "hwMeta": {
               "connectedAsParent": false,
               "level": 0,
               "name": "r_bin_next"
              },
              "id": "198",
              "properties": {
               "index": 9,
               "side": "WEST"
              }
             },
             {
              "children": [],
              "direction": "INPUT",
              "hwMeta": {
               "connectedAsParent": false,
               "level": 0,
               "name": "dataOut_rst_n"
              },
              "id": "199",
              "properties": {
               "index": 10,
               "side": "WEST"
              }
             },
             {
              "children": [],
              "direction": "INPUT",
              "hwMeta": {
               "connectedAsParent": false,
               "level": 0,
               "name": "dataOut_clk"
              },
              "id": "200",
              "properties": {
               "index": 11,
               "side": "WEST"
              }
             }
            ],
            "properties": {
             "org.eclipse.elk.layered.mergeEdges": 1,
             "org.eclipse.elk.portConstraints": "FIXED_ORDER"
            }
           },
           {
            "_children": [
             {
              "hwMeta": {
               "cls": "Operator",
               "maxId": 468,
               "name": "FF"
              },
              "id": "40",
              "ports": [
               {
                "children": [],
                "direction": "OUTPUT",
                "hwMeta": {
                 "connectedAsParent": false,
                 "level": 0,
                 "name": "o"
                },
                "id": "247",
                "properties": {
                 "index": 0,
                 "side": "EAST"
                }
               },
               {
                "children": [],
                "direction": "INPUT",
                "hwMeta": {
                 "connectedAsParent": false,
                 "level": 0,
                 "name": "i"
                },
                "id": "248",
                "properties": {
                 "index": 1,
                 "side": "WEST"
                }
               },
               {
                "children": [],
                "direction": "INPUT",
                "hwMeta": {
                 "connectedAsParent": false,
                 "level": 0,
                 "name": "clk"
                },
                "id": "249",
                "properties": {
                 "index": 2,
                 "side": "WEST"
                }
               }
              ],
              "properties": {
               "org.eclipse.elk.layered.mergeEdges": 1,
               "org.eclipse.elk.portConstraints": "FIXED_ORDER"
              }
             },
             {
              "hwMeta": {
               "cls": "Operator",
               "maxId": 468,
               "name": "RISING_EDGE"
              },
              "id": "41",
              "ports": [
               {
                "children": [],
                "direction": "OUTPUT",
                "hwMeta": {
                 "connectedAsParent": false,
                 "level": 0,
                 "name": null
                },
                "id": "250",
                "properties": {
                 "index": 0,
                 "side": "EAST"
                }
               },
               {
                "children": [],
                "direction": "INPUT",
                "hwMeta": {
                 "connectedAsParent": false,
                 "level": 0,
                 "name": null
                },
                "id": "251",
                "properties": {
                 "index": 1,
                 "side": "WEST"
                }
               }
              ],
              "properties": {
               "org.eclipse.elk.layered.mergeEdges": 1,
               "org.eclipse.elk.portConstraints": "FIXED_ORDER"
              }
             }
            ],
            "_edges": [
             {
              "hwMeta": {
               "name": "r_reg"
              },
              "id": "469",
              "source": "40",
              "sourcePort": "247",
              "target": "39",
              "targetPort": "244"
             },
             {
              "hwMeta": {
               "name": "r_reg_next"
              },
              "id": "470",
              "source": "39",
              "sourcePort": "245",
              "target": "40",
              "targetPort": "248"
             },
             {
              "hwMeta": {
               "name": "dataOut_clk._onRisingEdge()"
              },
              "id": "471",
              "source": "41",
              "sourcePort": "250",
              "target": "40",
              "targetPort": "249"
             },
             {
              "hwMeta": {
               "name": "dataOut_clk"
              },
              "id": "472",
              "source": "39",
              "sourcePort": "246",
              "target": "41",
              "targetPort": "251"
             }
            ],
            "hwMeta": {
             "bodyText": "If(dataOut_clk._onRisingEdge(),\n    r_reg(r_reg_next)\n)",
             "cls": "Process",
             "maxId": 472,
             "name": null
            },
            "id": "39",
            "ports": [
             {
              "children": [],
              "direction": "OUTPUT",
              "hwMeta": {
               "connectedAsParent": false,
               "level": 0,
               "name": "r_reg"
              },
              "id": "244",
              "properties": {
               "index": 0,
               "side": "EAST"
              }
             },
             {
              "children": [],
              "direction": "INPUT",
              "hwMeta": {
               "connectedAsParent": false,
               "level": 0,
               "name": "r_reg_next"
              },
              "id": "245",
              "properties": {
               "index": 1,
               "side": "WEST"
              }
             },
             {
              "children": [],
              "direction": "INPUT",
              "hwMeta": {
               "connectedAsParent": false,
               "level": 0,
               "name": "dataOut_clk"
              },
              "id": "246",
              "properties": {
               "index": 2,
               "side": "WEST"
              }
             }
            ],
            "properties": {
             "org.eclipse.elk.layered.mergeEdges": 1,
             "org.eclipse.elk.portConstraints": "FIXED_ORDER"
            }
           },
           {
            "_children": [
             {
              "hwMeta": {
               "cls": "Operator",
               "maxId": 472,
               "name": "MUX"
              },
              "id": "43",
              "ports": [
               {
                "children": [],
                "direction": "OUTPUT",
                "hwMeta": {
                 "connectedAsParent": false,
                 "level": 0,
                 "name": ""
                },
                "id": "259",
                "properties": {
                 "index": 0,
                 "side": "EAST"
                }
               },
               {
                "children": [],
                "direction": "INPUT",
                "hwMeta": {
                 "connectedAsParent": false,
                 "level": 0,
                 "name": ""
                },
                "id": "260",
                "properties": {
                 "index": 1,
                 "side": "SOUTH"
                }
               },
               {
                "children": [],
                "direction": "INPUT",
                "hwMeta": {
                 "connectedAsParent": false,
                 "level": 0,
                 "name": ""
                },
                "id": "261",
                "properties": {
                 "index": 2,
                 "side": "WEST"
                }
               },
               {
                "children": [],
                "direction": "INPUT",
                "hwMeta": {
                 "connectedAsParent": false,
                 "level": 0,
                 "name": ""
                },
                "id": "262",
                "properties": {
                 "index": 3,
                 "side": "WEST"
                }
               }
              ],
              "properties": {
               "org.eclipse.elk.layered.mergeEdges": 1,
               "org.eclipse.elk.portConstraints": "FIXED_ORDER"
              }
             },
             {
              "hwMeta": {
               "cls": "Operator",
               "maxId": 472,
               "name": "AND"
              },
              "id": "44",
              "ports": [
               {
                "children": [],
                "direction": "OUTPUT",
                "hwMeta": {
                 "connectedAsParent": false,
                 "level": 0,
                 "name": null
                },
                "id": "263",
                "properties": {
                 "index": 0,
                 "side": "EAST"
                }
               },
               {
                "children": [],
                "direction": "INPUT",
                "hwMeta": {
                 "connectedAsParent": false,
                 "level": 0,
                 "name": null
                },
                "id": "264",
                "properties": {
                 "index": 1,
                 "side": "WEST"
                }
               },
               {
                "children": [],
                "direction": "INPUT",
                "hwMeta": {
                 "connectedAsParent": false,
                 "level": 0,
                 "name": null
                },
                "id": "265",
                "properties": {
                 "index": 2,
                 "side": "WEST"
                }
               }
              ],
              "properties": {
               "org.eclipse.elk.layered.mergeEdges": 1,
               "org.eclipse.elk.portConstraints": "FIXED_ORDER"
              }
             },
             {
              "hwMeta": {
               "cls": "Operator",
               "maxId": 472,
               "name": "NOT"
              },
              "id": "45",
              "ports": [
               {
                "children": [],
                "direction": "OUTPUT",
                "hwMeta": {
                 "connectedAsParent": false,
                 "level": 0,
                 "name": null
                },
                "id": "266",
                "properties": {
                 "index": 0,
                 "side": "EAST"
                }
               },
               {
                "children": [],
                "direction": "INPUT",
                "hwMeta": {
                 "connectedAsParent": false,
                 "level": 0,
                 "name": null
                },
                "id": "267",
                "properties": {
                 "index": 1,
                 "side": "WEST"
                }
               }
              ],
              "properties": {
               "org.eclipse.elk.layered.mergeEdges": 1,
               "org.eclipse.elk.portConstraints": "FIXED_ORDER"
              }
             },
             {
              "hwMeta": {
               "cls": "Operator",
               "maxId": 472,
               "name": "BitsAsVec"
              },
              "id": "46",
              "ports": [
               {
                "children": [],
                "direction": "OUTPUT",
                "hwMeta": {
                 "connectedAsParent": false,
                 "level": 0,
                 "name": null
                },
                "id": "268",
                "properties": {
                 "index": 0,
                 "side": "EAST"
                }
               },
               {
                "children": [],
                "direction": "INPUT",
                "hwMeta": {
                 "connectedAsParent": false,
                 "level": 0,
                 "name": null
                },
                "id": "269",
                "properties": {
                 "index": 1,
                 "side": "WEST"
                }
               }
              ],
              "properties": {
               "org.eclipse.elk.layered.mergeEdges": 1,
               "org.eclipse.elk.portConstraints": "FIXED_ORDER"
              }
             },
             {
              "hwMeta": {
               "cls": "Operator",
               "maxId": 472,
               "name": "ADD"
              },
              "id": "47",
              "ports": [
               {
                "children": [],
                "direction": "OUTPUT",
                "hwMeta": {
                 "connectedAsParent": false,
                 "level": 0,
                 "name": null
                },
                "id": "270",
                "properties": {
                 "index": 0,
                 "side": "EAST"
                }
               },
               {
                "children": [],
                "direction": "INPUT",
                "hwMeta": {
                 "connectedAsParent": false,
                 "level": 0,
                 "name": null
                },
                "id": "271",
                "properties": {
                 "index": 1,
                 "side": "WEST"
                }
               },
               {
                "children": [],
                "direction": "INPUT",
                "hwMeta": {
                 "connectedAsParent": false,
                 "level": 0,
                 "name": null
                },
                "id": "272",
                "properties": {
                 "index": 2,
                 "side": "WEST"
                }
               }
              ],
              "properties": {
               "org.eclipse.elk.layered.mergeEdges": 1,
               "org.eclipse.elk.portConstraints": "FIXED_ORDER"
              }
             },
             {
              "hwMeta": {
               "cls": "Operator",
               "maxId": 472,
               "name": "BitsAsUnsigned"
              },
              "id": "48",
              "ports": [
               {
                "children": [],
                "direction": "OUTPUT",
                "hwMeta": {
                 "connectedAsParent": false,
                 "level": 0,
                 "name": null
                },
                "id": "273",
                "properties": {
                 "index": 0,
                 "side": "EAST"
                }
               },
               {
                "children": [],
                "direction": "INPUT",
                "hwMeta": {
                 "connectedAsParent": false,
                 "level": 0,
                 "name": null
                },
                "id": "274",
                "properties": {
                 "index": 1,
                 "side": "WEST"
                }
               }
              ],
              "properties": {
               "org.eclipse.elk.layered.mergeEdges": 1,
               "org.eclipse.elk.portConstraints": "FIXED_ORDER"
              }
             },
             {
              "hwMeta": {
               "bodyText": "1",
               "cls": "Operator",
               "maxId": 472,
               "name": null
              },
              "id": "49",
              "ports": [
               {
                "children": [],
                "direction": "OUTPUT",
                "hwMeta": {
                 "connectedAsParent": false,
                 "level": 0,
                 "name": null
                },
                "id": "275",
                "properties": {
                 "side": "EAST"
                }
               }
              ],
              "properties": {
               "org.eclipse.elk.layered.mergeEdges": 1,
               "org.eclipse.elk.portConstraints": "FREE"
              }
             },
             {
              "hwMeta": {
               "cls": "Operator",
               "maxId": 472,
               "name": "MUX"
              },
              "id": "50",
              "ports": [
               {
                "children": [],
                "direction": "OUTPUT",
                "hwMeta": {
                 "connectedAsParent": false,
                 "level": 0,
                 "name": ""
                },
                "id": "276",
                "properties": {
                 "index": 0,
                 "side": "EAST"
                }
               },
               {
                "children": [],
                "direction": "INPUT",
                "hwMeta": {
                 "connectedAsParent": false,
                 "level": 0,
                 "name": ""
                },
                "id": "277",
                "properties": {
                 "index": 1,
                 "side": "SOUTH"
                }
               },
               {
                "children": [],
                "direction": "INPUT",
                "hwMeta": {
                 "connectedAsParent": false,
                 "level": 0,
                 "name": ""
                },
                "id": "278",
                "properties": {
                 "index": 2,
                 "side": "WEST"
                }
               },
               {
                "children": [],
                "direction": "INPUT",
                "hwMeta": {
                 "connectedAsParent": false,
                 "level": 0,
                 "name": ""
                },
                "id": "279",
                "properties": {
                 "index": 3,
                 "side": "WEST"
                }
               }
              ],
              "properties": {
               "org.eclipse.elk.layered.mergeEdges": 1,
               "org.eclipse.elk.portConstraints": "FIXED_ORDER"
              }
             }
            ],
            "_edges": [
             {
              "hwMeta": {
               "name": "r_reg_next"
              },
              "id": "473",
              "source": "43",
              "sourcePort": "259",
              "target": "42",
              "targetPort": "253"
             },
             {
              "hwMeta": {
               "name": "dataOut_en & ~r_empty"
              },
              "id": "474",
              "sources": [
               [
                "44",
                "263"
               ]
              ],
              "targets": [
               [
                "43",
                "260"
               ],
               [
                "50",
                "277"
               ]
              ]
             },
             {
              "hwMeta": {
               "name": "r_reg"
              },
              "id": "475",
              "source": "42",
              "sourcePort": "255",
              "target": "43",
              "targetPort": "261"
             },
             {
              "hwMeta": {
               "name": "sig_6"
              },
              "id": "476",
              "source": "42",
              "sourcePort": "254",
              "target": "43",
              "targetPort": "262"
             },
             {
              "hwMeta": {
               "name": "~r_empty"
              },
              "id": "477",
              "source": "45",
              "sourcePort": "266",
              "target": "44",
              "targetPort": "264"
             },
             {
              "hwMeta": {
               "name": "dataOut_en"
              },
              "id": "478",
              "source": "42",
              "sourcePort": "258",
              "target": "44",
              "targetPort": "265"
             },
             {
              "hwMeta": {
               "name": "r_empty"
              },
              "id": "479",
              "source": "42",
              "sourcePort": "256",
              "target": "45",
              "targetPort": "267"
             },
             {
              "hwMeta": {
               "name": "(r_bin._reinterpret_cast(Bits(4, signed=False)) + 1)._reinterpret_cast(Bits(4))"
              },
              "id": "480",
              "source": "46",
              "sourcePort": "268",
              "target": "50",
              "targetPort": "279"
             },
             {
              "hwMeta": {
               "name": "r_bin._reinterpret_cast(Bits(4, signed=False)) + 1"
              },
              "id": "481",
              "source": "47",
              "sourcePort": "270",
              "target": "46",
              "targetPort": "269"
             },
             {
              "hwMeta": {
               "name": "<BitsVal 1>"
              },
              "id": "482",
              "source": "49",
              "sourcePort": "275",
              "target": "47",
              "targetPort": "271"
             },
             {
              "hwMeta": {
               "name": "r_bin._reinterpret_cast(Bits(4, signed=False))"
              },
              "id": "483",
              "source": "48",
              "sourcePort": "273",
              "target": "47",
              "targetPort": "272"
             },
             {
              "hwMeta": {
               "name": "r_bin"
              },
              "id": "484",
              "sources": [
               [
                "42",
                "257"
               ]
              ],
              "targets": [
               [
                "48",
                "274"
               ],
               [
                "50",
                "278"
               ]
              ]
             },
             {
              "hwMeta": {
               "name": "r_bin_next"
              },
              "id": "485",
              "source": "50",
              "sourcePort": "276",
              "target": "42",
              "targetPort": "252"
             }
            ],
            "hwMeta": {
             "bodyText": "If((dataOut_en & ~r_empty)._eq(1),\n    r_reg_next(sig_6),\n    r_bin_next((r_bin._reinterpret_cast(Bits(4, signed=False)) + 1)._reinterpret_cast(Bits(4)))\n).Else(\n    r_reg_next(r_reg),\n    r_bin_next(r_bin)\n)",
             "cls": "Process",
             "maxId": 485,
             "name": null
            },
            "id": "42",
            "ports": [
             {
              "children": [],
              "direction": "OUTPUT",
              "hwMeta": {
               "connectedAsParent": false,
               "level": 0,
               "name": "r_bin_next"
              },
              "id": "252",
              "properties": {
               "index": 0,
               "side": "EAST"
              }
             },
             {
              "children": [],
              "direction": "OUTPUT",
              "hwMeta": {
               "connectedAsParent": false,
               "level": 0,
               "name": "r_reg_next"
              },
              "id": "253",
              "properties": {
               "index": 1,
               "side": "EAST"
              }
             },
             {
              "children": [],
              "direction": "INPUT",
              "hwMeta": {
               "connectedAsParent": false,
               "level": 0,
               "name": "sig_6"
              },
              "id": "254",
              "properties": {
               "index": 2,
               "side": "WEST"
              }
             },
             {
              "children": [],
              "direction": "INPUT",
              "hwMeta": {
               "connectedAsParent": false,
               "level": 0,
               "name": "r_reg"
              },
              "id": "255",
              "properties": {
               "index": 3,
               "side": "WEST"
              }
             },
             {
              "children": [],
              "direction": "INPUT",
              "hwMeta": {
               "connectedAsParent": false,
               "level": 0,
               "name": "r_empty"
              },
              "id": "256",
              "properties": {
               "index": 4,
               "side": "WEST"
              }
             },
             {
              "children": [],
              "direction": "INPUT",
              "hwMeta": {
               "connectedAsParent": false,
               "level": 0,
               "name": "r_bin"
              },
              "id": "257",
              "properties": {
               "index": 5,
               "side": "WEST"
              }
             },
             {
              "children": [],
              "direction": "INPUT",
              "hwMeta": {
               "connectedAsParent": false,
               "level": 0,
               "name": "dataOut_en"
              },
              "id": "258",
              "properties": {
               "index": 6,
               "side": "WEST"
              }
             }
            ],
            "properties": {
             "org.eclipse.elk.layered.mergeEdges": 1,
             "org.eclipse.elk.portConstraints": "FIXED_ORDER"
            }
           },
           {
            "_children": [
             {
              "hwMeta": {
               "cls": "Operator",
               "maxId": 485,
               "name": "BitsAsVec"
              },
              "id": "52",
              "ports": [
               {
                "children": [],
                "direction": "OUTPUT",
                "hwMeta": {
                 "connectedAsParent": false,
                 "level": 0,
                 "name": null
                },
                "id": "284",
                "properties": {
                 "index": 0,
                 "side": "EAST"
                }
               },
               {
                "children": [],
                "direction": "INPUT",
                "hwMeta": {
                 "connectedAsParent": false,
                 "level": 0,
                 "name": null
                },
                "id": "285",
                "properties": {
                 "index": 1,
                 "side": "WEST"
                }
               }
              ],
              "properties": {
               "org.eclipse.elk.layered.mergeEdges": 1,
               "org.eclipse.elk.portConstraints": "FIXED_ORDER"
              }
             },
             {
              "hwMeta": {
               "cls": "Operator",
               "maxId": 485,
               "name": "ADD"
              },
              "id": "53",
              "ports": [
               {
                "children": [],
                "direction": "OUTPUT",
                "hwMeta": {
                 "connectedAsParent": false,
                 "level": 0,
                 "name": null
                },
                "id": "286",
                "properties": {
                 "index": 0,
                 "side": "EAST"
                }
               },
               {
                "children": [],
                "direction": "INPUT",
                "hwMeta": {
                 "connectedAsParent": false,
                 "level": 0,
                 "name": null
                },
                "id": "287",
                "properties": {
                 "index": 1,
                 "side": "WEST"
                }
               },
               {
                "children": [],
                "direction": "INPUT",
                "hwMeta": {
                 "connectedAsParent": false,
                 "level": 0,
                 "name": null
                },
                "id": "288",
                "properties": {
                 "index": 2,
                 "side": "WEST"
                }
               }
              ],
              "properties": {
               "org.eclipse.elk.layered.mergeEdges": 1,
               "org.eclipse.elk.portConstraints": "FIXED_ORDER"
              }
             },
             {
              "hwMeta": {
               "cls": "Operator",
               "maxId": 485,
               "name": "BitsAsUnsigned"
              },
              "id": "54",
              "ports": [
               {
                "children": [],
                "direction": "OUTPUT",
                "hwMeta": {
                 "connectedAsParent": false,
                 "level": 0,
                 "name": null
                },
                "id": "289",
                "properties": {
                 "index": 0,
                 "side": "EAST"
                }
               },
               {
                "children": [],
                "direction": "INPUT",
                "hwMeta": {
                 "connectedAsParent": false,
                 "level": 0,
                 "name": null
                },
                "id": "290",
                "properties": {
                 "index": 1,
                 "side": "WEST"
                }
               }
              ],
              "properties": {
               "org.eclipse.elk.layered.mergeEdges": 1,
               "org.eclipse.elk.portConstraints": "FIXED_ORDER"
              }
             },
             {
              "hwMeta": {
               "bodyText": "1",
               "cls": "Operator",
               "maxId": 485,
               "name": null
              },
              "id": "55",
              "ports": [
               {
                "children": [],
                "direction": "OUTPUT",
                "hwMeta": {
                 "connectedAsParent": false,
                 "level": 0,
                 "name": null
                },
                "id": "291",
                "properties": {
                 "side": "EAST"
                }
               }
              ],
              "properties": {
               "org.eclipse.elk.layered.mergeEdges": 1,
               "org.eclipse.elk.portConstraints": "FREE"
              }
             },
             {
              "hwMeta": {
               "cls": "Operator",
               "maxId": 485,
               "name": "MUX"
              },
              "id": "56",
              "ports": [
               {
                "children": [],
                "direction": "OUTPUT",
                "hwMeta": {
                 "connectedAsParent": false,
                 "level": 0,
                 "name": ""
                },
                "id": "292",
                "properties": {
                 "index": 0,
                 "side": "EAST"
                }
               },
               {
                "children": [],
                "direction": "INPUT",
                "hwMeta": {
                 "connectedAsParent": false,
                 "level": 0,
                 "name": ""
                },
                "id": "293",
                "properties": {
                 "index": 1,
                 "side": "SOUTH"
                }
               },
               {
                "children": [],
                "direction": "INPUT",
                "hwMeta": {
                 "connectedAsParent": false,
                 "level": 0,
                 "name": ""
                },
                "id": "294",
                "properties": {
                 "index": 2,
                 "side": "WEST"
                }
               },
               {
                "children": [],
                "direction": "INPUT",
                "hwMeta": {
                 "connectedAsParent": false,
                 "level": 0,
                 "name": ""
                },
                "id": "295",
                "properties": {
                 "index": 3,
                 "side": "WEST"
                }
               }
              ],
              "properties": {
               "org.eclipse.elk.layered.mergeEdges": 1,
               "org.eclipse.elk.portConstraints": "FIXED_ORDER"
              }
             },
             {
              "hwMeta": {
               "cls": "Operator",
               "maxId": 485,
               "name": "AND"
              },
              "id": "57",
              "ports": [
               {
                "children": [],
                "direction": "OUTPUT",
                "hwMeta": {
                 "connectedAsParent": false,
                 "level": 0,
                 "name": null
                },
                "id": "296",
                "properties": {
                 "index": 0,
                 "side": "EAST"
                }
               },
               {
                "children": [],
                "direction": "INPUT",
                "hwMeta": {
                 "connectedAsParent": false,
                 "level": 0,
                 "name": null
                },
                "id": "297",
                "properties": {
                 "index": 1,
                 "side": "WEST"
                }
               },
               {
                "children": [],
                "direction": "INPUT",
                "hwMeta": {
                 "connectedAsParent": false,
                 "level": 0,
                 "name": null
                },
                "id": "298",
                "properties": {
                 "index": 2,
                 "side": "WEST"
                }
               }
              ],
              "properties": {
               "org.eclipse.elk.layered.mergeEdges": 1,
               "org.eclipse.elk.portConstraints": "FIXED_ORDER"
              }
             },
             {
              "hwMeta": {
               "cls": "Operator",
               "maxId": 485,
               "name": "NOT"
              },
              "id": "58",
              "ports": [
               {
                "children": [],
                "direction": "OUTPUT",
                "hwMeta": {
                 "connectedAsParent": false,
                 "level": 0,
                 "name": null
                },
                "id": "299",
                "properties": {
                 "index": 0,
                 "side": "EAST"
                }
               },
               {
                "children": [],
                "direction": "INPUT",
                "hwMeta": {
                 "connectedAsParent": false,
                 "level": 0,
                 "name": null
                },
                "id": "300",
                "properties": {
                 "index": 1,
                 "side": "WEST"
                }
               }
              ],
              "properties": {
               "org.eclipse.elk.layered.mergeEdges": 1,
               "org.eclipse.elk.portConstraints": "FIXED_ORDER"
              }
             }
            ],
            "_edges": [
             {
              "hwMeta": {
               "name": "(w_bin._reinterpret_cast(Bits(4, signed=False)) + 1)._reinterpret_cast(Bits(4))"
              },
              "id": "486",
              "source": "52",
              "sourcePort": "284",
              "target": "56",
              "targetPort": "295"
             },
             {
              "hwMeta": {
               "name": "w_bin._reinterpret_cast(Bits(4, signed=False)) + 1"
              },
              "id": "487",
              "source": "53",
              "sourcePort": "286",
              "target": "52",
              "targetPort": "285"
             },
             {
              "hwMeta": {
               "name": "<BitsVal 1>"
              },
              "id": "488",
              "source": "55",
              "sourcePort": "291",
              "target": "53",
              "targetPort": "287"
             },
             {
              "hwMeta": {
               "name": "w_bin._reinterpret_cast(Bits(4, signed=False))"
              },
              "id": "489",
              "source": "54",
              "sourcePort": "289",
              "target": "53",
              "targetPort": "288"
             },
             {
              "hwMeta": {
               "name": "w_bin"
              },
              "id": "490",
              "sources": [
               [
                "51",
                "282"
               ]
              ],
              "targets": [
               [
                "54",
                "290"
               ],
               [
                "56",
                "294"
               ]
              ]
             },
             {
              "hwMeta": {
               "name": "w_bin_next"
              },
              "id": "491",
              "source": "56",
              "sourcePort": "292",
              "target": "51",
              "targetPort": "280"
             },
             {
              "hwMeta": {
               "name": "dataIn_en & ~w_full"
              },
              "id": "492",
              "source": "57",
              "sourcePort": "296",
              "target": "56",
              "targetPort": "293"
             },
             {
              "hwMeta": {
               "name": "~w_full"
              },
              "id": "493",
              "source": "58",
              "sourcePort": "299",
              "target": "57",
              "targetPort": "297"
             },
             {
              "hwMeta": {
               "name": "dataIn_en"
              },
              "id": "494",
              "source": "51",
              "sourcePort": "283",
              "target": "57",
              "targetPort": "298"
             },
             {
              "hwMeta": {
               "name": "w_full"
              },
              "id": "495",
              "source": "51",
              "sourcePort": "281",
              "target": "58",
              "targetPort": "300"
             }
            ],
            "hwMeta": {
             "bodyText": "If((dataIn_en & ~w_full)._eq(1),\n    w_bin_next((w_bin._reinterpret_cast(Bits(4, signed=False)) + 1)._reinterpret_cast(Bits(4)))\n).Else(\n    w_bin_next(w_bin)\n)",
             "cls": "Process",
             "maxId": 495,
             "name": null
            },
            "id": "51",
            "ports": [
             {
              "children": [],
              "direction": "OUTPUT",
              "hwMeta": {
               "connectedAsParent": false,
               "level": 0,
               "name": "w_bin_next"
              },
              "id": "280",
              "properties": {
               "index": 0,
               "side": "EAST"
              }
             },
             {
              "children": [],
              "direction": "INPUT",
              "hwMeta": {
               "connectedAsParent": false,
               "level": 0,
               "name": "w_full"
              },
              "id": "281",
              "properties": {
               "index": 1,
               "side": "WEST"
              }
             },
             {
              "children": [],
              "direction": "INPUT",
              "hwMeta": {
               "connectedAsParent": false,
               "level": 0,
               "name": "w_bin"
              },
              "id": "282",
              "properties": {
               "index": 2,
               "side": "WEST"
              }
             },
             {
              "children": [],
              "direction": "INPUT",
              "hwMeta": {
               "connectedAsParent": false,
               "level": 0,
               "name": "dataIn_en"
              },
              "id": "283",
              "properties": {
               "index": 3,
               "side": "WEST"
              }
             }
            ],
            "properties": {
             "org.eclipse.elk.layered.mergeEdges": 1,
             "org.eclipse.elk.portConstraints": "FIXED_ORDER"
            }
           },
           {
            "hwMeta": {
             "cls": null,
             "isExternalPort": true,
             "maxId": 495,
             "name": "dataIn_clk"
            },
            "id": "59",
            "ports": [
             {
              "children": [],
              "direction": "OUTPUT",
              "hwMeta": {
               "connectedAsParent": false,
               "level": 0,
               "name": "dataIn_clk"
              },
              "id": "301",
              "properties": {
               "index": 0,
               "side": "EAST"
              }
             },
             {
              "children": [],
              "direction": "INPUT",
              "hwMeta": {
               "connectedAsParent": false,
               "level": 0,
               "name": ""
              },
              "id": "302",
              "properties": {
               "index": 1,
               "side": "WEST"
              }
             }
            ],
            "properties": {
             "org.eclipse.elk.layered.mergeEdges": 1,
             "org.eclipse.elk.portConstraints": "FIXED_ORDER"
            }
           },
           {
            "hwMeta": {
             "cls": null,
             "isExternalPort": true,
             "maxId": 495,
             "name": "dataOut_clk"
            },
            "id": "60",
            "ports": [
             {
              "children": [],
              "direction": "OUTPUT",
              "hwMeta": {
               "connectedAsParent": false,
               "level": 0,
               "name": "dataOut_clk"
              },
              "id": "303",
              "properties": {
               "index": 0,
               "side": "EAST"
              }
             },
             {
              "children": [],
              "direction": "INPUT",
              "hwMeta": {
               "connectedAsParent": false,
               "level": 0,
               "name": ""
              },
              "id": "304",
              "properties": {
               "index": 1,
               "side": "WEST"
              }
             }
            ],
            "properties": {
             "org.eclipse.elk.layered.mergeEdges": 1,
             "org.eclipse.elk.portConstraints": "FIXED_ORDER"
            }
           },
           {
            "hwMeta": {
             "cls": null,
             "isExternalPort": true,
             "maxId": 495,
             "name": "dataIn_rst_n"
            },
            "id": "61",
            "ports": [
             {
              "children": [],
              "direction": "OUTPUT",
              "hwMeta": {
               "connectedAsParent": false,
               "level": 0,
               "name": "dataIn_rst_n"
              },
              "id": "305",
              "properties": {
               "index": 0,
               "side": "EAST"
              }
             },
             {
              "children": [],
              "direction": "INPUT",
              "hwMeta": {
               "connectedAsParent": false,
               "level": 0,
               "name": ""
              },
              "id": "306",
              "properties": {
               "index": 1,
               "side": "WEST"
              }
             }
            ],
            "properties": {
             "org.eclipse.elk.layered.mergeEdges": 1,
             "org.eclipse.elk.portConstraints": "FIXED_ORDER"
            }
           },
           {
            "hwMeta": {
             "cls": null,
             "isExternalPort": true,
             "maxId": 495,
             "name": "dataIn"
            },
            "id": "62",
            "ports": [
             {
              "children": [
               {
                "children": [],
                "direction": "OUTPUT",
                "hwMeta": {
                 "connectedAsParent": false,
                 "level": 1,
                 "name": "en"
                },
                "id": "308",
                "properties": {
                 "index": 1,
                 "side": "EAST"
                }
               },
               {
                "children": [],
                "direction": "INPUT",
                "hwMeta": {
                 "connectedAsParent": false,
                 "level": 1,
                 "name": "wait"
                },
                "id": "309",
                "properties": {
                 "index": 2,
                 "side": "EAST"
                }
               },
               {
                "children": [],
                "direction": "OUTPUT",
                "hwMeta": {
                 "connectedAsParent": false,
                 "level": 1,
                 "name": "data"
                },
                "id": "310",
                "properties": {
                 "index": 3,
                 "side": "EAST"
                }
               }
              ],
              "direction": "OUTPUT",
              "hwMeta": {
               "connectedAsParent": false,
               "level": 0,
               "name": "dataIn"
              },
              "id": "307",
              "properties": {
               "index": 0,
               "side": "EAST"
              }
             },
             {
              "children": [],
              "direction": "INPUT",
              "hwMeta": {
               "connectedAsParent": false,
               "level": 0,
               "name": ""
              },
              "id": "311",
              "properties": {
               "index": 4,
               "side": "WEST"
              }
             }
            ],
            "properties": {
             "org.eclipse.elk.layered.mergeEdges": 1,
             "org.eclipse.elk.portConstraints": "FIXED_ORDER"
            }
           },
           {
            "hwMeta": {
             "cls": null,
             "isExternalPort": true,
             "maxId": 495,
             "name": "dataOut_rst_n"
            },
            "id": "63",
            "ports": [
             {
              "children": [],
              "direction": "OUTPUT",
              "hwMeta": {
               "connectedAsParent": false,
               "level": 0,
               "name": "dataOut_rst_n"
              },
              "id": "312",
              "properties": {
               "index": 0,
               "side": "EAST"
              }
             },
             {
              "children": [],
              "direction": "INPUT",
              "hwMeta": {
               "connectedAsParent": false,
               "level": 0,
               "name": ""
              },
              "id": "313",
              "properties": {
               "index": 1,
               "side": "WEST"
              }
             }
            ],
            "properties": {
             "org.eclipse.elk.layered.mergeEdges": 1,
             "org.eclipse.elk.portConstraints": "FIXED_ORDER"
            }
           },
           {
            "hwMeta": {
             "cls": null,
             "isExternalPort": true,
             "maxId": 495,
             "name": "dataOut"
            },
            "id": "64",
            "ports": [
             {
              "children": [],
              "direction": "OUTPUT",
              "hwMeta": {
               "connectedAsParent": false,
               "level": 0,
               "name": ""
              },
              "id": "314",
              "properties": {
               "index": 0,
               "side": "EAST"
              }
             },
             {
              "children": [
               {
                "children": [],
                "direction": "OUTPUT",
                "hwMeta": {
                 "connectedAsParent": false,
                 "level": 1,
                 "name": "en"
                },
                "id": "316",
                "properties": {
                 "index": 1,
                 "side": "WEST"
                }
               },
               {
                "children": [],
                "direction": "INPUT",
                "hwMeta": {
                 "connectedAsParent": false,
                 "level": 1,
                 "name": "wait"
                },
                "id": "317",
                "properties": {
                 "index": 2,
                 "side": "WEST"
                }
               },
               {
                "children": [],
                "direction": "INPUT",
                "hwMeta": {
                 "connectedAsParent": false,
                 "level": 1,
                 "name": "data"
                },
                "id": "318",
                "properties": {
                 "index": 3,
                 "side": "WEST"
                }
               }
              ],
              "direction": "INPUT",
              "hwMeta": {
               "connectedAsParent": false,
               "level": 0,
               "name": "dataOut"
              },
              "id": "315",
              "properties": {
               "index": 4,
               "side": "WEST"
              }
             }
            ],
            "properties": {
             "org.eclipse.elk.layered.mergeEdges": 1,
             "org.eclipse.elk.portConstraints": "FIXED_ORDER"
            }
           },
           {
            "hwMeta": {
             "cls": "Operator",
             "maxId": 495,
             "name": "XOR"
            },
            "id": "65",
            "ports": [
             {
              "children": [],
              "direction": "OUTPUT",
              "hwMeta": {
               "connectedAsParent": false,
               "level": 0,
               "name": null
              },
              "id": "319",
              "properties": {
               "index": 0,
               "side": "EAST"
              }
             },
             {
              "children": [],
              "direction": "INPUT",
              "hwMeta": {
               "connectedAsParent": false,
               "level": 0,
               "name": null
              },
              "id": "320",
              "properties": {
               "index": 1,
               "side": "WEST"
              }
             },
             {
              "children": [],
              "direction": "INPUT",
              "hwMeta": {
               "connectedAsParent": false,
               "level": 0,
               "name": null
              },
              "id": "321",
              "properties": {
               "index": 2,
               "side": "WEST"
              }
             }
            ],
            "properties": {
             "org.eclipse.elk.layered.mergeEdges": 1,
             "org.eclipse.elk.portConstraints": "FIXED_ORDER"
            }
           },
           {
            "hwMeta": {
             "cls": "Operator",
             "maxId": 495,
             "name": "CONCAT"
            },
            "id": "66",
            "ports": [
             {
              "children": [],
              "direction": "OUTPUT",
              "hwMeta": {
               "connectedAsParent": false,
               "level": 0,
               "name": null
              },
              "id": "322",
              "properties": {
               "index": 0,
               "side": "EAST"
              }
             },
             {
              "children": [],
              "direction": "INPUT",
              "hwMeta": {
               "connectedAsParent": false,
               "level": 0,
               "name": "[3]"
              },
              "id": "323",
              "properties": {
               "index": 1,
               "side": "WEST"
              }
             },
             {
              "children": [],
              "direction": "INPUT",
              "hwMeta": {
               "connectedAsParent": false,
               "level": 0,
               "name": "[3:0]"
              },
              "id": "324",
              "properties": {
               "index": 2,
               "side": "WEST"
              }
             }
            ],
            "properties": {
             "org.eclipse.elk.layered.mergeEdges": 1,
             "org.eclipse.elk.portConstraints": "FIXED_ORDER"
            }
           },
           {
            "hwMeta": {
             "bodyText": "0",
             "cls": "Operator",
             "maxId": 495,
             "name": null
            },
            "id": "67",
            "ports": [
             {
              "children": [],
              "direction": "OUTPUT",
              "hwMeta": {
               "connectedAsParent": false,
               "level": 0,
               "name": null
              },
              "id": "325",
              "properties": {
               "side": "EAST"
              }
             }
            ],
            "properties": {
             "org.eclipse.elk.layered.mergeEdges": 1,
             "org.eclipse.elk.portConstraints": "FREE"
            }
           },
           {
            "hwMeta": {
             "cls": "Operator",
             "maxId": 495,
             "name": "XOR"
            },
            "id": "68",
            "ports": [
             {
              "children": [],
              "direction": "OUTPUT",
              "hwMeta": {
               "connectedAsParent": false,
               "level": 0,
               "name": null
              },
              "id": "326",
              "properties": {
               "index": 0,
               "side": "EAST"
              }
             },
             {
              "children": [],
              "direction": "INPUT",
              "hwMeta": {
               "connectedAsParent": false,
               "level": 0,
               "name": null
              },
              "id": "327",
              "properties": {
               "index": 1,
               "side": "WEST"
              }
             },
             {
              "children": [],
              "direction": "INPUT",
              "hwMeta": {
               "connectedAsParent": false,
               "level": 0,
               "name": null
              },
              "id": "328",
              "properties": {
               "index": 2,
               "side": "WEST"
              }
             }
            ],
            "properties": {
             "org.eclipse.elk.layered.mergeEdges": 1,
             "org.eclipse.elk.portConstraints": "FIXED_ORDER"
            }
           },
           {
            "hwMeta": {
             "cls": "Operator",
             "maxId": 495,
             "name": "CONCAT"
            },
            "id": "69",
            "ports": [
             {
              "children": [],
              "direction": "OUTPUT",
              "hwMeta": {
               "connectedAsParent": false,
               "level": 0,
               "name": null
              },
              "id": "329",
              "properties": {
               "index": 0,
               "side": "EAST"
              }
             },
             {
              "children": [],
              "direction": "INPUT",
              "hwMeta": {
               "connectedAsParent": false,
               "level": 0,
               "name": "[3]"
              },
              "id": "330",
              "properties": {
               "index": 1,
               "side": "WEST"
              }
             },
             {
              "children": [],
              "direction": "INPUT",
              "hwMeta": {
               "connectedAsParent": false,
               "level": 0,
               "name": "[3:0]"
              },
              "id": "331",
              "properties": {
               "index": 2,
               "side": "WEST"
              }
             }
            ],
            "properties": {
             "org.eclipse.elk.layered.mergeEdges": 1,
             "org.eclipse.elk.portConstraints": "FIXED_ORDER"
            }
           },
           {
            "hwMeta": {
             "cls": "Operator",
             "maxId": 495,
             "name": "EQ"
            },
            "id": "70",
            "ports": [
             {
              "children": [],
              "direction": "OUTPUT",
              "hwMeta": {
               "connectedAsParent": false,
               "level": 0,
               "name": null
              },
              "id": "332",
              "properties": {
               "index": 0,
               "side": "EAST"
              }
             },
             {
              "children": [],
              "direction": "INPUT",
              "hwMeta": {
               "connectedAsParent": false,
               "level": 0,
               "name": null
              },
              "id": "333",
              "properties": {
               "index": 1,
               "side": "WEST"
              }
             },
             {
              "children": [],
              "direction": "INPUT",
              "hwMeta": {
               "connectedAsParent": false,
               "level": 0,
               "name": null
              },
              "id": "334",
              "properties": {
               "index": 2,
               "side": "WEST"
              }
             }
            ],
            "properties": {
             "org.eclipse.elk.layered.mergeEdges": 1,
             "org.eclipse.elk.portConstraints": "FIXED_ORDER"
            }
           },
           {
            "hwMeta": {
             "cls": "Operator",
             "maxId": 495,
             "name": "CONCAT"
            },
            "id": "71",
            "ports": [
             {
              "children": [],
              "direction": "OUTPUT",
              "hwMeta": {
               "connectedAsParent": false,
               "level": 0,
               "name": null
              },
              "id": "335",
              "properties": {
               "index": 0,
               "side": "EAST"
              }
             },
             {
              "children": [],
              "direction": "INPUT",
              "hwMeta": {
               "connectedAsParent": false,
               "level": 0,
               "name": "[4:2]"
              },
              "id": "336",
              "properties": {
               "index": 1,
               "side": "WEST"
              }
             },
             {
              "children": [],
              "direction": "INPUT",
              "hwMeta": {
               "connectedAsParent": false,
               "level": 0,
               "name": "[2:0]"
              },
              "id": "337",
              "properties": {
               "index": 2,
               "side": "WEST"
              }
             }
            ],
            "properties": {
             "org.eclipse.elk.layered.mergeEdges": 1,
             "org.eclipse.elk.portConstraints": "FIXED_ORDER"
            }
           },
           {
            "hwMeta": {
             "cls": "Operator",
             "maxId": 495,
             "name": "NOT"
            },
            "id": "72",
            "ports": [
             {
              "children": [],
              "direction": "OUTPUT",
              "hwMeta": {
               "connectedAsParent": false,
               "level": 0,
               "name": null
              },
              "id": "338",
              "properties": {
               "index": 0,
               "side": "EAST"
              }
             },
             {
              "children": [],
              "direction": "INPUT",
              "hwMeta": {
               "connectedAsParent": false,
               "level": 0,
               "name": null
              },
              "id": "339",
              "properties": {
               "index": 1,
               "side": "WEST"
              }
             }
            ],
            "properties": {
             "org.eclipse.elk.layered.mergeEdges": 1,
             "org.eclipse.elk.portConstraints": "FIXED_ORDER"
            }
           },
           {
            "hwMeta": {
             "cls": "Operator",
             "maxId": 495,
             "name": "EQ"
            },
            "id": "73",
            "ports": [
             {
              "children": [],
              "direction": "OUTPUT",
              "hwMeta": {
               "connectedAsParent": false,
               "level": 0,
               "name": null
              },
              "id": "340",
              "properties": {
               "index": 0,
               "side": "EAST"
              }
             },
             {
              "children": [],
              "direction": "INPUT",
              "hwMeta": {
               "connectedAsParent": false,
               "level": 0,
               "name": null
              },
              "id": "341",
              "properties": {
               "index": 1,
               "side": "WEST"
              }
             },
             {
              "children": [],
              "direction": "INPUT",
              "hwMeta": {
               "connectedAsParent": false,
               "level": 0,
               "name": null
              },
              "id": "342",
              "properties": {
               "index": 2,
               "side": "WEST"
              }
             }
            ],
            "properties": {
             "org.eclipse.elk.layered.mergeEdges": 1,
             "org.eclipse.elk.portConstraints": "FIXED_ORDER"
            }
           },
           {
            "hwMeta": {
             "cls": "Operator",
             "maxId": 495,
             "name": "INDEX"
            },
            "id": "74",
            "ports": [
             {
              "children": [],
              "direction": "OUTPUT",
              "hwMeta": {
               "connectedAsParent": false,
               "level": 0,
               "name": null
              },
              "id": "343",
              "properties": {
               "index": 0,
               "side": "EAST"
              }
             },
             {
              "children": [],
              "direction": "INPUT",
              "hwMeta": {
               "connectedAsParent": false,
               "level": 0,
               "name": "index"
              },
              "id": "344",
              "properties": {
               "index": 1,
               "side": "WEST"
              }
             },
             {
              "children": [],
              "direction": "INPUT",
              "hwMeta": {
               "connectedAsParent": false,
               "level": 0,
               "name": "in"
              },
              "id": "345",
              "properties": {
               "index": 2,
               "side": "WEST"
              }
             }
            ],
            "properties": {
             "org.eclipse.elk.layered.mergeEdges": 1,
             "org.eclipse.elk.portConstraints": "FIXED_ORDER"
            }
           },
           {
            "hwMeta": {
             "cls": "Operator",
             "maxId": 495,
             "name": "SLICE"
            },
            "id": "75",
            "ports": [
             {
              "children": [],
              "direction": "OUTPUT",
              "hwMeta": {
               "connectedAsParent": false,
               "level": 0,
               "name": "[3:0]"
              },
              "id": "346",
              "properties": {
               "index": 0,
               "side": "EAST"
              }
             },
             {
              "children": [],
              "direction": "INPUT",
              "hwMeta": {
               "connectedAsParent": false,
               "level": 0,
               "name": ""
              },
              "id": "347",
              "properties": {
               "index": 1,
               "side": "WEST"
              }
             }
            ],
            "properties": {
             "org.eclipse.elk.layered.mergeEdges": 1,
             "org.eclipse.elk.portConstraints": "FIXED_ORDER"
            }
           },
           {
            "hwMeta": {
             "cls": "Operator",
             "maxId": 495,
             "name": "SLICE"
            },
            "id": "76",
            "ports": [
             {
              "children": [],
              "direction": "OUTPUT",
              "hwMeta": {
               "connectedAsParent": false,
               "level": 0,
               "name": "[4:1]"
              },
              "id": "348",
              "properties": {
               "index": 0,
               "side": "EAST"
              }
             },
             {
              "children": [],
              "direction": "INPUT",
              "hwMeta": {
               "connectedAsParent": false,
               "level": 0,
               "name": ""
              },
              "id": "349",
              "properties": {
               "index": 1,
               "side": "WEST"
              }
             }
            ],
            "properties": {
             "org.eclipse.elk.layered.mergeEdges": 1,
             "org.eclipse.elk.portConstraints": "FIXED_ORDER"
            }
           },
           {
            "hwMeta": {
             "cls": "Operator",
             "maxId": 495,
             "name": "SLICE"
            },
            "id": "77",
            "ports": [
             {
              "children": [],
              "direction": "OUTPUT",
              "hwMeta": {
               "connectedAsParent": false,
               "level": 0,
               "name": "[2:0]"
              },
              "id": "350",
              "properties": {
               "index": 0,
               "side": "EAST"
              }
             },
             {
              "children": [],
              "direction": "OUTPUT",
              "hwMeta": {
               "connectedAsParent": false,
               "level": 0,
               "name": "[4:2]"
              },
              "id": "351",
              "properties": {
               "index": 1,
               "side": "EAST"
              }
             },
             {
              "children": [],
              "direction": "INPUT",
              "hwMeta": {
               "connectedAsParent": false,
               "level": 0,
               "name": ""
              },
              "id": "352",
              "properties": {
               "index": 2,
               "side": "WEST"
              }
             }
            ],
            "properties": {
             "org.eclipse.elk.layered.mergeEdges": 1,
             "org.eclipse.elk.portConstraints": "FIXED_ORDER"
            }
           },
           {
            "hwMeta": {
             "cls": "Operator",
             "maxId": 495,
             "name": "SLICE"
            },
            "id": "78",
            "ports": [
             {
              "children": [],
              "direction": "OUTPUT",
              "hwMeta": {
               "connectedAsParent": false,
               "level": 0,
               "name": "[3:0]"
              },
              "id": "353",
              "properties": {
               "index": 0,
               "side": "EAST"
              }
             },
             {
              "children": [],
              "direction": "INPUT",
              "hwMeta": {
               "connectedAsParent": false,
               "level": 0,
               "name": ""
              },
              "id": "354",
              "properties": {
               "index": 1,
               "side": "WEST"
              }
             }
            ],
            "properties": {
             "org.eclipse.elk.layered.mergeEdges": 1,
             "org.eclipse.elk.portConstraints": "FIXED_ORDER"
            }
           },
           {
            "hwMeta": {
             "cls": "Operator",
             "maxId": 495,
             "name": "SLICE"
            },
            "id": "79",
            "ports": [
             {
              "children": [],
              "direction": "OUTPUT",
              "hwMeta": {
               "connectedAsParent": false,
               "level": 0,
               "name": "[4:1]"
              },
              "id": "355",
              "properties": {
               "index": 0,
               "side": "EAST"
              }
             },
             {
              "children": [],
              "direction": "INPUT",
              "hwMeta": {
               "connectedAsParent": false,
               "level": 0,
               "name": ""
              },
              "id": "356",
              "properties": {
               "index": 1,
               "side": "WEST"
              }
             }
            ],
            "properties": {
             "org.eclipse.elk.layered.mergeEdges": 1,
             "org.eclipse.elk.portConstraints": "FIXED_ORDER"
            }
           }
          ],
          "_edges": [
           {
            "hwMeta": {
             "name": "r_gray_out_reg1_next"
            },
            "id": "496",
            "source": "2",
            "sourcePort": "115",
            "target": "2",
            "targetPort": "123"
           },
           {
            "hwMeta": {
             "name": "sig_2"
            },
            "id": "497",
            "source": "2",
            "sourcePort": "116",
            "target": "77",
            "targetPort": "352"
           },
           {
            "hwMeta": {
             "name": "sig_4"
            },
            "id": "498",
            "sources": [
             [
              "2",
              "117"
             ]
            ],
            "targets": [
             [
              "51",
              "282"
             ],
             [
              "78",
              "354"
             ]
            ]
           },
           {
            "hwMeta": {
             "name": "w_full"
            },
            "id": "499",
            "sources": [
             [
              "2",
              "118"
             ]
            ],
            "targets": [
             [
              "17",
              "170"
             ],
             [
              "51",
              "281"
             ],
             [
              "62",
              "309"
             ]
            ]
           },
           {
            "hwMeta": {
             "name": "w_gray_out_reg0_next"
            },
            "id": "500",
            "source": "2",
            "sourcePort": "119",
            "target": "23",
            "targetPort": "195"
           },
           {
            "hwMeta": {
             "name": "Concat(Bits(1, force_vector=True).from_py(0), sig_1) ^ w_bin_next"
            },
            "id": "501",
            "sources": [
             [
              "68",
              "326"
             ]
            ],
            "targets": [
             [
              "2",
              "120"
             ],
             [
              "70",
              "334"
             ]
            ]
           },
           {
            "hwMeta": {
             "name": "w_full_next"
            },
            "id": "502",
            "source": "70",
            "sourcePort": "332",
            "target": "2",
            "targetPort": "121"
           },
           {
            "hwMeta": {
             "name": "sig_1"
            },
            "id": "503",
            "sources": [
             [
              "51",
              "280"
             ]
            ],
            "targets": [
             [
              "68",
              "327"
             ],
             [
              "2",
              "122"
             ],
             [
              "79",
              "356"
             ]
            ]
           },
           {
            "hwMeta": {
             "name": "r_gray_out_reg0_next"
            },
            "id": "504",
            "source": "23",
            "sourcePort": "191",
            "target": "2",
            "targetPort": "124"
           },
           {
            "hwMeta": {
             "name": "dataIn_rst_n"
            },
            "id": "505",
            "source": "61",
            "sourcePort": "305",
            "target": "2",
            "targetPort": "125"
           },
           {
            "hwMeta": {
             "name": "dataIn_clk"
            },
            "id": "506",
            "sources": [
             [
              "59",
              "301"
             ]
            ],
            "targets": [
             [
              "2",
              "126"
             ],
             [
              "17",
              "174"
             ]
            ]
           },
           {
            "hwMeta": {
             "name": "memory"
            },
            "id": "507",
            "source": "17",
            "sourcePort": "169",
            "target": "74",
            "targetPort": "345"
           },
           {
            "hwMeta": {
             "name": "(w_bin[3:0], sig_4)"
            },
            "id": "508",
            "source": "78",
            "sourcePort": "353",
            "target": "17",
            "targetPort": "171"
           },
           {
            "hwMeta": {
             "name": "dataIn_en"
            },
            "id": "509",
            "sources": [
             [
              "62",
              "308"
             ]
            ],
            "targets": [
             [
              "17",
              "172"
             ],
             [
              "51",
              "283"
             ]
            ]
           },
           {
            "hwMeta": {
             "name": "dataIn_data"
            },
            "id": "510",
            "source": "62",
            "sourcePort": "310",
            "target": "17",
            "targetPort": "173"
           },
           {
            "hwMeta": {
             "name": "r_bin[3:0]"
            },
            "id": "511",
            "sources": [
             [
              "23",
              "189"
             ]
            ],
            "targets": [
             [
              "42",
              "257"
             ],
             [
              "75",
              "347"
             ]
            ]
           },
           {
            "hwMeta": {
             "name": "r_empty"
            },
            "id": "512",
            "sources": [
             [
              "23",
              "190"
             ]
            ],
            "targets": [
             [
              "42",
              "256"
             ],
             [
              "64",
              "317"
             ]
            ]
           },
           {
            "hwMeta": {
             "name": "w_gray_out_reg1_next"
            },
            "id": "513",
            "source": "23",
            "sourcePort": "192",
            "target": "23",
            "targetPort": "194"
           },
           {
            "hwMeta": {
             "name": "w_gray_out_reg1"
            },
            "id": "514",
            "source": "23",
            "sourcePort": "193",
            "target": "73",
            "targetPort": "341"
           },
           {
            "hwMeta": {
             "name": "Concat(Bits(1, force_vector=True).from_py(0), sig_0) ^ r_bin_next"
            },
            "id": "515",
            "sources": [
             [
              "65",
              "319"
             ]
            ],
            "targets": [
             [
              "23",
              "196"
             ],
             [
              "73",
              "342"
             ]
            ]
           },
           {
            "hwMeta": {
             "name": "r_empty_next"
            },
            "id": "516",
            "source": "73",
            "sourcePort": "340",
            "target": "23",
            "targetPort": "197"
           },
           {
            "hwMeta": {
             "name": "sig_0"
            },
            "id": "517",
            "sources": [
             [
              "42",
              "252"
             ]
            ],
            "targets": [
             [
              "65",
              "320"
             ],
             [
              "23",
              "198"
             ],
             [
              "76",
              "349"
             ]
            ]
           },
           {
            "hwMeta": {
             "name": "dataOut_rst_n"
            },
            "id": "518",
            "source": "63",
            "sourcePort": "312",
            "target": "23",
            "targetPort": "199"
           },
           {
            "hwMeta": {
             "name": "dataOut_clk"
            },
            "id": "519",
            "sources": [
             [
              "60",
              "303"
             ]
            ],
            "targets": [
             [
              "23",
              "200"
             ],
             [
              "39",
              "246"
             ]
            ]
           },
           {
            "hwMeta": {
             "name": "r_reg"
            },
            "id": "520",
            "sources": [
             [
              "39",
              "244"
             ]
            ],
            "targets": [
             [
              "42",
              "255"
             ],
             [
              "64",
              "318"
             ]
            ]
           },
           {
            "hwMeta": {
             "name": "r_reg_next"
            },
            "id": "521",
            "source": "42",
            "sourcePort": "253",
            "target": "39",
            "targetPort": "245"
           },
           {
            "hwMeta": {
             "name": "memory[sig_5]"
            },
            "id": "522",
            "source": "74",
            "sourcePort": "343",
            "target": "42",
            "targetPort": "254"
           },
           {
            "hwMeta": {
             "name": "dataOut_en"
            },
            "id": "523",
            "source": "64",
            "sourcePort": "316",
            "target": "42",
            "targetPort": "258"
           },
           {
            "hwMeta": {
             "name": "<Clk, name=dataIn_clk, _masterDir=DIRECTION.OUT>"
            },
            "id": "524",
            "source": "1",
            "sourcePort": "114",
            "target": "59",
            "targetPort": "302"
           },
           {
            "hwMeta": {
             "name": "<Clk, name=dataOut_clk, _masterDir=DIRECTION.OUT>"
            },
            "id": "525",
            "source": "1",
            "sourcePort": "113",
            "target": "60",
            "targetPort": "304"
           },
           {
            "hwMeta": {
             "name": "<Rst_n, name=dataIn_rst_n, _masterDir=DIRECTION.OUT>"
            },
            "id": "526",
            "source": "1",
            "sourcePort": "112",
            "target": "61",
            "targetPort": "306"
           },
           {
            "hwMeta": {
             "name": "<FifoWriter, name=dataIn, _masterDir=DIRECTION.OUT>"
            },
            "id": "527",
            "source": "1",
            "sourcePort": "108",
            "target": "62",
            "targetPort": "311"
           },
           {
            "hwMeta": {
             "name": "<Rst_n, name=dataOut_rst_n, _masterDir=DIRECTION.OUT>"
            },
            "id": "528",
            "source": "1",
            "sourcePort": "107",
            "target": "63",
            "targetPort": "313"
           },
           {
            "hwMeta": {
             "name": "<FifoReader, name=dataOut, _masterDir=DIRECTION.OUT>"
            },
            "id": "529",
            "source": "64",
            "sourcePort": "314",
            "target": "1",
            "targetPort": "103"
           },
           {
            "hwMeta": {
             "name": "Concat(Bits(1, force_vector=True).from_py(0), sig_0)"
            },
            "id": "530",
            "source": "66",
            "sourcePort": "322",
            "target": "65",
            "targetPort": "321"
           },
           {
            "hwMeta": {
             "name": "<BitsVal 0>"
            },
            "id": "531",
            "sources": [
             [
              "67",
              "325"
             ]
            ],
            "targets": [
             [
              "66",
              "323"
             ],
             [
              "69",
              "330"
             ]
            ]
           },
           {
            "hwMeta": {
             "name": "(r_bin_next[4:1], sig_0)"
            },
            "id": "532",
            "source": "76",
            "sourcePort": "348",
            "target": "66",
            "targetPort": "324"
           },
           {
            "hwMeta": {
             "name": "Concat(Bits(1, force_vector=True).from_py(0), sig_1)"
            },
            "id": "533",
            "source": "69",
            "sourcePort": "329",
            "target": "68",
            "targetPort": "328"
           },
           {
            "hwMeta": {
             "name": "(w_bin_next[4:1], sig_1)"
            },
            "id": "534",
            "source": "79",
            "sourcePort": "355",
            "target": "69",
            "targetPort": "331"
           },
           {
            "hwMeta": {
             "name": "Concat(~sig_2, sig_3)"
            },
            "id": "535",
            "source": "71",
            "sourcePort": "335",
            "target": "70",
            "targetPort": "333"
           },
           {
            "hwMeta": {
             "name": "~sig_2"
            },
            "id": "536",
            "source": "72",
            "sourcePort": "338",
            "target": "71",
            "targetPort": "336"
           },
           {
            "hwMeta": {
             "name": "(r_gray_out_reg1[2:0], sig_3)"
            },
            "id": "537",
            "source": "77",
            "sourcePort": "350",
            "target": "71",
            "targetPort": "337"
           },
           {
            "hwMeta": {
             "name": "(r_gray_out_reg1[4:2], sig_2)"
            },
            "id": "538",
            "source": "77",
            "sourcePort": "351",
            "target": "72",
            "targetPort": "339"
           },
           {
            "hwMeta": {
             "name": "(r_bin[3:0], sig_5)"
            },
            "id": "539",
            "source": "75",
            "sourcePort": "346",
            "target": "74",
            "targetPort": "344"
           }
          ],
          "hwMeta": {
           "cls": "Unit",
           "maxId": 539,
           "name": "fifo"
          },
          "id": "1",
          "ports": [
           {
            "children": [
             {
              "children": [],
              "direction": "INPUT",
              "hwMeta": {
               "connectedAsParent": false,
               "level": 1,
               "name": "en"
              },
              "id": "104",
              "properties": {
               "index": 1,
               "side": "EAST"
              }
             },
             {
              "children": [],
              "direction": "OUTPUT",
              "hwMeta": {
               "connectedAsParent": false,
               "level": 1,
               "name": "wait"
              },
              "id": "105",
              "properties": {
               "index": 2,
               "side": "EAST"
              }
             },
             {
              "children": [],
              "direction": "OUTPUT",
              "hwMeta": {
               "connectedAsParent": true,
               "level": 1,
               "name": "data"
              },
              "id": "106",
              "properties": {
               "index": 3,
               "side": "EAST"
              }
             }
            ],
            "direction": "OUTPUT",
            "hwMeta": {
             "connectedAsParent": false,
             "level": 0,
             "name": "dataOut"
            },
            "id": "103",
            "properties": {
             "index": 0,
             "side": "EAST"
            }
           },
           {
            "children": [],
            "direction": "INPUT",
            "hwMeta": {
             "connectedAsParent": false,
             "level": 0,
             "name": "dataOut_rst_n"
            },
            "id": "107",
            "properties": {
             "index": 4,
             "side": "WEST"
            }
           },
           {
            "children": [
             {
              "children": [],
              "direction": "INPUT",
              "hwMeta": {
               "connectedAsParent": false,
               "level": 1,
               "name": "en"
              },
              "id": "109",
              "properties": {
               "index": 5,
               "side": "WEST"
              }
             },
             {
              "children": [],
              "direction": "OUTPUT",
              "hwMeta": {
               "connectedAsParent": false,
               "level": 1,
               "name": "wait"
              },
              "id": "110",
              "properties": {
               "index": 6,
               "side": "WEST"
              }
             },
             {
              "children": [],
              "direction": "INPUT",
              "hwMeta": {
               "connectedAsParent": true,
               "level": 1,
               "name": "data"
              },
              "id": "111",
              "properties": {
               "index": 7,
               "side": "WEST"
              }
             }
            ],
            "direction": "INPUT",
            "hwMeta": {
             "connectedAsParent": false,
             "level": 0,
             "name": "dataIn"
            },
            "id": "108",
            "properties": {
             "index": 8,
             "side": "WEST"
            }
           },
           {
            "children": [],
            "direction": "INPUT",
            "hwMeta": {
             "connectedAsParent": false,
             "level": 0,
             "name": "dataIn_rst_n"
            },
            "id": "112",
            "properties": {
             "index": 9,
             "side": "WEST"
            }
           },
           {
            "children": [],
            "direction": "INPUT",
            "hwMeta": {
             "connectedAsParent": false,
             "level": 0,
             "name": "dataOut_clk"
            },
            "id": "113",
            "properties": {
             "index": 10,
             "side": "WEST"
            }
           },
           {
            "children": [],
            "direction": "INPUT",
            "hwMeta": {
             "connectedAsParent": false,
             "level": 0,
             "name": "dataIn_clk"
            },
            "id": "114",
            "properties": {
             "index": 11,
             "side": "WEST"
            }
           }
          ],
          "properties": {
           "org.eclipse.elk.layered.mergeEdges": 1,
           "org.eclipse.elk.portConstraints": "FIXED_ORDER"
          }
         },
         {
          "hwMeta": {
           "cls": "Operator",
           "maxId": 554,
           "name": "OR"
          },
          "id": "100",
          "ports": [
           {
            "children": [],
            "direction": "OUTPUT",
            "hwMeta": {
             "connectedAsParent": false,
             "level": 0,
             "name": null
            },
            "id": "409",
            "properties": {
             "index": 0,
             "side": "EAST"
            }
           },
           {
            "children": [],
            "direction": "INPUT",
            "hwMeta": {
             "connectedAsParent": false,
             "level": 0,
             "name": null
            },
            "id": "410",
            "properties": {
             "index": 1,
             "side": "WEST"
            }
           },
           {
            "children": [],
            "direction": "INPUT",
            "hwMeta": {
             "connectedAsParent": false,
             "level": 0,
             "name": null
            },
            "id": "411",
            "properties": {
             "index": 2,
             "side": "WEST"
            }
           }
          ],
          "properties": {
           "org.eclipse.elk.layered.mergeEdges": 1,
           "org.eclipse.elk.portConstraints": "FIXED_ORDER"
          }
         },
         {
          "hwMeta": {
           "cls": "Operator",
           "maxId": 554,
           "name": "NOT"
          },
          "id": "101",
          "ports": [
           {
            "children": [],
            "direction": "OUTPUT",
            "hwMeta": {
             "connectedAsParent": false,
             "level": 0,
             "name": null
            },
            "id": "412",
            "properties": {
             "index": 0,
             "side": "EAST"
            }
           },
           {
            "children": [],
            "direction": "INPUT",
            "hwMeta": {
             "connectedAsParent": false,
             "level": 0,
             "name": null
            },
            "id": "413",
            "properties": {
             "index": 1,
             "side": "WEST"
            }
           }
          ],
          "properties": {
           "org.eclipse.elk.layered.mergeEdges": 1,
           "org.eclipse.elk.portConstraints": "FIXED_ORDER"
          }
         },
         {
          "hwMeta": {
           "cls": "Operator",
           "maxId": 554,
           "name": "NOT"
          },
          "id": "102",
          "ports": [
           {
            "children": [],
            "direction": "OUTPUT",
            "hwMeta": {
             "connectedAsParent": false,
             "level": 0,
             "name": null
            },
            "id": "414",
            "properties": {
             "index": 0,
             "side": "EAST"
            }
           },
           {
            "children": [],
            "direction": "INPUT",
            "hwMeta": {
             "connectedAsParent": false,
             "level": 0,
             "name": null
            },
            "id": "415",
            "properties": {
             "index": 1,
             "side": "WEST"
            }
           }
          ],
          "properties": {
           "org.eclipse.elk.layered.mergeEdges": 1,
           "org.eclipse.elk.portConstraints": "FIXED_ORDER"
          }
         },
         {
          "_children": [
           {
            "hwMeta": {
             "cls": "Operator",
             "maxId": 539,
             "name": "MUX"
            },
            "id": "81",
            "ports": [
             {
              "children": [],
              "direction": "OUTPUT",
              "hwMeta": {
               "connectedAsParent": false,
               "level": 0,
               "name": ""
              },
              "id": "361",
              "properties": {
               "index": 0,
               "side": "EAST"
              }
             },
             {
              "children": [],
              "direction": "INPUT",
              "hwMeta": {
               "connectedAsParent": false,
               "level": 0,
               "name": ""
              },
              "id": "362",
              "properties": {
               "index": 1,
               "side": "SOUTH"
              }
             },
             {
              "children": [],
              "direction": "INPUT",
              "hwMeta": {
               "connectedAsParent": false,
               "level": 0,
               "name": ""
              },
              "id": "363",
              "properties": {
               "index": 2,
               "side": "WEST"
              }
             },
             {
              "children": [],
              "direction": "INPUT",
              "hwMeta": {
               "connectedAsParent": false,
               "level": 0,
               "name": ""
              },
              "id": "364",
              "properties": {
               "index": 3,
               "side": "WEST"
              }
             }
            ],
            "properties": {
             "org.eclipse.elk.layered.mergeEdges": 1,
             "org.eclipse.elk.portConstraints": "FIXED_ORDER"
            }
           },
           {
            "hwMeta": {
             "cls": "Operator",
             "maxId": 539,
             "name": "EQ"
            },
            "id": "82",
            "ports": [
             {
              "children": [],
              "direction": "OUTPUT",
              "hwMeta": {
               "connectedAsParent": false,
               "level": 0,
               "name": null
              },
              "id": "365",
              "properties": {
               "index": 0,
               "side": "EAST"
              }
             },
             {
              "children": [],
              "direction": "INPUT",
              "hwMeta": {
               "connectedAsParent": false,
               "level": 0,
               "name": null
              },
              "id": "366",
              "properties": {
               "index": 1,
               "side": "WEST"
              }
             },
             {
              "children": [],
              "direction": "INPUT",
              "hwMeta": {
               "connectedAsParent": false,
               "level": 0,
               "name": null
              },
              "id": "367",
              "properties": {
               "index": 2,
               "side": "WEST"
              }
             }
            ],
            "properties": {
             "org.eclipse.elk.layered.mergeEdges": 1,
             "org.eclipse.elk.portConstraints": "FIXED_ORDER"
            }
           },
           {
            "hwMeta": {
             "bodyText": "0",
             "cls": "Operator",
             "maxId": 539,
             "name": null
            },
            "id": "83",
            "ports": [
             {
              "children": [],
              "direction": "OUTPUT",
              "hwMeta": {
               "connectedAsParent": false,
               "level": 0,
               "name": null
              },
              "id": "368",
              "properties": {
               "side": "EAST"
              }
             }
            ],
            "properties": {
             "org.eclipse.elk.layered.mergeEdges": 1,
             "org.eclipse.elk.portConstraints": "FREE"
            }
           },
           {
            "hwMeta": {
             "cls": "Operator",
             "maxId": 539,
             "name": "FF"
            },
            "id": "84",
            "ports": [
             {
              "children": [],
              "direction": "OUTPUT",
              "hwMeta": {
               "connectedAsParent": false,
               "level": 0,
               "name": "o"
              },
              "id": "369",
              "properties": {
               "index": 0,
               "side": "EAST"
              }
             },
             {
              "children": [],
              "direction": "INPUT",
              "hwMeta": {
               "connectedAsParent": false,
               "level": 0,
               "name": "i"
              },
              "id": "370",
              "properties": {
               "index": 1,
               "side": "WEST"
              }
             },
             {
              "children": [],
              "direction": "INPUT",
              "hwMeta": {
               "connectedAsParent": false,
               "level": 0,
               "name": "clk"
              },
              "id": "371",
              "properties": {
               "index": 2,
               "side": "WEST"
              }
             }
            ],
            "properties": {
             "org.eclipse.elk.layered.mergeEdges": 1,
             "org.eclipse.elk.portConstraints": "FIXED_ORDER"
            }
           },
           {
            "hwMeta": {
             "cls": "Operator",
             "maxId": 539,
             "name": "RISING_EDGE"
            },
            "id": "85",
            "ports": [
             {
              "children": [],
              "direction": "OUTPUT",
              "hwMeta": {
               "connectedAsParent": false,
               "level": 0,
               "name": null
              },
              "id": "372",
              "properties": {
               "index": 0,
               "side": "EAST"
              }
             },
             {
              "children": [],
              "direction": "INPUT",
              "hwMeta": {
               "connectedAsParent": false,
               "level": 0,
               "name": null
              },
              "id": "373",
              "properties": {
               "index": 1,
               "side": "WEST"
              }
             }
            ],
            "properties": {
             "org.eclipse.elk.layered.mergeEdges": 1,
             "org.eclipse.elk.portConstraints": "FIXED_ORDER"
            }
           }
          ],
          "_edges": [
           {
            "hwMeta": {
             "name": null
            },
            "id": "540",
            "source": "81",
            "sourcePort": "361",
            "target": "84",
            "targetPort": "370"
           },
           {
            "hwMeta": {
             "name": "dataOut_rst_n._eq(0)"
            },
            "id": "541",
            "source": "82",
            "sourcePort": "365",
            "target": "81",
            "targetPort": "362"
           },
           {
            "hwMeta": {
             "name": "out_vld_next"
            },
            "id": "542",
            "source": "80",
            "sourcePort": "358",
            "target": "81",
            "targetPort": "363"
           },
           {
            "hwMeta": {
             "name": "<BitsVal 0>"
            },
            "id": "543",
            "sources": [
             [
              "83",
              "368"
             ]
            ],
            "targets": [
             [
              "82",
              "366"
             ],
             [
              "81",
              "364"
             ]
            ]
           },
           {
            "hwMeta": {
             "name": "dataOut_rst_n"
            },
            "id": "544",
            "source": "80",
            "sourcePort": "359",
            "target": "82",
            "targetPort": "367"
           },
           {
            "hwMeta": {
             "name": "out_vld"
            },
            "id": "545",
            "source": "84",
            "sourcePort": "369",
            "target": "80",
            "targetPort": "357"
           },
           {
            "hwMeta": {
             "name": "dataOut_clk._onRisingEdge()"
            },
            "id": "546",
            "source": "85",
            "sourcePort": "372",
            "target": "84",
            "targetPort": "371"
           },
           {
            "hwMeta": {
             "name": "dataOut_clk"
            },
            "id": "547",
            "source": "80",
            "sourcePort": "360",
            "target": "85",
            "targetPort": "373"
           }
          ],
          "hwMeta": {
           "bodyText": "If(dataOut_clk._onRisingEdge(),\n    If(dataOut_rst_n._eq(0),\n        out_vld(0)\n    ).Else(\n        out_vld(out_vld_next)\n    )\n)",
           "cls": "Process",
           "maxId": 547,
           "name": null
          },
          "id": "80",
          "ports": [
           {
            "children": [],
            "direction": "OUTPUT",
            "hwMeta": {
             "connectedAsParent": false,
             "level": 0,
             "name": "out_vld"
            },
            "id": "357",
            "properties": {
             "index": 0,
             "side": "EAST"
            }
           },
           {
            "children": [],
            "direction": "INPUT",
            "hwMeta": {
             "connectedAsParent": false,
             "level": 0,
             "name": "out_vld_next"
            },
            "id": "358",
            "properties": {
             "index": 1,
             "side": "WEST"
            }
           },
           {
            "children": [],
            "direction": "INPUT",
            "hwMeta": {
             "connectedAsParent": false,
             "level": 0,
             "name": "dataOut_rst_n"
            },
            "id": "359",
            "properties": {
             "index": 2,
             "side": "WEST"
            }
           },
           {
            "children": [],
            "direction": "INPUT",
            "hwMeta": {
             "connectedAsParent": false,
             "level": 0,
             "name": "dataOut_clk"
            },
            "id": "360",
            "properties": {
             "index": 3,
             "side": "WEST"
            }
           }
          ],
          "properties": {
           "org.eclipse.elk.layered.mergeEdges": 1,
           "org.eclipse.elk.portConstraints": "FIXED_ORDER"
          }
         },
         {
          "_children": [
           {
            "hwMeta": {
             "cls": "Operator",
             "maxId": 547,
             "name": "NOT"
            },
            "id": "87",
            "ports": [
             {
              "children": [],
              "direction": "OUTPUT",
              "hwMeta": {
               "connectedAsParent": false,
               "level": 0,
               "name": null
              },
              "id": "378",
              "properties": {
               "index": 0,
               "side": "EAST"
              }
             },
             {
              "children": [],
              "direction": "INPUT",
              "hwMeta": {
               "connectedAsParent": false,
               "level": 0,
               "name": null
              },
              "id": "379",
              "properties": {
               "index": 1,
               "side": "WEST"
              }
             }
            ],
            "properties": {
             "org.eclipse.elk.layered.mergeEdges": 1,
             "org.eclipse.elk.portConstraints": "FIXED_ORDER"
            }
           },
           {
            "hwMeta": {
             "cls": "Operator",
             "maxId": 547,
             "name": "MUX"
            },
            "id": "88",
            "ports": [
             {
              "children": [],
              "direction": "OUTPUT",
              "hwMeta": {
               "connectedAsParent": false,
               "level": 0,
               "name": ""
              },
              "id": "380",
              "properties": {
               "index": 0,
               "side": "EAST"
              }
             },
             {
              "children": [],
              "direction": "INPUT",
              "hwMeta": {
               "connectedAsParent": false,
               "level": 0,
               "name": ""
              },
              "id": "381",
              "properties": {
               "index": 1,
               "side": "SOUTH"
              }
             },
             {
              "children": [],
              "direction": "INPUT",
              "hwMeta": {
               "connectedAsParent": false,
               "level": 0,
               "name": ""
              },
              "id": "382",
              "properties": {
               "index": 2,
               "side": "WEST"
              }
             },
             {
              "children": [],
              "direction": "INPUT",
              "hwMeta": {
               "connectedAsParent": false,
               "level": 0,
               "name": ""
              },
              "id": "383",
              "properties": {
               "index": 3,
               "side": "WEST"
              }
             }
            ],
            "properties": {
             "org.eclipse.elk.layered.mergeEdges": 1,
             "org.eclipse.elk.portConstraints": "FIXED_ORDER"
            }
           },
           {
            "hwMeta": {
             "cls": "Operator",
             "maxId": 547,
             "name": "OR"
            },
            "id": "89",
            "ports": [
             {
              "children": [],
              "direction": "OUTPUT",
              "hwMeta": {
               "connectedAsParent": false,
               "level": 0,
               "name": null
              },
              "id": "384",
              "properties": {
               "index": 0,
               "side": "EAST"
              }
             },
             {
              "children": [],
              "direction": "INPUT",
              "hwMeta": {
               "connectedAsParent": false,
               "level": 0,
               "name": null
              },
              "id": "385",
              "properties": {
               "index": 1,
               "side": "WEST"
              }
             },
             {
              "children": [],
              "direction": "INPUT",
              "hwMeta": {
               "connectedAsParent": false,
               "level": 0,
               "name": null
              },
              "id": "386",
              "properties": {
               "index": 2,
               "side": "WEST"
              }
             }
            ],
            "properties": {
             "org.eclipse.elk.layered.mergeEdges": 1,
             "org.eclipse.elk.portConstraints": "FIXED_ORDER"
            }
           },
           {
            "hwMeta": {
             "cls": "Operator",
             "maxId": 547,
             "name": "NOT"
            },
            "id": "90",
            "ports": [
             {
              "children": [],
              "direction": "OUTPUT",
              "hwMeta": {
               "connectedAsParent": false,
               "level": 0,
               "name": null
              },
              "id": "387",
              "properties": {
               "index": 0,
               "side": "EAST"
              }
             },
             {
              "children": [],
              "direction": "INPUT",
              "hwMeta": {
               "connectedAsParent": false,
               "level": 0,
               "name": null
              },
              "id": "388",
              "properties": {
               "index": 1,
               "side": "WEST"
              }
             }
            ],
            "properties": {
             "org.eclipse.elk.layered.mergeEdges": 1,
             "org.eclipse.elk.portConstraints": "FIXED_ORDER"
            }
           }
          ],
          "_edges": [
           {
            "hwMeta": {
             "name": "~sig_fifo_dataOut_wait"
            },
            "id": "548",
            "source": "87",
            "sourcePort": "378",
            "target": "88",
            "targetPort": "383"
           },
           {
            "hwMeta": {
             "name": "sig_fifo_dataOut_wait"
            },
            "id": "549",
            "source": "86",
            "sourcePort": "375",
            "target": "87",
            "targetPort": "379"
           },
           {
            "hwMeta": {
             "name": "out_vld_next"
            },
            "id": "550",
            "source": "88",
            "sourcePort": "380",
            "target": "86",
            "targetPort": "374"
           },
           {
            "hwMeta": {
             "name": "dataOut_rd | ~out_vld"
            },
            "id": "551",
            "source": "89",
            "sourcePort": "384",
            "target": "88",
            "targetPort": "381"
           },
           {
            "hwMeta": {
             "name": "out_vld"
            },
            "id": "552",
            "sources": [
             [
              "86",
              "376"
             ]
            ],
            "targets": [
             [
              "90",
              "388"
             ],
             [
              "88",
              "382"
             ]
            ]
           },
           {
            "hwMeta": {
             "name": "~out_vld"
            },
            "id": "553",
            "source": "90",
            "sourcePort": "387",
            "target": "89",
            "targetPort": "385"
           },
           {
            "hwMeta": {
             "name": "dataOut_rd"
            },
            "id": "554",
            "source": "86",
            "sourcePort": "377",
            "target": "89",
            "targetPort": "386"
           }
          ],
          "hwMeta": {
           "bodyText": "If((dataOut_rd | ~out_vld)._eq(1),\n    out_vld_next(~sig_fifo_dataOut_wait)\n).Else(\n    out_vld_next(out_vld)\n)",
           "cls": "Process",
           "maxId": 554,
           "name": null
          },
          "id": "86",
          "ports": [
           {
            "children": [],
            "direction": "OUTPUT",
            "hwMeta": {
             "connectedAsParent": false,
             "level": 0,
             "name": "out_vld_next"
            },
            "id": "374",
            "properties": {
             "index": 0,
             "side": "EAST"
            }
           },
           {
            "children": [],
            "direction": "INPUT",
            "hwMeta": {
             "connectedAsParent": false,
             "level": 0,
             "name": "sig_fifo_dataOut_wait"
            },
            "id": "375",
            "properties": {
             "index": 1,
             "side": "WEST"
            }
           },
           {
            "children": [],
            "direction": "INPUT",
            "hwMeta": {
             "connectedAsParent": false,
             "level": 0,
             "name": "out_vld"
            },
            "id": "376",
            "properties": {
             "index": 2,
             "side": "WEST"
            }
           },
           {
            "children": [],
            "direction": "INPUT",
            "hwMeta": {
             "connectedAsParent": false,
             "level": 0,
             "name": "dataOut_rd"
            },
            "id": "377",
            "properties": {
             "index": 3,
             "side": "WEST"
            }
           }
          ],
          "properties": {
           "org.eclipse.elk.layered.mergeEdges": 1,
           "org.eclipse.elk.portConstraints": "FIXED_ORDER"
          }
         },
         {
          "hwMeta": {
           "cls": null,
           "isExternalPort": true,
           "maxId": 554,
           "name": "dataIn_clk"
          },
          "id": "91",
          "ports": [
           {
            "children": [],
            "direction": "OUTPUT",
            "hwMeta": {
             "connectedAsParent": false,
             "level": 0,
             "name": "dataIn_clk"
            },
            "id": "389",
            "properties": {
             "index": 0,
             "side": "EAST"
            }
           }
          ],
          "properties": {
           "org.eclipse.elk.layered.mergeEdges": 1,
           "org.eclipse.elk.portConstraints": "FIXED_ORDER"
          }
         },
         {
          "hwMeta": {
           "cls": null,
           "isExternalPort": true,
           "maxId": 554,
           "name": "dataOut_clk"
          },
          "id": "92",
          "ports": [
           {
            "children": [],
            "direction": "OUTPUT",
            "hwMeta": {
             "connectedAsParent": false,
             "level": 0,
             "name": "dataOut_clk"
            },
            "id": "390",
            "properties": {
             "index": 0,
             "side": "EAST"
            }
           }
          ],
          "properties": {
           "org.eclipse.elk.layered.mergeEdges": 1,
           "org.eclipse.elk.portConstraints": "FIXED_ORDER"
          }
         },
         {
          "hwMeta": {
           "cls": null,
           "isExternalPort": true,
           "maxId": 554,
           "name": "dataIn_rst_n"
          },
          "id": "93",
          "ports": [
           {
            "children": [],
            "direction": "OUTPUT",
            "hwMeta": {
             "connectedAsParent": false,
             "level": 0,
             "name": "dataIn_rst_n"
            },
            "id": "391",
            "properties": {
             "index": 0,
             "side": "EAST"
            }
           }
          ],
          "properties": {
           "org.eclipse.elk.layered.mergeEdges": 1,
           "org.eclipse.elk.portConstraints": "FIXED_ORDER"
          }
         },
         {
          "hwMeta": {
           "cls": null,
           "isExternalPort": true,
           "maxId": 554,
           "name": "dataIn"
          },
          "id": "94",
          "ports": [
           {
            "children": [
             {
              "children": [],
              "direction": "OUTPUT",
              "hwMeta": {
               "connectedAsParent": true,
               "level": 1,
               "name": "data"
              },
              "id": "393",
              "properties": {
               "index": 1,
               "side": "EAST"
              }
             },
             {
              "children": [],
              "direction": "OUTPUT",
              "hwMeta": {
               "connectedAsParent": false,
               "level": 1,
               "name": "vld"
              },
              "id": "394",
              "properties": {
               "index": 2,
               "side": "EAST"
              }
             },
             {
              "children": [],
              "direction": "INPUT",
              "hwMeta": {
               "connectedAsParent": false,
               "level": 1,
               "name": "rd"
              },
              "id": "395",
              "properties": {
               "index": 3,
               "side": "EAST"
              }
             }
            ],
            "direction": "OUTPUT",
            "hwMeta": {
             "connectedAsParent": false,
             "level": 0,
             "name": "dataIn"
            },
            "id": "392",
            "properties": {
             "index": 0,
             "side": "EAST"
            }
           }
          ],
          "properties": {
           "org.eclipse.elk.layered.mergeEdges": 1,
           "org.eclipse.elk.portConstraints": "FIXED_ORDER"
          }
         },
         {
          "hwMeta": {
           "cls": null,
           "isExternalPort": true,
           "maxId": 554,
           "name": "dataOut_rst_n"
          },
          "id": "95",
          "ports": [
           {
            "children": [],
            "direction": "OUTPUT",
            "hwMeta": {
             "connectedAsParent": false,
             "level": 0,
             "name": "dataOut_rst_n"
            },
            "id": "396",
            "properties": {
             "index": 0,
             "side": "EAST"
            }
           }
          ],
          "properties": {
           "org.eclipse.elk.layered.mergeEdges": 1,
           "org.eclipse.elk.portConstraints": "FIXED_ORDER"
          }
         },
         {
          "hwMeta": {
           "cls": null,
           "isExternalPort": true,
           "maxId": 554,
           "name": "dataOut"
          },
          "id": "96",
          "ports": [
           {
            "children": [
             {
              "children": [],
              "direction": "INPUT",
              "hwMeta": {
               "connectedAsParent": true,
               "level": 1,
               "name": "data"
              },
              "id": "398",
              "properties": {
               "index": 0,
               "side": "WEST"
              }
             },
             {
              "children": [],
              "direction": "INPUT",
              "hwMeta": {
               "connectedAsParent": false,
               "level": 1,
               "name": "vld"
              },
              "id": "399",
              "properties": {
               "index": 1,
               "side": "WEST"
              }
             },
             {
              "children": [],
              "direction": "OUTPUT",
              "hwMeta": {
               "connectedAsParent": false,
               "level": 1,
               "name": "rd"
              },
              "id": "400",
              "properties": {
               "index": 2,
               "side": "WEST"
              }
             }
            ],
            "direction": "INPUT",
            "hwMeta": {
             "connectedAsParent": false,
             "level": 0,
             "name": "dataOut"
            },
            "id": "397",
            "properties": {
             "index": 3,
             "side": "WEST"
            }
           }
          ],
          "properties": {
           "org.eclipse.elk.layered.mergeEdges": 1,
           "org.eclipse.elk.portConstraints": "FIXED_ORDER"
          }
         },
         {
          "hwMeta": {
           "cls": "Operator",
           "maxId": 554,
           "name": "NOT"
          },
          "id": "97",
          "ports": [
           {
            "children": [],
            "direction": "OUTPUT",
            "hwMeta": {
             "connectedAsParent": false,
             "level": 0,
             "name": null
            },
            "id": "401",
            "properties": {
             "index": 0,
             "side": "EAST"
            }
           },
           {
            "children": [],
            "direction": "INPUT",
            "hwMeta": {
             "connectedAsParent": false,
             "level": 0,
             "name": null
            },
            "id": "402",
            "properties": {
             "index": 1,
             "side": "WEST"
            }
           }
          ],
          "properties": {
           "org.eclipse.elk.layered.mergeEdges": 1,
           "org.eclipse.elk.portConstraints": "FIXED_ORDER"
          }
         },
         {
          "hwMeta": {
           "cls": "Operator",
           "maxId": 554,
           "name": "AND"
          },
          "id": "98",
          "ports": [
           {
            "children": [],
            "direction": "OUTPUT",
            "hwMeta": {
             "connectedAsParent": false,
             "level": 0,
             "name": null
            },
            "id": "403",
            "properties": {
             "index": 0,
             "side": "EAST"
            }
           },
           {
            "children": [],
            "direction": "INPUT",
            "hwMeta": {
             "connectedAsParent": false,
             "level": 0,
             "name": null
            },
            "id": "404",
            "properties": {
             "index": 1,
             "side": "WEST"
            }
           },
           {
            "children": [],
            "direction": "INPUT",
            "hwMeta": {
             "connectedAsParent": false,
             "level": 0,
             "name": null
            },
            "id": "405",
            "properties": {
             "index": 2,
             "side": "WEST"
            }
           }
          ],
          "properties": {
           "org.eclipse.elk.layered.mergeEdges": 1,
           "org.eclipse.elk.portConstraints": "FIXED_ORDER"
          }
         },
         {
          "hwMeta": {
           "cls": "Operator",
           "maxId": 554,
           "name": "AND"
          },
          "id": "99",
          "ports": [
           {
            "children": [],
            "direction": "OUTPUT",
            "hwMeta": {
             "connectedAsParent": false,
             "level": 0,
             "name": null
            },
            "id": "406",
            "properties": {
             "index": 0,
             "side": "EAST"
            }
           },
           {
            "children": [],
            "direction": "INPUT",
            "hwMeta": {
             "connectedAsParent": false,
             "level": 0,
             "name": null
            },
            "id": "407",
            "properties": {
             "index": 1,
             "side": "WEST"
            }
           },
           {
            "children": [],
            "direction": "INPUT",
            "hwMeta": {
             "connectedAsParent": false,
             "level": 0,
             "name": null
            },
            "id": "408",
            "properties": {
             "index": 2,
             "side": "WEST"
            }
           }
          ],
          "properties": {
           "org.eclipse.elk.layered.mergeEdges": 1,
           "org.eclipse.elk.portConstraints": "FIXED_ORDER"
          }
         }
        ],
        "edges": [
         {
          "hwMeta": {
           "name": null
          },
          "id": "555",
          "source": "1",
          "sourcePort": "103",
          "target": "96",
          "targetPort": "397"
         },
         {
          "hwMeta": {
           "name": "sig_fifo_dataOut_rst_n"
          },
          "id": "556",
          "sources": [
           [
            "95",
            "396"
           ]
          ],
          "targets": [
           [
            "80",
            "359"
           ],
           [
            "1",
            "107"
           ]
          ]
         },
         {
          "hwMeta": {
           "name": null
          },
          "id": "557",
          "source": "94",
          "sourcePort": "392",
          "target": "1",
          "targetPort": "108"
         },
         {
          "hwMeta": {
           "name": "sig_fifo_dataIn_rst_n"
          },
          "id": "558",
          "source": "93",
          "sourcePort": "391",
          "target": "1",
          "targetPort": "112"
         },
         {
          "hwMeta": {
           "name": "sig_fifo_dataOut_clk"
          },
          "id": "559",
          "sources": [
           [
            "92",
            "390"
           ]
          ],
          "targets": [
           [
            "80",
            "360"
           ],
           [
            "1",
            "113"
           ]
          ]
         },
         {
          "hwMeta": {
           "name": "sig_fifo_dataIn_clk"
          },
          "id": "560",
          "source": "91",
          "sourcePort": "389",
          "target": "1",
          "targetPort": "114"
         },
         {
          "hwMeta": {
           "name": "out_vld"
          },
          "id": "561",
          "sources": [
           [
            "80",
            "357"
           ]
          ],
          "targets": [
           [
            "101",
            "413"
           ],
           [
            "86",
            "376"
           ],
           [
            "96",
            "399"
           ]
          ]
         },
         {
          "hwMeta": {
           "name": "out_vld_next"
          },
          "id": "562",
          "source": "86",
          "sourcePort": "374",
          "target": "80",
          "targetPort": "358"
         },
         {
          "hwMeta": {
           "name": "sig_fifo_dataOut_wait"
          },
          "id": "563",
          "sources": [
           [
            "1",
            "105"
           ]
          ],
          "targets": [
           [
            "102",
            "415"
           ],
           [
            "86",
            "375"
           ]
          ]
         },
         {
          "hwMeta": {
           "name": "dataOut_rd"
          },
          "id": "564",
          "sources": [
           [
            "96",
            "400"
           ]
          ],
          "targets": [
           [
            "100",
            "411"
           ],
           [
            "86",
            "377"
           ]
          ]
         },
         {
          "hwMeta": {
           "name": "~sig_fifo_dataIn_wait"
          },
          "id": "565",
          "sources": [
           [
            "97",
            "401"
           ]
          ],
          "targets": [
           [
            "98",
            "404"
           ],
           [
            "94",
            "395"
           ]
          ]
         },
         {
          "hwMeta": {
           "name": "sig_fifo_dataIn_wait"
          },
          "id": "566",
          "source": "1",
          "sourcePort": "110",
          "target": "97",
          "targetPort": "402"
         },
         {
          "hwMeta": {
           "name": "dataIn_vld & ~sig_fifo_dataIn_wait"
          },
          "id": "567",
          "source": "98",
          "sourcePort": "403",
          "target": "1",
          "targetPort": "109"
         },
         {
          "hwMeta": {
           "name": "dataIn_vld"
          },
          "id": "568",
          "source": "94",
          "sourcePort": "394",
          "target": "98",
          "targetPort": "405"
         },
         {
          "hwMeta": {
           "name": "(dataOut_rd | ~out_vld) & ~sig_fifo_dataOut_wait"
          },
          "id": "569",
          "source": "99",
          "sourcePort": "406",
          "target": "1",
          "targetPort": "104"
         },
         {
          "hwMeta": {
           "name": "~sig_fifo_dataOut_wait"
          },
          "id": "570",
          "source": "102",
          "sourcePort": "414",
          "target": "99",
          "targetPort": "407"
         },
         {
          "hwMeta": {
           "name": "dataOut_rd | ~out_vld"
          },
          "id": "571",
          "source": "100",
          "sourcePort": "409",
          "target": "99",
          "targetPort": "408"
         },
         {
          "hwMeta": {
           "name": "~out_vld"
          },
          "id": "572",
          "source": "101",
          "sourcePort": "412",
          "target": "100",
          "targetPort": "410"
         }
        ],
        "hwMeta": {
         "cls": null,
         "maxId": 572,
         "name": "HsFifoAsync"
        },
        "ports": [],
        "properties": {
         "org.eclipse.elk.layered.mergeEdges": 1,
         "org.eclipse.elk.portConstraints": "FIXED_ORDER"
        }
       },
       "width": "1000px"
      }
     },
     "60456bef544142be8495b1ccd7529dd3": {
      "model_module": "@jupyter-widgets/base",
      "model_module_version": "1.2.0",
      "model_name": "LayoutModel",
      "state": {}
     },
     "69adbeb059a74ba0be48c7b7dd6a8b5b": {
      "model_module": "@jupyter-widgets/base",
      "model_module_version": "1.2.0",
      "model_name": "LayoutModel",
      "state": {}
     },
     "72309b371ec94a89a2a73efa0c73166c": {
      "model_module": "@jupyter-widgets/base",
      "model_module_version": "1.2.0",
      "model_name": "LayoutModel",
      "state": {}
     },
     "7a3d9ac49ec64031bd76afb2b05767fb": {
      "model_module": "jupyter_widget_hwt",
      "model_module_version": "^0.0.1",
      "model_name": "HwtSchemeModel",
      "state": {
       "_model_module_version": "^0.0.1",
       "_view_module_version": "^0.0.1",
       "layout": "IPY_MODEL_371092057edc4ba99889d0e940889cc3",
       "value": {
        "children": [
         {
          "_children": [
           {
            "hwMeta": {
             "cls": "Operator",
             "maxId": 61,
             "name": "MUX"
            },
            "id": "2",
            "ports": [
             {
              "direction": "OUTPUT",
              "hwMeta": {
               "level": 0,
               "name": ""
              },
              "id": "23",
              "properties": {
               "index": 0,
               "side": "EAST"
              }
             },
             {
              "direction": "INPUT",
              "hwMeta": {
               "level": 0,
               "name": ""
              },
              "id": "24",
              "properties": {
               "index": 1,
               "side": "SOUTH"
              }
             },
             {
              "direction": "INPUT",
              "hwMeta": {
               "level": 0,
               "name": ""
              },
              "id": "25",
              "properties": {
               "index": 2,
               "side": "WEST"
              }
             },
             {
              "direction": "INPUT",
              "hwMeta": {
               "level": 0,
               "name": ""
              },
              "id": "26",
              "properties": {
               "index": 3,
               "side": "WEST"
              }
             }
            ],
            "properties": {
             "org.eclipse.elk.layered.mergeEdges": 1,
             "org.eclipse.elk.portConstraints": "FIXED_ORDER",
             "org.eclipse.elk.randomSeed": 0
            }
           },
           {
            "hwMeta": {
             "bodyText": "0",
             "cls": "Operator",
             "maxId": 61,
             "name": null
            },
            "id": "3",
            "ports": [
             {
              "direction": "OUTPUT",
              "hwMeta": {
               "level": 0,
               "name": null
              },
              "id": "27",
              "properties": {
               "side": "EAST"
              }
             }
            ],
            "properties": {
             "org.eclipse.elk.layered.mergeEdges": 1,
             "org.eclipse.elk.portConstraints": "FREE",
             "org.eclipse.elk.randomSeed": 0
            }
           },
           {
            "hwMeta": {
             "cls": "Operator",
             "maxId": 61,
             "name": "FF"
            },
            "id": "4",
            "ports": [
             {
              "direction": "OUTPUT",
              "hwMeta": {
               "level": 0,
               "name": "o"
              },
              "id": "28",
              "properties": {
               "index": 0,
               "side": "EAST"
              }
             },
             {
              "direction": "INPUT",
              "hwMeta": {
               "level": 0,
               "name": "i"
              },
              "id": "29",
              "properties": {
               "index": 1,
               "side": "WEST"
              }
             },
             {
              "direction": "INPUT",
              "hwMeta": {
               "level": 0,
               "name": "clk"
              },
              "id": "30",
              "properties": {
               "index": 2,
               "side": "WEST"
              }
             }
            ],
            "properties": {
             "org.eclipse.elk.layered.mergeEdges": 1,
             "org.eclipse.elk.portConstraints": "FIXED_ORDER",
             "org.eclipse.elk.randomSeed": 0
            }
           },
           {
            "hwMeta": {
             "cls": "Operator",
             "maxId": 61,
             "name": "RISING_EDGE"
            },
            "id": "5",
            "ports": [
             {
              "direction": "OUTPUT",
              "hwMeta": {
               "level": 0,
               "name": null
              },
              "id": "31",
              "properties": {
               "index": 0,
               "side": "EAST"
              }
             },
             {
              "direction": "INPUT",
              "hwMeta": {
               "level": 0,
               "name": null
              },
              "id": "32",
              "properties": {
               "index": 1,
               "side": "WEST"
              }
             }
            ],
            "properties": {
             "org.eclipse.elk.layered.mergeEdges": 1,
             "org.eclipse.elk.portConstraints": "FIXED_ORDER",
             "org.eclipse.elk.randomSeed": 0
            }
           }
          ],
          "_edges": [
           {
            "hwMeta": {
             "name": null
            },
            "id": "62",
            "source": "2",
            "sourcePort": "23",
            "target": "4",
            "targetPort": "29"
           },
           {
            "hwMeta": {
             "name": "dataIn_rst._eq(1)"
            },
            "id": "63",
            "source": "1",
            "sourcePort": "21",
            "target": "2",
            "targetPort": "24"
           },
           {
            "hwMeta": {
             "name": "in_reg0_next"
            },
            "id": "64",
            "source": "1",
            "sourcePort": "20",
            "target": "2",
            "targetPort": "25"
           },
           {
            "hwMeta": {
             "name": "<BitsVal 0>"
            },
            "id": "65",
            "source": "3",
            "sourcePort": "27",
            "target": "2",
            "targetPort": "26"
           },
           {
            "hwMeta": {
             "name": "in_reg0"
            },
            "id": "66",
            "source": "4",
            "sourcePort": "28",
            "target": "1",
            "targetPort": "19"
           },
           {
            "hwMeta": {
             "name": "dataIn_clk._onRisingEdge()"
            },
            "id": "67",
            "source": "5",
            "sourcePort": "31",
            "target": "4",
            "targetPort": "30"
           },
           {
            "hwMeta": {
             "name": "dataIn_clk"
            },
            "id": "68",
            "source": "1",
            "sourcePort": "22",
            "target": "5",
            "targetPort": "32"
           }
          ],
          "hwMeta": {
           "bodyText": "If(dataIn_clk._onRisingEdge(),\n    If(dataIn_rst._eq(1),\n        in_reg0(0)\n    ).Else(\n        in_reg0(in_reg0_next)\n    )\n)",
           "cls": "Process",
           "maxId": 68,
           "name": null
          },
          "id": "1",
          "ports": [
           {
            "direction": "OUTPUT",
            "hwMeta": {
             "level": 0,
             "name": "in_reg0"
            },
            "id": "19",
            "properties": {
             "index": 0,
             "side": "EAST"
            }
           },
           {
            "direction": "INPUT",
            "hwMeta": {
             "level": 0,
             "name": "in_reg0_next"
            },
            "id": "20",
            "properties": {
             "index": 1,
             "side": "WEST"
            }
           },
           {
            "direction": "INPUT",
            "hwMeta": {
             "level": 0,
             "name": "dataIn_rst"
            },
            "id": "21",
            "properties": {
             "index": 2,
             "side": "WEST"
            }
           },
           {
            "direction": "INPUT",
            "hwMeta": {
             "level": 0,
             "name": "dataIn_clk"
            },
            "id": "22",
            "properties": {
             "index": 3,
             "side": "WEST"
            }
           }
          ],
          "properties": {
           "org.eclipse.elk.layered.mergeEdges": 1,
           "org.eclipse.elk.portConstraints": "FIXED_ORDER",
           "org.eclipse.elk.randomSeed": 0
          }
         },
         {
          "hwMeta": {
           "cls": null,
           "isExternalPort": true,
           "maxId": 78,
           "name": "dataIn_clk"
          },
          "id": "13",
          "ports": [
           {
            "direction": "OUTPUT",
            "hwMeta": {
             "level": 0,
             "name": "dataIn_clk"
            },
            "id": "56",
            "properties": {
             "index": 0,
             "side": "EAST"
            }
           }
          ],
          "properties": {
           "org.eclipse.elk.layered.mergeEdges": 1,
           "org.eclipse.elk.portConstraints": "FIXED_ORDER",
           "org.eclipse.elk.randomSeed": 0
          }
         },
         {
          "hwMeta": {
           "cls": null,
           "isExternalPort": true,
           "maxId": 78,
           "name": "dataIn_rst"
          },
          "id": "14",
          "ports": [
           {
            "direction": "OUTPUT",
            "hwMeta": {
             "level": 0,
             "name": "dataIn_rst"
            },
            "id": "57",
            "properties": {
             "index": 0,
             "side": "EAST"
            }
           }
          ],
          "properties": {
           "org.eclipse.elk.layered.mergeEdges": 1,
           "org.eclipse.elk.portConstraints": "FIXED_ORDER",
           "org.eclipse.elk.randomSeed": 0
          }
         },
         {
          "hwMeta": {
           "cls": null,
           "isExternalPort": true,
           "maxId": 78,
           "name": "dataIn"
          },
          "id": "15",
          "ports": [
           {
            "direction": "OUTPUT",
            "hwMeta": {
             "level": 0,
             "name": "dataIn"
            },
            "id": "58",
            "properties": {
             "index": 0,
             "side": "EAST"
            }
           }
          ],
          "properties": {
           "org.eclipse.elk.layered.mergeEdges": 1,
           "org.eclipse.elk.portConstraints": "FIXED_ORDER",
           "org.eclipse.elk.randomSeed": 0
          }
         },
         {
          "hwMeta": {
           "cls": null,
           "isExternalPort": true,
           "maxId": 78,
           "name": "dataOut_clk"
          },
          "id": "16",
          "ports": [
           {
            "direction": "OUTPUT",
            "hwMeta": {
             "level": 0,
             "name": "dataOut_clk"
            },
            "id": "59",
            "properties": {
             "index": 0,
             "side": "EAST"
            }
           }
          ],
          "properties": {
           "org.eclipse.elk.layered.mergeEdges": 1,
           "org.eclipse.elk.portConstraints": "FIXED_ORDER",
           "org.eclipse.elk.randomSeed": 0
          }
         },
         {
          "hwMeta": {
           "cls": null,
           "isExternalPort": true,
           "maxId": 78,
           "name": "dataOut_rst"
          },
          "id": "17",
          "ports": [
           {
            "direction": "OUTPUT",
            "hwMeta": {
             "level": 0,
             "name": "dataOut_rst"
            },
            "id": "60",
            "properties": {
             "index": 0,
             "side": "EAST"
            }
           }
          ],
          "properties": {
           "org.eclipse.elk.layered.mergeEdges": 1,
           "org.eclipse.elk.portConstraints": "FIXED_ORDER",
           "org.eclipse.elk.randomSeed": 0
          }
         },
         {
          "hwMeta": {
           "cls": null,
           "isExternalPort": true,
           "maxId": 78,
           "name": "dataOut"
          },
          "id": "18",
          "ports": [
           {
            "direction": "INPUT",
            "hwMeta": {
             "level": 0,
             "name": "dataOut"
            },
            "id": "61",
            "properties": {
             "index": 0,
             "side": "WEST"
            }
           }
          ],
          "properties": {
           "org.eclipse.elk.layered.mergeEdges": 1,
           "org.eclipse.elk.portConstraints": "FIXED_ORDER",
           "org.eclipse.elk.randomSeed": 0
          }
         },
         {
          "_children": [
           {
            "hwMeta": {
             "cls": "Operator",
             "maxId": 68,
             "name": "RISING_EDGE"
            },
            "id": "10",
            "ports": [
             {
              "direction": "OUTPUT",
              "hwMeta": {
               "level": 0,
               "name": null
              },
              "id": "47",
              "properties": {
               "index": 0,
               "side": "EAST"
              }
             },
             {
              "direction": "INPUT",
              "hwMeta": {
               "level": 0,
               "name": null
              },
              "id": "48",
              "properties": {
               "index": 1,
               "side": "WEST"
              }
             }
            ],
            "properties": {
             "org.eclipse.elk.layered.mergeEdges": 1,
             "org.eclipse.elk.portConstraints": "FIXED_ORDER",
             "org.eclipse.elk.randomSeed": 0
            }
           },
           {
            "hwMeta": {
             "cls": "Operator",
             "maxId": 68,
             "name": "MUX"
            },
            "id": "11",
            "ports": [
             {
              "direction": "OUTPUT",
              "hwMeta": {
               "level": 0,
               "name": ""
              },
              "id": "49",
              "properties": {
               "index": 0,
               "side": "EAST"
              }
             },
             {
              "direction": "INPUT",
              "hwMeta": {
               "level": 0,
               "name": ""
              },
              "id": "50",
              "properties": {
               "index": 1,
               "side": "SOUTH"
              }
             },
             {
              "direction": "INPUT",
              "hwMeta": {
               "level": 0,
               "name": ""
              },
              "id": "51",
              "properties": {
               "index": 2,
               "side": "WEST"
              }
             },
             {
              "direction": "INPUT",
              "hwMeta": {
               "level": 0,
               "name": ""
              },
              "id": "52",
              "properties": {
               "index": 3,
               "side": "WEST"
              }
             }
            ],
            "properties": {
             "org.eclipse.elk.layered.mergeEdges": 1,
             "org.eclipse.elk.portConstraints": "FIXED_ORDER",
             "org.eclipse.elk.randomSeed": 0
            }
           },
           {
            "hwMeta": {
             "cls": "Operator",
             "maxId": 68,
             "name": "FF"
            },
            "id": "12",
            "ports": [
             {
              "direction": "OUTPUT",
              "hwMeta": {
               "level": 0,
               "name": "o"
              },
              "id": "53",
              "properties": {
               "index": 0,
               "side": "EAST"
              }
             },
             {
              "direction": "INPUT",
              "hwMeta": {
               "level": 0,
               "name": "i"
              },
              "id": "54",
              "properties": {
               "index": 1,
               "side": "WEST"
              }
             },
             {
              "direction": "INPUT",
              "hwMeta": {
               "level": 0,
               "name": "clk"
              },
              "id": "55",
              "properties": {
               "index": 2,
               "side": "WEST"
              }
             }
            ],
            "properties": {
             "org.eclipse.elk.layered.mergeEdges": 1,
             "org.eclipse.elk.portConstraints": "FIXED_ORDER",
             "org.eclipse.elk.randomSeed": 0
            }
           },
           {
            "hwMeta": {
             "cls": "Operator",
             "maxId": 68,
             "name": "MUX"
            },
            "id": "7",
            "ports": [
             {
              "direction": "OUTPUT",
              "hwMeta": {
               "level": 0,
               "name": ""
              },
              "id": "39",
              "properties": {
               "index": 0,
               "side": "EAST"
              }
             },
             {
              "direction": "INPUT",
              "hwMeta": {
               "level": 0,
               "name": ""
              },
              "id": "40",
              "properties": {
               "index": 1,
               "side": "SOUTH"
              }
             },
             {
              "direction": "INPUT",
              "hwMeta": {
               "level": 0,
               "name": ""
              },
              "id": "41",
              "properties": {
               "index": 2,
               "side": "WEST"
              }
             },
             {
              "direction": "INPUT",
              "hwMeta": {
               "level": 0,
               "name": ""
              },
              "id": "42",
              "properties": {
               "index": 3,
               "side": "WEST"
              }
             }
            ],
            "properties": {
             "org.eclipse.elk.layered.mergeEdges": 1,
             "org.eclipse.elk.portConstraints": "FIXED_ORDER",
             "org.eclipse.elk.randomSeed": 0
            }
           },
           {
            "hwMeta": {
             "bodyText": "0",
             "cls": "Operator",
             "maxId": 68,
             "name": null
            },
            "id": "8",
            "ports": [
             {
              "direction": "OUTPUT",
              "hwMeta": {
               "level": 0,
               "name": null
              },
              "id": "43",
              "properties": {
               "side": "EAST"
              }
             }
            ],
            "properties": {
             "org.eclipse.elk.layered.mergeEdges": 1,
             "org.eclipse.elk.portConstraints": "FREE",
             "org.eclipse.elk.randomSeed": 0
            }
           },
           {
            "hwMeta": {
             "cls": "Operator",
             "maxId": 68,
             "name": "FF"
            },
            "id": "9",
            "ports": [
             {
              "direction": "OUTPUT",
              "hwMeta": {
               "level": 0,
               "name": "o"
              },
              "id": "44",
              "properties": {
               "index": 0,
               "side": "EAST"
              }
             },
             {
              "direction": "INPUT",
              "hwMeta": {
               "level": 0,
               "name": "i"
              },
              "id": "45",
              "properties": {
               "index": 1,
               "side": "WEST"
              }
             },
             {
              "direction": "INPUT",
              "hwMeta": {
               "level": 0,
               "name": "clk"
              },
              "id": "46",
              "properties": {
               "index": 2,
               "side": "WEST"
              }
             }
            ],
            "properties": {
             "org.eclipse.elk.layered.mergeEdges": 1,
             "org.eclipse.elk.portConstraints": "FIXED_ORDER",
             "org.eclipse.elk.randomSeed": 0
            }
           }
          ],
          "_edges": [
           {
            "hwMeta": {
             "name": null
            },
            "id": "69",
            "source": "7",
            "sourcePort": "39",
            "target": "9",
            "targetPort": "45"
           },
           {
            "hwMeta": {
             "name": "dataOut_rst._eq(1)"
            },
            "id": "70",
            "sources": [
             [
              "6",
              "37"
             ]
            ],
            "targets": [
             [
              "7",
              "40"
             ],
             [
              "11",
              "50"
             ]
            ]
           },
           {
            "hwMeta": {
             "name": "out_reg1_next"
            },
            "id": "71",
            "source": "6",
            "sourcePort": "35",
            "target": "7",
            "targetPort": "41"
           },
           {
            "hwMeta": {
             "name": "<BitsVal 0>"
            },
            "id": "72",
            "sources": [
             [
              "8",
              "43"
             ]
            ],
            "targets": [
             [
              "7",
              "42"
             ],
             [
              "11",
              "52"
             ]
            ]
           },
           {
            "hwMeta": {
             "name": "out_reg1"
            },
            "id": "73",
            "source": "9",
            "sourcePort": "44",
            "target": "6",
            "targetPort": "34"
           },
           {
            "hwMeta": {
             "name": "dataOut_clk._onRisingEdge()"
            },
            "id": "74",
            "sources": [
             [
              "10",
              "47"
             ]
            ],
            "targets": [
             [
              "9",
              "46"
             ],
             [
              "12",
              "55"
             ]
            ]
           },
           {
            "hwMeta": {
             "name": "dataOut_clk"
            },
            "id": "75",
            "source": "6",
            "sourcePort": "38",
            "target": "10",
            "targetPort": "48"
           },
           {
            "hwMeta": {
             "name": null
            },
            "id": "76",
            "source": "11",
            "sourcePort": "49",
            "target": "12",
            "targetPort": "54"
           },
           {
            "hwMeta": {
             "name": "out_reg0_next"
            },
            "id": "77",
            "source": "6",
            "sourcePort": "36",
            "target": "11",
            "targetPort": "51"
           },
           {
            "hwMeta": {
             "name": "out_reg0"
            },
            "id": "78",
            "source": "12",
            "sourcePort": "53",
            "target": "6",
            "targetPort": "33"
           }
          ],
          "hwMeta": {
           "bodyText": "If(dataOut_clk._onRisingEdge(),\n    If(dataOut_rst._eq(1),\n        out_reg1(0),\n        out_reg0(0)\n    ).Else(\n        out_reg1(out_reg1_next),\n        out_reg0(out_reg0_next)\n    )\n)",
           "cls": "Process",
           "maxId": 78,
           "name": null
          },
          "id": "6",
          "ports": [
           {
            "direction": "OUTPUT",
            "hwMeta": {
             "level": 0,
             "name": "out_reg0"
            },
            "id": "33",
            "properties": {
             "index": 0,
             "side": "EAST"
            }
           },
           {
            "direction": "OUTPUT",
            "hwMeta": {
             "level": 0,
             "name": "out_reg1"
            },
            "id": "34",
            "properties": {
             "index": 1,
             "side": "EAST"
            }
           },
           {
            "direction": "INPUT",
            "hwMeta": {
             "level": 0,
             "name": "out_reg1_next"
            },
            "id": "35",
            "properties": {
             "index": 2,
             "side": "WEST"
            }
           },
           {
            "direction": "INPUT",
            "hwMeta": {
             "level": 0,
             "name": "out_reg0_next"
            },
            "id": "36",
            "properties": {
             "index": 3,
             "side": "WEST"
            }
           },
           {
            "direction": "INPUT",
            "hwMeta": {
             "level": 0,
             "name": "dataOut_rst"
            },
            "id": "37",
            "properties": {
             "index": 4,
             "side": "WEST"
            }
           },
           {
            "direction": "INPUT",
            "hwMeta": {
             "level": 0,
             "name": "dataOut_clk"
            },
            "id": "38",
            "properties": {
             "index": 5,
             "side": "WEST"
            }
           }
          ],
          "properties": {
           "org.eclipse.elk.layered.mergeEdges": 1,
           "org.eclipse.elk.portConstraints": "FIXED_ORDER",
           "org.eclipse.elk.randomSeed": 0
          }
         }
        ],
        "edges": [
         {
          "hwMeta": {
           "name": "in_reg0"
          },
          "id": "79",
          "source": "1",
          "sourcePort": "19",
          "target": "6",
          "targetPort": "36"
         },
         {
          "hwMeta": {
           "name": "in_reg0_next"
          },
          "id": "80",
          "source": "15",
          "sourcePort": "58",
          "target": "1",
          "targetPort": "20"
         },
         {
          "hwMeta": {
           "name": "dataIn_rst"
          },
          "id": "81",
          "source": "14",
          "sourcePort": "57",
          "target": "1",
          "targetPort": "21"
         },
         {
          "hwMeta": {
           "name": "dataIn_clk"
          },
          "id": "82",
          "source": "13",
          "sourcePort": "56",
          "target": "1",
          "targetPort": "22"
         },
         {
          "hwMeta": {
           "name": "out_reg1_next"
          },
          "id": "83",
          "source": "6",
          "sourcePort": "33",
          "target": "6",
          "targetPort": "35"
         },
         {
          "hwMeta": {
           "name": "out_reg1"
          },
          "id": "84",
          "source": "6",
          "sourcePort": "34",
          "target": "18",
          "targetPort": "61"
         },
         {
          "hwMeta": {
           "name": "dataOut_rst"
          },
          "id": "85",
          "source": "17",
          "sourcePort": "60",
          "target": "6",
          "targetPort": "37"
         },
         {
          "hwMeta": {
           "name": "dataOut_clk"
          },
          "id": "86",
          "source": "16",
          "sourcePort": "59",
          "target": "6",
          "targetPort": "38"
         }
        ],
        "hwMeta": {
         "cls": null,
         "maxId": 86,
         "name": "Cdc"
        },
        "ports": [],
        "properties": {
         "org.eclipse.elk.layered.mergeEdges": 1,
         "org.eclipse.elk.portConstraints": "FIXED_ORDER",
         "org.eclipse.elk.randomSeed": 0
        }
       },
       "width": "1000px"
      }
     },
     "841713913c644a9aa19912ae09d7bd09": {
      "model_module": "@jupyter-widgets/base",
      "model_module_version": "1.2.0",
      "model_name": "LayoutModel",
      "state": {}
     },
     "8d4d4f5f1e64472484cb617ddaf79f20": {
      "model_module": "jupyter_widget_hwt",
      "model_module_version": "^0.0.1",
      "model_name": "HwtSchemeModel",
      "state": {
       "_model_module_version": "^0.0.1",
       "_view_module_version": "^0.0.1",
       "height": "100px",
       "layout": "IPY_MODEL_72309b371ec94a89a2a73efa0c73166c",
       "value": {
        "children": [
         {
          "_children": [
           {
            "hwMeta": {
             "cls": "Operator",
             "maxId": 24,
             "name": "LATCHED_MUX"
            },
            "id": "2",
            "ports": [
             {
              "direction": "OUTPUT",
              "hwMeta": {
               "level": 0,
               "name": ""
              },
              "id": "13",
              "properties": {
               "index": 0,
               "side": "EAST"
              }
             },
             {
              "direction": "INPUT",
              "hwMeta": {
               "level": 0,
               "name": ""
              },
              "id": "14",
              "properties": {
               "index": 1,
               "side": "SOUTH"
              }
             },
             {
              "direction": "INPUT",
              "hwMeta": {
               "level": 0,
               "name": ""
              },
              "id": "15",
              "properties": {
               "index": 2,
               "side": "SOUTH"
              }
             },
             {
              "direction": "INPUT",
              "hwMeta": {
               "level": 0,
               "name": ""
              },
              "id": "16",
              "properties": {
               "index": 3,
               "side": "WEST"
              }
             },
             {
              "direction": "INPUT",
              "hwMeta": {
               "level": 0,
               "name": ""
              },
              "id": "17",
              "properties": {
               "index": 4,
               "side": "WEST"
              }
             }
            ],
            "properties": {
             "org.eclipse.elk.layered.mergeEdges": 1,
             "org.eclipse.elk.portConstraints": "FIXED_ORDER",
             "org.eclipse.elk.randomSeed": 0
            }
           },
           {
            "hwMeta": {
             "cls": "Operator",
             "maxId": 24,
             "name": "RISING_EDGE"
            },
            "id": "3",
            "ports": [
             {
              "direction": "OUTPUT",
              "hwMeta": {
               "level": 0,
               "name": null
              },
              "id": "18",
              "properties": {
               "index": 0,
               "side": "EAST"
              }
             },
             {
              "direction": "INPUT",
              "hwMeta": {
               "level": 0,
               "name": null
              },
              "id": "19",
              "properties": {
               "index": 1,
               "side": "WEST"
              }
             }
            ],
            "properties": {
             "org.eclipse.elk.layered.mergeEdges": 1,
             "org.eclipse.elk.portConstraints": "FIXED_ORDER",
             "org.eclipse.elk.randomSeed": 0
            }
           },
           {
            "hwMeta": {
             "bodyText": "0",
             "cls": "Operator",
             "maxId": 24,
             "name": null
            },
            "id": "4",
            "ports": [
             {
              "direction": "OUTPUT",
              "hwMeta": {
               "level": 0,
               "name": null
              },
              "id": "20",
              "properties": {
               "side": "EAST"
              }
             }
            ],
            "properties": {
             "org.eclipse.elk.layered.mergeEdges": 1,
             "org.eclipse.elk.portConstraints": "FREE",
             "org.eclipse.elk.randomSeed": 0
            }
           }
          ],
          "_edges": [
           {
            "hwMeta": {
             "name": "r"
            },
            "id": "25",
            "source": "2",
            "sourcePort": "13",
            "target": "1",
            "targetPort": "9"
           },
           {
            "hwMeta": {
             "name": "clk._onRisingEdge()"
            },
            "id": "26",
            "source": "3",
            "sourcePort": "18",
            "target": "2",
            "targetPort": "14"
           },
           {
            "hwMeta": {
             "name": "rst._eq(1)"
            },
            "id": "27",
            "source": "1",
            "sourcePort": "10",
            "target": "2",
            "targetPort": "15"
           },
           {
            "hwMeta": {
             "name": "din"
            },
            "id": "28",
            "source": "1",
            "sourcePort": "11",
            "target": "2",
            "targetPort": "16"
           },
           {
            "hwMeta": {
             "name": "<BitsVal 0>"
            },
            "id": "29",
            "source": "4",
            "sourcePort": "20",
            "target": "2",
            "targetPort": "17"
           },
           {
            "hwMeta": {
             "name": "clk"
            },
            "id": "30",
            "source": "1",
            "sourcePort": "12",
            "target": "3",
            "targetPort": "19"
           }
          ],
          "hwMeta": {
           "bodyText": "If(rst._eq(1),\n    r(0)\n).Elif(clk._onRisingEdge(),\n    r(din)\n)",
           "cls": "Process",
           "maxId": 30,
           "name": null
          },
          "id": "1",
          "ports": [
           {
            "direction": "OUTPUT",
            "hwMeta": {
             "level": 0,
             "name": "r"
            },
            "id": "9",
            "properties": {
             "index": 0,
             "side": "EAST"
            }
           },
           {
            "direction": "INPUT",
            "hwMeta": {
             "level": 0,
             "name": "rst"
            },
            "id": "10",
            "properties": {
             "index": 1,
             "side": "WEST"
            }
           },
           {
            "direction": "INPUT",
            "hwMeta": {
             "level": 0,
             "name": "din"
            },
            "id": "11",
            "properties": {
             "index": 2,
             "side": "WEST"
            }
           },
           {
            "direction": "INPUT",
            "hwMeta": {
             "level": 0,
             "name": "clk"
            },
            "id": "12",
            "properties": {
             "index": 3,
             "side": "WEST"
            }
           }
          ],
          "properties": {
           "org.eclipse.elk.layered.mergeEdges": 1,
           "org.eclipse.elk.portConstraints": "FIXED_ORDER",
           "org.eclipse.elk.randomSeed": 0
          }
         },
         {
          "hwMeta": {
           "cls": null,
           "isExternalPort": true,
           "maxId": 30,
           "name": "clk"
          },
          "id": "5",
          "ports": [
           {
            "direction": "OUTPUT",
            "hwMeta": {
             "level": 0,
             "name": "clk"
            },
            "id": "21",
            "properties": {
             "index": 0,
             "side": "EAST"
            }
           }
          ],
          "properties": {
           "org.eclipse.elk.layered.mergeEdges": 1,
           "org.eclipse.elk.portConstraints": "FIXED_ORDER",
           "org.eclipse.elk.randomSeed": 0
          }
         },
         {
          "hwMeta": {
           "cls": null,
           "isExternalPort": true,
           "maxId": 30,
           "name": "rst"
          },
          "id": "6",
          "ports": [
           {
            "direction": "OUTPUT",
            "hwMeta": {
             "level": 0,
             "name": "rst"
            },
            "id": "22",
            "properties": {
             "index": 0,
             "side": "EAST"
            }
           }
          ],
          "properties": {
           "org.eclipse.elk.layered.mergeEdges": 1,
           "org.eclipse.elk.portConstraints": "FIXED_ORDER",
           "org.eclipse.elk.randomSeed": 0
          }
         },
         {
          "hwMeta": {
           "cls": null,
           "isExternalPort": true,
           "maxId": 30,
           "name": "din"
          },
          "id": "7",
          "ports": [
           {
            "direction": "OUTPUT",
            "hwMeta": {
             "level": 0,
             "name": "din"
            },
            "id": "23",
            "properties": {
             "index": 0,
             "side": "EAST"
            }
           }
          ],
          "properties": {
           "org.eclipse.elk.layered.mergeEdges": 1,
           "org.eclipse.elk.portConstraints": "FIXED_ORDER",
           "org.eclipse.elk.randomSeed": 0
          }
         },
         {
          "hwMeta": {
           "cls": null,
           "isExternalPort": true,
           "maxId": 30,
           "name": "dout"
          },
          "id": "8",
          "ports": [
           {
            "direction": "INPUT",
            "hwMeta": {
             "level": 0,
             "name": "dout"
            },
            "id": "24",
            "properties": {
             "index": 0,
             "side": "WEST"
            }
           }
          ],
          "properties": {
           "org.eclipse.elk.layered.mergeEdges": 1,
           "org.eclipse.elk.portConstraints": "FIXED_ORDER",
           "org.eclipse.elk.randomSeed": 0
          }
         }
        ],
        "edges": [
         {
          "hwMeta": {
           "name": "r"
          },
          "id": "31",
          "source": "1",
          "sourcePort": "9",
          "target": "8",
          "targetPort": "24"
         },
         {
          "hwMeta": {
           "name": "rst"
          },
          "id": "32",
          "source": "6",
          "sourcePort": "22",
          "target": "1",
          "targetPort": "10"
         },
         {
          "hwMeta": {
           "name": "din"
          },
          "id": "33",
          "source": "7",
          "sourcePort": "23",
          "target": "1",
          "targetPort": "11"
         },
         {
          "hwMeta": {
           "name": "clk"
          },
          "id": "34",
          "source": "5",
          "sourcePort": "21",
          "target": "1",
          "targetPort": "12"
         }
        ],
        "hwMeta": {
         "cls": null,
         "maxId": 34,
         "name": "DReg_asyncRst"
        },
        "ports": [],
        "properties": {
         "org.eclipse.elk.layered.mergeEdges": 1,
         "org.eclipse.elk.portConstraints": "FIXED_ORDER",
         "org.eclipse.elk.randomSeed": 0
        }
       }
      }
     },
     "af57e6a4979c49819a4bfcaf84ef8097": {
      "model_module": "jupyter_widget_hwt",
      "model_module_version": "^0.0.1",
      "model_name": "HwtSchemeModel",
      "state": {
       "_model_module_version": "^0.0.1",
       "_view_module_version": "^0.0.1",
       "height": "600px",
       "layout": "IPY_MODEL_27f0809bfa304e2c82b1f6430383c748",
       "value": {
        "children": [
         {
          "_children": [
           {
            "_children": [
             {
              "hwMeta": {
               "cls": "Operator",
               "maxId": 432,
               "name": "RAM_WRITE"
              },
              "id": "18",
              "ports": [
               {
                "direction": "OUTPUT",
                "hwMeta": {
                 "level": 0,
                 "name": "mem"
                },
                "id": "173",
                "properties": {
                 "index": 0,
                 "side": "EAST"
                }
               },
               {
                "direction": "INPUT",
                "hwMeta": {
                 "level": 0,
                 "name": "in"
                },
                "id": "174",
                "properties": {
                 "index": 1,
                 "side": "WEST"
                }
               },
               {
                "direction": "INPUT",
                "hwMeta": {
                 "level": 0,
                 "name": "addr"
                },
                "id": "175",
                "properties": {
                 "index": 2,
                 "side": "WEST"
                }
               },
               {
                "direction": "INPUT",
                "hwMeta": {
                 "level": 0,
                 "name": "clk"
                },
                "id": "176",
                "properties": {
                 "index": 3,
                 "side": "WEST"
                }
               }
              ],
              "properties": {
               "org.eclipse.elk.layered.mergeEdges": 1,
               "org.eclipse.elk.portConstraints": "FIXED_ORDER",
               "org.eclipse.elk.randomSeed": 0
              }
             },
             {
              "hwMeta": {
               "cls": "Operator",
               "maxId": 432,
               "name": "AND"
              },
              "id": "19",
              "ports": [
               {
                "direction": "OUTPUT",
                "hwMeta": {
                 "level": 0,
                 "name": null
                },
                "id": "177",
                "properties": {
                 "index": 0,
                 "side": "EAST"
                }
               },
               {
                "direction": "INPUT",
                "hwMeta": {
                 "level": 0,
                 "name": null
                },
                "id": "178",
                "properties": {
                 "index": 1,
                 "side": "WEST"
                }
               },
               {
                "direction": "INPUT",
                "hwMeta": {
                 "level": 0,
                 "name": null
                },
                "id": "179",
                "properties": {
                 "index": 2,
                 "side": "WEST"
                }
               }
              ],
              "properties": {
               "org.eclipse.elk.layered.mergeEdges": 1,
               "org.eclipse.elk.portConstraints": "FIXED_ORDER",
               "org.eclipse.elk.randomSeed": 0
              }
             },
             {
              "hwMeta": {
               "cls": "Operator",
               "maxId": 432,
               "name": "AND"
              },
              "id": "20",
              "ports": [
               {
                "direction": "OUTPUT",
                "hwMeta": {
                 "level": 0,
                 "name": null
                },
                "id": "180",
                "properties": {
                 "index": 0,
                 "side": "EAST"
                }
               },
               {
                "direction": "INPUT",
                "hwMeta": {
                 "level": 0,
                 "name": null
                },
                "id": "181",
                "properties": {
                 "index": 1,
                 "side": "WEST"
                }
               },
               {
                "direction": "INPUT",
                "hwMeta": {
                 "level": 0,
                 "name": null
                },
                "id": "182",
                "properties": {
                 "index": 2,
                 "side": "WEST"
                }
               }
              ],
              "properties": {
               "org.eclipse.elk.layered.mergeEdges": 1,
               "org.eclipse.elk.portConstraints": "FIXED_ORDER",
               "org.eclipse.elk.randomSeed": 0
              }
             },
             {
              "hwMeta": {
               "cls": "Operator",
               "maxId": 432,
               "name": "NOT"
              },
              "id": "21",
              "ports": [
               {
                "direction": "OUTPUT",
                "hwMeta": {
                 "level": 0,
                 "name": null
                },
                "id": "183",
                "properties": {
                 "index": 0,
                 "side": "EAST"
                }
               },
               {
                "direction": "INPUT",
                "hwMeta": {
                 "level": 0,
                 "name": null
                },
                "id": "184",
                "properties": {
                 "index": 1,
                 "side": "WEST"
                }
               }
              ],
              "properties": {
               "org.eclipse.elk.layered.mergeEdges": 1,
               "org.eclipse.elk.portConstraints": "FIXED_ORDER",
               "org.eclipse.elk.randomSeed": 0
              }
             },
             {
              "hwMeta": {
               "cls": "Operator",
               "maxId": 432,
               "name": "RISING_EDGE"
              },
              "id": "22",
              "ports": [
               {
                "direction": "OUTPUT",
                "hwMeta": {
                 "level": 0,
                 "name": null
                },
                "id": "185",
                "properties": {
                 "index": 0,
                 "side": "EAST"
                }
               },
               {
                "direction": "INPUT",
                "hwMeta": {
                 "level": 0,
                 "name": null
                },
                "id": "186",
                "properties": {
                 "index": 1,
                 "side": "WEST"
                }
               }
              ],
              "properties": {
               "org.eclipse.elk.layered.mergeEdges": 1,
               "org.eclipse.elk.portConstraints": "FIXED_ORDER",
               "org.eclipse.elk.randomSeed": 0
              }
             }
            ],
            "_edges": [
             {
              "hwMeta": {
               "name": "memory"
              },
              "id": "433",
              "source": "18",
              "sourcePort": "173",
              "target": "17",
              "targetPort": "167"
             },
             {
              "hwMeta": {
               "name": "dataIn_data"
              },
              "id": "434",
              "source": "17",
              "sourcePort": "171",
              "target": "18",
              "targetPort": "174"
             },
             {
              "hwMeta": {
               "name": "sig_4"
              },
              "id": "435",
              "source": "17",
              "sourcePort": "169",
              "target": "18",
              "targetPort": "175"
             },
             {
              "hwMeta": {
               "name": "(dataIn_en & ~w_full)._eq(1) & dataIn_clk._onRisingEdge()"
              },
              "id": "436",
              "source": "19",
              "sourcePort": "177",
              "target": "18",
              "targetPort": "176"
             },
             {
              "hwMeta": {
               "name": "dataIn_clk._onRisingEdge()"
              },
              "id": "437",
              "source": "22",
              "sourcePort": "185",
              "target": "19",
              "targetPort": "178"
             },
             {
              "hwMeta": {
               "name": "(dataIn_en & ~w_full)._eq(1)"
              },
              "id": "438",
              "source": "20",
              "sourcePort": "180",
              "target": "19",
              "targetPort": "179"
             },
             {
              "hwMeta": {
               "name": "~w_full"
              },
              "id": "439",
              "source": "21",
              "sourcePort": "183",
              "target": "20",
              "targetPort": "181"
             },
             {
              "hwMeta": {
               "name": "dataIn_en"
              },
              "id": "440",
              "source": "17",
              "sourcePort": "170",
              "target": "20",
              "targetPort": "182"
             },
             {
              "hwMeta": {
               "name": "w_full"
              },
              "id": "441",
              "source": "17",
              "sourcePort": "168",
              "target": "21",
              "targetPort": "184"
             },
             {
              "hwMeta": {
               "name": "dataIn_clk"
              },
              "id": "442",
              "source": "17",
              "sourcePort": "172",
              "target": "22",
              "targetPort": "186"
             }
            ],
            "hwMeta": {
             "bodyText": "If(dataIn_clk._onRisingEdge(),\n    If((dataIn_en & ~w_full)._eq(1),\n        memory[sig_4](dataIn_data)\n    )\n)",
             "cls": "Process",
             "maxId": 442,
             "name": null
            },
            "id": "17",
            "ports": [
             {
              "direction": "OUTPUT",
              "hwMeta": {
               "level": 0,
               "name": "memory"
              },
              "id": "167",
              "properties": {
               "index": 0,
               "side": "EAST"
              }
             },
             {
              "direction": "INPUT",
              "hwMeta": {
               "level": 0,
               "name": "w_full"
              },
              "id": "168",
              "properties": {
               "index": 1,
               "side": "WEST"
              }
             },
             {
              "direction": "INPUT",
              "hwMeta": {
               "level": 0,
               "name": "sig_4"
              },
              "id": "169",
              "properties": {
               "index": 2,
               "side": "WEST"
              }
             },
             {
              "direction": "INPUT",
              "hwMeta": {
               "level": 0,
               "name": "dataIn_en"
              },
              "id": "170",
              "properties": {
               "index": 3,
               "side": "WEST"
              }
             },
             {
              "direction": "INPUT",
              "hwMeta": {
               "level": 0,
               "name": "dataIn_data"
              },
              "id": "171",
              "properties": {
               "index": 4,
               "side": "WEST"
              }
             },
             {
              "direction": "INPUT",
              "hwMeta": {
               "level": 0,
               "name": "dataIn_clk"
              },
              "id": "172",
              "properties": {
               "index": 5,
               "side": "WEST"
              }
             }
            ],
            "properties": {
             "org.eclipse.elk.layered.mergeEdges": 1,
             "org.eclipse.elk.portConstraints": "FIXED_ORDER",
             "org.eclipse.elk.randomSeed": 0
            }
           },
           {
            "_children": [
             {
              "hwMeta": {
               "cls": "Operator",
               "maxId": 411,
               "name": "FF"
              },
              "id": "10",
              "ports": [
               {
                "direction": "OUTPUT",
                "hwMeta": {
                 "level": 0,
                 "name": "o"
                },
                "id": "143",
                "properties": {
                 "index": 0,
                 "side": "EAST"
                }
               },
               {
                "direction": "INPUT",
                "hwMeta": {
                 "level": 0,
                 "name": "i"
                },
                "id": "144",
                "properties": {
                 "index": 1,
                 "side": "WEST"
                }
               },
               {
                "direction": "INPUT",
                "hwMeta": {
                 "level": 0,
                 "name": "clk"
                },
                "id": "145",
                "properties": {
                 "index": 2,
                 "side": "WEST"
                }
               }
              ],
              "properties": {
               "org.eclipse.elk.layered.mergeEdges": 1,
               "org.eclipse.elk.portConstraints": "FIXED_ORDER",
               "org.eclipse.elk.randomSeed": 0
              }
             },
             {
              "hwMeta": {
               "cls": "Operator",
               "maxId": 411,
               "name": "MUX"
              },
              "id": "11",
              "ports": [
               {
                "direction": "OUTPUT",
                "hwMeta": {
                 "level": 0,
                 "name": ""
                },
                "id": "146",
                "properties": {
                 "index": 0,
                 "side": "EAST"
                }
               },
               {
                "direction": "INPUT",
                "hwMeta": {
                 "level": 0,
                 "name": ""
                },
                "id": "147",
                "properties": {
                 "index": 1,
                 "side": "SOUTH"
                }
               },
               {
                "direction": "INPUT",
                "hwMeta": {
                 "level": 0,
                 "name": ""
                },
                "id": "148",
                "properties": {
                 "index": 2,
                 "side": "WEST"
                }
               },
               {
                "direction": "INPUT",
                "hwMeta": {
                 "level": 0,
                 "name": ""
                },
                "id": "149",
                "properties": {
                 "index": 3,
                 "side": "WEST"
                }
               }
              ],
              "properties": {
               "org.eclipse.elk.layered.mergeEdges": 1,
               "org.eclipse.elk.portConstraints": "FIXED_ORDER",
               "org.eclipse.elk.randomSeed": 0
              }
             },
             {
              "hwMeta": {
               "cls": "Operator",
               "maxId": 411,
               "name": "FF"
              },
              "id": "12",
              "ports": [
               {
                "direction": "OUTPUT",
                "hwMeta": {
                 "level": 0,
                 "name": "o"
                },
                "id": "150",
                "properties": {
                 "index": 0,
                 "side": "EAST"
                }
               },
               {
                "direction": "INPUT",
                "hwMeta": {
                 "level": 0,
                 "name": "i"
                },
                "id": "151",
                "properties": {
                 "index": 1,
                 "side": "WEST"
                }
               },
               {
                "direction": "INPUT",
                "hwMeta": {
                 "level": 0,
                 "name": "clk"
                },
                "id": "152",
                "properties": {
                 "index": 2,
                 "side": "WEST"
                }
               }
              ],
              "properties": {
               "org.eclipse.elk.layered.mergeEdges": 1,
               "org.eclipse.elk.portConstraints": "FIXED_ORDER",
               "org.eclipse.elk.randomSeed": 0
              }
             },
             {
              "hwMeta": {
               "cls": "Operator",
               "maxId": 411,
               "name": "MUX"
              },
              "id": "13",
              "ports": [
               {
                "direction": "OUTPUT",
                "hwMeta": {
                 "level": 0,
                 "name": ""
                },
                "id": "153",
                "properties": {
                 "index": 0,
                 "side": "EAST"
                }
               },
               {
                "direction": "INPUT",
                "hwMeta": {
                 "level": 0,
                 "name": ""
                },
                "id": "154",
                "properties": {
                 "index": 1,
                 "side": "SOUTH"
                }
               },
               {
                "direction": "INPUT",
                "hwMeta": {
                 "level": 0,
                 "name": ""
                },
                "id": "155",
                "properties": {
                 "index": 2,
                 "side": "WEST"
                }
               },
               {
                "direction": "INPUT",
                "hwMeta": {
                 "level": 0,
                 "name": ""
                },
                "id": "156",
                "properties": {
                 "index": 3,
                 "side": "WEST"
                }
               }
              ],
              "properties": {
               "org.eclipse.elk.layered.mergeEdges": 1,
               "org.eclipse.elk.portConstraints": "FIXED_ORDER",
               "org.eclipse.elk.randomSeed": 0
              }
             },
             {
              "hwMeta": {
               "cls": "Operator",
               "maxId": 411,
               "name": "FF"
              },
              "id": "14",
              "ports": [
               {
                "direction": "OUTPUT",
                "hwMeta": {
                 "level": 0,
                 "name": "o"
                },
                "id": "157",
                "properties": {
                 "index": 0,
                 "side": "EAST"
                }
               },
               {
                "direction": "INPUT",
                "hwMeta": {
                 "level": 0,
                 "name": "i"
                },
                "id": "158",
                "properties": {
                 "index": 1,
                 "side": "WEST"
                }
               },
               {
                "direction": "INPUT",
                "hwMeta": {
                 "level": 0,
                 "name": "clk"
                },
                "id": "159",
                "properties": {
                 "index": 2,
                 "side": "WEST"
                }
               }
              ],
              "properties": {
               "org.eclipse.elk.layered.mergeEdges": 1,
               "org.eclipse.elk.portConstraints": "FIXED_ORDER",
               "org.eclipse.elk.randomSeed": 0
              }
             },
             {
              "hwMeta": {
               "cls": "Operator",
               "maxId": 411,
               "name": "MUX"
              },
              "id": "15",
              "ports": [
               {
                "direction": "OUTPUT",
                "hwMeta": {
                 "level": 0,
                 "name": ""
                },
                "id": "160",
                "properties": {
                 "index": 0,
                 "side": "EAST"
                }
               },
               {
                "direction": "INPUT",
                "hwMeta": {
                 "level": 0,
                 "name": ""
                },
                "id": "161",
                "properties": {
                 "index": 1,
                 "side": "SOUTH"
                }
               },
               {
                "direction": "INPUT",
                "hwMeta": {
                 "level": 0,
                 "name": ""
                },
                "id": "162",
                "properties": {
                 "index": 2,
                 "side": "WEST"
                }
               },
               {
                "direction": "INPUT",
                "hwMeta": {
                 "level": 0,
                 "name": ""
                },
                "id": "163",
                "properties": {
                 "index": 3,
                 "side": "WEST"
                }
               }
              ],
              "properties": {
               "org.eclipse.elk.layered.mergeEdges": 1,
               "org.eclipse.elk.portConstraints": "FIXED_ORDER",
               "org.eclipse.elk.randomSeed": 0
              }
             },
             {
              "hwMeta": {
               "cls": "Operator",
               "maxId": 411,
               "name": "FF"
              },
              "id": "16",
              "ports": [
               {
                "direction": "OUTPUT",
                "hwMeta": {
                 "level": 0,
                 "name": "o"
                },
                "id": "164",
                "properties": {
                 "index": 0,
                 "side": "EAST"
                }
               },
               {
                "direction": "INPUT",
                "hwMeta": {
                 "level": 0,
                 "name": "i"
                },
                "id": "165",
                "properties": {
                 "index": 1,
                 "side": "WEST"
                }
               },
               {
                "direction": "INPUT",
                "hwMeta": {
                 "level": 0,
                 "name": "clk"
                },
                "id": "166",
                "properties": {
                 "index": 2,
                 "side": "WEST"
                }
               }
              ],
              "properties": {
               "org.eclipse.elk.layered.mergeEdges": 1,
               "org.eclipse.elk.portConstraints": "FIXED_ORDER",
               "org.eclipse.elk.randomSeed": 0
              }
             },
             {
              "hwMeta": {
               "cls": "Operator",
               "maxId": 411,
               "name": "MUX"
              },
              "id": "3",
              "ports": [
               {
                "direction": "OUTPUT",
                "hwMeta": {
                 "level": 0,
                 "name": ""
                },
                "id": "125",
                "properties": {
                 "index": 0,
                 "side": "EAST"
                }
               },
               {
                "direction": "INPUT",
                "hwMeta": {
                 "level": 0,
                 "name": ""
                },
                "id": "126",
                "properties": {
                 "index": 1,
                 "side": "SOUTH"
                }
               },
               {
                "direction": "INPUT",
                "hwMeta": {
                 "level": 0,
                 "name": ""
                },
                "id": "127",
                "properties": {
                 "index": 2,
                 "side": "WEST"
                }
               },
               {
                "direction": "INPUT",
                "hwMeta": {
                 "level": 0,
                 "name": ""
                },
                "id": "128",
                "properties": {
                 "index": 3,
                 "side": "WEST"
                }
               }
              ],
              "properties": {
               "org.eclipse.elk.layered.mergeEdges": 1,
               "org.eclipse.elk.portConstraints": "FIXED_ORDER",
               "org.eclipse.elk.randomSeed": 0
              }
             },
             {
              "hwMeta": {
               "cls": "Operator",
               "maxId": 411,
               "name": "EQ"
              },
              "id": "4",
              "ports": [
               {
                "direction": "OUTPUT",
                "hwMeta": {
                 "level": 0,
                 "name": null
                },
                "id": "129",
                "properties": {
                 "index": 0,
                 "side": "EAST"
                }
               },
               {
                "direction": "INPUT",
                "hwMeta": {
                 "level": 0,
                 "name": null
                },
                "id": "130",
                "properties": {
                 "index": 1,
                 "side": "WEST"
                }
               },
               {
                "direction": "INPUT",
                "hwMeta": {
                 "level": 0,
                 "name": null
                },
                "id": "131",
                "properties": {
                 "index": 2,
                 "side": "WEST"
                }
               }
              ],
              "properties": {
               "org.eclipse.elk.layered.mergeEdges": 1,
               "org.eclipse.elk.portConstraints": "FIXED_ORDER",
               "org.eclipse.elk.randomSeed": 0
              }
             },
             {
              "hwMeta": {
               "bodyText": "0",
               "cls": "Operator",
               "maxId": 411,
               "name": null
              },
              "id": "5",
              "ports": [
               {
                "direction": "OUTPUT",
                "hwMeta": {
                 "level": 0,
                 "name": null
                },
                "id": "132",
                "properties": {
                 "side": "EAST"
                }
               }
              ],
              "properties": {
               "org.eclipse.elk.layered.mergeEdges": 1,
               "org.eclipse.elk.portConstraints": "FREE",
               "org.eclipse.elk.randomSeed": 0
              }
             },
             {
              "hwMeta": {
               "bodyText": "0",
               "cls": "Operator",
               "maxId": 411,
               "name": null
              },
              "id": "6",
              "ports": [
               {
                "direction": "OUTPUT",
                "hwMeta": {
                 "level": 0,
                 "name": null
                },
                "id": "133",
                "properties": {
                 "side": "EAST"
                }
               }
              ],
              "properties": {
               "org.eclipse.elk.layered.mergeEdges": 1,
               "org.eclipse.elk.portConstraints": "FREE",
               "org.eclipse.elk.randomSeed": 0
              }
             },
             {
              "hwMeta": {
               "cls": "Operator",
               "maxId": 411,
               "name": "FF"
              },
              "id": "7",
              "ports": [
               {
                "direction": "OUTPUT",
                "hwMeta": {
                 "level": 0,
                 "name": "o"
                },
                "id": "134",
                "properties": {
                 "index": 0,
                 "side": "EAST"
                }
               },
               {
                "direction": "INPUT",
                "hwMeta": {
                 "level": 0,
                 "name": "i"
                },
                "id": "135",
                "properties": {
                 "index": 1,
                 "side": "WEST"
                }
               },
               {
                "direction": "INPUT",
                "hwMeta": {
                 "level": 0,
                 "name": "clk"
                },
                "id": "136",
                "properties": {
                 "index": 2,
                 "side": "WEST"
                }
               }
              ],
              "properties": {
               "org.eclipse.elk.layered.mergeEdges": 1,
               "org.eclipse.elk.portConstraints": "FIXED_ORDER",
               "org.eclipse.elk.randomSeed": 0
              }
             },
             {
              "hwMeta": {
               "cls": "Operator",
               "maxId": 411,
               "name": "RISING_EDGE"
              },
              "id": "8",
              "ports": [
               {
                "direction": "OUTPUT",
                "hwMeta": {
                 "level": 0,
                 "name": null
                },
                "id": "137",
                "properties": {
                 "index": 0,
                 "side": "EAST"
                }
               },
               {
                "direction": "INPUT",
                "hwMeta": {
                 "level": 0,
                 "name": null
                },
                "id": "138",
                "properties": {
                 "index": 1,
                 "side": "WEST"
                }
               }
              ],
              "properties": {
               "org.eclipse.elk.layered.mergeEdges": 1,
               "org.eclipse.elk.portConstraints": "FIXED_ORDER",
               "org.eclipse.elk.randomSeed": 0
              }
             },
             {
              "hwMeta": {
               "cls": "Operator",
               "maxId": 411,
               "name": "MUX"
              },
              "id": "9",
              "ports": [
               {
                "direction": "OUTPUT",
                "hwMeta": {
                 "level": 0,
                 "name": ""
                },
                "id": "139",
                "properties": {
                 "index": 0,
                 "side": "EAST"
                }
               },
               {
                "direction": "INPUT",
                "hwMeta": {
                 "level": 0,
                 "name": ""
                },
                "id": "140",
                "properties": {
                 "index": 1,
                 "side": "SOUTH"
                }
               },
               {
                "direction": "INPUT",
                "hwMeta": {
                 "level": 0,
                 "name": ""
                },
                "id": "141",
                "properties": {
                 "index": 2,
                 "side": "WEST"
                }
               },
               {
                "direction": "INPUT",
                "hwMeta": {
                 "level": 0,
                 "name": ""
                },
                "id": "142",
                "properties": {
                 "index": 3,
                 "side": "WEST"
                }
               }
              ],
              "properties": {
               "org.eclipse.elk.layered.mergeEdges": 1,
               "org.eclipse.elk.portConstraints": "FIXED_ORDER",
               "org.eclipse.elk.randomSeed": 0
              }
             }
            ],
            "_edges": [
             {
              "hwMeta": {
               "name": null
              },
              "id": "412",
              "source": "3",
              "sourcePort": "125",
              "target": "7",
              "targetPort": "135"
             },
             {
              "hwMeta": {
               "name": "dataIn_rst_n._eq(0)"
              },
              "id": "413",
              "sources": [
               [
                "4",
                "129"
               ]
              ],
              "targets": [
               [
                "3",
                "126"
               ],
               [
                "9",
                "140"
               ],
               [
                "11",
                "147"
               ],
               [
                "13",
                "154"
               ],
               [
                "15",
                "161"
               ]
              ]
             },
             {
              "hwMeta": {
               "name": "w_gray_next"
              },
              "id": "414",
              "source": "2",
              "sourcePort": "118",
              "target": "3",
              "targetPort": "127"
             },
             {
              "hwMeta": {
               "name": "<BitsVal 0>"
              },
              "id": "415",
              "sources": [
               [
                "6",
                "133"
               ]
              ],
              "targets": [
               [
                "3",
                "128"
               ],
               [
                "11",
                "149"
               ],
               [
                "13",
                "156"
               ],
               [
                "15",
                "163"
               ]
              ]
             },
             {
              "hwMeta": {
               "name": "<BitsVal 0>"
              },
              "id": "416",
              "sources": [
               [
                "5",
                "132"
               ]
              ],
              "targets": [
               [
                "4",
                "130"
               ],
               [
                "9",
                "142"
               ]
              ]
             },
             {
              "hwMeta": {
               "name": "dataIn_rst_n"
              },
              "id": "417",
              "source": "2",
              "sourcePort": "123",
              "target": "4",
              "targetPort": "131"
             },
             {
              "hwMeta": {
               "name": "w_gray"
              },
              "id": "418",
              "source": "7",
              "sourcePort": "134",
              "target": "2",
              "targetPort": "117"
             },
             {
              "hwMeta": {
               "name": "dataIn_clk._onRisingEdge()"
              },
              "id": "419",
              "sources": [
               [
                "8",
                "137"
               ]
              ],
              "targets": [
               [
                "7",
                "136"
               ],
               [
                "10",
                "145"
               ],
               [
                "12",
                "152"
               ],
               [
                "14",
                "159"
               ],
               [
                "16",
                "166"
               ]
              ]
             },
             {
              "hwMeta": {
               "name": "dataIn_clk"
              },
              "id": "420",
              "source": "2",
              "sourcePort": "124",
              "target": "8",
              "targetPort": "138"
             },
             {
              "hwMeta": {
               "name": null
              },
              "id": "421",
              "source": "9",
              "sourcePort": "139",
              "target": "10",
              "targetPort": "144"
             },
             {
              "hwMeta": {
               "name": "w_full_next"
              },
              "id": "422",
              "source": "2",
              "sourcePort": "119",
              "target": "9",
              "targetPort": "141"
             },
             {
              "hwMeta": {
               "name": "w_full"
              },
              "id": "423",
              "source": "10",
              "sourcePort": "143",
              "target": "2",
              "targetPort": "116"
             },
             {
              "hwMeta": {
               "name": null
              },
              "id": "424",
              "source": "11",
              "sourcePort": "146",
              "target": "12",
              "targetPort": "151"
             },
             {
              "hwMeta": {
               "name": "w_bin_next"
              },
              "id": "425",
              "source": "2",
              "sourcePort": "120",
              "target": "11",
              "targetPort": "148"
             },
             {
              "hwMeta": {
               "name": "w_bin"
              },
              "id": "426",
              "source": "12",
              "sourcePort": "150",
              "target": "2",
              "targetPort": "115"
             },
             {
              "hwMeta": {
               "name": null
              },
              "id": "427",
              "source": "13",
              "sourcePort": "153",
              "target": "14",
              "targetPort": "158"
             },
             {
              "hwMeta": {
               "name": "r_gray_out_reg1_next"
              },
              "id": "428",
              "source": "2",
              "sourcePort": "121",
              "target": "13",
              "targetPort": "155"
             },
             {
              "hwMeta": {
               "name": "r_gray_out_reg1"
              },
              "id": "429",
              "source": "14",
              "sourcePort": "157",
              "target": "2",
              "targetPort": "114"
             },
             {
              "hwMeta": {
               "name": null
              },
              "id": "430",
              "source": "15",
              "sourcePort": "160",
              "target": "16",
              "targetPort": "165"
             },
             {
              "hwMeta": {
               "name": "r_gray_out_reg0_next"
              },
              "id": "431",
              "source": "2",
              "sourcePort": "122",
              "target": "15",
              "targetPort": "162"
             },
             {
              "hwMeta": {
               "name": "r_gray_out_reg0"
              },
              "id": "432",
              "source": "16",
              "sourcePort": "164",
              "target": "2",
              "targetPort": "113"
             }
            ],
            "hwMeta": {
             "bodyText": "If(dataIn_clk._onRisingEdge(),\n    If(dataIn_rst_n._eq(0),\n        w_gray(0),\n        w_full(0),\n        w_bin(0),\n        r_gray_out_reg1(0),\n        r_gray_out_reg0(0)\n    ).Else(\n        w_gray(w_gray_next),\n        w_full(w_full_next),\n        w_bin(w_bin_next),\n        r_gray_out_reg1(r_gray_out_reg1_next),\n        r_gray_out_reg0(r_gray_out_reg0_next)\n    )\n)",
             "cls": "Process",
             "maxId": 432,
             "name": null
            },
            "id": "2",
            "ports": [
             {
              "direction": "OUTPUT",
              "hwMeta": {
               "level": 0,
               "name": "r_gray_out_reg0"
              },
              "id": "113",
              "properties": {
               "index": 0,
               "side": "EAST"
              }
             },
             {
              "direction": "OUTPUT",
              "hwMeta": {
               "level": 0,
               "name": "r_gray_out_reg1"
              },
              "id": "114",
              "properties": {
               "index": 1,
               "side": "EAST"
              }
             },
             {
              "direction": "OUTPUT",
              "hwMeta": {
               "level": 0,
               "name": "w_bin"
              },
              "id": "115",
              "properties": {
               "index": 2,
               "side": "EAST"
              }
             },
             {
              "direction": "OUTPUT",
              "hwMeta": {
               "level": 0,
               "name": "w_full"
              },
              "id": "116",
              "properties": {
               "index": 3,
               "side": "EAST"
              }
             },
             {
              "direction": "OUTPUT",
              "hwMeta": {
               "level": 0,
               "name": "w_gray"
              },
              "id": "117",
              "properties": {
               "index": 4,
               "side": "EAST"
              }
             },
             {
              "direction": "INPUT",
              "hwMeta": {
               "level": 0,
               "name": "w_gray_next"
              },
              "id": "118",
              "properties": {
               "index": 5,
               "side": "WEST"
              }
             },
             {
              "direction": "INPUT",
              "hwMeta": {
               "level": 0,
               "name": "w_full_next"
              },
              "id": "119",
              "properties": {
               "index": 6,
               "side": "WEST"
              }
             },
             {
              "direction": "INPUT",
              "hwMeta": {
               "level": 0,
               "name": "w_bin_next"
              },
              "id": "120",
              "properties": {
               "index": 7,
               "side": "WEST"
              }
             },
             {
              "direction": "INPUT",
              "hwMeta": {
               "level": 0,
               "name": "r_gray_out_reg1_next"
              },
              "id": "121",
              "properties": {
               "index": 8,
               "side": "WEST"
              }
             },
             {
              "direction": "INPUT",
              "hwMeta": {
               "level": 0,
               "name": "r_gray_out_reg0_next"
              },
              "id": "122",
              "properties": {
               "index": 9,
               "side": "WEST"
              }
             },
             {
              "direction": "INPUT",
              "hwMeta": {
               "level": 0,
               "name": "dataIn_rst_n"
              },
              "id": "123",
              "properties": {
               "index": 10,
               "side": "WEST"
              }
             },
             {
              "direction": "INPUT",
              "hwMeta": {
               "level": 0,
               "name": "dataIn_clk"
              },
              "id": "124",
              "properties": {
               "index": 11,
               "side": "WEST"
              }
             }
            ],
            "properties": {
             "org.eclipse.elk.layered.mergeEdges": 1,
             "org.eclipse.elk.portConstraints": "FIXED_ORDER",
             "org.eclipse.elk.randomSeed": 0
            }
           },
           {
            "_children": [
             {
              "hwMeta": {
               "cls": "Operator",
               "maxId": 442,
               "name": "MUX"
              },
              "id": "24",
              "ports": [
               {
                "direction": "OUTPUT",
                "hwMeta": {
                 "level": 0,
                 "name": ""
                },
                "id": "199",
                "properties": {
                 "index": 0,
                 "side": "EAST"
                }
               },
               {
                "direction": "INPUT",
                "hwMeta": {
                 "level": 0,
                 "name": ""
                },
                "id": "200",
                "properties": {
                 "index": 1,
                 "side": "SOUTH"
                }
               },
               {
                "direction": "INPUT",
                "hwMeta": {
                 "level": 0,
                 "name": ""
                },
                "id": "201",
                "properties": {
                 "index": 2,
                 "side": "WEST"
                }
               },
               {
                "direction": "INPUT",
                "hwMeta": {
                 "level": 0,
                 "name": ""
                },
                "id": "202",
                "properties": {
                 "index": 3,
                 "side": "WEST"
                }
               }
              ],
              "properties": {
               "org.eclipse.elk.layered.mergeEdges": 1,
               "org.eclipse.elk.portConstraints": "FIXED_ORDER",
               "org.eclipse.elk.randomSeed": 0
              }
             },
             {
              "hwMeta": {
               "cls": "Operator",
               "maxId": 442,
               "name": "EQ"
              },
              "id": "25",
              "ports": [
               {
                "direction": "OUTPUT",
                "hwMeta": {
                 "level": 0,
                 "name": null
                },
                "id": "203",
                "properties": {
                 "index": 0,
                 "side": "EAST"
                }
               },
               {
                "direction": "INPUT",
                "hwMeta": {
                 "level": 0,
                 "name": null
                },
                "id": "204",
                "properties": {
                 "index": 1,
                 "side": "WEST"
                }
               },
               {
                "direction": "INPUT",
                "hwMeta": {
                 "level": 0,
                 "name": null
                },
                "id": "205",
                "properties": {
                 "index": 2,
                 "side": "WEST"
                }
               }
              ],
              "properties": {
               "org.eclipse.elk.layered.mergeEdges": 1,
               "org.eclipse.elk.portConstraints": "FIXED_ORDER",
               "org.eclipse.elk.randomSeed": 0
              }
             },
             {
              "hwMeta": {
               "bodyText": "0",
               "cls": "Operator",
               "maxId": 442,
               "name": null
              },
              "id": "26",
              "ports": [
               {
                "direction": "OUTPUT",
                "hwMeta": {
                 "level": 0,
                 "name": null
                },
                "id": "206",
                "properties": {
                 "side": "EAST"
                }
               }
              ],
              "properties": {
               "org.eclipse.elk.layered.mergeEdges": 1,
               "org.eclipse.elk.portConstraints": "FREE",
               "org.eclipse.elk.randomSeed": 0
              }
             },
             {
              "hwMeta": {
               "bodyText": "0",
               "cls": "Operator",
               "maxId": 442,
               "name": null
              },
              "id": "27",
              "ports": [
               {
                "direction": "OUTPUT",
                "hwMeta": {
                 "level": 0,
                 "name": null
                },
                "id": "207",
                "properties": {
                 "side": "EAST"
                }
               }
              ],
              "properties": {
               "org.eclipse.elk.layered.mergeEdges": 1,
               "org.eclipse.elk.portConstraints": "FREE",
               "org.eclipse.elk.randomSeed": 0
              }
             },
             {
              "hwMeta": {
               "cls": "Operator",
               "maxId": 442,
               "name": "FF"
              },
              "id": "28",
              "ports": [
               {
                "direction": "OUTPUT",
                "hwMeta": {
                 "level": 0,
                 "name": "o"
                },
                "id": "208",
                "properties": {
                 "index": 0,
                 "side": "EAST"
                }
               },
               {
                "direction": "INPUT",
                "hwMeta": {
                 "level": 0,
                 "name": "i"
                },
                "id": "209",
                "properties": {
                 "index": 1,
                 "side": "WEST"
                }
               },
               {
                "direction": "INPUT",
                "hwMeta": {
                 "level": 0,
                 "name": "clk"
                },
                "id": "210",
                "properties": {
                 "index": 2,
                 "side": "WEST"
                }
               }
              ],
              "properties": {
               "org.eclipse.elk.layered.mergeEdges": 1,
               "org.eclipse.elk.portConstraints": "FIXED_ORDER",
               "org.eclipse.elk.randomSeed": 0
              }
             },
             {
              "hwMeta": {
               "cls": "Operator",
               "maxId": 442,
               "name": "RISING_EDGE"
              },
              "id": "29",
              "ports": [
               {
                "direction": "OUTPUT",
                "hwMeta": {
                 "level": 0,
                 "name": null
                },
                "id": "211",
                "properties": {
                 "index": 0,
                 "side": "EAST"
                }
               },
               {
                "direction": "INPUT",
                "hwMeta": {
                 "level": 0,
                 "name": null
                },
                "id": "212",
                "properties": {
                 "index": 1,
                 "side": "WEST"
                }
               }
              ],
              "properties": {
               "org.eclipse.elk.layered.mergeEdges": 1,
               "org.eclipse.elk.portConstraints": "FIXED_ORDER",
               "org.eclipse.elk.randomSeed": 0
              }
             },
             {
              "hwMeta": {
               "cls": "Operator",
               "maxId": 442,
               "name": "MUX"
              },
              "id": "30",
              "ports": [
               {
                "direction": "OUTPUT",
                "hwMeta": {
                 "level": 0,
                 "name": ""
                },
                "id": "213",
                "properties": {
                 "index": 0,
                 "side": "EAST"
                }
               },
               {
                "direction": "INPUT",
                "hwMeta": {
                 "level": 0,
                 "name": ""
                },
                "id": "214",
                "properties": {
                 "index": 1,
                 "side": "SOUTH"
                }
               },
               {
                "direction": "INPUT",
                "hwMeta": {
                 "level": 0,
                 "name": ""
                },
                "id": "215",
                "properties": {
                 "index": 2,
                 "side": "WEST"
                }
               },
               {
                "direction": "INPUT",
                "hwMeta": {
                 "level": 0,
                 "name": ""
                },
                "id": "216",
                "properties": {
                 "index": 3,
                 "side": "WEST"
                }
               }
              ],
              "properties": {
               "org.eclipse.elk.layered.mergeEdges": 1,
               "org.eclipse.elk.portConstraints": "FIXED_ORDER",
               "org.eclipse.elk.randomSeed": 0
              }
             },
             {
              "hwMeta": {
               "cls": "Operator",
               "maxId": 442,
               "name": "FF"
              },
              "id": "31",
              "ports": [
               {
                "direction": "OUTPUT",
                "hwMeta": {
                 "level": 0,
                 "name": "o"
                },
                "id": "217",
                "properties": {
                 "index": 0,
                 "side": "EAST"
                }
               },
               {
                "direction": "INPUT",
                "hwMeta": {
                 "level": 0,
                 "name": "i"
                },
                "id": "218",
                "properties": {
                 "index": 1,
                 "side": "WEST"
                }
               },
               {
                "direction": "INPUT",
                "hwMeta": {
                 "level": 0,
                 "name": "clk"
                },
                "id": "219",
                "properties": {
                 "index": 2,
                 "side": "WEST"
                }
               }
              ],
              "properties": {
               "org.eclipse.elk.layered.mergeEdges": 1,
               "org.eclipse.elk.portConstraints": "FIXED_ORDER",
               "org.eclipse.elk.randomSeed": 0
              }
             },
             {
              "hwMeta": {
               "cls": "Operator",
               "maxId": 442,
               "name": "MUX"
              },
              "id": "32",
              "ports": [
               {
                "direction": "OUTPUT",
                "hwMeta": {
                 "level": 0,
                 "name": ""
                },
                "id": "220",
                "properties": {
                 "index": 0,
                 "side": "EAST"
                }
               },
               {
                "direction": "INPUT",
                "hwMeta": {
                 "level": 0,
                 "name": ""
                },
                "id": "221",
                "properties": {
                 "index": 1,
                 "side": "SOUTH"
                }
               },
               {
                "direction": "INPUT",
                "hwMeta": {
                 "level": 0,
                 "name": ""
                },
                "id": "222",
                "properties": {
                 "index": 2,
                 "side": "WEST"
                }
               },
               {
                "direction": "INPUT",
                "hwMeta": {
                 "level": 0,
                 "name": ""
                },
                "id": "223",
                "properties": {
                 "index": 3,
                 "side": "WEST"
                }
               }
              ],
              "properties": {
               "org.eclipse.elk.layered.mergeEdges": 1,
               "org.eclipse.elk.portConstraints": "FIXED_ORDER",
               "org.eclipse.elk.randomSeed": 0
              }
             },
             {
              "hwMeta": {
               "cls": "Operator",
               "maxId": 442,
               "name": "FF"
              },
              "id": "33",
              "ports": [
               {
                "direction": "OUTPUT",
                "hwMeta": {
                 "level": 0,
                 "name": "o"
                },
                "id": "224",
                "properties": {
                 "index": 0,
                 "side": "EAST"
                }
               },
               {
                "direction": "INPUT",
                "hwMeta": {
                 "level": 0,
                 "name": "i"
                },
                "id": "225",
                "properties": {
                 "index": 1,
                 "side": "WEST"
                }
               },
               {
                "direction": "INPUT",
                "hwMeta": {
                 "level": 0,
                 "name": "clk"
                },
                "id": "226",
                "properties": {
                 "index": 2,
                 "side": "WEST"
                }
               }
              ],
              "properties": {
               "org.eclipse.elk.layered.mergeEdges": 1,
               "org.eclipse.elk.portConstraints": "FIXED_ORDER",
               "org.eclipse.elk.randomSeed": 0
              }
             },
             {
              "hwMeta": {
               "cls": "Operator",
               "maxId": 442,
               "name": "MUX"
              },
              "id": "34",
              "ports": [
               {
                "direction": "OUTPUT",
                "hwMeta": {
                 "level": 0,
                 "name": ""
                },
                "id": "227",
                "properties": {
                 "index": 0,
                 "side": "EAST"
                }
               },
               {
                "direction": "INPUT",
                "hwMeta": {
                 "level": 0,
                 "name": ""
                },
                "id": "228",
                "properties": {
                 "index": 1,
                 "side": "SOUTH"
                }
               },
               {
                "direction": "INPUT",
                "hwMeta": {
                 "level": 0,
                 "name": ""
                },
                "id": "229",
                "properties": {
                 "index": 2,
                 "side": "WEST"
                }
               },
               {
                "direction": "INPUT",
                "hwMeta": {
                 "level": 0,
                 "name": ""
                },
                "id": "230",
                "properties": {
                 "index": 3,
                 "side": "WEST"
                }
               }
              ],
              "properties": {
               "org.eclipse.elk.layered.mergeEdges": 1,
               "org.eclipse.elk.portConstraints": "FIXED_ORDER",
               "org.eclipse.elk.randomSeed": 0
              }
             },
             {
              "hwMeta": {
               "bodyText": "1",
               "cls": "Operator",
               "maxId": 442,
               "name": null
              },
              "id": "35",
              "ports": [
               {
                "direction": "OUTPUT",
                "hwMeta": {
                 "level": 0,
                 "name": null
                },
                "id": "231",
                "properties": {
                 "side": "EAST"
                }
               }
              ],
              "properties": {
               "org.eclipse.elk.layered.mergeEdges": 1,
               "org.eclipse.elk.portConstraints": "FREE",
               "org.eclipse.elk.randomSeed": 0
              }
             },
             {
              "hwMeta": {
               "cls": "Operator",
               "maxId": 442,
               "name": "FF"
              },
              "id": "36",
              "ports": [
               {
                "direction": "OUTPUT",
                "hwMeta": {
                 "level": 0,
                 "name": "o"
                },
                "id": "232",
                "properties": {
                 "index": 0,
                 "side": "EAST"
                }
               },
               {
                "direction": "INPUT",
                "hwMeta": {
                 "level": 0,
                 "name": "i"
                },
                "id": "233",
                "properties": {
                 "index": 1,
                 "side": "WEST"
                }
               },
               {
                "direction": "INPUT",
                "hwMeta": {
                 "level": 0,
                 "name": "clk"
                },
                "id": "234",
                "properties": {
                 "index": 2,
                 "side": "WEST"
                }
               }
              ],
              "properties": {
               "org.eclipse.elk.layered.mergeEdges": 1,
               "org.eclipse.elk.portConstraints": "FIXED_ORDER",
               "org.eclipse.elk.randomSeed": 0
              }
             },
             {
              "hwMeta": {
               "cls": "Operator",
               "maxId": 442,
               "name": "MUX"
              },
              "id": "37",
              "ports": [
               {
                "direction": "OUTPUT",
                "hwMeta": {
                 "level": 0,
                 "name": ""
                },
                "id": "235",
                "properties": {
                 "index": 0,
                 "side": "EAST"
                }
               },
               {
                "direction": "INPUT",
                "hwMeta": {
                 "level": 0,
                 "name": ""
                },
                "id": "236",
                "properties": {
                 "index": 1,
                 "side": "SOUTH"
                }
               },
               {
                "direction": "INPUT",
                "hwMeta": {
                 "level": 0,
                 "name": ""
                },
                "id": "237",
                "properties": {
                 "index": 2,
                 "side": "WEST"
                }
               },
               {
                "direction": "INPUT",
                "hwMeta": {
                 "level": 0,
                 "name": ""
                },
                "id": "238",
                "properties": {
                 "index": 3,
                 "side": "WEST"
                }
               }
              ],
              "properties": {
               "org.eclipse.elk.layered.mergeEdges": 1,
               "org.eclipse.elk.portConstraints": "FIXED_ORDER",
               "org.eclipse.elk.randomSeed": 0
              }
             },
             {
              "hwMeta": {
               "cls": "Operator",
               "maxId": 442,
               "name": "FF"
              },
              "id": "38",
              "ports": [
               {
                "direction": "OUTPUT",
                "hwMeta": {
                 "level": 0,
                 "name": "o"
                },
                "id": "239",
                "properties": {
                 "index": 0,
                 "side": "EAST"
                }
               },
               {
                "direction": "INPUT",
                "hwMeta": {
                 "level": 0,
                 "name": "i"
                },
                "id": "240",
                "properties": {
                 "index": 1,
                 "side": "WEST"
                }
               },
               {
                "direction": "INPUT",
                "hwMeta": {
                 "level": 0,
                 "name": "clk"
                },
                "id": "241",
                "properties": {
                 "index": 2,
                 "side": "WEST"
                }
               }
              ],
              "properties": {
               "org.eclipse.elk.layered.mergeEdges": 1,
               "org.eclipse.elk.portConstraints": "FIXED_ORDER",
               "org.eclipse.elk.randomSeed": 0
              }
             }
            ],
            "_edges": [
             {
              "hwMeta": {
               "name": null
              },
              "id": "443",
              "source": "24",
              "sourcePort": "199",
              "target": "28",
              "targetPort": "209"
             },
             {
              "hwMeta": {
               "name": "dataOut_rst_n._eq(0)"
              },
              "id": "444",
              "sources": [
               [
                "25",
                "203"
               ]
              ],
              "targets": [
               [
                "24",
                "200"
               ],
               [
                "30",
                "214"
               ],
               [
                "32",
                "221"
               ],
               [
                "34",
                "228"
               ],
               [
                "37",
                "236"
               ]
              ]
             },
             {
              "hwMeta": {
               "name": "w_gray_out_reg1_next"
              },
              "id": "445",
              "source": "23",
              "sourcePort": "192",
              "target": "24",
              "targetPort": "201"
             },
             {
              "hwMeta": {
               "name": "<BitsVal 0>"
              },
              "id": "446",
              "sources": [
               [
                "27",
                "207"
               ]
              ],
              "targets": [
               [
                "24",
                "202"
               ],
               [
                "30",
                "216"
               ],
               [
                "32",
                "223"
               ],
               [
                "37",
                "238"
               ]
              ]
             },
             {
              "hwMeta": {
               "name": "<BitsVal 0>"
              },
              "id": "447",
              "source": "26",
              "sourcePort": "206",
              "target": "25",
              "targetPort": "204"
             },
             {
              "hwMeta": {
               "name": "dataOut_rst_n"
              },
              "id": "448",
              "source": "23",
              "sourcePort": "197",
              "target": "25",
              "targetPort": "205"
             },
             {
              "hwMeta": {
               "name": "w_gray_out_reg1"
              },
              "id": "449",
              "source": "28",
              "sourcePort": "208",
              "target": "23",
              "targetPort": "191"
             },
             {
              "hwMeta": {
               "name": "dataOut_clk._onRisingEdge()"
              },
              "id": "450",
              "sources": [
               [
                "29",
                "211"
               ]
              ],
              "targets": [
               [
                "28",
                "210"
               ],
               [
                "31",
                "219"
               ],
               [
                "33",
                "226"
               ],
               [
                "36",
                "234"
               ],
               [
                "38",
                "241"
               ]
              ]
             },
             {
              "hwMeta": {
               "name": "dataOut_clk"
              },
              "id": "451",
              "source": "23",
              "sourcePort": "198",
              "target": "29",
              "targetPort": "212"
             },
             {
              "hwMeta": {
               "name": null
              },
              "id": "452",
              "source": "30",
              "sourcePort": "213",
              "target": "31",
              "targetPort": "218"
             },
             {
              "hwMeta": {
               "name": "w_gray_out_reg0_next"
              },
              "id": "453",
              "source": "23",
              "sourcePort": "193",
              "target": "30",
              "targetPort": "215"
             },
             {
              "hwMeta": {
               "name": "w_gray_out_reg0"
              },
              "id": "454",
              "source": "31",
              "sourcePort": "217",
              "target": "23",
              "targetPort": "190"
             },
             {
              "hwMeta": {
               "name": null
              },
              "id": "455",
              "source": "32",
              "sourcePort": "220",
              "target": "33",
              "targetPort": "225"
             },
             {
              "hwMeta": {
               "name": "r_gray_next"
              },
              "id": "456",
              "source": "23",
              "sourcePort": "194",
              "target": "32",
              "targetPort": "222"
             },
             {
              "hwMeta": {
               "name": "r_gray"
              },
              "id": "457",
              "source": "33",
              "sourcePort": "224",
              "target": "23",
              "targetPort": "189"
             },
             {
              "hwMeta": {
               "name": null
              },
              "id": "458",
              "source": "34",
              "sourcePort": "227",
              "target": "36",
              "targetPort": "233"
             },
             {
              "hwMeta": {
               "name": "r_empty_next"
              },
              "id": "459",
              "source": "23",
              "sourcePort": "195",
              "target": "34",
              "targetPort": "229"
             },
             {
              "hwMeta": {
               "name": "<BitsVal 1>"
              },
              "id": "460",
              "source": "35",
              "sourcePort": "231",
              "target": "34",
              "targetPort": "230"
             },
             {
              "hwMeta": {
               "name": "r_empty"
              },
              "id": "461",
              "source": "36",
              "sourcePort": "232",
              "target": "23",
              "targetPort": "188"
             },
             {
              "hwMeta": {
               "name": null
              },
              "id": "462",
              "source": "37",
              "sourcePort": "235",
              "target": "38",
              "targetPort": "240"
             },
             {
              "hwMeta": {
               "name": "r_bin_next"
              },
              "id": "463",
              "source": "23",
              "sourcePort": "196",
              "target": "37",
              "targetPort": "237"
             },
             {
              "hwMeta": {
               "name": "r_bin"
              },
              "id": "464",
              "source": "38",
              "sourcePort": "239",
              "target": "23",
              "targetPort": "187"
             }
            ],
            "hwMeta": {
             "bodyText": "If(dataOut_clk._onRisingEdge(),\n    If(dataOut_rst_n._eq(0),\n        w_gray_out_reg1(0),\n        w_gray_out_reg0(0),\n        r_gray(0),\n        r_empty(1),\n        r_bin(0)\n    ).Else(\n        w_gray_out_reg1(w_gray_out_reg1_next),\n        w_gray_out_reg0(w_gray_out_reg0_next),\n        r_gray(r_gray_next),\n        r_empty(r_empty_next),\n        r_bin(r_bin_next)\n    )\n)",
             "cls": "Process",
             "maxId": 464,
             "name": null
            },
            "id": "23",
            "ports": [
             {
              "direction": "OUTPUT",
              "hwMeta": {
               "level": 0,
               "name": "r_bin"
              },
              "id": "187",
              "properties": {
               "index": 0,
               "side": "EAST"
              }
             },
             {
              "direction": "OUTPUT",
              "hwMeta": {
               "level": 0,
               "name": "r_empty"
              },
              "id": "188",
              "properties": {
               "index": 1,
               "side": "EAST"
              }
             },
             {
              "direction": "OUTPUT",
              "hwMeta": {
               "level": 0,
               "name": "r_gray"
              },
              "id": "189",
              "properties": {
               "index": 2,
               "side": "EAST"
              }
             },
             {
              "direction": "OUTPUT",
              "hwMeta": {
               "level": 0,
               "name": "w_gray_out_reg0"
              },
              "id": "190",
              "properties": {
               "index": 3,
               "side": "EAST"
              }
             },
             {
              "direction": "OUTPUT",
              "hwMeta": {
               "level": 0,
               "name": "w_gray_out_reg1"
              },
              "id": "191",
              "properties": {
               "index": 4,
               "side": "EAST"
              }
             },
             {
              "direction": "INPUT",
              "hwMeta": {
               "level": 0,
               "name": "w_gray_out_reg1_next"
              },
              "id": "192",
              "properties": {
               "index": 5,
               "side": "WEST"
              }
             },
             {
              "direction": "INPUT",
              "hwMeta": {
               "level": 0,
               "name": "w_gray_out_reg0_next"
              },
              "id": "193",
              "properties": {
               "index": 6,
               "side": "WEST"
              }
             },
             {
              "direction": "INPUT",
              "hwMeta": {
               "level": 0,
               "name": "r_gray_next"
              },
              "id": "194",
              "properties": {
               "index": 7,
               "side": "WEST"
              }
             },
             {
              "direction": "INPUT",
              "hwMeta": {
               "level": 0,
               "name": "r_empty_next"
              },
              "id": "195",
              "properties": {
               "index": 8,
               "side": "WEST"
              }
             },
             {
              "direction": "INPUT",
              "hwMeta": {
               "level": 0,
               "name": "r_bin_next"
              },
              "id": "196",
              "properties": {
               "index": 9,
               "side": "WEST"
              }
             },
             {
              "direction": "INPUT",
              "hwMeta": {
               "level": 0,
               "name": "dataOut_rst_n"
              },
              "id": "197",
              "properties": {
               "index": 10,
               "side": "WEST"
              }
             },
             {
              "direction": "INPUT",
              "hwMeta": {
               "level": 0,
               "name": "dataOut_clk"
              },
              "id": "198",
              "properties": {
               "index": 11,
               "side": "WEST"
              }
             }
            ],
            "properties": {
             "org.eclipse.elk.layered.mergeEdges": 1,
             "org.eclipse.elk.portConstraints": "FIXED_ORDER",
             "org.eclipse.elk.randomSeed": 0
            }
           },
           {
            "_children": [
             {
              "hwMeta": {
               "cls": "Operator",
               "maxId": 464,
               "name": "FF"
              },
              "id": "40",
              "ports": [
               {
                "direction": "OUTPUT",
                "hwMeta": {
                 "level": 0,
                 "name": "o"
                },
                "id": "245",
                "properties": {
                 "index": 0,
                 "side": "EAST"
                }
               },
               {
                "direction": "INPUT",
                "hwMeta": {
                 "level": 0,
                 "name": "i"
                },
                "id": "246",
                "properties": {
                 "index": 1,
                 "side": "WEST"
                }
               },
               {
                "direction": "INPUT",
                "hwMeta": {
                 "level": 0,
                 "name": "clk"
                },
                "id": "247",
                "properties": {
                 "index": 2,
                 "side": "WEST"
                }
               }
              ],
              "properties": {
               "org.eclipse.elk.layered.mergeEdges": 1,
               "org.eclipse.elk.portConstraints": "FIXED_ORDER",
               "org.eclipse.elk.randomSeed": 0
              }
             },
             {
              "hwMeta": {
               "cls": "Operator",
               "maxId": 464,
               "name": "RISING_EDGE"
              },
              "id": "41",
              "ports": [
               {
                "direction": "OUTPUT",
                "hwMeta": {
                 "level": 0,
                 "name": null
                },
                "id": "248",
                "properties": {
                 "index": 0,
                 "side": "EAST"
                }
               },
               {
                "direction": "INPUT",
                "hwMeta": {
                 "level": 0,
                 "name": null
                },
                "id": "249",
                "properties": {
                 "index": 1,
                 "side": "WEST"
                }
               }
              ],
              "properties": {
               "org.eclipse.elk.layered.mergeEdges": 1,
               "org.eclipse.elk.portConstraints": "FIXED_ORDER",
               "org.eclipse.elk.randomSeed": 0
              }
             }
            ],
            "_edges": [
             {
              "hwMeta": {
               "name": "r_reg"
              },
              "id": "465",
              "source": "40",
              "sourcePort": "245",
              "target": "39",
              "targetPort": "242"
             },
             {
              "hwMeta": {
               "name": "r_reg_next"
              },
              "id": "466",
              "source": "39",
              "sourcePort": "243",
              "target": "40",
              "targetPort": "246"
             },
             {
              "hwMeta": {
               "name": "dataOut_clk._onRisingEdge()"
              },
              "id": "467",
              "source": "41",
              "sourcePort": "248",
              "target": "40",
              "targetPort": "247"
             },
             {
              "hwMeta": {
               "name": "dataOut_clk"
              },
              "id": "468",
              "source": "39",
              "sourcePort": "244",
              "target": "41",
              "targetPort": "249"
             }
            ],
            "hwMeta": {
             "bodyText": "If(dataOut_clk._onRisingEdge(),\n    r_reg(r_reg_next)\n)",
             "cls": "Process",
             "maxId": 468,
             "name": null
            },
            "id": "39",
            "ports": [
             {
              "direction": "OUTPUT",
              "hwMeta": {
               "level": 0,
               "name": "r_reg"
              },
              "id": "242",
              "properties": {
               "index": 0,
               "side": "EAST"
              }
             },
             {
              "direction": "INPUT",
              "hwMeta": {
               "level": 0,
               "name": "r_reg_next"
              },
              "id": "243",
              "properties": {
               "index": 1,
               "side": "WEST"
              }
             },
             {
              "direction": "INPUT",
              "hwMeta": {
               "level": 0,
               "name": "dataOut_clk"
              },
              "id": "244",
              "properties": {
               "index": 2,
               "side": "WEST"
              }
             }
            ],
            "properties": {
             "org.eclipse.elk.layered.mergeEdges": 1,
             "org.eclipse.elk.portConstraints": "FIXED_ORDER",
             "org.eclipse.elk.randomSeed": 0
            }
           },
           {
            "_children": [
             {
              "hwMeta": {
               "cls": "Operator",
               "maxId": 468,
               "name": "MUX"
              },
              "id": "43",
              "ports": [
               {
                "direction": "OUTPUT",
                "hwMeta": {
                 "level": 0,
                 "name": ""
                },
                "id": "257",
                "properties": {
                 "index": 0,
                 "side": "EAST"
                }
               },
               {
                "direction": "INPUT",
                "hwMeta": {
                 "level": 0,
                 "name": ""
                },
                "id": "258",
                "properties": {
                 "index": 1,
                 "side": "SOUTH"
                }
               },
               {
                "direction": "INPUT",
                "hwMeta": {
                 "level": 0,
                 "name": ""
                },
                "id": "259",
                "properties": {
                 "index": 2,
                 "side": "WEST"
                }
               },
               {
                "direction": "INPUT",
                "hwMeta": {
                 "level": 0,
                 "name": ""
                },
                "id": "260",
                "properties": {
                 "index": 3,
                 "side": "WEST"
                }
               }
              ],
              "properties": {
               "org.eclipse.elk.layered.mergeEdges": 1,
               "org.eclipse.elk.portConstraints": "FIXED_ORDER",
               "org.eclipse.elk.randomSeed": 0
              }
             },
             {
              "hwMeta": {
               "cls": "Operator",
               "maxId": 468,
               "name": "AND"
              },
              "id": "44",
              "ports": [
               {
                "direction": "OUTPUT",
                "hwMeta": {
                 "level": 0,
                 "name": null
                },
                "id": "261",
                "properties": {
                 "index": 0,
                 "side": "EAST"
                }
               },
               {
                "direction": "INPUT",
                "hwMeta": {
                 "level": 0,
                 "name": null
                },
                "id": "262",
                "properties": {
                 "index": 1,
                 "side": "WEST"
                }
               },
               {
                "direction": "INPUT",
                "hwMeta": {
                 "level": 0,
                 "name": null
                },
                "id": "263",
                "properties": {
                 "index": 2,
                 "side": "WEST"
                }
               }
              ],
              "properties": {
               "org.eclipse.elk.layered.mergeEdges": 1,
               "org.eclipse.elk.portConstraints": "FIXED_ORDER",
               "org.eclipse.elk.randomSeed": 0
              }
             },
             {
              "hwMeta": {
               "cls": "Operator",
               "maxId": 468,
               "name": "NOT"
              },
              "id": "45",
              "ports": [
               {
                "direction": "OUTPUT",
                "hwMeta": {
                 "level": 0,
                 "name": null
                },
                "id": "264",
                "properties": {
                 "index": 0,
                 "side": "EAST"
                }
               },
               {
                "direction": "INPUT",
                "hwMeta": {
                 "level": 0,
                 "name": null
                },
                "id": "265",
                "properties": {
                 "index": 1,
                 "side": "WEST"
                }
               }
              ],
              "properties": {
               "org.eclipse.elk.layered.mergeEdges": 1,
               "org.eclipse.elk.portConstraints": "FIXED_ORDER",
               "org.eclipse.elk.randomSeed": 0
              }
             },
             {
              "hwMeta": {
               "cls": "Operator",
               "maxId": 468,
               "name": "BitsAsVec"
              },
              "id": "46",
              "ports": [
               {
                "direction": "OUTPUT",
                "hwMeta": {
                 "level": 0,
                 "name": null
                },
                "id": "266",
                "properties": {
                 "index": 0,
                 "side": "EAST"
                }
               },
               {
                "direction": "INPUT",
                "hwMeta": {
                 "level": 0,
                 "name": null
                },
                "id": "267",
                "properties": {
                 "index": 1,
                 "side": "WEST"
                }
               }
              ],
              "properties": {
               "org.eclipse.elk.layered.mergeEdges": 1,
               "org.eclipse.elk.portConstraints": "FIXED_ORDER",
               "org.eclipse.elk.randomSeed": 0
              }
             },
             {
              "hwMeta": {
               "cls": "Operator",
               "maxId": 468,
               "name": "ADD"
              },
              "id": "47",
              "ports": [
               {
                "direction": "OUTPUT",
                "hwMeta": {
                 "level": 0,
                 "name": null
                },
                "id": "268",
                "properties": {
                 "index": 0,
                 "side": "EAST"
                }
               },
               {
                "direction": "INPUT",
                "hwMeta": {
                 "level": 0,
                 "name": null
                },
                "id": "269",
                "properties": {
                 "index": 1,
                 "side": "WEST"
                }
               },
               {
                "direction": "INPUT",
                "hwMeta": {
                 "level": 0,
                 "name": null
                },
                "id": "270",
                "properties": {
                 "index": 2,
                 "side": "WEST"
                }
               }
              ],
              "properties": {
               "org.eclipse.elk.layered.mergeEdges": 1,
               "org.eclipse.elk.portConstraints": "FIXED_ORDER",
               "org.eclipse.elk.randomSeed": 0
              }
             },
             {
              "hwMeta": {
               "cls": "Operator",
               "maxId": 468,
               "name": "BitsAsUnsigned"
              },
              "id": "48",
              "ports": [
               {
                "direction": "OUTPUT",
                "hwMeta": {
                 "level": 0,
                 "name": null
                },
                "id": "271",
                "properties": {
                 "index": 0,
                 "side": "EAST"
                }
               },
               {
                "direction": "INPUT",
                "hwMeta": {
                 "level": 0,
                 "name": null
                },
                "id": "272",
                "properties": {
                 "index": 1,
                 "side": "WEST"
                }
               }
              ],
              "properties": {
               "org.eclipse.elk.layered.mergeEdges": 1,
               "org.eclipse.elk.portConstraints": "FIXED_ORDER",
               "org.eclipse.elk.randomSeed": 0
              }
             },
             {
              "hwMeta": {
               "bodyText": "1",
               "cls": "Operator",
               "maxId": 468,
               "name": null
              },
              "id": "49",
              "ports": [
               {
                "direction": "OUTPUT",
                "hwMeta": {
                 "level": 0,
                 "name": null
                },
                "id": "273",
                "properties": {
                 "side": "EAST"
                }
               }
              ],
              "properties": {
               "org.eclipse.elk.layered.mergeEdges": 1,
               "org.eclipse.elk.portConstraints": "FREE",
               "org.eclipse.elk.randomSeed": 0
              }
             },
             {
              "hwMeta": {
               "cls": "Operator",
               "maxId": 468,
               "name": "MUX"
              },
              "id": "50",
              "ports": [
               {
                "direction": "OUTPUT",
                "hwMeta": {
                 "level": 0,
                 "name": ""
                },
                "id": "274",
                "properties": {
                 "index": 0,
                 "side": "EAST"
                }
               },
               {
                "direction": "INPUT",
                "hwMeta": {
                 "level": 0,
                 "name": ""
                },
                "id": "275",
                "properties": {
                 "index": 1,
                 "side": "SOUTH"
                }
               },
               {
                "direction": "INPUT",
                "hwMeta": {
                 "level": 0,
                 "name": ""
                },
                "id": "276",
                "properties": {
                 "index": 2,
                 "side": "WEST"
                }
               },
               {
                "direction": "INPUT",
                "hwMeta": {
                 "level": 0,
                 "name": ""
                },
                "id": "277",
                "properties": {
                 "index": 3,
                 "side": "WEST"
                }
               }
              ],
              "properties": {
               "org.eclipse.elk.layered.mergeEdges": 1,
               "org.eclipse.elk.portConstraints": "FIXED_ORDER",
               "org.eclipse.elk.randomSeed": 0
              }
             }
            ],
            "_edges": [
             {
              "hwMeta": {
               "name": "r_reg_next"
              },
              "id": "469",
              "source": "43",
              "sourcePort": "257",
              "target": "42",
              "targetPort": "251"
             },
             {
              "hwMeta": {
               "name": "dataOut_en & ~r_empty"
              },
              "id": "470",
              "sources": [
               [
                "44",
                "261"
               ]
              ],
              "targets": [
               [
                "43",
                "258"
               ],
               [
                "50",
                "275"
               ]
              ]
             },
             {
              "hwMeta": {
               "name": "r_reg"
              },
              "id": "471",
              "source": "42",
              "sourcePort": "253",
              "target": "43",
              "targetPort": "259"
             },
             {
              "hwMeta": {
               "name": "sig_6"
              },
              "id": "472",
              "source": "42",
              "sourcePort": "252",
              "target": "43",
              "targetPort": "260"
             },
             {
              "hwMeta": {
               "name": "~r_empty"
              },
              "id": "473",
              "source": "45",
              "sourcePort": "264",
              "target": "44",
              "targetPort": "262"
             },
             {
              "hwMeta": {
               "name": "dataOut_en"
              },
              "id": "474",
              "source": "42",
              "sourcePort": "256",
              "target": "44",
              "targetPort": "263"
             },
             {
              "hwMeta": {
               "name": "r_empty"
              },
              "id": "475",
              "source": "42",
              "sourcePort": "254",
              "target": "45",
              "targetPort": "265"
             },
             {
              "hwMeta": {
               "name": "(r_bin._reinterpret_cast(Bits(4, signed=False)) + 1)._reinterpret_cast(Bits(4))"
              },
              "id": "476",
              "source": "46",
              "sourcePort": "266",
              "target": "50",
              "targetPort": "277"
             },
             {
              "hwMeta": {
               "name": "r_bin._reinterpret_cast(Bits(4, signed=False)) + 1"
              },
              "id": "477",
              "source": "47",
              "sourcePort": "268",
              "target": "46",
              "targetPort": "267"
             },
             {
              "hwMeta": {
               "name": "<BitsVal 1>"
              },
              "id": "478",
              "source": "49",
              "sourcePort": "273",
              "target": "47",
              "targetPort": "269"
             },
             {
              "hwMeta": {
               "name": "r_bin._reinterpret_cast(Bits(4, signed=False))"
              },
              "id": "479",
              "source": "48",
              "sourcePort": "271",
              "target": "47",
              "targetPort": "270"
             },
             {
              "hwMeta": {
               "name": "r_bin"
              },
              "id": "480",
              "sources": [
               [
                "42",
                "255"
               ]
              ],
              "targets": [
               [
                "48",
                "272"
               ],
               [
                "50",
                "276"
               ]
              ]
             },
             {
              "hwMeta": {
               "name": "r_bin_next"
              },
              "id": "481",
              "source": "50",
              "sourcePort": "274",
              "target": "42",
              "targetPort": "250"
             }
            ],
            "hwMeta": {
             "bodyText": "If((dataOut_en & ~r_empty)._eq(1),\n    r_reg_next(sig_6),\n    r_bin_next((r_bin._reinterpret_cast(Bits(4, signed=False)) + 1)._reinterpret_cast(Bits(4)))\n).Else(\n    r_reg_next(r_reg),\n    r_bin_next(r_bin)\n)",
             "cls": "Process",
             "maxId": 481,
             "name": null
            },
            "id": "42",
            "ports": [
             {
              "direction": "OUTPUT",
              "hwMeta": {
               "level": 0,
               "name": "r_bin_next"
              },
              "id": "250",
              "properties": {
               "index": 0,
               "side": "EAST"
              }
             },
             {
              "direction": "OUTPUT",
              "hwMeta": {
               "level": 0,
               "name": "r_reg_next"
              },
              "id": "251",
              "properties": {
               "index": 1,
               "side": "EAST"
              }
             },
             {
              "direction": "INPUT",
              "hwMeta": {
               "level": 0,
               "name": "sig_6"
              },
              "id": "252",
              "properties": {
               "index": 2,
               "side": "WEST"
              }
             },
             {
              "direction": "INPUT",
              "hwMeta": {
               "level": 0,
               "name": "r_reg"
              },
              "id": "253",
              "properties": {
               "index": 3,
               "side": "WEST"
              }
             },
             {
              "direction": "INPUT",
              "hwMeta": {
               "level": 0,
               "name": "r_empty"
              },
              "id": "254",
              "properties": {
               "index": 4,
               "side": "WEST"
              }
             },
             {
              "direction": "INPUT",
              "hwMeta": {
               "level": 0,
               "name": "r_bin"
              },
              "id": "255",
              "properties": {
               "index": 5,
               "side": "WEST"
              }
             },
             {
              "direction": "INPUT",
              "hwMeta": {
               "level": 0,
               "name": "dataOut_en"
              },
              "id": "256",
              "properties": {
               "index": 6,
               "side": "WEST"
              }
             }
            ],
            "properties": {
             "org.eclipse.elk.layered.mergeEdges": 1,
             "org.eclipse.elk.portConstraints": "FIXED_ORDER",
             "org.eclipse.elk.randomSeed": 0
            }
           },
           {
            "_children": [
             {
              "hwMeta": {
               "cls": "Operator",
               "maxId": 481,
               "name": "BitsAsVec"
              },
              "id": "52",
              "ports": [
               {
                "direction": "OUTPUT",
                "hwMeta": {
                 "level": 0,
                 "name": null
                },
                "id": "282",
                "properties": {
                 "index": 0,
                 "side": "EAST"
                }
               },
               {
                "direction": "INPUT",
                "hwMeta": {
                 "level": 0,
                 "name": null
                },
                "id": "283",
                "properties": {
                 "index": 1,
                 "side": "WEST"
                }
               }
              ],
              "properties": {
               "org.eclipse.elk.layered.mergeEdges": 1,
               "org.eclipse.elk.portConstraints": "FIXED_ORDER",
               "org.eclipse.elk.randomSeed": 0
              }
             },
             {
              "hwMeta": {
               "cls": "Operator",
               "maxId": 481,
               "name": "ADD"
              },
              "id": "53",
              "ports": [
               {
                "direction": "OUTPUT",
                "hwMeta": {
                 "level": 0,
                 "name": null
                },
                "id": "284",
                "properties": {
                 "index": 0,
                 "side": "EAST"
                }
               },
               {
                "direction": "INPUT",
                "hwMeta": {
                 "level": 0,
                 "name": null
                },
                "id": "285",
                "properties": {
                 "index": 1,
                 "side": "WEST"
                }
               },
               {
                "direction": "INPUT",
                "hwMeta": {
                 "level": 0,
                 "name": null
                },
                "id": "286",
                "properties": {
                 "index": 2,
                 "side": "WEST"
                }
               }
              ],
              "properties": {
               "org.eclipse.elk.layered.mergeEdges": 1,
               "org.eclipse.elk.portConstraints": "FIXED_ORDER",
               "org.eclipse.elk.randomSeed": 0
              }
             },
             {
              "hwMeta": {
               "cls": "Operator",
               "maxId": 481,
               "name": "BitsAsUnsigned"
              },
              "id": "54",
              "ports": [
               {
                "direction": "OUTPUT",
                "hwMeta": {
                 "level": 0,
                 "name": null
                },
                "id": "287",
                "properties": {
                 "index": 0,
                 "side": "EAST"
                }
               },
               {
                "direction": "INPUT",
                "hwMeta": {
                 "level": 0,
                 "name": null
                },
                "id": "288",
                "properties": {
                 "index": 1,
                 "side": "WEST"
                }
               }
              ],
              "properties": {
               "org.eclipse.elk.layered.mergeEdges": 1,
               "org.eclipse.elk.portConstraints": "FIXED_ORDER",
               "org.eclipse.elk.randomSeed": 0
              }
             },
             {
              "hwMeta": {
               "bodyText": "1",
               "cls": "Operator",
               "maxId": 481,
               "name": null
              },
              "id": "55",
              "ports": [
               {
                "direction": "OUTPUT",
                "hwMeta": {
                 "level": 0,
                 "name": null
                },
                "id": "289",
                "properties": {
                 "side": "EAST"
                }
               }
              ],
              "properties": {
               "org.eclipse.elk.layered.mergeEdges": 1,
               "org.eclipse.elk.portConstraints": "FREE",
               "org.eclipse.elk.randomSeed": 0
              }
             },
             {
              "hwMeta": {
               "cls": "Operator",
               "maxId": 481,
               "name": "MUX"
              },
              "id": "56",
              "ports": [
               {
                "direction": "OUTPUT",
                "hwMeta": {
                 "level": 0,
                 "name": ""
                },
                "id": "290",
                "properties": {
                 "index": 0,
                 "side": "EAST"
                }
               },
               {
                "direction": "INPUT",
                "hwMeta": {
                 "level": 0,
                 "name": ""
                },
                "id": "291",
                "properties": {
                 "index": 1,
                 "side": "SOUTH"
                }
               },
               {
                "direction": "INPUT",
                "hwMeta": {
                 "level": 0,
                 "name": ""
                },
                "id": "292",
                "properties": {
                 "index": 2,
                 "side": "WEST"
                }
               },
               {
                "direction": "INPUT",
                "hwMeta": {
                 "level": 0,
                 "name": ""
                },
                "id": "293",
                "properties": {
                 "index": 3,
                 "side": "WEST"
                }
               }
              ],
              "properties": {
               "org.eclipse.elk.layered.mergeEdges": 1,
               "org.eclipse.elk.portConstraints": "FIXED_ORDER",
               "org.eclipse.elk.randomSeed": 0
              }
             },
             {
              "hwMeta": {
               "cls": "Operator",
               "maxId": 481,
               "name": "AND"
              },
              "id": "57",
              "ports": [
               {
                "direction": "OUTPUT",
                "hwMeta": {
                 "level": 0,
                 "name": null
                },
                "id": "294",
                "properties": {
                 "index": 0,
                 "side": "EAST"
                }
               },
               {
                "direction": "INPUT",
                "hwMeta": {
                 "level": 0,
                 "name": null
                },
                "id": "295",
                "properties": {
                 "index": 1,
                 "side": "WEST"
                }
               },
               {
                "direction": "INPUT",
                "hwMeta": {
                 "level": 0,
                 "name": null
                },
                "id": "296",
                "properties": {
                 "index": 2,
                 "side": "WEST"
                }
               }
              ],
              "properties": {
               "org.eclipse.elk.layered.mergeEdges": 1,
               "org.eclipse.elk.portConstraints": "FIXED_ORDER",
               "org.eclipse.elk.randomSeed": 0
              }
             },
             {
              "hwMeta": {
               "cls": "Operator",
               "maxId": 481,
               "name": "NOT"
              },
              "id": "58",
              "ports": [
               {
                "direction": "OUTPUT",
                "hwMeta": {
                 "level": 0,
                 "name": null
                },
                "id": "297",
                "properties": {
                 "index": 0,
                 "side": "EAST"
                }
               },
               {
                "direction": "INPUT",
                "hwMeta": {
                 "level": 0,
                 "name": null
                },
                "id": "298",
                "properties": {
                 "index": 1,
                 "side": "WEST"
                }
               }
              ],
              "properties": {
               "org.eclipse.elk.layered.mergeEdges": 1,
               "org.eclipse.elk.portConstraints": "FIXED_ORDER",
               "org.eclipse.elk.randomSeed": 0
              }
             }
            ],
            "_edges": [
             {
              "hwMeta": {
               "name": "(w_bin._reinterpret_cast(Bits(4, signed=False)) + 1)._reinterpret_cast(Bits(4))"
              },
              "id": "482",
              "source": "52",
              "sourcePort": "282",
              "target": "56",
              "targetPort": "293"
             },
             {
              "hwMeta": {
               "name": "w_bin._reinterpret_cast(Bits(4, signed=False)) + 1"
              },
              "id": "483",
              "source": "53",
              "sourcePort": "284",
              "target": "52",
              "targetPort": "283"
             },
             {
              "hwMeta": {
               "name": "<BitsVal 1>"
              },
              "id": "484",
              "source": "55",
              "sourcePort": "289",
              "target": "53",
              "targetPort": "285"
             },
             {
              "hwMeta": {
               "name": "w_bin._reinterpret_cast(Bits(4, signed=False))"
              },
              "id": "485",
              "source": "54",
              "sourcePort": "287",
              "target": "53",
              "targetPort": "286"
             },
             {
              "hwMeta": {
               "name": "w_bin"
              },
              "id": "486",
              "sources": [
               [
                "51",
                "280"
               ]
              ],
              "targets": [
               [
                "54",
                "288"
               ],
               [
                "56",
                "292"
               ]
              ]
             },
             {
              "hwMeta": {
               "name": "w_bin_next"
              },
              "id": "487",
              "source": "56",
              "sourcePort": "290",
              "target": "51",
              "targetPort": "278"
             },
             {
              "hwMeta": {
               "name": "dataIn_en & ~w_full"
              },
              "id": "488",
              "source": "57",
              "sourcePort": "294",
              "target": "56",
              "targetPort": "291"
             },
             {
              "hwMeta": {
               "name": "~w_full"
              },
              "id": "489",
              "source": "58",
              "sourcePort": "297",
              "target": "57",
              "targetPort": "295"
             },
             {
              "hwMeta": {
               "name": "dataIn_en"
              },
              "id": "490",
              "source": "51",
              "sourcePort": "281",
              "target": "57",
              "targetPort": "296"
             },
             {
              "hwMeta": {
               "name": "w_full"
              },
              "id": "491",
              "source": "51",
              "sourcePort": "279",
              "target": "58",
              "targetPort": "298"
             }
            ],
            "hwMeta": {
             "bodyText": "If((dataIn_en & ~w_full)._eq(1),\n    w_bin_next((w_bin._reinterpret_cast(Bits(4, signed=False)) + 1)._reinterpret_cast(Bits(4)))\n).Else(\n    w_bin_next(w_bin)\n)",
             "cls": "Process",
             "maxId": 491,
             "name": null
            },
            "id": "51",
            "ports": [
             {
              "direction": "OUTPUT",
              "hwMeta": {
               "level": 0,
               "name": "w_bin_next"
              },
              "id": "278",
              "properties": {
               "index": 0,
               "side": "EAST"
              }
             },
             {
              "direction": "INPUT",
              "hwMeta": {
               "level": 0,
               "name": "w_full"
              },
              "id": "279",
              "properties": {
               "index": 1,
               "side": "WEST"
              }
             },
             {
              "direction": "INPUT",
              "hwMeta": {
               "level": 0,
               "name": "w_bin"
              },
              "id": "280",
              "properties": {
               "index": 2,
               "side": "WEST"
              }
             },
             {
              "direction": "INPUT",
              "hwMeta": {
               "level": 0,
               "name": "dataIn_en"
              },
              "id": "281",
              "properties": {
               "index": 3,
               "side": "WEST"
              }
             }
            ],
            "properties": {
             "org.eclipse.elk.layered.mergeEdges": 1,
             "org.eclipse.elk.portConstraints": "FIXED_ORDER",
             "org.eclipse.elk.randomSeed": 0
            }
           },
           {
            "hwMeta": {
             "cls": null,
             "isExternalPort": true,
             "maxId": 491,
             "name": "dataIn_clk"
            },
            "id": "59",
            "ports": [
             {
              "direction": "OUTPUT",
              "hwMeta": {
               "level": 0,
               "name": "dataIn_clk"
              },
              "id": "299",
              "properties": {
               "index": 0,
               "side": "EAST"
              }
             },
             {
              "direction": "INPUT",
              "hwMeta": {
               "level": 0,
               "name": ""
              },
              "id": "300",
              "properties": {
               "index": 1,
               "side": "WEST"
              }
             }
            ],
            "properties": {
             "org.eclipse.elk.layered.mergeEdges": 1,
             "org.eclipse.elk.portConstraints": "FIXED_ORDER",
             "org.eclipse.elk.randomSeed": 0
            }
           },
           {
            "hwMeta": {
             "cls": null,
             "isExternalPort": true,
             "maxId": 491,
             "name": "dataOut_clk"
            },
            "id": "60",
            "ports": [
             {
              "direction": "OUTPUT",
              "hwMeta": {
               "level": 0,
               "name": "dataOut_clk"
              },
              "id": "301",
              "properties": {
               "index": 0,
               "side": "EAST"
              }
             },
             {
              "direction": "INPUT",
              "hwMeta": {
               "level": 0,
               "name": ""
              },
              "id": "302",
              "properties": {
               "index": 1,
               "side": "WEST"
              }
             }
            ],
            "properties": {
             "org.eclipse.elk.layered.mergeEdges": 1,
             "org.eclipse.elk.portConstraints": "FIXED_ORDER",
             "org.eclipse.elk.randomSeed": 0
            }
           },
           {
            "hwMeta": {
             "cls": null,
             "isExternalPort": true,
             "maxId": 491,
             "name": "dataIn_rst_n"
            },
            "id": "61",
            "ports": [
             {
              "direction": "OUTPUT",
              "hwMeta": {
               "level": 0,
               "name": "dataIn_rst_n"
              },
              "id": "303",
              "properties": {
               "index": 0,
               "side": "EAST"
              }
             },
             {
              "direction": "INPUT",
              "hwMeta": {
               "level": 0,
               "name": ""
              },
              "id": "304",
              "properties": {
               "index": 1,
               "side": "WEST"
              }
             }
            ],
            "properties": {
             "org.eclipse.elk.layered.mergeEdges": 1,
             "org.eclipse.elk.portConstraints": "FIXED_ORDER",
             "org.eclipse.elk.randomSeed": 0
            }
           },
           {
            "hwMeta": {
             "cls": null,
             "isExternalPort": true,
             "maxId": 491,
             "name": "dataIn"
            },
            "id": "62",
            "ports": [
             {
              "direction": "OUTPUT",
              "hwMeta": {
               "level": 0,
               "name": "dataIn"
              },
              "id": "305",
              "properties": {
               "index": 0,
               "side": "EAST"
              }
             },
             {
              "direction": "OUTPUT",
              "hwMeta": {
               "level": 1,
               "name": "en"
              },
              "id": "306",
              "properties": {
               "index": 1,
               "side": "EAST"
              }
             },
             {
              "direction": "INPUT",
              "hwMeta": {
               "level": 1,
               "name": "wait"
              },
              "id": "307",
              "properties": {
               "index": 2,
               "side": "EAST"
              }
             },
             {
              "direction": "OUTPUT",
              "hwMeta": {
               "level": 1,
               "name": "data"
              },
              "id": "308",
              "properties": {
               "index": 3,
               "side": "EAST"
              }
             },
             {
              "direction": "INPUT",
              "hwMeta": {
               "level": 0,
               "name": ""
              },
              "id": "309",
              "properties": {
               "index": 4,
               "side": "WEST"
              }
             }
            ],
            "properties": {
             "org.eclipse.elk.layered.mergeEdges": 1,
             "org.eclipse.elk.portConstraints": "FIXED_ORDER",
             "org.eclipse.elk.randomSeed": 0
            }
           },
           {
            "hwMeta": {
             "cls": null,
             "isExternalPort": true,
             "maxId": 491,
             "name": "dataOut_rst_n"
            },
            "id": "63",
            "ports": [
             {
              "direction": "OUTPUT",
              "hwMeta": {
               "level": 0,
               "name": "dataOut_rst_n"
              },
              "id": "310",
              "properties": {
               "index": 0,
               "side": "EAST"
              }
             },
             {
              "direction": "INPUT",
              "hwMeta": {
               "level": 0,
               "name": ""
              },
              "id": "311",
              "properties": {
               "index": 1,
               "side": "WEST"
              }
             }
            ],
            "properties": {
             "org.eclipse.elk.layered.mergeEdges": 1,
             "org.eclipse.elk.portConstraints": "FIXED_ORDER",
             "org.eclipse.elk.randomSeed": 0
            }
           },
           {
            "hwMeta": {
             "cls": null,
             "isExternalPort": true,
             "maxId": 491,
             "name": "dataOut"
            },
            "id": "64",
            "ports": [
             {
              "direction": "OUTPUT",
              "hwMeta": {
               "level": 0,
               "name": ""
              },
              "id": "312",
              "properties": {
               "index": 0,
               "side": "EAST"
              }
             },
             {
              "direction": "INPUT",
              "hwMeta": {
               "level": 1,
               "name": "data"
              },
              "id": "313",
              "properties": {
               "index": 1,
               "side": "WEST"
              }
             },
             {
              "direction": "INPUT",
              "hwMeta": {
               "level": 1,
               "name": "wait"
              },
              "id": "314",
              "properties": {
               "index": 2,
               "side": "WEST"
              }
             },
             {
              "direction": "OUTPUT",
              "hwMeta": {
               "level": 1,
               "name": "en"
              },
              "id": "315",
              "properties": {
               "index": 3,
               "side": "WEST"
              }
             },
             {
              "direction": "INPUT",
              "hwMeta": {
               "level": 0,
               "name": "dataOut"
              },
              "id": "316",
              "properties": {
               "index": 4,
               "side": "WEST"
              }
             }
            ],
            "properties": {
             "org.eclipse.elk.layered.mergeEdges": 1,
             "org.eclipse.elk.portConstraints": "FIXED_ORDER",
             "org.eclipse.elk.randomSeed": 0
            }
           },
           {
            "hwMeta": {
             "cls": "Operator",
             "maxId": 491,
             "name": "XOR"
            },
            "id": "65",
            "ports": [
             {
              "direction": "OUTPUT",
              "hwMeta": {
               "level": 0,
               "name": null
              },
              "id": "317",
              "properties": {
               "index": 0,
               "side": "EAST"
              }
             },
             {
              "direction": "INPUT",
              "hwMeta": {
               "level": 0,
               "name": null
              },
              "id": "318",
              "properties": {
               "index": 1,
               "side": "WEST"
              }
             },
             {
              "direction": "INPUT",
              "hwMeta": {
               "level": 0,
               "name": null
              },
              "id": "319",
              "properties": {
               "index": 2,
               "side": "WEST"
              }
             }
            ],
            "properties": {
             "org.eclipse.elk.layered.mergeEdges": 1,
             "org.eclipse.elk.portConstraints": "FIXED_ORDER",
             "org.eclipse.elk.randomSeed": 0
            }
           },
           {
            "hwMeta": {
             "cls": "Operator",
             "maxId": 491,
             "name": "CONCAT"
            },
            "id": "66",
            "ports": [
             {
              "direction": "OUTPUT",
              "hwMeta": {
               "level": 0,
               "name": null
              },
              "id": "320",
              "properties": {
               "index": 0,
               "side": "EAST"
              }
             },
             {
              "direction": "INPUT",
              "hwMeta": {
               "level": 0,
               "name": "[4:1]"
              },
              "id": "321",
              "properties": {
               "index": 1,
               "side": "WEST"
              }
             },
             {
              "direction": "INPUT",
              "hwMeta": {
               "level": 0,
               "name": "[0]"
              },
              "id": "322",
              "properties": {
               "index": 2,
               "side": "WEST"
              }
             }
            ],
            "properties": {
             "org.eclipse.elk.layered.mergeEdges": 1,
             "org.eclipse.elk.portConstraints": "FIXED_ORDER",
             "org.eclipse.elk.randomSeed": 0
            }
           },
           {
            "hwMeta": {
             "bodyText": "0",
             "cls": "Operator",
             "maxId": 491,
             "name": null
            },
            "id": "67",
            "ports": [
             {
              "direction": "OUTPUT",
              "hwMeta": {
               "level": 0,
               "name": null
              },
              "id": "323",
              "properties": {
               "side": "EAST"
              }
             }
            ],
            "properties": {
             "org.eclipse.elk.layered.mergeEdges": 1,
             "org.eclipse.elk.portConstraints": "FREE",
             "org.eclipse.elk.randomSeed": 0
            }
           },
           {
            "hwMeta": {
             "cls": "Operator",
             "maxId": 491,
             "name": "XOR"
            },
            "id": "68",
            "ports": [
             {
              "direction": "OUTPUT",
              "hwMeta": {
               "level": 0,
               "name": null
              },
              "id": "324",
              "properties": {
               "index": 0,
               "side": "EAST"
              }
             },
             {
              "direction": "INPUT",
              "hwMeta": {
               "level": 0,
               "name": null
              },
              "id": "325",
              "properties": {
               "index": 1,
               "side": "WEST"
              }
             },
             {
              "direction": "INPUT",
              "hwMeta": {
               "level": 0,
               "name": null
              },
              "id": "326",
              "properties": {
               "index": 2,
               "side": "WEST"
              }
             }
            ],
            "properties": {
             "org.eclipse.elk.layered.mergeEdges": 1,
             "org.eclipse.elk.portConstraints": "FIXED_ORDER",
             "org.eclipse.elk.randomSeed": 0
            }
           },
           {
            "hwMeta": {
             "cls": "Operator",
             "maxId": 491,
             "name": "CONCAT"
            },
            "id": "69",
            "ports": [
             {
              "direction": "OUTPUT",
              "hwMeta": {
               "level": 0,
               "name": null
              },
              "id": "327",
              "properties": {
               "index": 0,
               "side": "EAST"
              }
             },
             {
              "direction": "INPUT",
              "hwMeta": {
               "level": 0,
               "name": "[4:1]"
              },
              "id": "328",
              "properties": {
               "index": 1,
               "side": "WEST"
              }
             },
             {
              "direction": "INPUT",
              "hwMeta": {
               "level": 0,
               "name": "[0]"
              },
              "id": "329",
              "properties": {
               "index": 2,
               "side": "WEST"
              }
             }
            ],
            "properties": {
             "org.eclipse.elk.layered.mergeEdges": 1,
             "org.eclipse.elk.portConstraints": "FIXED_ORDER",
             "org.eclipse.elk.randomSeed": 0
            }
           },
           {
            "hwMeta": {
             "cls": "Operator",
             "maxId": 491,
             "name": "EQ"
            },
            "id": "70",
            "ports": [
             {
              "direction": "OUTPUT",
              "hwMeta": {
               "level": 0,
               "name": null
              },
              "id": "330",
              "properties": {
               "index": 0,
               "side": "EAST"
              }
             },
             {
              "direction": "INPUT",
              "hwMeta": {
               "level": 0,
               "name": null
              },
              "id": "331",
              "properties": {
               "index": 1,
               "side": "WEST"
              }
             },
             {
              "direction": "INPUT",
              "hwMeta": {
               "level": 0,
               "name": null
              },
              "id": "332",
              "properties": {
               "index": 2,
               "side": "WEST"
              }
             }
            ],
            "properties": {
             "org.eclipse.elk.layered.mergeEdges": 1,
             "org.eclipse.elk.portConstraints": "FIXED_ORDER",
             "org.eclipse.elk.randomSeed": 0
            }
           },
           {
            "hwMeta": {
             "cls": "Operator",
             "maxId": 491,
             "name": "CONCAT"
            },
            "id": "71",
            "ports": [
             {
              "direction": "OUTPUT",
              "hwMeta": {
               "level": 0,
               "name": null
              },
              "id": "333",
              "properties": {
               "index": 0,
               "side": "EAST"
              }
             },
             {
              "direction": "INPUT",
              "hwMeta": {
               "level": 0,
               "name": "[4:2]"
              },
              "id": "334",
              "properties": {
               "index": 1,
               "side": "WEST"
              }
             },
             {
              "direction": "INPUT",
              "hwMeta": {
               "level": 0,
               "name": "[2:0]"
              },
              "id": "335",
              "properties": {
               "index": 2,
               "side": "WEST"
              }
             }
            ],
            "properties": {
             "org.eclipse.elk.layered.mergeEdges": 1,
             "org.eclipse.elk.portConstraints": "FIXED_ORDER",
             "org.eclipse.elk.randomSeed": 0
            }
           },
           {
            "hwMeta": {
             "cls": "Operator",
             "maxId": 491,
             "name": "NOT"
            },
            "id": "72",
            "ports": [
             {
              "direction": "OUTPUT",
              "hwMeta": {
               "level": 0,
               "name": null
              },
              "id": "336",
              "properties": {
               "index": 0,
               "side": "EAST"
              }
             },
             {
              "direction": "INPUT",
              "hwMeta": {
               "level": 0,
               "name": null
              },
              "id": "337",
              "properties": {
               "index": 1,
               "side": "WEST"
              }
             }
            ],
            "properties": {
             "org.eclipse.elk.layered.mergeEdges": 1,
             "org.eclipse.elk.portConstraints": "FIXED_ORDER",
             "org.eclipse.elk.randomSeed": 0
            }
           },
           {
            "hwMeta": {
             "cls": "Operator",
             "maxId": 491,
             "name": "EQ"
            },
            "id": "73",
            "ports": [
             {
              "direction": "OUTPUT",
              "hwMeta": {
               "level": 0,
               "name": null
              },
              "id": "338",
              "properties": {
               "index": 0,
               "side": "EAST"
              }
             },
             {
              "direction": "INPUT",
              "hwMeta": {
               "level": 0,
               "name": null
              },
              "id": "339",
              "properties": {
               "index": 1,
               "side": "WEST"
              }
             },
             {
              "direction": "INPUT",
              "hwMeta": {
               "level": 0,
               "name": null
              },
              "id": "340",
              "properties": {
               "index": 2,
               "side": "WEST"
              }
             }
            ],
            "properties": {
             "org.eclipse.elk.layered.mergeEdges": 1,
             "org.eclipse.elk.portConstraints": "FIXED_ORDER",
             "org.eclipse.elk.randomSeed": 0
            }
           },
           {
            "hwMeta": {
             "cls": "Operator",
             "maxId": 491,
             "name": "INDEX"
            },
            "id": "74",
            "ports": [
             {
              "direction": "OUTPUT",
              "hwMeta": {
               "level": 0,
               "name": null
              },
              "id": "341",
              "properties": {
               "index": 0,
               "side": "EAST"
              }
             },
             {
              "direction": "INPUT",
              "hwMeta": {
               "level": 0,
               "name": "index"
              },
              "id": "342",
              "properties": {
               "index": 1,
               "side": "WEST"
              }
             },
             {
              "direction": "INPUT",
              "hwMeta": {
               "level": 0,
               "name": "in"
              },
              "id": "343",
              "properties": {
               "index": 2,
               "side": "WEST"
              }
             }
            ],
            "properties": {
             "org.eclipse.elk.layered.mergeEdges": 1,
             "org.eclipse.elk.portConstraints": "FIXED_ORDER",
             "org.eclipse.elk.randomSeed": 0
            }
           },
           {
            "hwMeta": {
             "cls": "Operator",
             "maxId": 491,
             "name": "SLICE"
            },
            "id": "75",
            "ports": [
             {
              "direction": "OUTPUT",
              "hwMeta": {
               "level": 0,
               "name": "[3:0]"
              },
              "id": "344",
              "properties": {
               "index": 0,
               "side": "EAST"
              }
             },
             {
              "direction": "INPUT",
              "hwMeta": {
               "level": 0,
               "name": ""
              },
              "id": "345",
              "properties": {
               "index": 1,
               "side": "WEST"
              }
             }
            ],
            "properties": {
             "org.eclipse.elk.layered.mergeEdges": 1,
             "org.eclipse.elk.portConstraints": "FIXED_ORDER",
             "org.eclipse.elk.randomSeed": 0
            }
           },
           {
            "hwMeta": {
             "cls": "Operator",
             "maxId": 491,
             "name": "SLICE"
            },
            "id": "76",
            "ports": [
             {
              "direction": "OUTPUT",
              "hwMeta": {
               "level": 0,
               "name": "[4:1]"
              },
              "id": "346",
              "properties": {
               "index": 0,
               "side": "EAST"
              }
             },
             {
              "direction": "INPUT",
              "hwMeta": {
               "level": 0,
               "name": ""
              },
              "id": "347",
              "properties": {
               "index": 1,
               "side": "WEST"
              }
             }
            ],
            "properties": {
             "org.eclipse.elk.layered.mergeEdges": 1,
             "org.eclipse.elk.portConstraints": "FIXED_ORDER",
             "org.eclipse.elk.randomSeed": 0
            }
           },
           {
            "hwMeta": {
             "cls": "Operator",
             "maxId": 491,
             "name": "SLICE"
            },
            "id": "77",
            "ports": [
             {
              "direction": "OUTPUT",
              "hwMeta": {
               "level": 0,
               "name": "[2:0]"
              },
              "id": "348",
              "properties": {
               "index": 0,
               "side": "EAST"
              }
             },
             {
              "direction": "OUTPUT",
              "hwMeta": {
               "level": 0,
               "name": "[4:2]"
              },
              "id": "349",
              "properties": {
               "index": 1,
               "side": "EAST"
              }
             },
             {
              "direction": "INPUT",
              "hwMeta": {
               "level": 0,
               "name": ""
              },
              "id": "350",
              "properties": {
               "index": 2,
               "side": "WEST"
              }
             }
            ],
            "properties": {
             "org.eclipse.elk.layered.mergeEdges": 1,
             "org.eclipse.elk.portConstraints": "FIXED_ORDER",
             "org.eclipse.elk.randomSeed": 0
            }
           },
           {
            "hwMeta": {
             "cls": "Operator",
             "maxId": 491,
             "name": "SLICE"
            },
            "id": "78",
            "ports": [
             {
              "direction": "OUTPUT",
              "hwMeta": {
               "level": 0,
               "name": "[3:0]"
              },
              "id": "351",
              "properties": {
               "index": 0,
               "side": "EAST"
              }
             },
             {
              "direction": "INPUT",
              "hwMeta": {
               "level": 0,
               "name": ""
              },
              "id": "352",
              "properties": {
               "index": 1,
               "side": "WEST"
              }
             }
            ],
            "properties": {
             "org.eclipse.elk.layered.mergeEdges": 1,
             "org.eclipse.elk.portConstraints": "FIXED_ORDER",
             "org.eclipse.elk.randomSeed": 0
            }
           },
           {
            "hwMeta": {
             "cls": "Operator",
             "maxId": 491,
             "name": "SLICE"
            },
            "id": "79",
            "ports": [
             {
              "direction": "OUTPUT",
              "hwMeta": {
               "level": 0,
               "name": "[4:1]"
              },
              "id": "353",
              "properties": {
               "index": 0,
               "side": "EAST"
              }
             },
             {
              "direction": "INPUT",
              "hwMeta": {
               "level": 0,
               "name": ""
              },
              "id": "354",
              "properties": {
               "index": 1,
               "side": "WEST"
              }
             }
            ],
            "properties": {
             "org.eclipse.elk.layered.mergeEdges": 1,
             "org.eclipse.elk.portConstraints": "FIXED_ORDER",
             "org.eclipse.elk.randomSeed": 0
            }
           }
          ],
          "_edges": [
           {
            "hwMeta": {
             "name": "r_gray_out_reg1_next"
            },
            "id": "492",
            "source": "2",
            "sourcePort": "113",
            "target": "2",
            "targetPort": "121"
           },
           {
            "hwMeta": {
             "name": "sig_2"
            },
            "id": "493",
            "source": "2",
            "sourcePort": "114",
            "target": "77",
            "targetPort": "350"
           },
           {
            "hwMeta": {
             "name": "sig_4"
            },
            "id": "494",
            "sources": [
             [
              "2",
              "115"
             ]
            ],
            "targets": [
             [
              "51",
              "280"
             ],
             [
              "78",
              "352"
             ]
            ]
           },
           {
            "hwMeta": {
             "name": "w_full"
            },
            "id": "495",
            "sources": [
             [
              "2",
              "116"
             ]
            ],
            "targets": [
             [
              "17",
              "168"
             ],
             [
              "51",
              "279"
             ],
             [
              "62",
              "307"
             ]
            ]
           },
           {
            "hwMeta": {
             "name": "w_gray_out_reg0_next"
            },
            "id": "496",
            "source": "2",
            "sourcePort": "117",
            "target": "23",
            "targetPort": "193"
           },
           {
            "hwMeta": {
             "name": "Concat(Bits(1, force_vector=True).from_py(0), sig_1) ^ w_bin_next"
            },
            "id": "497",
            "sources": [
             [
              "68",
              "324"
             ]
            ],
            "targets": [
             [
              "2",
              "118"
             ],
             [
              "70",
              "332"
             ]
            ]
           },
           {
            "hwMeta": {
             "name": "w_full_next"
            },
            "id": "498",
            "source": "70",
            "sourcePort": "330",
            "target": "2",
            "targetPort": "119"
           },
           {
            "hwMeta": {
             "name": "sig_1"
            },
            "id": "499",
            "sources": [
             [
              "51",
              "278"
             ]
            ],
            "targets": [
             [
              "68",
              "325"
             ],
             [
              "2",
              "120"
             ],
             [
              "79",
              "354"
             ]
            ]
           },
           {
            "hwMeta": {
             "name": "r_gray_out_reg0_next"
            },
            "id": "500",
            "source": "23",
            "sourcePort": "189",
            "target": "2",
            "targetPort": "122"
           },
           {
            "hwMeta": {
             "name": "dataIn_rst_n"
            },
            "id": "501",
            "source": "61",
            "sourcePort": "303",
            "target": "2",
            "targetPort": "123"
           },
           {
            "hwMeta": {
             "name": "dataIn_clk"
            },
            "id": "502",
            "sources": [
             [
              "59",
              "299"
             ]
            ],
            "targets": [
             [
              "2",
              "124"
             ],
             [
              "17",
              "172"
             ]
            ]
           },
           {
            "hwMeta": {
             "name": "memory"
            },
            "id": "503",
            "source": "17",
            "sourcePort": "167",
            "target": "74",
            "targetPort": "343"
           },
           {
            "hwMeta": {
             "name": "(w_bin[3:0], sig_4)"
            },
            "id": "504",
            "source": "78",
            "sourcePort": "351",
            "target": "17",
            "targetPort": "169"
           },
           {
            "hwMeta": {
             "name": "dataIn_en"
            },
            "id": "505",
            "sources": [
             [
              "62",
              "306"
             ]
            ],
            "targets": [
             [
              "17",
              "170"
             ],
             [
              "51",
              "281"
             ]
            ]
           },
           {
            "hwMeta": {
             "name": "dataIn_data"
            },
            "id": "506",
            "source": "62",
            "sourcePort": "308",
            "target": "17",
            "targetPort": "171"
           },
           {
            "hwMeta": {
             "name": "r_bin[3:0]"
            },
            "id": "507",
            "sources": [
             [
              "23",
              "187"
             ]
            ],
            "targets": [
             [
              "42",
              "255"
             ],
             [
              "75",
              "345"
             ]
            ]
           },
           {
            "hwMeta": {
             "name": "r_empty"
            },
            "id": "508",
            "sources": [
             [
              "23",
              "188"
             ]
            ],
            "targets": [
             [
              "42",
              "254"
             ],
             [
              "64",
              "314"
             ]
            ]
           },
           {
            "hwMeta": {
             "name": "w_gray_out_reg1_next"
            },
            "id": "509",
            "source": "23",
            "sourcePort": "190",
            "target": "23",
            "targetPort": "192"
           },
           {
            "hwMeta": {
             "name": "w_gray_out_reg1"
            },
            "id": "510",
            "source": "23",
            "sourcePort": "191",
            "target": "73",
            "targetPort": "339"
           },
           {
            "hwMeta": {
             "name": "Concat(Bits(1, force_vector=True).from_py(0), sig_0) ^ r_bin_next"
            },
            "id": "511",
            "sources": [
             [
              "65",
              "317"
             ]
            ],
            "targets": [
             [
              "23",
              "194"
             ],
             [
              "73",
              "340"
             ]
            ]
           },
           {
            "hwMeta": {
             "name": "r_empty_next"
            },
            "id": "512",
            "source": "73",
            "sourcePort": "338",
            "target": "23",
            "targetPort": "195"
           },
           {
            "hwMeta": {
             "name": "sig_0"
            },
            "id": "513",
            "sources": [
             [
              "42",
              "250"
             ]
            ],
            "targets": [
             [
              "65",
              "318"
             ],
             [
              "23",
              "196"
             ],
             [
              "76",
              "347"
             ]
            ]
           },
           {
            "hwMeta": {
             "name": "dataOut_rst_n"
            },
            "id": "514",
            "source": "63",
            "sourcePort": "310",
            "target": "23",
            "targetPort": "197"
           },
           {
            "hwMeta": {
             "name": "dataOut_clk"
            },
            "id": "515",
            "sources": [
             [
              "60",
              "301"
             ]
            ],
            "targets": [
             [
              "23",
              "198"
             ],
             [
              "39",
              "244"
             ]
            ]
           },
           {
            "hwMeta": {
             "name": "r_reg"
            },
            "id": "516",
            "sources": [
             [
              "39",
              "242"
             ]
            ],
            "targets": [
             [
              "42",
              "253"
             ],
             [
              "64",
              "313"
             ]
            ]
           },
           {
            "hwMeta": {
             "name": "r_reg_next"
            },
            "id": "517",
            "source": "42",
            "sourcePort": "251",
            "target": "39",
            "targetPort": "243"
           },
           {
            "hwMeta": {
             "name": "memory[sig_5]"
            },
            "id": "518",
            "source": "74",
            "sourcePort": "341",
            "target": "42",
            "targetPort": "252"
           },
           {
            "hwMeta": {
             "name": "dataOut_en"
            },
            "id": "519",
            "source": "64",
            "sourcePort": "315",
            "target": "42",
            "targetPort": "256"
           },
           {
            "hwMeta": {
             "name": "<Clk, name=dataIn_clk, _masterDir=DIRECTION.OUT>"
            },
            "id": "520",
            "source": "1",
            "sourcePort": "112",
            "target": "59",
            "targetPort": "300"
           },
           {
            "hwMeta": {
             "name": "<Clk, name=dataOut_clk, _masterDir=DIRECTION.OUT>"
            },
            "id": "521",
            "source": "1",
            "sourcePort": "111",
            "target": "60",
            "targetPort": "302"
           },
           {
            "hwMeta": {
             "name": "<Rst_n, name=dataIn_rst_n, _masterDir=DIRECTION.OUT>"
            },
            "id": "522",
            "source": "1",
            "sourcePort": "110",
            "target": "61",
            "targetPort": "304"
           },
           {
            "hwMeta": {
             "name": "<FifoWriter, name=dataIn, _masterDir=DIRECTION.OUT>"
            },
            "id": "523",
            "source": "1",
            "sourcePort": "109",
            "target": "62",
            "targetPort": "309"
           },
           {
            "hwMeta": {
             "name": "<Rst_n, name=dataOut_rst_n, _masterDir=DIRECTION.OUT>"
            },
            "id": "524",
            "source": "1",
            "sourcePort": "106",
            "target": "63",
            "targetPort": "311"
           },
           {
            "hwMeta": {
             "name": "<FifoReader, name=dataOut, _masterDir=DIRECTION.OUT>"
            },
            "id": "525",
            "source": "64",
            "sourcePort": "312",
            "target": "1",
            "targetPort": "103"
           },
           {
            "hwMeta": {
             "name": "Concat(Bits(1, force_vector=True).from_py(0), sig_0)"
            },
            "id": "526",
            "source": "66",
            "sourcePort": "320",
            "target": "65",
            "targetPort": "319"
           },
           {
            "hwMeta": {
             "name": "(r_bin_next[4:1], sig_0)"
            },
            "id": "527",
            "source": "76",
            "sourcePort": "346",
            "target": "66",
            "targetPort": "321"
           },
           {
            "hwMeta": {
             "name": "<BitsVal 0>"
            },
            "id": "528",
            "sources": [
             [
              "67",
              "323"
             ]
            ],
            "targets": [
             [
              "66",
              "322"
             ],
             [
              "69",
              "329"
             ]
            ]
           },
           {
            "hwMeta": {
             "name": "Concat(Bits(1, force_vector=True).from_py(0), sig_1)"
            },
            "id": "529",
            "source": "69",
            "sourcePort": "327",
            "target": "68",
            "targetPort": "326"
           },
           {
            "hwMeta": {
             "name": "(w_bin_next[4:1], sig_1)"
            },
            "id": "530",
            "source": "79",
            "sourcePort": "353",
            "target": "69",
            "targetPort": "328"
           },
           {
            "hwMeta": {
             "name": "Concat(~sig_2, sig_3)"
            },
            "id": "531",
            "source": "71",
            "sourcePort": "333",
            "target": "70",
            "targetPort": "331"
           },
           {
            "hwMeta": {
             "name": "(r_gray_out_reg1[2:0], sig_3)"
            },
            "id": "532",
            "source": "77",
            "sourcePort": "348",
            "target": "71",
            "targetPort": "334"
           },
           {
            "hwMeta": {
             "name": "~sig_2"
            },
            "id": "533",
            "source": "72",
            "sourcePort": "336",
            "target": "71",
            "targetPort": "335"
           },
           {
            "hwMeta": {
             "name": "(r_gray_out_reg1[4:2], sig_2)"
            },
            "id": "534",
            "source": "77",
            "sourcePort": "349",
            "target": "72",
            "targetPort": "337"
           },
           {
            "hwMeta": {
             "name": "(r_bin[3:0], sig_5)"
            },
            "id": "535",
            "source": "75",
            "sourcePort": "344",
            "target": "74",
            "targetPort": "342"
           }
          ],
          "hwMeta": {
           "cls": "Unit",
           "maxId": 535,
           "name": "fifo"
          },
          "id": "1",
          "ports": [
           {
            "direction": "OUTPUT",
            "hwMeta": {
             "level": 0,
             "name": "dataOut"
            },
            "id": "103",
            "properties": {
             "index": 0,
             "side": "EAST"
            }
           },
           {
            "direction": "INPUT",
            "hwMeta": {
             "level": 1,
             "name": "en"
            },
            "id": "104",
            "properties": {
             "index": 1,
             "side": "EAST"
            }
           },
           {
            "direction": "OUTPUT",
            "hwMeta": {
             "level": 1,
             "name": "wait"
            },
            "id": "105",
            "properties": {
             "index": 2,
             "side": "EAST"
            }
           },
           {
            "direction": "INPUT",
            "hwMeta": {
             "level": 0,
             "name": "dataOut_rst_n"
            },
            "id": "106",
            "properties": {
             "index": 3,
             "side": "WEST"
            }
           },
           {
            "direction": "OUTPUT",
            "hwMeta": {
             "level": 1,
             "name": "wait"
            },
            "id": "107",
            "properties": {
             "index": 4,
             "side": "WEST"
            }
           },
           {
            "direction": "INPUT",
            "hwMeta": {
             "level": 1,
             "name": "en"
            },
            "id": "108",
            "properties": {
             "index": 5,
             "side": "WEST"
            }
           },
           {
            "direction": "INPUT",
            "hwMeta": {
             "level": 0,
             "name": "dataIn"
            },
            "id": "109",
            "properties": {
             "index": 6,
             "side": "WEST"
            }
           },
           {
            "direction": "INPUT",
            "hwMeta": {
             "level": 0,
             "name": "dataIn_rst_n"
            },
            "id": "110",
            "properties": {
             "index": 7,
             "side": "WEST"
            }
           },
           {
            "direction": "INPUT",
            "hwMeta": {
             "level": 0,
             "name": "dataOut_clk"
            },
            "id": "111",
            "properties": {
             "index": 8,
             "side": "WEST"
            }
           },
           {
            "direction": "INPUT",
            "hwMeta": {
             "level": 0,
             "name": "dataIn_clk"
            },
            "id": "112",
            "properties": {
             "index": 9,
             "side": "WEST"
            }
           }
          ],
          "properties": {
           "org.eclipse.elk.layered.mergeEdges": 1,
           "org.eclipse.elk.portConstraints": "FIXED_ORDER",
           "org.eclipse.elk.randomSeed": 0
          }
         },
         {
          "hwMeta": {
           "cls": "Operator",
           "maxId": 550,
           "name": "OR"
          },
          "id": "100",
          "ports": [
           {
            "direction": "OUTPUT",
            "hwMeta": {
             "level": 0,
             "name": null
            },
            "id": "405",
            "properties": {
             "index": 0,
             "side": "EAST"
            }
           },
           {
            "direction": "INPUT",
            "hwMeta": {
             "level": 0,
             "name": null
            },
            "id": "406",
            "properties": {
             "index": 1,
             "side": "WEST"
            }
           },
           {
            "direction": "INPUT",
            "hwMeta": {
             "level": 0,
             "name": null
            },
            "id": "407",
            "properties": {
             "index": 2,
             "side": "WEST"
            }
           }
          ],
          "properties": {
           "org.eclipse.elk.layered.mergeEdges": 1,
           "org.eclipse.elk.portConstraints": "FIXED_ORDER",
           "org.eclipse.elk.randomSeed": 0
          }
         },
         {
          "hwMeta": {
           "cls": "Operator",
           "maxId": 550,
           "name": "NOT"
          },
          "id": "101",
          "ports": [
           {
            "direction": "OUTPUT",
            "hwMeta": {
             "level": 0,
             "name": null
            },
            "id": "408",
            "properties": {
             "index": 0,
             "side": "EAST"
            }
           },
           {
            "direction": "INPUT",
            "hwMeta": {
             "level": 0,
             "name": null
            },
            "id": "409",
            "properties": {
             "index": 1,
             "side": "WEST"
            }
           }
          ],
          "properties": {
           "org.eclipse.elk.layered.mergeEdges": 1,
           "org.eclipse.elk.portConstraints": "FIXED_ORDER",
           "org.eclipse.elk.randomSeed": 0
          }
         },
         {
          "hwMeta": {
           "cls": "Operator",
           "maxId": 550,
           "name": "NOT"
          },
          "id": "102",
          "ports": [
           {
            "direction": "OUTPUT",
            "hwMeta": {
             "level": 0,
             "name": null
            },
            "id": "410",
            "properties": {
             "index": 0,
             "side": "EAST"
            }
           },
           {
            "direction": "INPUT",
            "hwMeta": {
             "level": 0,
             "name": null
            },
            "id": "411",
            "properties": {
             "index": 1,
             "side": "WEST"
            }
           }
          ],
          "properties": {
           "org.eclipse.elk.layered.mergeEdges": 1,
           "org.eclipse.elk.portConstraints": "FIXED_ORDER",
           "org.eclipse.elk.randomSeed": 0
          }
         },
         {
          "_children": [
           {
            "hwMeta": {
             "cls": "Operator",
             "maxId": 535,
             "name": "MUX"
            },
            "id": "81",
            "ports": [
             {
              "direction": "OUTPUT",
              "hwMeta": {
               "level": 0,
               "name": ""
              },
              "id": "359",
              "properties": {
               "index": 0,
               "side": "EAST"
              }
             },
             {
              "direction": "INPUT",
              "hwMeta": {
               "level": 0,
               "name": ""
              },
              "id": "360",
              "properties": {
               "index": 1,
               "side": "SOUTH"
              }
             },
             {
              "direction": "INPUT",
              "hwMeta": {
               "level": 0,
               "name": ""
              },
              "id": "361",
              "properties": {
               "index": 2,
               "side": "WEST"
              }
             },
             {
              "direction": "INPUT",
              "hwMeta": {
               "level": 0,
               "name": ""
              },
              "id": "362",
              "properties": {
               "index": 3,
               "side": "WEST"
              }
             }
            ],
            "properties": {
             "org.eclipse.elk.layered.mergeEdges": 1,
             "org.eclipse.elk.portConstraints": "FIXED_ORDER",
             "org.eclipse.elk.randomSeed": 0
            }
           },
           {
            "hwMeta": {
             "cls": "Operator",
             "maxId": 535,
             "name": "EQ"
            },
            "id": "82",
            "ports": [
             {
              "direction": "OUTPUT",
              "hwMeta": {
               "level": 0,
               "name": null
              },
              "id": "363",
              "properties": {
               "index": 0,
               "side": "EAST"
              }
             },
             {
              "direction": "INPUT",
              "hwMeta": {
               "level": 0,
               "name": null
              },
              "id": "364",
              "properties": {
               "index": 1,
               "side": "WEST"
              }
             },
             {
              "direction": "INPUT",
              "hwMeta": {
               "level": 0,
               "name": null
              },
              "id": "365",
              "properties": {
               "index": 2,
               "side": "WEST"
              }
             }
            ],
            "properties": {
             "org.eclipse.elk.layered.mergeEdges": 1,
             "org.eclipse.elk.portConstraints": "FIXED_ORDER",
             "org.eclipse.elk.randomSeed": 0
            }
           },
           {
            "hwMeta": {
             "bodyText": "0",
             "cls": "Operator",
             "maxId": 535,
             "name": null
            },
            "id": "83",
            "ports": [
             {
              "direction": "OUTPUT",
              "hwMeta": {
               "level": 0,
               "name": null
              },
              "id": "366",
              "properties": {
               "side": "EAST"
              }
             }
            ],
            "properties": {
             "org.eclipse.elk.layered.mergeEdges": 1,
             "org.eclipse.elk.portConstraints": "FREE",
             "org.eclipse.elk.randomSeed": 0
            }
           },
           {
            "hwMeta": {
             "cls": "Operator",
             "maxId": 535,
             "name": "FF"
            },
            "id": "84",
            "ports": [
             {
              "direction": "OUTPUT",
              "hwMeta": {
               "level": 0,
               "name": "o"
              },
              "id": "367",
              "properties": {
               "index": 0,
               "side": "EAST"
              }
             },
             {
              "direction": "INPUT",
              "hwMeta": {
               "level": 0,
               "name": "i"
              },
              "id": "368",
              "properties": {
               "index": 1,
               "side": "WEST"
              }
             },
             {
              "direction": "INPUT",
              "hwMeta": {
               "level": 0,
               "name": "clk"
              },
              "id": "369",
              "properties": {
               "index": 2,
               "side": "WEST"
              }
             }
            ],
            "properties": {
             "org.eclipse.elk.layered.mergeEdges": 1,
             "org.eclipse.elk.portConstraints": "FIXED_ORDER",
             "org.eclipse.elk.randomSeed": 0
            }
           },
           {
            "hwMeta": {
             "cls": "Operator",
             "maxId": 535,
             "name": "RISING_EDGE"
            },
            "id": "85",
            "ports": [
             {
              "direction": "OUTPUT",
              "hwMeta": {
               "level": 0,
               "name": null
              },
              "id": "370",
              "properties": {
               "index": 0,
               "side": "EAST"
              }
             },
             {
              "direction": "INPUT",
              "hwMeta": {
               "level": 0,
               "name": null
              },
              "id": "371",
              "properties": {
               "index": 1,
               "side": "WEST"
              }
             }
            ],
            "properties": {
             "org.eclipse.elk.layered.mergeEdges": 1,
             "org.eclipse.elk.portConstraints": "FIXED_ORDER",
             "org.eclipse.elk.randomSeed": 0
            }
           }
          ],
          "_edges": [
           {
            "hwMeta": {
             "name": null
            },
            "id": "536",
            "source": "81",
            "sourcePort": "359",
            "target": "84",
            "targetPort": "368"
           },
           {
            "hwMeta": {
             "name": "dataOut_rst_n._eq(0)"
            },
            "id": "537",
            "source": "82",
            "sourcePort": "363",
            "target": "81",
            "targetPort": "360"
           },
           {
            "hwMeta": {
             "name": "out_vld_next"
            },
            "id": "538",
            "source": "80",
            "sourcePort": "356",
            "target": "81",
            "targetPort": "361"
           },
           {
            "hwMeta": {
             "name": "<BitsVal 0>"
            },
            "id": "539",
            "sources": [
             [
              "83",
              "366"
             ]
            ],
            "targets": [
             [
              "82",
              "364"
             ],
             [
              "81",
              "362"
             ]
            ]
           },
           {
            "hwMeta": {
             "name": "dataOut_rst_n"
            },
            "id": "540",
            "source": "80",
            "sourcePort": "357",
            "target": "82",
            "targetPort": "365"
           },
           {
            "hwMeta": {
             "name": "out_vld"
            },
            "id": "541",
            "source": "84",
            "sourcePort": "367",
            "target": "80",
            "targetPort": "355"
           },
           {
            "hwMeta": {
             "name": "dataOut_clk._onRisingEdge()"
            },
            "id": "542",
            "source": "85",
            "sourcePort": "370",
            "target": "84",
            "targetPort": "369"
           },
           {
            "hwMeta": {
             "name": "dataOut_clk"
            },
            "id": "543",
            "source": "80",
            "sourcePort": "358",
            "target": "85",
            "targetPort": "371"
           }
          ],
          "hwMeta": {
           "bodyText": "If(dataOut_clk._onRisingEdge(),\n    If(dataOut_rst_n._eq(0),\n        out_vld(0)\n    ).Else(\n        out_vld(out_vld_next)\n    )\n)",
           "cls": "Process",
           "maxId": 543,
           "name": null
          },
          "id": "80",
          "ports": [
           {
            "direction": "OUTPUT",
            "hwMeta": {
             "level": 0,
             "name": "out_vld"
            },
            "id": "355",
            "properties": {
             "index": 0,
             "side": "EAST"
            }
           },
           {
            "direction": "INPUT",
            "hwMeta": {
             "level": 0,
             "name": "out_vld_next"
            },
            "id": "356",
            "properties": {
             "index": 1,
             "side": "WEST"
            }
           },
           {
            "direction": "INPUT",
            "hwMeta": {
             "level": 0,
             "name": "dataOut_rst_n"
            },
            "id": "357",
            "properties": {
             "index": 2,
             "side": "WEST"
            }
           },
           {
            "direction": "INPUT",
            "hwMeta": {
             "level": 0,
             "name": "dataOut_clk"
            },
            "id": "358",
            "properties": {
             "index": 3,
             "side": "WEST"
            }
           }
          ],
          "properties": {
           "org.eclipse.elk.layered.mergeEdges": 1,
           "org.eclipse.elk.portConstraints": "FIXED_ORDER",
           "org.eclipse.elk.randomSeed": 0
          }
         },
         {
          "_children": [
           {
            "hwMeta": {
             "cls": "Operator",
             "maxId": 543,
             "name": "NOT"
            },
            "id": "87",
            "ports": [
             {
              "direction": "OUTPUT",
              "hwMeta": {
               "level": 0,
               "name": null
              },
              "id": "376",
              "properties": {
               "index": 0,
               "side": "EAST"
              }
             },
             {
              "direction": "INPUT",
              "hwMeta": {
               "level": 0,
               "name": null
              },
              "id": "377",
              "properties": {
               "index": 1,
               "side": "WEST"
              }
             }
            ],
            "properties": {
             "org.eclipse.elk.layered.mergeEdges": 1,
             "org.eclipse.elk.portConstraints": "FIXED_ORDER",
             "org.eclipse.elk.randomSeed": 0
            }
           },
           {
            "hwMeta": {
             "cls": "Operator",
             "maxId": 543,
             "name": "MUX"
            },
            "id": "88",
            "ports": [
             {
              "direction": "OUTPUT",
              "hwMeta": {
               "level": 0,
               "name": ""
              },
              "id": "378",
              "properties": {
               "index": 0,
               "side": "EAST"
              }
             },
             {
              "direction": "INPUT",
              "hwMeta": {
               "level": 0,
               "name": ""
              },
              "id": "379",
              "properties": {
               "index": 1,
               "side": "SOUTH"
              }
             },
             {
              "direction": "INPUT",
              "hwMeta": {
               "level": 0,
               "name": ""
              },
              "id": "380",
              "properties": {
               "index": 2,
               "side": "WEST"
              }
             },
             {
              "direction": "INPUT",
              "hwMeta": {
               "level": 0,
               "name": ""
              },
              "id": "381",
              "properties": {
               "index": 3,
               "side": "WEST"
              }
             }
            ],
            "properties": {
             "org.eclipse.elk.layered.mergeEdges": 1,
             "org.eclipse.elk.portConstraints": "FIXED_ORDER",
             "org.eclipse.elk.randomSeed": 0
            }
           },
           {
            "hwMeta": {
             "cls": "Operator",
             "maxId": 543,
             "name": "OR"
            },
            "id": "89",
            "ports": [
             {
              "direction": "OUTPUT",
              "hwMeta": {
               "level": 0,
               "name": null
              },
              "id": "382",
              "properties": {
               "index": 0,
               "side": "EAST"
              }
             },
             {
              "direction": "INPUT",
              "hwMeta": {
               "level": 0,
               "name": null
              },
              "id": "383",
              "properties": {
               "index": 1,
               "side": "WEST"
              }
             },
             {
              "direction": "INPUT",
              "hwMeta": {
               "level": 0,
               "name": null
              },
              "id": "384",
              "properties": {
               "index": 2,
               "side": "WEST"
              }
             }
            ],
            "properties": {
             "org.eclipse.elk.layered.mergeEdges": 1,
             "org.eclipse.elk.portConstraints": "FIXED_ORDER",
             "org.eclipse.elk.randomSeed": 0
            }
           },
           {
            "hwMeta": {
             "cls": "Operator",
             "maxId": 543,
             "name": "NOT"
            },
            "id": "90",
            "ports": [
             {
              "direction": "OUTPUT",
              "hwMeta": {
               "level": 0,
               "name": null
              },
              "id": "385",
              "properties": {
               "index": 0,
               "side": "EAST"
              }
             },
             {
              "direction": "INPUT",
              "hwMeta": {
               "level": 0,
               "name": null
              },
              "id": "386",
              "properties": {
               "index": 1,
               "side": "WEST"
              }
             }
            ],
            "properties": {
             "org.eclipse.elk.layered.mergeEdges": 1,
             "org.eclipse.elk.portConstraints": "FIXED_ORDER",
             "org.eclipse.elk.randomSeed": 0
            }
           }
          ],
          "_edges": [
           {
            "hwMeta": {
             "name": "~sig_fifo_dataOut_wait"
            },
            "id": "544",
            "source": "87",
            "sourcePort": "376",
            "target": "88",
            "targetPort": "381"
           },
           {
            "hwMeta": {
             "name": "sig_fifo_dataOut_wait"
            },
            "id": "545",
            "source": "86",
            "sourcePort": "373",
            "target": "87",
            "targetPort": "377"
           },
           {
            "hwMeta": {
             "name": "out_vld_next"
            },
            "id": "546",
            "source": "88",
            "sourcePort": "378",
            "target": "86",
            "targetPort": "372"
           },
           {
            "hwMeta": {
             "name": "dataOut_rd | ~out_vld"
            },
            "id": "547",
            "source": "89",
            "sourcePort": "382",
            "target": "88",
            "targetPort": "379"
           },
           {
            "hwMeta": {
             "name": "out_vld"
            },
            "id": "548",
            "sources": [
             [
              "86",
              "374"
             ]
            ],
            "targets": [
             [
              "90",
              "386"
             ],
             [
              "88",
              "380"
             ]
            ]
           },
           {
            "hwMeta": {
             "name": "~out_vld"
            },
            "id": "549",
            "source": "90",
            "sourcePort": "385",
            "target": "89",
            "targetPort": "383"
           },
           {
            "hwMeta": {
             "name": "dataOut_rd"
            },
            "id": "550",
            "source": "86",
            "sourcePort": "375",
            "target": "89",
            "targetPort": "384"
           }
          ],
          "hwMeta": {
           "bodyText": "If((dataOut_rd | ~out_vld)._eq(1),\n    out_vld_next(~sig_fifo_dataOut_wait)\n).Else(\n    out_vld_next(out_vld)\n)",
           "cls": "Process",
           "maxId": 550,
           "name": null
          },
          "id": "86",
          "ports": [
           {
            "direction": "OUTPUT",
            "hwMeta": {
             "level": 0,
             "name": "out_vld_next"
            },
            "id": "372",
            "properties": {
             "index": 0,
             "side": "EAST"
            }
           },
           {
            "direction": "INPUT",
            "hwMeta": {
             "level": 0,
             "name": "sig_fifo_dataOut_wait"
            },
            "id": "373",
            "properties": {
             "index": 1,
             "side": "WEST"
            }
           },
           {
            "direction": "INPUT",
            "hwMeta": {
             "level": 0,
             "name": "out_vld"
            },
            "id": "374",
            "properties": {
             "index": 2,
             "side": "WEST"
            }
           },
           {
            "direction": "INPUT",
            "hwMeta": {
             "level": 0,
             "name": "dataOut_rd"
            },
            "id": "375",
            "properties": {
             "index": 3,
             "side": "WEST"
            }
           }
          ],
          "properties": {
           "org.eclipse.elk.layered.mergeEdges": 1,
           "org.eclipse.elk.portConstraints": "FIXED_ORDER",
           "org.eclipse.elk.randomSeed": 0
          }
         },
         {
          "hwMeta": {
           "cls": null,
           "isExternalPort": true,
           "maxId": 550,
           "name": "dataIn_clk"
          },
          "id": "91",
          "ports": [
           {
            "direction": "OUTPUT",
            "hwMeta": {
             "level": 0,
             "name": "dataIn_clk"
            },
            "id": "387",
            "properties": {
             "index": 0,
             "side": "EAST"
            }
           }
          ],
          "properties": {
           "org.eclipse.elk.layered.mergeEdges": 1,
           "org.eclipse.elk.portConstraints": "FIXED_ORDER",
           "org.eclipse.elk.randomSeed": 0
          }
         },
         {
          "hwMeta": {
           "cls": null,
           "isExternalPort": true,
           "maxId": 550,
           "name": "dataOut_clk"
          },
          "id": "92",
          "ports": [
           {
            "direction": "OUTPUT",
            "hwMeta": {
             "level": 0,
             "name": "dataOut_clk"
            },
            "id": "388",
            "properties": {
             "index": 0,
             "side": "EAST"
            }
           }
          ],
          "properties": {
           "org.eclipse.elk.layered.mergeEdges": 1,
           "org.eclipse.elk.portConstraints": "FIXED_ORDER",
           "org.eclipse.elk.randomSeed": 0
          }
         },
         {
          "hwMeta": {
           "cls": null,
           "isExternalPort": true,
           "maxId": 550,
           "name": "dataIn_rst_n"
          },
          "id": "93",
          "ports": [
           {
            "direction": "OUTPUT",
            "hwMeta": {
             "level": 0,
             "name": "dataIn_rst_n"
            },
            "id": "389",
            "properties": {
             "index": 0,
             "side": "EAST"
            }
           }
          ],
          "properties": {
           "org.eclipse.elk.layered.mergeEdges": 1,
           "org.eclipse.elk.portConstraints": "FIXED_ORDER",
           "org.eclipse.elk.randomSeed": 0
          }
         },
         {
          "hwMeta": {
           "cls": null,
           "isExternalPort": true,
           "maxId": 550,
           "name": "dataIn"
          },
          "id": "94",
          "ports": [
           {
            "direction": "OUTPUT",
            "hwMeta": {
             "level": 0,
             "name": "dataIn"
            },
            "id": "390",
            "properties": {
             "index": 0,
             "side": "EAST"
            }
           },
           {
            "direction": "OUTPUT",
            "hwMeta": {
             "level": 1,
             "name": "vld"
            },
            "id": "391",
            "properties": {
             "index": 1,
             "side": "EAST"
            }
           },
           {
            "direction": "INPUT",
            "hwMeta": {
             "level": 1,
             "name": "rd"
            },
            "id": "392",
            "properties": {
             "index": 2,
             "side": "EAST"
            }
           }
          ],
          "properties": {
           "org.eclipse.elk.layered.mergeEdges": 1,
           "org.eclipse.elk.portConstraints": "FIXED_ORDER",
           "org.eclipse.elk.randomSeed": 0
          }
         },
         {
          "hwMeta": {
           "cls": null,
           "isExternalPort": true,
           "maxId": 550,
           "name": "dataOut_rst_n"
          },
          "id": "95",
          "ports": [
           {
            "direction": "OUTPUT",
            "hwMeta": {
             "level": 0,
             "name": "dataOut_rst_n"
            },
            "id": "393",
            "properties": {
             "index": 0,
             "side": "EAST"
            }
           }
          ],
          "properties": {
           "org.eclipse.elk.layered.mergeEdges": 1,
           "org.eclipse.elk.portConstraints": "FIXED_ORDER",
           "org.eclipse.elk.randomSeed": 0
          }
         },
         {
          "hwMeta": {
           "cls": null,
           "isExternalPort": true,
           "maxId": 550,
           "name": "dataOut"
          },
          "id": "96",
          "ports": [
           {
            "direction": "OUTPUT",
            "hwMeta": {
             "level": 1,
             "name": "rd"
            },
            "id": "394",
            "properties": {
             "index": 0,
             "side": "WEST"
            }
           },
           {
            "direction": "INPUT",
            "hwMeta": {
             "level": 1,
             "name": "vld"
            },
            "id": "395",
            "properties": {
             "index": 1,
             "side": "WEST"
            }
           },
           {
            "direction": "INPUT",
            "hwMeta": {
             "level": 0,
             "name": "dataOut"
            },
            "id": "396",
            "properties": {
             "index": 2,
             "side": "WEST"
            }
           }
          ],
          "properties": {
           "org.eclipse.elk.layered.mergeEdges": 1,
           "org.eclipse.elk.portConstraints": "FIXED_ORDER",
           "org.eclipse.elk.randomSeed": 0
          }
         },
         {
          "hwMeta": {
           "cls": "Operator",
           "maxId": 550,
           "name": "NOT"
          },
          "id": "97",
          "ports": [
           {
            "direction": "OUTPUT",
            "hwMeta": {
             "level": 0,
             "name": null
            },
            "id": "397",
            "properties": {
             "index": 0,
             "side": "EAST"
            }
           },
           {
            "direction": "INPUT",
            "hwMeta": {
             "level": 0,
             "name": null
            },
            "id": "398",
            "properties": {
             "index": 1,
             "side": "WEST"
            }
           }
          ],
          "properties": {
           "org.eclipse.elk.layered.mergeEdges": 1,
           "org.eclipse.elk.portConstraints": "FIXED_ORDER",
           "org.eclipse.elk.randomSeed": 0
          }
         },
         {
          "hwMeta": {
           "cls": "Operator",
           "maxId": 550,
           "name": "AND"
          },
          "id": "98",
          "ports": [
           {
            "direction": "OUTPUT",
            "hwMeta": {
             "level": 0,
             "name": null
            },
            "id": "399",
            "properties": {
             "index": 0,
             "side": "EAST"
            }
           },
           {
            "direction": "INPUT",
            "hwMeta": {
             "level": 0,
             "name": null
            },
            "id": "400",
            "properties": {
             "index": 1,
             "side": "WEST"
            }
           },
           {
            "direction": "INPUT",
            "hwMeta": {
             "level": 0,
             "name": null
            },
            "id": "401",
            "properties": {
             "index": 2,
             "side": "WEST"
            }
           }
          ],
          "properties": {
           "org.eclipse.elk.layered.mergeEdges": 1,
           "org.eclipse.elk.portConstraints": "FIXED_ORDER",
           "org.eclipse.elk.randomSeed": 0
          }
         },
         {
          "hwMeta": {
           "cls": "Operator",
           "maxId": 550,
           "name": "AND"
          },
          "id": "99",
          "ports": [
           {
            "direction": "OUTPUT",
            "hwMeta": {
             "level": 0,
             "name": null
            },
            "id": "402",
            "properties": {
             "index": 0,
             "side": "EAST"
            }
           },
           {
            "direction": "INPUT",
            "hwMeta": {
             "level": 0,
             "name": null
            },
            "id": "403",
            "properties": {
             "index": 1,
             "side": "WEST"
            }
           },
           {
            "direction": "INPUT",
            "hwMeta": {
             "level": 0,
             "name": null
            },
            "id": "404",
            "properties": {
             "index": 2,
             "side": "WEST"
            }
           }
          ],
          "properties": {
           "org.eclipse.elk.layered.mergeEdges": 1,
           "org.eclipse.elk.portConstraints": "FIXED_ORDER",
           "org.eclipse.elk.randomSeed": 0
          }
         }
        ],
        "edges": [
         {
          "hwMeta": {
           "name": null
          },
          "id": "551",
          "source": "1",
          "sourcePort": "103",
          "target": "96",
          "targetPort": "396"
         },
         {
          "hwMeta": {
           "name": "(dataOut_rd | ~out_vld) & ~sig_fifo_dataOut_wait"
          },
          "id": "552",
          "source": "99",
          "sourcePort": "402",
          "target": "1",
          "targetPort": "104"
         },
         {
          "hwMeta": {
           "name": "sig_fifo_dataOut_wait"
          },
          "id": "553",
          "sources": [
           [
            "1",
            "105"
           ]
          ],
          "targets": [
           [
            "102",
            "411"
           ],
           [
            "86",
            "373"
           ]
          ]
         },
         {
          "hwMeta": {
           "name": "sig_fifo_dataOut_rst_n"
          },
          "id": "554",
          "sources": [
           [
            "95",
            "393"
           ]
          ],
          "targets": [
           [
            "80",
            "357"
           ],
           [
            "1",
            "106"
           ]
          ]
         },
         {
          "hwMeta": {
           "name": "sig_fifo_dataIn_wait"
          },
          "id": "555",
          "source": "1",
          "sourcePort": "107",
          "target": "97",
          "targetPort": "398"
         },
         {
          "hwMeta": {
           "name": "dataIn_vld & ~sig_fifo_dataIn_wait"
          },
          "id": "556",
          "source": "98",
          "sourcePort": "399",
          "target": "1",
          "targetPort": "108"
         },
         {
          "hwMeta": {
           "name": null
          },
          "id": "557",
          "source": "94",
          "sourcePort": "390",
          "target": "1",
          "targetPort": "109"
         },
         {
          "hwMeta": {
           "name": "sig_fifo_dataIn_rst_n"
          },
          "id": "558",
          "source": "93",
          "sourcePort": "389",
          "target": "1",
          "targetPort": "110"
         },
         {
          "hwMeta": {
           "name": "sig_fifo_dataOut_clk"
          },
          "id": "559",
          "sources": [
           [
            "92",
            "388"
           ]
          ],
          "targets": [
           [
            "80",
            "358"
           ],
           [
            "1",
            "111"
           ]
          ]
         },
         {
          "hwMeta": {
           "name": "sig_fifo_dataIn_clk"
          },
          "id": "560",
          "source": "91",
          "sourcePort": "387",
          "target": "1",
          "targetPort": "112"
         },
         {
          "hwMeta": {
           "name": "out_vld"
          },
          "id": "561",
          "sources": [
           [
            "80",
            "355"
           ]
          ],
          "targets": [
           [
            "101",
            "409"
           ],
           [
            "86",
            "374"
           ],
           [
            "96",
            "395"
           ]
          ]
         },
         {
          "hwMeta": {
           "name": "out_vld_next"
          },
          "id": "562",
          "source": "86",
          "sourcePort": "372",
          "target": "80",
          "targetPort": "356"
         },
         {
          "hwMeta": {
           "name": "dataOut_rd"
          },
          "id": "563",
          "sources": [
           [
            "96",
            "394"
           ]
          ],
          "targets": [
           [
            "100",
            "407"
           ],
           [
            "86",
            "375"
           ]
          ]
         },
         {
          "hwMeta": {
           "name": "dataIn_vld"
          },
          "id": "564",
          "source": "94",
          "sourcePort": "391",
          "target": "98",
          "targetPort": "401"
         },
         {
          "hwMeta": {
           "name": "~sig_fifo_dataIn_wait"
          },
          "id": "565",
          "sources": [
           [
            "97",
            "397"
           ]
          ],
          "targets": [
           [
            "98",
            "400"
           ],
           [
            "94",
            "392"
           ]
          ]
         },
         {
          "hwMeta": {
           "name": "~sig_fifo_dataOut_wait"
          },
          "id": "566",
          "source": "102",
          "sourcePort": "410",
          "target": "99",
          "targetPort": "403"
         },
         {
          "hwMeta": {
           "name": "dataOut_rd | ~out_vld"
          },
          "id": "567",
          "source": "100",
          "sourcePort": "405",
          "target": "99",
          "targetPort": "404"
         },
         {
          "hwMeta": {
           "name": "~out_vld"
          },
          "id": "568",
          "source": "101",
          "sourcePort": "408",
          "target": "100",
          "targetPort": "406"
         }
        ],
        "hwMeta": {
         "cls": null,
         "maxId": 568,
         "name": "HsFifoAsync"
        },
        "ports": [],
        "properties": {
         "org.eclipse.elk.layered.mergeEdges": 1,
         "org.eclipse.elk.portConstraints": "FIXED_ORDER",
         "org.eclipse.elk.randomSeed": 0
        }
       },
       "width": "1000px"
      }
     },
     "b0db9b7bb4ee4085bfbb4f63d2b605cc": {
      "model_module": "@jupyter-widgets/base",
      "model_module_version": "1.2.0",
      "model_name": "LayoutModel",
      "state": {}
     },
     "b7f8bb887a5e4744af3f33e1d42797a7": {
      "model_module": "jupyter_widget_hwt",
      "model_module_version": "^0.0.1",
      "model_name": "HwtSchemeModel",
      "state": {
       "_model_module_version": "^0.0.1",
       "_view_module_version": "^0.0.1",
       "height": "400px",
       "layout": "IPY_MODEL_0f423b693b404885a3041158970406f1",
       "value": {
        "children": [
         {
          "_children": [
           {
            "hwMeta": {
             "cls": "Operator",
             "maxId": 101,
             "name": "MUX"
            },
            "id": "10",
            "ports": [
             {
              "direction": "OUTPUT",
              "hwMeta": {
               "level": 0,
               "name": ""
              },
              "id": "59",
              "properties": {
               "index": 0,
               "side": "EAST"
              }
             },
             {
              "direction": "INPUT",
              "hwMeta": {
               "level": 0,
               "name": ""
              },
              "id": "60",
              "properties": {
               "index": 1,
               "side": "SOUTH"
              }
             },
             {
              "direction": "INPUT",
              "hwMeta": {
               "level": 0,
               "name": ""
              },
              "id": "61",
              "properties": {
               "index": 2,
               "side": "WEST"
              }
             },
             {
              "direction": "INPUT",
              "hwMeta": {
               "level": 0,
               "name": ""
              },
              "id": "62",
              "properties": {
               "index": 3,
               "side": "WEST"
              }
             }
            ],
            "properties": {
             "org.eclipse.elk.layered.mergeEdges": 1,
             "org.eclipse.elk.portConstraints": "FIXED_ORDER",
             "org.eclipse.elk.randomSeed": 0
            }
           },
           {
            "hwMeta": {
             "cls": "Operator",
             "maxId": 101,
             "name": "FF"
            },
            "id": "11",
            "ports": [
             {
              "direction": "OUTPUT",
              "hwMeta": {
               "level": 0,
               "name": "o"
              },
              "id": "63",
              "properties": {
               "index": 0,
               "side": "EAST"
              }
             },
             {
              "direction": "INPUT",
              "hwMeta": {
               "level": 0,
               "name": "i"
              },
              "id": "64",
              "properties": {
               "index": 1,
               "side": "WEST"
              }
             },
             {
              "direction": "INPUT",
              "hwMeta": {
               "level": 0,
               "name": "clk"
              },
              "id": "65",
              "properties": {
               "index": 2,
               "side": "WEST"
              }
             }
            ],
            "properties": {
             "org.eclipse.elk.layered.mergeEdges": 1,
             "org.eclipse.elk.portConstraints": "FIXED_ORDER",
             "org.eclipse.elk.randomSeed": 0
            }
           },
           {
            "hwMeta": {
             "cls": "Operator",
             "maxId": 101,
             "name": "MUX"
            },
            "id": "2",
            "ports": [
             {
              "direction": "OUTPUT",
              "hwMeta": {
               "level": 0,
               "name": ""
              },
              "id": "38",
              "properties": {
               "index": 0,
               "side": "EAST"
              }
             },
             {
              "direction": "INPUT",
              "hwMeta": {
               "level": 0,
               "name": ""
              },
              "id": "39",
              "properties": {
               "index": 1,
               "side": "SOUTH"
              }
             },
             {
              "direction": "INPUT",
              "hwMeta": {
               "level": 0,
               "name": ""
              },
              "id": "40",
              "properties": {
               "index": 2,
               "side": "WEST"
              }
             },
             {
              "direction": "INPUT",
              "hwMeta": {
               "level": 0,
               "name": ""
              },
              "id": "41",
              "properties": {
               "index": 3,
               "side": "WEST"
              }
             }
            ],
            "properties": {
             "org.eclipse.elk.layered.mergeEdges": 1,
             "org.eclipse.elk.portConstraints": "FIXED_ORDER",
             "org.eclipse.elk.randomSeed": 0
            }
           },
           {
            "hwMeta": {
             "cls": "Operator",
             "maxId": 101,
             "name": "EQ"
            },
            "id": "3",
            "ports": [
             {
              "direction": "OUTPUT",
              "hwMeta": {
               "level": 0,
               "name": null
              },
              "id": "42",
              "properties": {
               "index": 0,
               "side": "EAST"
              }
             },
             {
              "direction": "INPUT",
              "hwMeta": {
               "level": 0,
               "name": null
              },
              "id": "43",
              "properties": {
               "index": 1,
               "side": "WEST"
              }
             },
             {
              "direction": "INPUT",
              "hwMeta": {
               "level": 0,
               "name": null
              },
              "id": "44",
              "properties": {
               "index": 2,
               "side": "WEST"
              }
             }
            ],
            "properties": {
             "org.eclipse.elk.layered.mergeEdges": 1,
             "org.eclipse.elk.portConstraints": "FIXED_ORDER",
             "org.eclipse.elk.randomSeed": 0
            }
           },
           {
            "hwMeta": {
             "bodyText": "0",
             "cls": "Operator",
             "maxId": 101,
             "name": null
            },
            "id": "4",
            "ports": [
             {
              "direction": "OUTPUT",
              "hwMeta": {
               "level": 0,
               "name": null
              },
              "id": "45",
              "properties": {
               "side": "EAST"
              }
             }
            ],
            "properties": {
             "org.eclipse.elk.layered.mergeEdges": 1,
             "org.eclipse.elk.portConstraints": "FREE",
             "org.eclipse.elk.randomSeed": 0
            }
           },
           {
            "hwMeta": {
             "bodyText": "0",
             "cls": "Operator",
             "maxId": 101,
             "name": null
            },
            "id": "5",
            "ports": [
             {
              "direction": "OUTPUT",
              "hwMeta": {
               "level": 0,
               "name": null
              },
              "id": "46",
              "properties": {
               "side": "EAST"
              }
             }
            ],
            "properties": {
             "org.eclipse.elk.layered.mergeEdges": 1,
             "org.eclipse.elk.portConstraints": "FREE",
             "org.eclipse.elk.randomSeed": 0
            }
           },
           {
            "hwMeta": {
             "cls": "Operator",
             "maxId": 101,
             "name": "FF"
            },
            "id": "6",
            "ports": [
             {
              "direction": "OUTPUT",
              "hwMeta": {
               "level": 0,
               "name": "o"
              },
              "id": "47",
              "properties": {
               "index": 0,
               "side": "EAST"
              }
             },
             {
              "direction": "INPUT",
              "hwMeta": {
               "level": 0,
               "name": "i"
              },
              "id": "48",
              "properties": {
               "index": 1,
               "side": "WEST"
              }
             },
             {
              "direction": "INPUT",
              "hwMeta": {
               "level": 0,
               "name": "clk"
              },
              "id": "49",
              "properties": {
               "index": 2,
               "side": "WEST"
              }
             }
            ],
            "properties": {
             "org.eclipse.elk.layered.mergeEdges": 1,
             "org.eclipse.elk.portConstraints": "FIXED_ORDER",
             "org.eclipse.elk.randomSeed": 0
            }
           },
           {
            "hwMeta": {
             "cls": "Operator",
             "maxId": 101,
             "name": "RISING_EDGE"
            },
            "id": "7",
            "ports": [
             {
              "direction": "OUTPUT",
              "hwMeta": {
               "level": 0,
               "name": null
              },
              "id": "50",
              "properties": {
               "index": 0,
               "side": "EAST"
              }
             },
             {
              "direction": "INPUT",
              "hwMeta": {
               "level": 0,
               "name": null
              },
              "id": "51",
              "properties": {
               "index": 1,
               "side": "WEST"
              }
             }
            ],
            "properties": {
             "org.eclipse.elk.layered.mergeEdges": 1,
             "org.eclipse.elk.portConstraints": "FIXED_ORDER",
             "org.eclipse.elk.randomSeed": 0
            }
           },
           {
            "hwMeta": {
             "cls": "Operator",
             "maxId": 101,
             "name": "MUX"
            },
            "id": "8",
            "ports": [
             {
              "direction": "OUTPUT",
              "hwMeta": {
               "level": 0,
               "name": ""
              },
              "id": "52",
              "properties": {
               "index": 0,
               "side": "EAST"
              }
             },
             {
              "direction": "INPUT",
              "hwMeta": {
               "level": 0,
               "name": ""
              },
              "id": "53",
              "properties": {
               "index": 1,
               "side": "SOUTH"
              }
             },
             {
              "direction": "INPUT",
              "hwMeta": {
               "level": 0,
               "name": ""
              },
              "id": "54",
              "properties": {
               "index": 2,
               "side": "WEST"
              }
             },
             {
              "direction": "INPUT",
              "hwMeta": {
               "level": 0,
               "name": ""
              },
              "id": "55",
              "properties": {
               "index": 3,
               "side": "WEST"
              }
             }
            ],
            "properties": {
             "org.eclipse.elk.layered.mergeEdges": 1,
             "org.eclipse.elk.portConstraints": "FIXED_ORDER",
             "org.eclipse.elk.randomSeed": 0
            }
           },
           {
            "hwMeta": {
             "cls": "Operator",
             "maxId": 101,
             "name": "FF"
            },
            "id": "9",
            "ports": [
             {
              "direction": "OUTPUT",
              "hwMeta": {
               "level": 0,
               "name": "o"
              },
              "id": "56",
              "properties": {
               "index": 0,
               "side": "EAST"
              }
             },
             {
              "direction": "INPUT",
              "hwMeta": {
               "level": 0,
               "name": "i"
              },
              "id": "57",
              "properties": {
               "index": 1,
               "side": "WEST"
              }
             },
             {
              "direction": "INPUT",
              "hwMeta": {
               "level": 0,
               "name": "clk"
              },
              "id": "58",
              "properties": {
               "index": 2,
               "side": "WEST"
              }
             }
            ],
            "properties": {
             "org.eclipse.elk.layered.mergeEdges": 1,
             "org.eclipse.elk.portConstraints": "FIXED_ORDER",
             "org.eclipse.elk.randomSeed": 0
            }
           }
          ],
          "_edges": [
           {
            "hwMeta": {
             "name": null
            },
            "id": "102",
            "source": "2",
            "sourcePort": "38",
            "target": "6",
            "targetPort": "48"
           },
           {
            "hwMeta": {
             "name": "rst_n._eq(0)"
            },
            "id": "103",
            "sources": [
             [
              "3",
              "42"
             ]
            ],
            "targets": [
             [
              "2",
              "39"
             ],
             [
              "8",
              "53"
             ],
             [
              "10",
              "60"
             ]
            ]
           },
           {
            "hwMeta": {
             "name": "y1_next"
            },
            "id": "104",
            "source": "1",
            "sourcePort": "33",
            "target": "2",
            "targetPort": "40"
           },
           {
            "hwMeta": {
             "name": "<BitsVal 0>"
            },
            "id": "105",
            "sources": [
             [
              "5",
              "46"
             ]
            ],
            "targets": [
             [
              "2",
              "41"
             ],
             [
              "8",
              "55"
             ],
             [
              "10",
              "62"
             ]
            ]
           },
           {
            "hwMeta": {
             "name": "<BitsVal 0>"
            },
            "id": "106",
            "source": "4",
            "sourcePort": "45",
            "target": "3",
            "targetPort": "43"
           },
           {
            "hwMeta": {
             "name": "rst_n"
            },
            "id": "107",
            "source": "1",
            "sourcePort": "36",
            "target": "3",
            "targetPort": "44"
           },
           {
            "hwMeta": {
             "name": "y1"
            },
            "id": "108",
            "source": "6",
            "sourcePort": "47",
            "target": "1",
            "targetPort": "32"
           },
           {
            "hwMeta": {
             "name": "clk._onRisingEdge()"
            },
            "id": "109",
            "sources": [
             [
              "7",
              "50"
             ]
            ],
            "targets": [
             [
              "6",
              "49"
             ],
             [
              "9",
              "58"
             ],
             [
              "11",
              "65"
             ]
            ]
           },
           {
            "hwMeta": {
             "name": "clk"
            },
            "id": "110",
            "source": "1",
            "sourcePort": "37",
            "target": "7",
            "targetPort": "51"
           },
           {
            "hwMeta": {
             "name": null
            },
            "id": "111",
            "source": "8",
            "sourcePort": "52",
            "target": "9",
            "targetPort": "57"
           },
           {
            "hwMeta": {
             "name": "y0_next"
            },
            "id": "112",
            "source": "1",
            "sourcePort": "34",
            "target": "8",
            "targetPort": "54"
           },
           {
            "hwMeta": {
             "name": "y0"
            },
            "id": "113",
            "source": "9",
            "sourcePort": "56",
            "target": "1",
            "targetPort": "31"
           },
           {
            "hwMeta": {
             "name": null
            },
            "id": "114",
            "source": "10",
            "sourcePort": "59",
            "target": "11",
            "targetPort": "64"
           },
           {
            "hwMeta": {
             "name": "u_next"
            },
            "id": "115",
            "source": "1",
            "sourcePort": "35",
            "target": "10",
            "targetPort": "61"
           },
           {
            "hwMeta": {
             "name": "u"
            },
            "id": "116",
            "source": "11",
            "sourcePort": "63",
            "target": "1",
            "targetPort": "30"
           }
          ],
          "hwMeta": {
           "bodyText": "If(clk._onRisingEdge(),\n    If(rst_n._eq(0),\n        y1(0),\n        y0(0),\n        u(0)\n    ).Else(\n        y1(y1_next),\n        y0(y0_next),\n        u(u_next)\n    )\n)",
           "cls": "Process",
           "maxId": 116,
           "name": null
          },
          "id": "1",
          "ports": [
           {
            "direction": "OUTPUT",
            "hwMeta": {
             "level": 0,
             "name": "u"
            },
            "id": "30",
            "properties": {
             "index": 0,
             "side": "EAST"
            }
           },
           {
            "direction": "OUTPUT",
            "hwMeta": {
             "level": 0,
             "name": "y0"
            },
            "id": "31",
            "properties": {
             "index": 1,
             "side": "EAST"
            }
           },
           {
            "direction": "OUTPUT",
            "hwMeta": {
             "level": 0,
             "name": "y1"
            },
            "id": "32",
            "properties": {
             "index": 2,
             "side": "EAST"
            }
           },
           {
            "direction": "INPUT",
            "hwMeta": {
             "level": 0,
             "name": "y1_next"
            },
            "id": "33",
            "properties": {
             "index": 3,
             "side": "WEST"
            }
           },
           {
            "direction": "INPUT",
            "hwMeta": {
             "level": 0,
             "name": "y0_next"
            },
            "id": "34",
            "properties": {
             "index": 4,
             "side": "WEST"
            }
           },
           {
            "direction": "INPUT",
            "hwMeta": {
             "level": 0,
             "name": "u_next"
            },
            "id": "35",
            "properties": {
             "index": 5,
             "side": "WEST"
            }
           },
           {
            "direction": "INPUT",
            "hwMeta": {
             "level": 0,
             "name": "rst_n"
            },
            "id": "36",
            "properties": {
             "index": 6,
             "side": "WEST"
            }
           },
           {
            "direction": "INPUT",
            "hwMeta": {
             "level": 0,
             "name": "clk"
            },
            "id": "37",
            "properties": {
             "index": 7,
             "side": "WEST"
            }
           }
          ],
          "properties": {
           "org.eclipse.elk.layered.mergeEdges": 1,
           "org.eclipse.elk.portConstraints": "FIXED_ORDER",
           "org.eclipse.elk.randomSeed": 0
          }
         },
         {
          "hwMeta": {
           "cls": null,
           "isExternalPort": true,
           "maxId": 116,
           "name": "clk"
          },
          "id": "12",
          "ports": [
           {
            "direction": "OUTPUT",
            "hwMeta": {
             "level": 0,
             "name": "clk"
            },
            "id": "66",
            "properties": {
             "index": 0,
             "side": "EAST"
            }
           }
          ],
          "properties": {
           "org.eclipse.elk.layered.mergeEdges": 1,
           "org.eclipse.elk.portConstraints": "FIXED_ORDER",
           "org.eclipse.elk.randomSeed": 0
          }
         },
         {
          "hwMeta": {
           "cls": null,
           "isExternalPort": true,
           "maxId": 116,
           "name": "rst_n"
          },
          "id": "13",
          "ports": [
           {
            "direction": "OUTPUT",
            "hwMeta": {
             "level": 0,
             "name": "rst_n"
            },
            "id": "67",
            "properties": {
             "index": 0,
             "side": "EAST"
            }
           }
          ],
          "properties": {
           "org.eclipse.elk.layered.mergeEdges": 1,
           "org.eclipse.elk.portConstraints": "FIXED_ORDER",
           "org.eclipse.elk.randomSeed": 0
          }
         },
         {
          "hwMeta": {
           "cls": null,
           "isExternalPort": true,
           "maxId": 116,
           "name": "input"
          },
          "id": "14",
          "ports": [
           {
            "direction": "OUTPUT",
            "hwMeta": {
             "level": 0,
             "name": "input"
            },
            "id": "68",
            "properties": {
             "index": 0,
             "side": "EAST"
            }
           }
          ],
          "properties": {
           "org.eclipse.elk.layered.mergeEdges": 1,
           "org.eclipse.elk.portConstraints": "FIXED_ORDER",
           "org.eclipse.elk.randomSeed": 0
          }
         },
         {
          "hwMeta": {
           "cls": null,
           "isExternalPort": true,
           "maxId": 116,
           "name": "output"
          },
          "id": "15",
          "ports": [
           {
            "direction": "INPUT",
            "hwMeta": {
             "level": 0,
             "name": "output"
            },
            "id": "69",
            "properties": {
             "index": 0,
             "side": "WEST"
            }
           }
          ],
          "properties": {
           "org.eclipse.elk.layered.mergeEdges": 1,
           "org.eclipse.elk.portConstraints": "FIXED_ORDER",
           "org.eclipse.elk.randomSeed": 0
          }
         },
         {
          "hwMeta": {
           "cls": null,
           "isExternalPort": true,
           "maxId": 116,
           "name": "target"
          },
          "id": "16",
          "ports": [
           {
            "direction": "OUTPUT",
            "hwMeta": {
             "level": 0,
             "name": "target"
            },
            "id": "70",
            "properties": {
             "index": 0,
             "side": "EAST"
            }
           }
          ],
          "properties": {
           "org.eclipse.elk.layered.mergeEdges": 1,
           "org.eclipse.elk.portConstraints": "FIXED_ORDER",
           "org.eclipse.elk.randomSeed": 0
          }
         },
         {
          "hwMeta": {
           "cls": null,
           "isExternalPort": true,
           "maxId": 116,
           "name": "coefs_0"
          },
          "id": "17",
          "ports": [
           {
            "direction": "OUTPUT",
            "hwMeta": {
             "level": 0,
             "name": "coefs_0"
            },
            "id": "71",
            "properties": {
             "index": 0,
             "side": "EAST"
            }
           }
          ],
          "properties": {
           "org.eclipse.elk.layered.mergeEdges": 1,
           "org.eclipse.elk.portConstraints": "FIXED_ORDER",
           "org.eclipse.elk.randomSeed": 0
          }
         },
         {
          "hwMeta": {
           "cls": null,
           "isExternalPort": true,
           "maxId": 116,
           "name": "coefs_1"
          },
          "id": "18",
          "ports": [
           {
            "direction": "OUTPUT",
            "hwMeta": {
             "level": 0,
             "name": "coefs_1"
            },
            "id": "72",
            "properties": {
             "index": 0,
             "side": "EAST"
            }
           }
          ],
          "properties": {
           "org.eclipse.elk.layered.mergeEdges": 1,
           "org.eclipse.elk.portConstraints": "FIXED_ORDER",
           "org.eclipse.elk.randomSeed": 0
          }
         },
         {
          "hwMeta": {
           "cls": null,
           "isExternalPort": true,
           "maxId": 116,
           "name": "coefs_2"
          },
          "id": "19",
          "ports": [
           {
            "direction": "OUTPUT",
            "hwMeta": {
             "level": 0,
             "name": "coefs_2"
            },
            "id": "73",
            "properties": {
             "index": 0,
             "side": "EAST"
            }
           }
          ],
          "properties": {
           "org.eclipse.elk.layered.mergeEdges": 1,
           "org.eclipse.elk.portConstraints": "FIXED_ORDER",
           "org.eclipse.elk.randomSeed": 0
          }
         },
         {
          "hwMeta": {
           "cls": null,
           "isExternalPort": true,
           "maxId": 116,
           "name": "coefs_3"
          },
          "id": "20",
          "ports": [
           {
            "direction": "OUTPUT",
            "hwMeta": {
             "level": 0,
             "name": "coefs_3"
            },
            "id": "74",
            "properties": {
             "index": 0,
             "side": "EAST"
            }
           }
          ],
          "properties": {
           "org.eclipse.elk.layered.mergeEdges": 1,
           "org.eclipse.elk.portConstraints": "FIXED_ORDER",
           "org.eclipse.elk.randomSeed": 0
          }
         },
         {
          "hwMeta": {
           "cls": "Operator",
           "maxId": 116,
           "name": "SUB"
          },
          "id": "21",
          "ports": [
           {
            "direction": "OUTPUT",
            "hwMeta": {
             "level": 0,
             "name": null
            },
            "id": "75",
            "properties": {
             "index": 0,
             "side": "EAST"
            }
           },
           {
            "direction": "INPUT",
            "hwMeta": {
             "level": 0,
             "name": null
            },
            "id": "76",
            "properties": {
             "index": 1,
             "side": "WEST"
            }
           },
           {
            "direction": "INPUT",
            "hwMeta": {
             "level": 0,
             "name": null
            },
            "id": "77",
            "properties": {
             "index": 2,
             "side": "WEST"
            }
           }
          ],
          "properties": {
           "org.eclipse.elk.layered.mergeEdges": 1,
           "org.eclipse.elk.portConstraints": "FIXED_ORDER",
           "org.eclipse.elk.randomSeed": 0
          }
         },
         {
          "hwMeta": {
           "cls": "Operator",
           "maxId": 116,
           "name": "ADD"
          },
          "id": "22",
          "ports": [
           {
            "direction": "OUTPUT",
            "hwMeta": {
             "level": 0,
             "name": null
            },
            "id": "78",
            "properties": {
             "index": 0,
             "side": "EAST"
            }
           },
           {
            "direction": "INPUT",
            "hwMeta": {
             "level": 0,
             "name": null
            },
            "id": "79",
            "properties": {
             "index": 1,
             "side": "WEST"
            }
           },
           {
            "direction": "INPUT",
            "hwMeta": {
             "level": 0,
             "name": null
            },
            "id": "80",
            "properties": {
             "index": 2,
             "side": "WEST"
            }
           }
          ],
          "properties": {
           "org.eclipse.elk.layered.mergeEdges": 1,
           "org.eclipse.elk.portConstraints": "FIXED_ORDER",
           "org.eclipse.elk.randomSeed": 0
          }
         },
         {
          "hwMeta": {
           "cls": "Operator",
           "maxId": 116,
           "name": "ADD"
          },
          "id": "23",
          "ports": [
           {
            "direction": "OUTPUT",
            "hwMeta": {
             "level": 0,
             "name": null
            },
            "id": "81",
            "properties": {
             "index": 0,
             "side": "EAST"
            }
           },
           {
            "direction": "INPUT",
            "hwMeta": {
             "level": 0,
             "name": null
            },
            "id": "82",
            "properties": {
             "index": 1,
             "side": "WEST"
            }
           },
           {
            "direction": "INPUT",
            "hwMeta": {
             "level": 0,
             "name": null
            },
            "id": "83",
            "properties": {
             "index": 2,
             "side": "WEST"
            }
           }
          ],
          "properties": {
           "org.eclipse.elk.layered.mergeEdges": 1,
           "org.eclipse.elk.portConstraints": "FIXED_ORDER",
           "org.eclipse.elk.randomSeed": 0
          }
         },
         {
          "hwMeta": {
           "cls": "Operator",
           "maxId": 116,
           "name": "ADD"
          },
          "id": "24",
          "ports": [
           {
            "direction": "OUTPUT",
            "hwMeta": {
             "level": 0,
             "name": null
            },
            "id": "84",
            "properties": {
             "index": 0,
             "side": "EAST"
            }
           },
           {
            "direction": "INPUT",
            "hwMeta": {
             "level": 0,
             "name": null
            },
            "id": "85",
            "properties": {
             "index": 1,
             "side": "WEST"
            }
           },
           {
            "direction": "INPUT",
            "hwMeta": {
             "level": 0,
             "name": null
            },
            "id": "86",
            "properties": {
             "index": 2,
             "side": "WEST"
            }
           }
          ],
          "properties": {
           "org.eclipse.elk.layered.mergeEdges": 1,
           "org.eclipse.elk.portConstraints": "FIXED_ORDER",
           "org.eclipse.elk.randomSeed": 0
          }
         },
         {
          "hwMeta": {
           "cls": "Operator",
           "maxId": 116,
           "name": "ADD"
          },
          "id": "25",
          "ports": [
           {
            "direction": "OUTPUT",
            "hwMeta": {
             "level": 0,
             "name": null
            },
            "id": "87",
            "properties": {
             "index": 0,
             "side": "EAST"
            }
           },
           {
            "direction": "INPUT",
            "hwMeta": {
             "level": 0,
             "name": null
            },
            "id": "88",
            "properties": {
             "index": 1,
             "side": "WEST"
            }
           },
           {
            "direction": "INPUT",
            "hwMeta": {
             "level": 0,
             "name": null
            },
            "id": "89",
            "properties": {
             "index": 2,
             "side": "WEST"
            }
           }
          ],
          "properties": {
           "org.eclipse.elk.layered.mergeEdges": 1,
           "org.eclipse.elk.portConstraints": "FIXED_ORDER",
           "org.eclipse.elk.randomSeed": 0
          }
         },
         {
          "hwMeta": {
           "cls": "Operator",
           "maxId": 116,
           "name": "MUL"
          },
          "id": "26",
          "ports": [
           {
            "direction": "OUTPUT",
            "hwMeta": {
             "level": 0,
             "name": null
            },
            "id": "90",
            "properties": {
             "index": 0,
             "side": "EAST"
            }
           },
           {
            "direction": "INPUT",
            "hwMeta": {
             "level": 0,
             "name": null
            },
            "id": "91",
            "properties": {
             "index": 1,
             "side": "WEST"
            }
           },
           {
            "direction": "INPUT",
            "hwMeta": {
             "level": 0,
             "name": null
            },
            "id": "92",
            "properties": {
             "index": 2,
             "side": "WEST"
            }
           }
          ],
          "properties": {
           "org.eclipse.elk.layered.mergeEdges": 1,
           "org.eclipse.elk.portConstraints": "FIXED_ORDER",
           "org.eclipse.elk.randomSeed": 0
          }
         },
         {
          "hwMeta": {
           "cls": "Operator",
           "maxId": 116,
           "name": "MUL"
          },
          "id": "27",
          "ports": [
           {
            "direction": "OUTPUT",
            "hwMeta": {
             "level": 0,
             "name": null
            },
            "id": "93",
            "properties": {
             "index": 0,
             "side": "EAST"
            }
           },
           {
            "direction": "INPUT",
            "hwMeta": {
             "level": 0,
             "name": null
            },
            "id": "94",
            "properties": {
             "index": 1,
             "side": "WEST"
            }
           },
           {
            "direction": "INPUT",
            "hwMeta": {
             "level": 0,
             "name": null
            },
            "id": "95",
            "properties": {
             "index": 2,
             "side": "WEST"
            }
           }
          ],
          "properties": {
           "org.eclipse.elk.layered.mergeEdges": 1,
           "org.eclipse.elk.portConstraints": "FIXED_ORDER",
           "org.eclipse.elk.randomSeed": 0
          }
         },
         {
          "hwMeta": {
           "cls": "Operator",
           "maxId": 116,
           "name": "MUL"
          },
          "id": "28",
          "ports": [
           {
            "direction": "OUTPUT",
            "hwMeta": {
             "level": 0,
             "name": null
            },
            "id": "96",
            "properties": {
             "index": 0,
             "side": "EAST"
            }
           },
           {
            "direction": "INPUT",
            "hwMeta": {
             "level": 0,
             "name": null
            },
            "id": "97",
            "properties": {
             "index": 1,
             "side": "WEST"
            }
           },
           {
            "direction": "INPUT",
            "hwMeta": {
             "level": 0,
             "name": null
            },
            "id": "98",
            "properties": {
             "index": 2,
             "side": "WEST"
            }
           }
          ],
          "properties": {
           "org.eclipse.elk.layered.mergeEdges": 1,
           "org.eclipse.elk.portConstraints": "FIXED_ORDER",
           "org.eclipse.elk.randomSeed": 0
          }
         },
         {
          "hwMeta": {
           "cls": "Operator",
           "maxId": 116,
           "name": "MUL"
          },
          "id": "29",
          "ports": [
           {
            "direction": "OUTPUT",
            "hwMeta": {
             "level": 0,
             "name": null
            },
            "id": "99",
            "properties": {
             "index": 0,
             "side": "EAST"
            }
           },
           {
            "direction": "INPUT",
            "hwMeta": {
             "level": 0,
             "name": null
            },
            "id": "100",
            "properties": {
             "index": 1,
             "side": "WEST"
            }
           },
           {
            "direction": "INPUT",
            "hwMeta": {
             "level": 0,
             "name": null
            },
            "id": "101",
            "properties": {
             "index": 2,
             "side": "WEST"
            }
           }
          ],
          "properties": {
           "org.eclipse.elk.layered.mergeEdges": 1,
           "org.eclipse.elk.portConstraints": "FIXED_ORDER",
           "org.eclipse.elk.randomSeed": 0
          }
         }
        ],
        "edges": [
         {
          "hwMeta": {
           "name": "u"
          },
          "id": "117",
          "sources": [
           [
            "1",
            "30"
           ]
          ],
          "targets": [
           [
            "25",
            "89"
           ],
           [
            "15",
            "69"
           ]
          ]
         },
         {
          "hwMeta": {
           "name": "y1_next"
          },
          "id": "118",
          "sources": [
           [
            "1",
            "31"
           ]
          ],
          "targets": [
           [
            "1",
            "33"
           ],
           [
            "28",
            "97"
           ]
          ]
         },
         {
          "hwMeta": {
           "name": "y1"
          },
          "id": "119",
          "source": "1",
          "sourcePort": "32",
          "target": "29",
          "targetPort": "100"
         },
         {
          "hwMeta": {
           "name": "input"
          },
          "id": "120",
          "sources": [
           [
            "14",
            "68"
           ]
          ],
          "targets": [
           [
            "21",
            "77"
           ],
           [
            "1",
            "34"
           ],
           [
            "27",
            "94"
           ]
          ]
         },
         {
          "hwMeta": {
           "name": "u_next"
          },
          "id": "121",
          "source": "22",
          "sourcePort": "78",
          "target": "1",
          "targetPort": "35"
         },
         {
          "hwMeta": {
           "name": "rst_n"
          },
          "id": "122",
          "source": "13",
          "sourcePort": "67",
          "target": "1",
          "targetPort": "36"
         },
         {
          "hwMeta": {
           "name": "clk"
          },
          "id": "123",
          "source": "12",
          "sourcePort": "66",
          "target": "1",
          "targetPort": "37"
         },
         {
          "hwMeta": {
           "name": "target"
          },
          "id": "124",
          "source": "16",
          "sourcePort": "70",
          "target": "21",
          "targetPort": "76"
         },
         {
          "hwMeta": {
           "name": "coefs_0"
          },
          "id": "125",
          "source": "17",
          "sourcePort": "71",
          "target": "26",
          "targetPort": "92"
         },
         {
          "hwMeta": {
           "name": "coefs_1"
          },
          "id": "126",
          "source": "18",
          "sourcePort": "72",
          "target": "27",
          "targetPort": "95"
         },
         {
          "hwMeta": {
           "name": "coefs_2"
          },
          "id": "127",
          "source": "19",
          "sourcePort": "73",
          "target": "28",
          "targetPort": "98"
         },
         {
          "hwMeta": {
           "name": "coefs_3"
          },
          "id": "128",
          "source": "20",
          "sourcePort": "74",
          "target": "29",
          "targetPort": "101"
         },
         {
          "hwMeta": {
           "name": "input - target"
          },
          "id": "129",
          "source": "21",
          "sourcePort": "75",
          "target": "26",
          "targetPort": "91"
         },
         {
          "hwMeta": {
           "name": "coefs_3 * y1"
          },
          "id": "130",
          "source": "29",
          "sourcePort": "99",
          "target": "22",
          "targetPort": "79"
         },
         {
          "hwMeta": {
           "name": "u + coefs_0 * err + coefs_1 * input + coefs_2 * y0"
          },
          "id": "131",
          "source": "23",
          "sourcePort": "81",
          "target": "22",
          "targetPort": "80"
         },
         {
          "hwMeta": {
           "name": "coefs_2 * y0"
          },
          "id": "132",
          "source": "28",
          "sourcePort": "96",
          "target": "23",
          "targetPort": "82"
         },
         {
          "hwMeta": {
           "name": "u + coefs_0 * err + coefs_1 * input"
          },
          "id": "133",
          "source": "24",
          "sourcePort": "84",
          "target": "23",
          "targetPort": "83"
         },
         {
          "hwMeta": {
           "name": "coefs_1 * input"
          },
          "id": "134",
          "source": "27",
          "sourcePort": "93",
          "target": "24",
          "targetPort": "85"
         },
         {
          "hwMeta": {
           "name": "u + coefs_0 * err"
          },
          "id": "135",
          "source": "25",
          "sourcePort": "87",
          "target": "24",
          "targetPort": "86"
         },
         {
          "hwMeta": {
           "name": "coefs_0 * err"
          },
          "id": "136",
          "source": "26",
          "sourcePort": "90",
          "target": "25",
          "targetPort": "88"
         }
        ],
        "hwMeta": {
         "cls": null,
         "maxId": 136,
         "name": "PidController"
        },
        "ports": [],
        "properties": {
         "org.eclipse.elk.layered.mergeEdges": 1,
         "org.eclipse.elk.portConstraints": "FIXED_ORDER",
         "org.eclipse.elk.randomSeed": 0
        }
       },
       "width": "1000px"
      }
     },
     "d01e195c9fe44ea89463fc1067c295a1": {
      "model_module": "@jupyter-widgets/base",
      "model_module_version": "1.2.0",
      "model_name": "LayoutModel",
      "state": {}
     },
     "d11d2a3935c145f184ef85b7cbe42d07": {
      "model_module": "jupyter_widget_hwt",
      "model_module_version": "^0.0.1",
      "model_name": "HwtSchemeModel",
      "state": {
       "_model_module_version": "^0.0.1",
       "_view_module_version": "^0.0.1",
       "layout": "IPY_MODEL_60456bef544142be8495b1ccd7529dd3",
       "value": {
        "children": [
         {
          "_children": [
           {
            "hwMeta": {
             "cls": "Operator",
             "maxId": 61,
             "name": "MUX"
            },
            "id": "2",
            "ports": [
             {
              "children": [],
              "direction": "OUTPUT",
              "hwMeta": {
               "connectedAsParent": false,
               "level": 0,
               "name": ""
              },
              "id": "23",
              "properties": {
               "index": 0,
               "side": "EAST"
              }
             },
             {
              "children": [],
              "direction": "INPUT",
              "hwMeta": {
               "connectedAsParent": false,
               "level": 0,
               "name": ""
              },
              "id": "24",
              "properties": {
               "index": 1,
               "side": "SOUTH"
              }
             },
             {
              "children": [],
              "direction": "INPUT",
              "hwMeta": {
               "connectedAsParent": false,
               "level": 0,
               "name": ""
              },
              "id": "25",
              "properties": {
               "index": 2,
               "side": "WEST"
              }
             },
             {
              "children": [],
              "direction": "INPUT",
              "hwMeta": {
               "connectedAsParent": false,
               "level": 0,
               "name": ""
              },
              "id": "26",
              "properties": {
               "index": 3,
               "side": "WEST"
              }
             }
            ],
            "properties": {
             "org.eclipse.elk.layered.mergeEdges": 1,
             "org.eclipse.elk.portConstraints": "FIXED_ORDER"
            }
           },
           {
            "hwMeta": {
             "bodyText": "0",
             "cls": "Operator",
             "maxId": 61,
             "name": null
            },
            "id": "3",
            "ports": [
             {
              "children": [],
              "direction": "OUTPUT",
              "hwMeta": {
               "connectedAsParent": false,
               "level": 0,
               "name": null
              },
              "id": "27",
              "properties": {
               "side": "EAST"
              }
             }
            ],
            "properties": {
             "org.eclipse.elk.layered.mergeEdges": 1,
             "org.eclipse.elk.portConstraints": "FREE"
            }
           },
           {
            "hwMeta": {
             "cls": "Operator",
             "maxId": 61,
             "name": "FF"
            },
            "id": "4",
            "ports": [
             {
              "children": [],
              "direction": "OUTPUT",
              "hwMeta": {
               "connectedAsParent": false,
               "level": 0,
               "name": "o"
              },
              "id": "28",
              "properties": {
               "index": 0,
               "side": "EAST"
              }
             },
             {
              "children": [],
              "direction": "INPUT",
              "hwMeta": {
               "connectedAsParent": false,
               "level": 0,
               "name": "i"
              },
              "id": "29",
              "properties": {
               "index": 1,
               "side": "WEST"
              }
             },
             {
              "children": [],
              "direction": "INPUT",
              "hwMeta": {
               "connectedAsParent": false,
               "level": 0,
               "name": "clk"
              },
              "id": "30",
              "properties": {
               "index": 2,
               "side": "WEST"
              }
             }
            ],
            "properties": {
             "org.eclipse.elk.layered.mergeEdges": 1,
             "org.eclipse.elk.portConstraints": "FIXED_ORDER"
            }
           },
           {
            "hwMeta": {
             "cls": "Operator",
             "maxId": 61,
             "name": "RISING_EDGE"
            },
            "id": "5",
            "ports": [
             {
              "children": [],
              "direction": "OUTPUT",
              "hwMeta": {
               "connectedAsParent": false,
               "level": 0,
               "name": null
              },
              "id": "31",
              "properties": {
               "index": 0,
               "side": "EAST"
              }
             },
             {
              "children": [],
              "direction": "INPUT",
              "hwMeta": {
               "connectedAsParent": false,
               "level": 0,
               "name": null
              },
              "id": "32",
              "properties": {
               "index": 1,
               "side": "WEST"
              }
             }
            ],
            "properties": {
             "org.eclipse.elk.layered.mergeEdges": 1,
             "org.eclipse.elk.portConstraints": "FIXED_ORDER"
            }
           }
          ],
          "_edges": [
           {
            "hwMeta": {
             "name": null
            },
            "id": "62",
            "source": "2",
            "sourcePort": "23",
            "target": "4",
            "targetPort": "29"
           },
           {
            "hwMeta": {
             "name": "dataIn_rst._eq(1)"
            },
            "id": "63",
            "source": "1",
            "sourcePort": "21",
            "target": "2",
            "targetPort": "24"
           },
           {
            "hwMeta": {
             "name": "in_reg0_next"
            },
            "id": "64",
            "source": "1",
            "sourcePort": "20",
            "target": "2",
            "targetPort": "25"
           },
           {
            "hwMeta": {
             "name": "<BitsVal 0>"
            },
            "id": "65",
            "source": "3",
            "sourcePort": "27",
            "target": "2",
            "targetPort": "26"
           },
           {
            "hwMeta": {
             "name": "in_reg0"
            },
            "id": "66",
            "source": "4",
            "sourcePort": "28",
            "target": "1",
            "targetPort": "19"
           },
           {
            "hwMeta": {
             "name": "dataIn_clk._onRisingEdge()"
            },
            "id": "67",
            "source": "5",
            "sourcePort": "31",
            "target": "4",
            "targetPort": "30"
           },
           {
            "hwMeta": {
             "name": "dataIn_clk"
            },
            "id": "68",
            "source": "1",
            "sourcePort": "22",
            "target": "5",
            "targetPort": "32"
           }
          ],
          "hwMeta": {
           "bodyText": "If(dataIn_clk._onRisingEdge(),\n    If(dataIn_rst._eq(1),\n        in_reg0(0)\n    ).Else(\n        in_reg0(in_reg0_next)\n    )\n)",
           "cls": "Process",
           "maxId": 68,
           "name": null
          },
          "id": "1",
          "ports": [
           {
            "children": [],
            "direction": "OUTPUT",
            "hwMeta": {
             "connectedAsParent": false,
             "level": 0,
             "name": "in_reg0"
            },
            "id": "19",
            "properties": {
             "index": 0,
             "side": "EAST"
            }
           },
           {
            "children": [],
            "direction": "INPUT",
            "hwMeta": {
             "connectedAsParent": false,
             "level": 0,
             "name": "in_reg0_next"
            },
            "id": "20",
            "properties": {
             "index": 1,
             "side": "WEST"
            }
           },
           {
            "children": [],
            "direction": "INPUT",
            "hwMeta": {
             "connectedAsParent": false,
             "level": 0,
             "name": "dataIn_rst"
            },
            "id": "21",
            "properties": {
             "index": 2,
             "side": "WEST"
            }
           },
           {
            "children": [],
            "direction": "INPUT",
            "hwMeta": {
             "connectedAsParent": false,
             "level": 0,
             "name": "dataIn_clk"
            },
            "id": "22",
            "properties": {
             "index": 3,
             "side": "WEST"
            }
           }
          ],
          "properties": {
           "org.eclipse.elk.layered.mergeEdges": 1,
           "org.eclipse.elk.portConstraints": "FIXED_ORDER"
          }
         },
         {
          "hwMeta": {
           "cls": null,
           "isExternalPort": true,
           "maxId": 78,
           "name": "dataIn_clk"
          },
          "id": "13",
          "ports": [
           {
            "children": [],
            "direction": "OUTPUT",
            "hwMeta": {
             "connectedAsParent": false,
             "level": 0,
             "name": "dataIn_clk"
            },
            "id": "56",
            "properties": {
             "index": 0,
             "side": "EAST"
            }
           }
          ],
          "properties": {
           "org.eclipse.elk.layered.mergeEdges": 1,
           "org.eclipse.elk.portConstraints": "FIXED_ORDER"
          }
         },
         {
          "hwMeta": {
           "cls": null,
           "isExternalPort": true,
           "maxId": 78,
           "name": "dataIn_rst"
          },
          "id": "14",
          "ports": [
           {
            "children": [],
            "direction": "OUTPUT",
            "hwMeta": {
             "connectedAsParent": false,
             "level": 0,
             "name": "dataIn_rst"
            },
            "id": "57",
            "properties": {
             "index": 0,
             "side": "EAST"
            }
           }
          ],
          "properties": {
           "org.eclipse.elk.layered.mergeEdges": 1,
           "org.eclipse.elk.portConstraints": "FIXED_ORDER"
          }
         },
         {
          "hwMeta": {
           "cls": null,
           "isExternalPort": true,
           "maxId": 78,
           "name": "dataIn"
          },
          "id": "15",
          "ports": [
           {
            "children": [],
            "direction": "OUTPUT",
            "hwMeta": {
             "connectedAsParent": false,
             "level": 0,
             "name": "dataIn"
            },
            "id": "58",
            "properties": {
             "index": 0,
             "side": "EAST"
            }
           }
          ],
          "properties": {
           "org.eclipse.elk.layered.mergeEdges": 1,
           "org.eclipse.elk.portConstraints": "FIXED_ORDER"
          }
         },
         {
          "hwMeta": {
           "cls": null,
           "isExternalPort": true,
           "maxId": 78,
           "name": "dataOut_clk"
          },
          "id": "16",
          "ports": [
           {
            "children": [],
            "direction": "OUTPUT",
            "hwMeta": {
             "connectedAsParent": false,
             "level": 0,
             "name": "dataOut_clk"
            },
            "id": "59",
            "properties": {
             "index": 0,
             "side": "EAST"
            }
           }
          ],
          "properties": {
           "org.eclipse.elk.layered.mergeEdges": 1,
           "org.eclipse.elk.portConstraints": "FIXED_ORDER"
          }
         },
         {
          "hwMeta": {
           "cls": null,
           "isExternalPort": true,
           "maxId": 78,
           "name": "dataOut_rst"
          },
          "id": "17",
          "ports": [
           {
            "children": [],
            "direction": "OUTPUT",
            "hwMeta": {
             "connectedAsParent": false,
             "level": 0,
             "name": "dataOut_rst"
            },
            "id": "60",
            "properties": {
             "index": 0,
             "side": "EAST"
            }
           }
          ],
          "properties": {
           "org.eclipse.elk.layered.mergeEdges": 1,
           "org.eclipse.elk.portConstraints": "FIXED_ORDER"
          }
         },
         {
          "hwMeta": {
           "cls": null,
           "isExternalPort": true,
           "maxId": 78,
           "name": "dataOut"
          },
          "id": "18",
          "ports": [
           {
            "children": [],
            "direction": "INPUT",
            "hwMeta": {
             "connectedAsParent": false,
             "level": 0,
             "name": "dataOut"
            },
            "id": "61",
            "properties": {
             "index": 0,
             "side": "WEST"
            }
           }
          ],
          "properties": {
           "org.eclipse.elk.layered.mergeEdges": 1,
           "org.eclipse.elk.portConstraints": "FIXED_ORDER"
          }
         },
         {
          "_children": [
           {
            "hwMeta": {
             "cls": "Operator",
             "maxId": 68,
             "name": "RISING_EDGE"
            },
            "id": "10",
            "ports": [
             {
              "children": [],
              "direction": "OUTPUT",
              "hwMeta": {
               "connectedAsParent": false,
               "level": 0,
               "name": null
              },
              "id": "47",
              "properties": {
               "index": 0,
               "side": "EAST"
              }
             },
             {
              "children": [],
              "direction": "INPUT",
              "hwMeta": {
               "connectedAsParent": false,
               "level": 0,
               "name": null
              },
              "id": "48",
              "properties": {
               "index": 1,
               "side": "WEST"
              }
             }
            ],
            "properties": {
             "org.eclipse.elk.layered.mergeEdges": 1,
             "org.eclipse.elk.portConstraints": "FIXED_ORDER"
            }
           },
           {
            "hwMeta": {
             "cls": "Operator",
             "maxId": 68,
             "name": "MUX"
            },
            "id": "11",
            "ports": [
             {
              "children": [],
              "direction": "OUTPUT",
              "hwMeta": {
               "connectedAsParent": false,
               "level": 0,
               "name": ""
              },
              "id": "49",
              "properties": {
               "index": 0,
               "side": "EAST"
              }
             },
             {
              "children": [],
              "direction": "INPUT",
              "hwMeta": {
               "connectedAsParent": false,
               "level": 0,
               "name": ""
              },
              "id": "50",
              "properties": {
               "index": 1,
               "side": "SOUTH"
              }
             },
             {
              "children": [],
              "direction": "INPUT",
              "hwMeta": {
               "connectedAsParent": false,
               "level": 0,
               "name": ""
              },
              "id": "51",
              "properties": {
               "index": 2,
               "side": "WEST"
              }
             },
             {
              "children": [],
              "direction": "INPUT",
              "hwMeta": {
               "connectedAsParent": false,
               "level": 0,
               "name": ""
              },
              "id": "52",
              "properties": {
               "index": 3,
               "side": "WEST"
              }
             }
            ],
            "properties": {
             "org.eclipse.elk.layered.mergeEdges": 1,
             "org.eclipse.elk.portConstraints": "FIXED_ORDER"
            }
           },
           {
            "hwMeta": {
             "cls": "Operator",
             "maxId": 68,
             "name": "FF"
            },
            "id": "12",
            "ports": [
             {
              "children": [],
              "direction": "OUTPUT",
              "hwMeta": {
               "connectedAsParent": false,
               "level": 0,
               "name": "o"
              },
              "id": "53",
              "properties": {
               "index": 0,
               "side": "EAST"
              }
             },
             {
              "children": [],
              "direction": "INPUT",
              "hwMeta": {
               "connectedAsParent": false,
               "level": 0,
               "name": "i"
              },
              "id": "54",
              "properties": {
               "index": 1,
               "side": "WEST"
              }
             },
             {
              "children": [],
              "direction": "INPUT",
              "hwMeta": {
               "connectedAsParent": false,
               "level": 0,
               "name": "clk"
              },
              "id": "55",
              "properties": {
               "index": 2,
               "side": "WEST"
              }
             }
            ],
            "properties": {
             "org.eclipse.elk.layered.mergeEdges": 1,
             "org.eclipse.elk.portConstraints": "FIXED_ORDER"
            }
           },
           {
            "hwMeta": {
             "cls": "Operator",
             "maxId": 68,
             "name": "MUX"
            },
            "id": "7",
            "ports": [
             {
              "children": [],
              "direction": "OUTPUT",
              "hwMeta": {
               "connectedAsParent": false,
               "level": 0,
               "name": ""
              },
              "id": "39",
              "properties": {
               "index": 0,
               "side": "EAST"
              }
             },
             {
              "children": [],
              "direction": "INPUT",
              "hwMeta": {
               "connectedAsParent": false,
               "level": 0,
               "name": ""
              },
              "id": "40",
              "properties": {
               "index": 1,
               "side": "SOUTH"
              }
             },
             {
              "children": [],
              "direction": "INPUT",
              "hwMeta": {
               "connectedAsParent": false,
               "level": 0,
               "name": ""
              },
              "id": "41",
              "properties": {
               "index": 2,
               "side": "WEST"
              }
             },
             {
              "children": [],
              "direction": "INPUT",
              "hwMeta": {
               "connectedAsParent": false,
               "level": 0,
               "name": ""
              },
              "id": "42",
              "properties": {
               "index": 3,
               "side": "WEST"
              }
             }
            ],
            "properties": {
             "org.eclipse.elk.layered.mergeEdges": 1,
             "org.eclipse.elk.portConstraints": "FIXED_ORDER"
            }
           },
           {
            "hwMeta": {
             "bodyText": "0",
             "cls": "Operator",
             "maxId": 68,
             "name": null
            },
            "id": "8",
            "ports": [
             {
              "children": [],
              "direction": "OUTPUT",
              "hwMeta": {
               "connectedAsParent": false,
               "level": 0,
               "name": null
              },
              "id": "43",
              "properties": {
               "side": "EAST"
              }
             }
            ],
            "properties": {
             "org.eclipse.elk.layered.mergeEdges": 1,
             "org.eclipse.elk.portConstraints": "FREE"
            }
           },
           {
            "hwMeta": {
             "cls": "Operator",
             "maxId": 68,
             "name": "FF"
            },
            "id": "9",
            "ports": [
             {
              "children": [],
              "direction": "OUTPUT",
              "hwMeta": {
               "connectedAsParent": false,
               "level": 0,
               "name": "o"
              },
              "id": "44",
              "properties": {
               "index": 0,
               "side": "EAST"
              }
             },
             {
              "children": [],
              "direction": "INPUT",
              "hwMeta": {
               "connectedAsParent": false,
               "level": 0,
               "name": "i"
              },
              "id": "45",
              "properties": {
               "index": 1,
               "side": "WEST"
              }
             },
             {
              "children": [],
              "direction": "INPUT",
              "hwMeta": {
               "connectedAsParent": false,
               "level": 0,
               "name": "clk"
              },
              "id": "46",
              "properties": {
               "index": 2,
               "side": "WEST"
              }
             }
            ],
            "properties": {
             "org.eclipse.elk.layered.mergeEdges": 1,
             "org.eclipse.elk.portConstraints": "FIXED_ORDER"
            }
           }
          ],
          "_edges": [
           {
            "hwMeta": {
             "name": null
            },
            "id": "69",
            "source": "7",
            "sourcePort": "39",
            "target": "9",
            "targetPort": "45"
           },
           {
            "hwMeta": {
             "name": "dataOut_rst._eq(1)"
            },
            "id": "70",
            "sources": [
             [
              "6",
              "37"
             ]
            ],
            "targets": [
             [
              "7",
              "40"
             ],
             [
              "11",
              "50"
             ]
            ]
           },
           {
            "hwMeta": {
             "name": "out_reg1_next"
            },
            "id": "71",
            "source": "6",
            "sourcePort": "35",
            "target": "7",
            "targetPort": "41"
           },
           {
            "hwMeta": {
             "name": "<BitsVal 0>"
            },
            "id": "72",
            "sources": [
             [
              "8",
              "43"
             ]
            ],
            "targets": [
             [
              "7",
              "42"
             ],
             [
              "11",
              "52"
             ]
            ]
           },
           {
            "hwMeta": {
             "name": "out_reg1"
            },
            "id": "73",
            "source": "9",
            "sourcePort": "44",
            "target": "6",
            "targetPort": "34"
           },
           {
            "hwMeta": {
             "name": "dataOut_clk._onRisingEdge()"
            },
            "id": "74",
            "sources": [
             [
              "10",
              "47"
             ]
            ],
            "targets": [
             [
              "9",
              "46"
             ],
             [
              "12",
              "55"
             ]
            ]
           },
           {
            "hwMeta": {
             "name": "dataOut_clk"
            },
            "id": "75",
            "source": "6",
            "sourcePort": "38",
            "target": "10",
            "targetPort": "48"
           },
           {
            "hwMeta": {
             "name": null
            },
            "id": "76",
            "source": "11",
            "sourcePort": "49",
            "target": "12",
            "targetPort": "54"
           },
           {
            "hwMeta": {
             "name": "out_reg0_next"
            },
            "id": "77",
            "source": "6",
            "sourcePort": "36",
            "target": "11",
            "targetPort": "51"
           },
           {
            "hwMeta": {
             "name": "out_reg0"
            },
            "id": "78",
            "source": "12",
            "sourcePort": "53",
            "target": "6",
            "targetPort": "33"
           }
          ],
          "hwMeta": {
           "bodyText": "If(dataOut_clk._onRisingEdge(),\n    If(dataOut_rst._eq(1),\n        out_reg1(0),\n        out_reg0(0)\n    ).Else(\n        out_reg1(out_reg1_next),\n        out_reg0(out_reg0_next)\n    )\n)",
           "cls": "Process",
           "maxId": 78,
           "name": null
          },
          "id": "6",
          "ports": [
           {
            "children": [],
            "direction": "OUTPUT",
            "hwMeta": {
             "connectedAsParent": false,
             "level": 0,
             "name": "out_reg0"
            },
            "id": "33",
            "properties": {
             "index": 0,
             "side": "EAST"
            }
           },
           {
            "children": [],
            "direction": "OUTPUT",
            "hwMeta": {
             "connectedAsParent": false,
             "level": 0,
             "name": "out_reg1"
            },
            "id": "34",
            "properties": {
             "index": 1,
             "side": "EAST"
            }
           },
           {
            "children": [],
            "direction": "INPUT",
            "hwMeta": {
             "connectedAsParent": false,
             "level": 0,
             "name": "out_reg1_next"
            },
            "id": "35",
            "properties": {
             "index": 2,
             "side": "WEST"
            }
           },
           {
            "children": [],
            "direction": "INPUT",
            "hwMeta": {
             "connectedAsParent": false,
             "level": 0,
             "name": "out_reg0_next"
            },
            "id": "36",
            "properties": {
             "index": 3,
             "side": "WEST"
            }
           },
           {
            "children": [],
            "direction": "INPUT",
            "hwMeta": {
             "connectedAsParent": false,
             "level": 0,
             "name": "dataOut_rst"
            },
            "id": "37",
            "properties": {
             "index": 4,
             "side": "WEST"
            }
           },
           {
            "children": [],
            "direction": "INPUT",
            "hwMeta": {
             "connectedAsParent": false,
             "level": 0,
             "name": "dataOut_clk"
            },
            "id": "38",
            "properties": {
             "index": 5,
             "side": "WEST"
            }
           }
          ],
          "properties": {
           "org.eclipse.elk.layered.mergeEdges": 1,
           "org.eclipse.elk.portConstraints": "FIXED_ORDER"
          }
         }
        ],
        "edges": [
         {
          "hwMeta": {
           "name": "in_reg0"
          },
          "id": "79",
          "source": "1",
          "sourcePort": "19",
          "target": "6",
          "targetPort": "36"
         },
         {
          "hwMeta": {
           "name": "in_reg0_next"
          },
          "id": "80",
          "source": "15",
          "sourcePort": "58",
          "target": "1",
          "targetPort": "20"
         },
         {
          "hwMeta": {
           "name": "dataIn_rst"
          },
          "id": "81",
          "source": "14",
          "sourcePort": "57",
          "target": "1",
          "targetPort": "21"
         },
         {
          "hwMeta": {
           "name": "dataIn_clk"
          },
          "id": "82",
          "source": "13",
          "sourcePort": "56",
          "target": "1",
          "targetPort": "22"
         },
         {
          "hwMeta": {
           "name": "out_reg1_next"
          },
          "id": "83",
          "source": "6",
          "sourcePort": "33",
          "target": "6",
          "targetPort": "35"
         },
         {
          "hwMeta": {
           "name": "out_reg1"
          },
          "id": "84",
          "source": "6",
          "sourcePort": "34",
          "target": "18",
          "targetPort": "61"
         },
         {
          "hwMeta": {
           "name": "dataOut_rst"
          },
          "id": "85",
          "source": "17",
          "sourcePort": "60",
          "target": "6",
          "targetPort": "37"
         },
         {
          "hwMeta": {
           "name": "dataOut_clk"
          },
          "id": "86",
          "source": "16",
          "sourcePort": "59",
          "target": "6",
          "targetPort": "38"
         }
        ],
        "hwMeta": {
         "cls": null,
         "maxId": 86,
         "name": "Cdc"
        },
        "ports": [],
        "properties": {
         "org.eclipse.elk.layered.mergeEdges": 1,
         "org.eclipse.elk.portConstraints": "FIXED_ORDER"
        }
       },
       "width": "1000px"
      }
     },
     "db01c621241940df8767629196a77980": {
      "model_module": "jupyter_widget_hwt",
      "model_module_version": "^0.0.1",
      "model_name": "HwtSchemeModel",
      "state": {
       "_model_module_version": "^0.0.1",
       "_view_module_version": "^0.0.1",
       "height": "400px",
       "layout": "IPY_MODEL_69adbeb059a74ba0be48c7b7dd6a8b5b",
       "value": {
        "children": [
         {
          "_children": [
           {
            "hwMeta": {
             "cls": "Operator",
             "maxId": 101,
             "name": "MUX"
            },
            "id": "10",
            "ports": [
             {
              "children": [],
              "direction": "OUTPUT",
              "hwMeta": {
               "connectedAsParent": false,
               "level": 0,
               "name": ""
              },
              "id": "59",
              "properties": {
               "index": 0,
               "side": "EAST"
              }
             },
             {
              "children": [],
              "direction": "INPUT",
              "hwMeta": {
               "connectedAsParent": false,
               "level": 0,
               "name": ""
              },
              "id": "60",
              "properties": {
               "index": 1,
               "side": "SOUTH"
              }
             },
             {
              "children": [],
              "direction": "INPUT",
              "hwMeta": {
               "connectedAsParent": false,
               "level": 0,
               "name": ""
              },
              "id": "61",
              "properties": {
               "index": 2,
               "side": "WEST"
              }
             },
             {
              "children": [],
              "direction": "INPUT",
              "hwMeta": {
               "connectedAsParent": false,
               "level": 0,
               "name": ""
              },
              "id": "62",
              "properties": {
               "index": 3,
               "side": "WEST"
              }
             }
            ],
            "properties": {
             "org.eclipse.elk.layered.mergeEdges": 1,
             "org.eclipse.elk.portConstraints": "FIXED_ORDER"
            }
           },
           {
            "hwMeta": {
             "cls": "Operator",
             "maxId": 101,
             "name": "FF"
            },
            "id": "11",
            "ports": [
             {
              "children": [],
              "direction": "OUTPUT",
              "hwMeta": {
               "connectedAsParent": false,
               "level": 0,
               "name": "o"
              },
              "id": "63",
              "properties": {
               "index": 0,
               "side": "EAST"
              }
             },
             {
              "children": [],
              "direction": "INPUT",
              "hwMeta": {
               "connectedAsParent": false,
               "level": 0,
               "name": "i"
              },
              "id": "64",
              "properties": {
               "index": 1,
               "side": "WEST"
              }
             },
             {
              "children": [],
              "direction": "INPUT",
              "hwMeta": {
               "connectedAsParent": false,
               "level": 0,
               "name": "clk"
              },
              "id": "65",
              "properties": {
               "index": 2,
               "side": "WEST"
              }
             }
            ],
            "properties": {
             "org.eclipse.elk.layered.mergeEdges": 1,
             "org.eclipse.elk.portConstraints": "FIXED_ORDER"
            }
           },
           {
            "hwMeta": {
             "cls": "Operator",
             "maxId": 101,
             "name": "MUX"
            },
            "id": "2",
            "ports": [
             {
              "children": [],
              "direction": "OUTPUT",
              "hwMeta": {
               "connectedAsParent": false,
               "level": 0,
               "name": ""
              },
              "id": "38",
              "properties": {
               "index": 0,
               "side": "EAST"
              }
             },
             {
              "children": [],
              "direction": "INPUT",
              "hwMeta": {
               "connectedAsParent": false,
               "level": 0,
               "name": ""
              },
              "id": "39",
              "properties": {
               "index": 1,
               "side": "SOUTH"
              }
             },
             {
              "children": [],
              "direction": "INPUT",
              "hwMeta": {
               "connectedAsParent": false,
               "level": 0,
               "name": ""
              },
              "id": "40",
              "properties": {
               "index": 2,
               "side": "WEST"
              }
             },
             {
              "children": [],
              "direction": "INPUT",
              "hwMeta": {
               "connectedAsParent": false,
               "level": 0,
               "name": ""
              },
              "id": "41",
              "properties": {
               "index": 3,
               "side": "WEST"
              }
             }
            ],
            "properties": {
             "org.eclipse.elk.layered.mergeEdges": 1,
             "org.eclipse.elk.portConstraints": "FIXED_ORDER"
            }
           },
           {
            "hwMeta": {
             "cls": "Operator",
             "maxId": 101,
             "name": "EQ"
            },
            "id": "3",
            "ports": [
             {
              "children": [],
              "direction": "OUTPUT",
              "hwMeta": {
               "connectedAsParent": false,
               "level": 0,
               "name": null
              },
              "id": "42",
              "properties": {
               "index": 0,
               "side": "EAST"
              }
             },
             {
              "children": [],
              "direction": "INPUT",
              "hwMeta": {
               "connectedAsParent": false,
               "level": 0,
               "name": null
              },
              "id": "43",
              "properties": {
               "index": 1,
               "side": "WEST"
              }
             },
             {
              "children": [],
              "direction": "INPUT",
              "hwMeta": {
               "connectedAsParent": false,
               "level": 0,
               "name": null
              },
              "id": "44",
              "properties": {
               "index": 2,
               "side": "WEST"
              }
             }
            ],
            "properties": {
             "org.eclipse.elk.layered.mergeEdges": 1,
             "org.eclipse.elk.portConstraints": "FIXED_ORDER"
            }
           },
           {
            "hwMeta": {
             "bodyText": "0",
             "cls": "Operator",
             "maxId": 101,
             "name": null
            },
            "id": "4",
            "ports": [
             {
              "children": [],
              "direction": "OUTPUT",
              "hwMeta": {
               "connectedAsParent": false,
               "level": 0,
               "name": null
              },
              "id": "45",
              "properties": {
               "side": "EAST"
              }
             }
            ],
            "properties": {
             "org.eclipse.elk.layered.mergeEdges": 1,
             "org.eclipse.elk.portConstraints": "FREE"
            }
           },
           {
            "hwMeta": {
             "bodyText": "0",
             "cls": "Operator",
             "maxId": 101,
             "name": null
            },
            "id": "5",
            "ports": [
             {
              "children": [],
              "direction": "OUTPUT",
              "hwMeta": {
               "connectedAsParent": false,
               "level": 0,
               "name": null
              },
              "id": "46",
              "properties": {
               "side": "EAST"
              }
             }
            ],
            "properties": {
             "org.eclipse.elk.layered.mergeEdges": 1,
             "org.eclipse.elk.portConstraints": "FREE"
            }
           },
           {
            "hwMeta": {
             "cls": "Operator",
             "maxId": 101,
             "name": "FF"
            },
            "id": "6",
            "ports": [
             {
              "children": [],
              "direction": "OUTPUT",
              "hwMeta": {
               "connectedAsParent": false,
               "level": 0,
               "name": "o"
              },
              "id": "47",
              "properties": {
               "index": 0,
               "side": "EAST"
              }
             },
             {
              "children": [],
              "direction": "INPUT",
              "hwMeta": {
               "connectedAsParent": false,
               "level": 0,
               "name": "i"
              },
              "id": "48",
              "properties": {
               "index": 1,
               "side": "WEST"
              }
             },
             {
              "children": [],
              "direction": "INPUT",
              "hwMeta": {
               "connectedAsParent": false,
               "level": 0,
               "name": "clk"
              },
              "id": "49",
              "properties": {
               "index": 2,
               "side": "WEST"
              }
             }
            ],
            "properties": {
             "org.eclipse.elk.layered.mergeEdges": 1,
             "org.eclipse.elk.portConstraints": "FIXED_ORDER"
            }
           },
           {
            "hwMeta": {
             "cls": "Operator",
             "maxId": 101,
             "name": "RISING_EDGE"
            },
            "id": "7",
            "ports": [
             {
              "children": [],
              "direction": "OUTPUT",
              "hwMeta": {
               "connectedAsParent": false,
               "level": 0,
               "name": null
              },
              "id": "50",
              "properties": {
               "index": 0,
               "side": "EAST"
              }
             },
             {
              "children": [],
              "direction": "INPUT",
              "hwMeta": {
               "connectedAsParent": false,
               "level": 0,
               "name": null
              },
              "id": "51",
              "properties": {
               "index": 1,
               "side": "WEST"
              }
             }
            ],
            "properties": {
             "org.eclipse.elk.layered.mergeEdges": 1,
             "org.eclipse.elk.portConstraints": "FIXED_ORDER"
            }
           },
           {
            "hwMeta": {
             "cls": "Operator",
             "maxId": 101,
             "name": "MUX"
            },
            "id": "8",
            "ports": [
             {
              "children": [],
              "direction": "OUTPUT",
              "hwMeta": {
               "connectedAsParent": false,
               "level": 0,
               "name": ""
              },
              "id": "52",
              "properties": {
               "index": 0,
               "side": "EAST"
              }
             },
             {
              "children": [],
              "direction": "INPUT",
              "hwMeta": {
               "connectedAsParent": false,
               "level": 0,
               "name": ""
              },
              "id": "53",
              "properties": {
               "index": 1,
               "side": "SOUTH"
              }
             },
             {
              "children": [],
              "direction": "INPUT",
              "hwMeta": {
               "connectedAsParent": false,
               "level": 0,
               "name": ""
              },
              "id": "54",
              "properties": {
               "index": 2,
               "side": "WEST"
              }
             },
             {
              "children": [],
              "direction": "INPUT",
              "hwMeta": {
               "connectedAsParent": false,
               "level": 0,
               "name": ""
              },
              "id": "55",
              "properties": {
               "index": 3,
               "side": "WEST"
              }
             }
            ],
            "properties": {
             "org.eclipse.elk.layered.mergeEdges": 1,
             "org.eclipse.elk.portConstraints": "FIXED_ORDER"
            }
           },
           {
            "hwMeta": {
             "cls": "Operator",
             "maxId": 101,
             "name": "FF"
            },
            "id": "9",
            "ports": [
             {
              "children": [],
              "direction": "OUTPUT",
              "hwMeta": {
               "connectedAsParent": false,
               "level": 0,
               "name": "o"
              },
              "id": "56",
              "properties": {
               "index": 0,
               "side": "EAST"
              }
             },
             {
              "children": [],
              "direction": "INPUT",
              "hwMeta": {
               "connectedAsParent": false,
               "level": 0,
               "name": "i"
              },
              "id": "57",
              "properties": {
               "index": 1,
               "side": "WEST"
              }
             },
             {
              "children": [],
              "direction": "INPUT",
              "hwMeta": {
               "connectedAsParent": false,
               "level": 0,
               "name": "clk"
              },
              "id": "58",
              "properties": {
               "index": 2,
               "side": "WEST"
              }
             }
            ],
            "properties": {
             "org.eclipse.elk.layered.mergeEdges": 1,
             "org.eclipse.elk.portConstraints": "FIXED_ORDER"
            }
           }
          ],
          "_edges": [
           {
            "hwMeta": {
             "name": null
            },
            "id": "102",
            "source": "2",
            "sourcePort": "38",
            "target": "6",
            "targetPort": "48"
           },
           {
            "hwMeta": {
             "name": "rst_n._eq(0)"
            },
            "id": "103",
            "sources": [
             [
              "3",
              "42"
             ]
            ],
            "targets": [
             [
              "2",
              "39"
             ],
             [
              "8",
              "53"
             ],
             [
              "10",
              "60"
             ]
            ]
           },
           {
            "hwMeta": {
             "name": "y1_next"
            },
            "id": "104",
            "source": "1",
            "sourcePort": "33",
            "target": "2",
            "targetPort": "40"
           },
           {
            "hwMeta": {
             "name": "<BitsVal 0>"
            },
            "id": "105",
            "sources": [
             [
              "5",
              "46"
             ]
            ],
            "targets": [
             [
              "2",
              "41"
             ],
             [
              "8",
              "55"
             ],
             [
              "10",
              "62"
             ]
            ]
           },
           {
            "hwMeta": {
             "name": "<BitsVal 0>"
            },
            "id": "106",
            "source": "4",
            "sourcePort": "45",
            "target": "3",
            "targetPort": "43"
           },
           {
            "hwMeta": {
             "name": "rst_n"
            },
            "id": "107",
            "source": "1",
            "sourcePort": "36",
            "target": "3",
            "targetPort": "44"
           },
           {
            "hwMeta": {
             "name": "y1"
            },
            "id": "108",
            "source": "6",
            "sourcePort": "47",
            "target": "1",
            "targetPort": "32"
           },
           {
            "hwMeta": {
             "name": "clk._onRisingEdge()"
            },
            "id": "109",
            "sources": [
             [
              "7",
              "50"
             ]
            ],
            "targets": [
             [
              "6",
              "49"
             ],
             [
              "9",
              "58"
             ],
             [
              "11",
              "65"
             ]
            ]
           },
           {
            "hwMeta": {
             "name": "clk"
            },
            "id": "110",
            "source": "1",
            "sourcePort": "37",
            "target": "7",
            "targetPort": "51"
           },
           {
            "hwMeta": {
             "name": null
            },
            "id": "111",
            "source": "8",
            "sourcePort": "52",
            "target": "9",
            "targetPort": "57"
           },
           {
            "hwMeta": {
             "name": "y0_next"
            },
            "id": "112",
            "source": "1",
            "sourcePort": "34",
            "target": "8",
            "targetPort": "54"
           },
           {
            "hwMeta": {
             "name": "y0"
            },
            "id": "113",
            "source": "9",
            "sourcePort": "56",
            "target": "1",
            "targetPort": "31"
           },
           {
            "hwMeta": {
             "name": null
            },
            "id": "114",
            "source": "10",
            "sourcePort": "59",
            "target": "11",
            "targetPort": "64"
           },
           {
            "hwMeta": {
             "name": "u_next"
            },
            "id": "115",
            "source": "1",
            "sourcePort": "35",
            "target": "10",
            "targetPort": "61"
           },
           {
            "hwMeta": {
             "name": "u"
            },
            "id": "116",
            "source": "11",
            "sourcePort": "63",
            "target": "1",
            "targetPort": "30"
           }
          ],
          "hwMeta": {
           "bodyText": "If(clk._onRisingEdge(),\n    If(rst_n._eq(0),\n        y1(0),\n        y0(0),\n        u(0)\n    ).Else(\n        y1(y1_next),\n        y0(y0_next),\n        u(u_next)\n    )\n)",
           "cls": "Process",
           "maxId": 116,
           "name": null
          },
          "id": "1",
          "ports": [
           {
            "children": [],
            "direction": "OUTPUT",
            "hwMeta": {
             "connectedAsParent": false,
             "level": 0,
             "name": "u"
            },
            "id": "30",
            "properties": {
             "index": 0,
             "side": "EAST"
            }
           },
           {
            "children": [],
            "direction": "OUTPUT",
            "hwMeta": {
             "connectedAsParent": false,
             "level": 0,
             "name": "y0"
            },
            "id": "31",
            "properties": {
             "index": 1,
             "side": "EAST"
            }
           },
           {
            "children": [],
            "direction": "OUTPUT",
            "hwMeta": {
             "connectedAsParent": false,
             "level": 0,
             "name": "y1"
            },
            "id": "32",
            "properties": {
             "index": 2,
             "side": "EAST"
            }
           },
           {
            "children": [],
            "direction": "INPUT",
            "hwMeta": {
             "connectedAsParent": false,
             "level": 0,
             "name": "y1_next"
            },
            "id": "33",
            "properties": {
             "index": 3,
             "side": "WEST"
            }
           },
           {
            "children": [],
            "direction": "INPUT",
            "hwMeta": {
             "connectedAsParent": false,
             "level": 0,
             "name": "y0_next"
            },
            "id": "34",
            "properties": {
             "index": 4,
             "side": "WEST"
            }
           },
           {
            "children": [],
            "direction": "INPUT",
            "hwMeta": {
             "connectedAsParent": false,
             "level": 0,
             "name": "u_next"
            },
            "id": "35",
            "properties": {
             "index": 5,
             "side": "WEST"
            }
           },
           {
            "children": [],
            "direction": "INPUT",
            "hwMeta": {
             "connectedAsParent": false,
             "level": 0,
             "name": "rst_n"
            },
            "id": "36",
            "properties": {
             "index": 6,
             "side": "WEST"
            }
           },
           {
            "children": [],
            "direction": "INPUT",
            "hwMeta": {
             "connectedAsParent": false,
             "level": 0,
             "name": "clk"
            },
            "id": "37",
            "properties": {
             "index": 7,
             "side": "WEST"
            }
           }
          ],
          "properties": {
           "org.eclipse.elk.layered.mergeEdges": 1,
           "org.eclipse.elk.portConstraints": "FIXED_ORDER"
          }
         },
         {
          "hwMeta": {
           "cls": null,
           "isExternalPort": true,
           "maxId": 116,
           "name": "clk"
          },
          "id": "12",
          "ports": [
           {
            "children": [],
            "direction": "OUTPUT",
            "hwMeta": {
             "connectedAsParent": false,
             "level": 0,
             "name": "clk"
            },
            "id": "66",
            "properties": {
             "index": 0,
             "side": "EAST"
            }
           }
          ],
          "properties": {
           "org.eclipse.elk.layered.mergeEdges": 1,
           "org.eclipse.elk.portConstraints": "FIXED_ORDER"
          }
         },
         {
          "hwMeta": {
           "cls": null,
           "isExternalPort": true,
           "maxId": 116,
           "name": "rst_n"
          },
          "id": "13",
          "ports": [
           {
            "children": [],
            "direction": "OUTPUT",
            "hwMeta": {
             "connectedAsParent": false,
             "level": 0,
             "name": "rst_n"
            },
            "id": "67",
            "properties": {
             "index": 0,
             "side": "EAST"
            }
           }
          ],
          "properties": {
           "org.eclipse.elk.layered.mergeEdges": 1,
           "org.eclipse.elk.portConstraints": "FIXED_ORDER"
          }
         },
         {
          "hwMeta": {
           "cls": null,
           "isExternalPort": true,
           "maxId": 116,
           "name": "input"
          },
          "id": "14",
          "ports": [
           {
            "children": [],
            "direction": "OUTPUT",
            "hwMeta": {
             "connectedAsParent": false,
             "level": 0,
             "name": "input"
            },
            "id": "68",
            "properties": {
             "index": 0,
             "side": "EAST"
            }
           }
          ],
          "properties": {
           "org.eclipse.elk.layered.mergeEdges": 1,
           "org.eclipse.elk.portConstraints": "FIXED_ORDER"
          }
         },
         {
          "hwMeta": {
           "cls": null,
           "isExternalPort": true,
           "maxId": 116,
           "name": "output"
          },
          "id": "15",
          "ports": [
           {
            "children": [],
            "direction": "INPUT",
            "hwMeta": {
             "connectedAsParent": false,
             "level": 0,
             "name": "output"
            },
            "id": "69",
            "properties": {
             "index": 0,
             "side": "WEST"
            }
           }
          ],
          "properties": {
           "org.eclipse.elk.layered.mergeEdges": 1,
           "org.eclipse.elk.portConstraints": "FIXED_ORDER"
          }
         },
         {
          "hwMeta": {
           "cls": null,
           "isExternalPort": true,
           "maxId": 116,
           "name": "target"
          },
          "id": "16",
          "ports": [
           {
            "children": [],
            "direction": "OUTPUT",
            "hwMeta": {
             "connectedAsParent": false,
             "level": 0,
             "name": "target"
            },
            "id": "70",
            "properties": {
             "index": 0,
             "side": "EAST"
            }
           }
          ],
          "properties": {
           "org.eclipse.elk.layered.mergeEdges": 1,
           "org.eclipse.elk.portConstraints": "FIXED_ORDER"
          }
         },
         {
          "hwMeta": {
           "cls": null,
           "isExternalPort": true,
           "maxId": 116,
           "name": "coefs_0"
          },
          "id": "17",
          "ports": [
           {
            "children": [],
            "direction": "OUTPUT",
            "hwMeta": {
             "connectedAsParent": false,
             "level": 0,
             "name": "coefs_0"
            },
            "id": "71",
            "properties": {
             "index": 0,
             "side": "EAST"
            }
           }
          ],
          "properties": {
           "org.eclipse.elk.layered.mergeEdges": 1,
           "org.eclipse.elk.portConstraints": "FIXED_ORDER"
          }
         },
         {
          "hwMeta": {
           "cls": null,
           "isExternalPort": true,
           "maxId": 116,
           "name": "coefs_1"
          },
          "id": "18",
          "ports": [
           {
            "children": [],
            "direction": "OUTPUT",
            "hwMeta": {
             "connectedAsParent": false,
             "level": 0,
             "name": "coefs_1"
            },
            "id": "72",
            "properties": {
             "index": 0,
             "side": "EAST"
            }
           }
          ],
          "properties": {
           "org.eclipse.elk.layered.mergeEdges": 1,
           "org.eclipse.elk.portConstraints": "FIXED_ORDER"
          }
         },
         {
          "hwMeta": {
           "cls": null,
           "isExternalPort": true,
           "maxId": 116,
           "name": "coefs_2"
          },
          "id": "19",
          "ports": [
           {
            "children": [],
            "direction": "OUTPUT",
            "hwMeta": {
             "connectedAsParent": false,
             "level": 0,
             "name": "coefs_2"
            },
            "id": "73",
            "properties": {
             "index": 0,
             "side": "EAST"
            }
           }
          ],
          "properties": {
           "org.eclipse.elk.layered.mergeEdges": 1,
           "org.eclipse.elk.portConstraints": "FIXED_ORDER"
          }
         },
         {
          "hwMeta": {
           "cls": null,
           "isExternalPort": true,
           "maxId": 116,
           "name": "coefs_3"
          },
          "id": "20",
          "ports": [
           {
            "children": [],
            "direction": "OUTPUT",
            "hwMeta": {
             "connectedAsParent": false,
             "level": 0,
             "name": "coefs_3"
            },
            "id": "74",
            "properties": {
             "index": 0,
             "side": "EAST"
            }
           }
          ],
          "properties": {
           "org.eclipse.elk.layered.mergeEdges": 1,
           "org.eclipse.elk.portConstraints": "FIXED_ORDER"
          }
         },
         {
          "hwMeta": {
           "cls": "Operator",
           "maxId": 116,
           "name": "SUB"
          },
          "id": "21",
          "ports": [
           {
            "children": [],
            "direction": "OUTPUT",
            "hwMeta": {
             "connectedAsParent": false,
             "level": 0,
             "name": null
            },
            "id": "75",
            "properties": {
             "index": 0,
             "side": "EAST"
            }
           },
           {
            "children": [],
            "direction": "INPUT",
            "hwMeta": {
             "connectedAsParent": false,
             "level": 0,
             "name": null
            },
            "id": "76",
            "properties": {
             "index": 1,
             "side": "WEST"
            }
           },
           {
            "children": [],
            "direction": "INPUT",
            "hwMeta": {
             "connectedAsParent": false,
             "level": 0,
             "name": null
            },
            "id": "77",
            "properties": {
             "index": 2,
             "side": "WEST"
            }
           }
          ],
          "properties": {
           "org.eclipse.elk.layered.mergeEdges": 1,
           "org.eclipse.elk.portConstraints": "FIXED_ORDER"
          }
         },
         {
          "hwMeta": {
           "cls": "Operator",
           "maxId": 116,
           "name": "ADD"
          },
          "id": "22",
          "ports": [
           {
            "children": [],
            "direction": "OUTPUT",
            "hwMeta": {
             "connectedAsParent": false,
             "level": 0,
             "name": null
            },
            "id": "78",
            "properties": {
             "index": 0,
             "side": "EAST"
            }
           },
           {
            "children": [],
            "direction": "INPUT",
            "hwMeta": {
             "connectedAsParent": false,
             "level": 0,
             "name": null
            },
            "id": "79",
            "properties": {
             "index": 1,
             "side": "WEST"
            }
           },
           {
            "children": [],
            "direction": "INPUT",
            "hwMeta": {
             "connectedAsParent": false,
             "level": 0,
             "name": null
            },
            "id": "80",
            "properties": {
             "index": 2,
             "side": "WEST"
            }
           }
          ],
          "properties": {
           "org.eclipse.elk.layered.mergeEdges": 1,
           "org.eclipse.elk.portConstraints": "FIXED_ORDER"
          }
         },
         {
          "hwMeta": {
           "cls": "Operator",
           "maxId": 116,
           "name": "ADD"
          },
          "id": "23",
          "ports": [
           {
            "children": [],
            "direction": "OUTPUT",
            "hwMeta": {
             "connectedAsParent": false,
             "level": 0,
             "name": null
            },
            "id": "81",
            "properties": {
             "index": 0,
             "side": "EAST"
            }
           },
           {
            "children": [],
            "direction": "INPUT",
            "hwMeta": {
             "connectedAsParent": false,
             "level": 0,
             "name": null
            },
            "id": "82",
            "properties": {
             "index": 1,
             "side": "WEST"
            }
           },
           {
            "children": [],
            "direction": "INPUT",
            "hwMeta": {
             "connectedAsParent": false,
             "level": 0,
             "name": null
            },
            "id": "83",
            "properties": {
             "index": 2,
             "side": "WEST"
            }
           }
          ],
          "properties": {
           "org.eclipse.elk.layered.mergeEdges": 1,
           "org.eclipse.elk.portConstraints": "FIXED_ORDER"
          }
         },
         {
          "hwMeta": {
           "cls": "Operator",
           "maxId": 116,
           "name": "ADD"
          },
          "id": "24",
          "ports": [
           {
            "children": [],
            "direction": "OUTPUT",
            "hwMeta": {
             "connectedAsParent": false,
             "level": 0,
             "name": null
            },
            "id": "84",
            "properties": {
             "index": 0,
             "side": "EAST"
            }
           },
           {
            "children": [],
            "direction": "INPUT",
            "hwMeta": {
             "connectedAsParent": false,
             "level": 0,
             "name": null
            },
            "id": "85",
            "properties": {
             "index": 1,
             "side": "WEST"
            }
           },
           {
            "children": [],
            "direction": "INPUT",
            "hwMeta": {
             "connectedAsParent": false,
             "level": 0,
             "name": null
            },
            "id": "86",
            "properties": {
             "index": 2,
             "side": "WEST"
            }
           }
          ],
          "properties": {
           "org.eclipse.elk.layered.mergeEdges": 1,
           "org.eclipse.elk.portConstraints": "FIXED_ORDER"
          }
         },
         {
          "hwMeta": {
           "cls": "Operator",
           "maxId": 116,
           "name": "ADD"
          },
          "id": "25",
          "ports": [
           {
            "children": [],
            "direction": "OUTPUT",
            "hwMeta": {
             "connectedAsParent": false,
             "level": 0,
             "name": null
            },
            "id": "87",
            "properties": {
             "index": 0,
             "side": "EAST"
            }
           },
           {
            "children": [],
            "direction": "INPUT",
            "hwMeta": {
             "connectedAsParent": false,
             "level": 0,
             "name": null
            },
            "id": "88",
            "properties": {
             "index": 1,
             "side": "WEST"
            }
           },
           {
            "children": [],
            "direction": "INPUT",
            "hwMeta": {
             "connectedAsParent": false,
             "level": 0,
             "name": null
            },
            "id": "89",
            "properties": {
             "index": 2,
             "side": "WEST"
            }
           }
          ],
          "properties": {
           "org.eclipse.elk.layered.mergeEdges": 1,
           "org.eclipse.elk.portConstraints": "FIXED_ORDER"
          }
         },
         {
          "hwMeta": {
           "cls": "Operator",
           "maxId": 116,
           "name": "MUL"
          },
          "id": "26",
          "ports": [
           {
            "children": [],
            "direction": "OUTPUT",
            "hwMeta": {
             "connectedAsParent": false,
             "level": 0,
             "name": null
            },
            "id": "90",
            "properties": {
             "index": 0,
             "side": "EAST"
            }
           },
           {
            "children": [],
            "direction": "INPUT",
            "hwMeta": {
             "connectedAsParent": false,
             "level": 0,
             "name": null
            },
            "id": "91",
            "properties": {
             "index": 1,
             "side": "WEST"
            }
           },
           {
            "children": [],
            "direction": "INPUT",
            "hwMeta": {
             "connectedAsParent": false,
             "level": 0,
             "name": null
            },
            "id": "92",
            "properties": {
             "index": 2,
             "side": "WEST"
            }
           }
          ],
          "properties": {
           "org.eclipse.elk.layered.mergeEdges": 1,
           "org.eclipse.elk.portConstraints": "FIXED_ORDER"
          }
         },
         {
          "hwMeta": {
           "cls": "Operator",
           "maxId": 116,
           "name": "MUL"
          },
          "id": "27",
          "ports": [
           {
            "children": [],
            "direction": "OUTPUT",
            "hwMeta": {
             "connectedAsParent": false,
             "level": 0,
             "name": null
            },
            "id": "93",
            "properties": {
             "index": 0,
             "side": "EAST"
            }
           },
           {
            "children": [],
            "direction": "INPUT",
            "hwMeta": {
             "connectedAsParent": false,
             "level": 0,
             "name": null
            },
            "id": "94",
            "properties": {
             "index": 1,
             "side": "WEST"
            }
           },
           {
            "children": [],
            "direction": "INPUT",
            "hwMeta": {
             "connectedAsParent": false,
             "level": 0,
             "name": null
            },
            "id": "95",
            "properties": {
             "index": 2,
             "side": "WEST"
            }
           }
          ],
          "properties": {
           "org.eclipse.elk.layered.mergeEdges": 1,
           "org.eclipse.elk.portConstraints": "FIXED_ORDER"
          }
         },
         {
          "hwMeta": {
           "cls": "Operator",
           "maxId": 116,
           "name": "MUL"
          },
          "id": "28",
          "ports": [
           {
            "children": [],
            "direction": "OUTPUT",
            "hwMeta": {
             "connectedAsParent": false,
             "level": 0,
             "name": null
            },
            "id": "96",
            "properties": {
             "index": 0,
             "side": "EAST"
            }
           },
           {
            "children": [],
            "direction": "INPUT",
            "hwMeta": {
             "connectedAsParent": false,
             "level": 0,
             "name": null
            },
            "id": "97",
            "properties": {
             "index": 1,
             "side": "WEST"
            }
           },
           {
            "children": [],
            "direction": "INPUT",
            "hwMeta": {
             "connectedAsParent": false,
             "level": 0,
             "name": null
            },
            "id": "98",
            "properties": {
             "index": 2,
             "side": "WEST"
            }
           }
          ],
          "properties": {
           "org.eclipse.elk.layered.mergeEdges": 1,
           "org.eclipse.elk.portConstraints": "FIXED_ORDER"
          }
         },
         {
          "hwMeta": {
           "cls": "Operator",
           "maxId": 116,
           "name": "MUL"
          },
          "id": "29",
          "ports": [
           {
            "children": [],
            "direction": "OUTPUT",
            "hwMeta": {
             "connectedAsParent": false,
             "level": 0,
             "name": null
            },
            "id": "99",
            "properties": {
             "index": 0,
             "side": "EAST"
            }
           },
           {
            "children": [],
            "direction": "INPUT",
            "hwMeta": {
             "connectedAsParent": false,
             "level": 0,
             "name": null
            },
            "id": "100",
            "properties": {
             "index": 1,
             "side": "WEST"
            }
           },
           {
            "children": [],
            "direction": "INPUT",
            "hwMeta": {
             "connectedAsParent": false,
             "level": 0,
             "name": null
            },
            "id": "101",
            "properties": {
             "index": 2,
             "side": "WEST"
            }
           }
          ],
          "properties": {
           "org.eclipse.elk.layered.mergeEdges": 1,
           "org.eclipse.elk.portConstraints": "FIXED_ORDER"
          }
         }
        ],
        "edges": [
         {
          "hwMeta": {
           "name": "u"
          },
          "id": "117",
          "sources": [
           [
            "1",
            "30"
           ]
          ],
          "targets": [
           [
            "25",
            "89"
           ],
           [
            "15",
            "69"
           ]
          ]
         },
         {
          "hwMeta": {
           "name": "y1_next"
          },
          "id": "118",
          "sources": [
           [
            "1",
            "31"
           ]
          ],
          "targets": [
           [
            "1",
            "33"
           ],
           [
            "28",
            "97"
           ]
          ]
         },
         {
          "hwMeta": {
           "name": "y1"
          },
          "id": "119",
          "source": "1",
          "sourcePort": "32",
          "target": "29",
          "targetPort": "100"
         },
         {
          "hwMeta": {
           "name": "input"
          },
          "id": "120",
          "sources": [
           [
            "14",
            "68"
           ]
          ],
          "targets": [
           [
            "21",
            "77"
           ],
           [
            "1",
            "34"
           ],
           [
            "27",
            "94"
           ]
          ]
         },
         {
          "hwMeta": {
           "name": "u_next"
          },
          "id": "121",
          "source": "22",
          "sourcePort": "78",
          "target": "1",
          "targetPort": "35"
         },
         {
          "hwMeta": {
           "name": "rst_n"
          },
          "id": "122",
          "source": "13",
          "sourcePort": "67",
          "target": "1",
          "targetPort": "36"
         },
         {
          "hwMeta": {
           "name": "clk"
          },
          "id": "123",
          "source": "12",
          "sourcePort": "66",
          "target": "1",
          "targetPort": "37"
         },
         {
          "hwMeta": {
           "name": "target"
          },
          "id": "124",
          "source": "16",
          "sourcePort": "70",
          "target": "21",
          "targetPort": "76"
         },
         {
          "hwMeta": {
           "name": "coefs_0"
          },
          "id": "125",
          "source": "17",
          "sourcePort": "71",
          "target": "26",
          "targetPort": "92"
         },
         {
          "hwMeta": {
           "name": "coefs_1"
          },
          "id": "126",
          "source": "18",
          "sourcePort": "72",
          "target": "27",
          "targetPort": "95"
         },
         {
          "hwMeta": {
           "name": "coefs_2"
          },
          "id": "127",
          "source": "19",
          "sourcePort": "73",
          "target": "28",
          "targetPort": "98"
         },
         {
          "hwMeta": {
           "name": "coefs_3"
          },
          "id": "128",
          "source": "20",
          "sourcePort": "74",
          "target": "29",
          "targetPort": "101"
         },
         {
          "hwMeta": {
           "name": "input - target"
          },
          "id": "129",
          "source": "21",
          "sourcePort": "75",
          "target": "26",
          "targetPort": "91"
         },
         {
          "hwMeta": {
           "name": "coefs_3 * y1"
          },
          "id": "130",
          "source": "29",
          "sourcePort": "99",
          "target": "22",
          "targetPort": "79"
         },
         {
          "hwMeta": {
           "name": "u + coefs_0 * err + coefs_1 * input + coefs_2 * y0"
          },
          "id": "131",
          "source": "23",
          "sourcePort": "81",
          "target": "22",
          "targetPort": "80"
         },
         {
          "hwMeta": {
           "name": "coefs_2 * y0"
          },
          "id": "132",
          "source": "28",
          "sourcePort": "96",
          "target": "23",
          "targetPort": "82"
         },
         {
          "hwMeta": {
           "name": "u + coefs_0 * err + coefs_1 * input"
          },
          "id": "133",
          "source": "24",
          "sourcePort": "84",
          "target": "23",
          "targetPort": "83"
         },
         {
          "hwMeta": {
           "name": "coefs_1 * input"
          },
          "id": "134",
          "source": "27",
          "sourcePort": "93",
          "target": "24",
          "targetPort": "85"
         },
         {
          "hwMeta": {
           "name": "u + coefs_0 * err"
          },
          "id": "135",
          "source": "25",
          "sourcePort": "87",
          "target": "24",
          "targetPort": "86"
         },
         {
          "hwMeta": {
           "name": "coefs_0 * err"
          },
          "id": "136",
          "source": "26",
          "sourcePort": "90",
          "target": "25",
          "targetPort": "88"
         }
        ],
        "hwMeta": {
         "cls": null,
         "maxId": 136,
         "name": "PidController"
        },
        "ports": [],
        "properties": {
         "org.eclipse.elk.layered.mergeEdges": 1,
         "org.eclipse.elk.portConstraints": "FIXED_ORDER"
        }
       },
       "width": "1000px"
      }
     },
     "eac2ce2f8d6b448a9a39ffd12b7cb450": {
      "model_module": "@jupyter-widgets/base",
      "model_module_version": "1.2.0",
      "model_name": "LayoutModel",
      "state": {}
     },
     "ef4cbaaa160c4d85b3fd0bcbf1e38fab": {
      "model_module": "jupyter_widget_hwt",
      "model_module_version": "^0.0.1",
      "model_name": "HwtSchemeModel",
      "state": {
       "_model_module_version": "^0.0.1",
       "_view_module_version": "^0.0.1",
       "height": "50px",
       "layout": "IPY_MODEL_841713913c644a9aa19912ae09d7bd09",
       "value": {
        "children": [
         {
          "hwMeta": {
           "cls": null,
           "cssStyle": "stroke:orange;fill:red",
           "isExternalPort": true,
           "maxId": 4,
           "name": "a"
          },
          "id": "1",
          "ports": [
           {
            "direction": "OUTPUT",
            "hwMeta": {
             "cssStyle": "stroke:orange;fill:red",
             "level": 0,
             "name": "a"
            },
            "id": "3",
            "properties": {
             "index": 0,
             "side": "EAST"
            }
           }
          ],
          "properties": {
           "org.eclipse.elk.layered.mergeEdges": 1,
           "org.eclipse.elk.portConstraints": "FIXED_ORDER",
           "org.eclipse.elk.randomSeed": 0
          }
         },
         {
          "hwMeta": {
           "cls": null,
           "cssStyle": "stroke:orange;fill:red",
           "isExternalPort": true,
           "maxId": 4,
           "name": "b"
          },
          "id": "2",
          "ports": [
           {
            "direction": "INPUT",
            "hwMeta": {
             "cssStyle": "stroke:orange;fill:red",
             "level": 0,
             "name": "b"
            },
            "id": "4",
            "properties": {
             "index": 0,
             "side": "WEST"
            }
           }
          ],
          "properties": {
           "org.eclipse.elk.layered.mergeEdges": 1,
           "org.eclipse.elk.portConstraints": "FIXED_ORDER",
           "org.eclipse.elk.randomSeed": 0
          }
         }
        ],
        "edges": [
         {
          "hwMeta": {
           "cssStyle": "stroke:orange;fill:red",
           "name": "b"
          },
          "id": "5",
          "source": "1",
          "sourcePort": "3",
          "target": "2",
          "targetPort": "4"
         }
        ],
        "hwMeta": {
         "cls": null,
         "maxId": 5,
         "name": "SimpleUnit"
        },
        "ports": [],
        "properties": {
         "org.eclipse.elk.layered.mergeEdges": 1,
         "org.eclipse.elk.portConstraints": "FIXED_ORDER",
         "org.eclipse.elk.randomSeed": 0
        }
       }
      }
     }
    },
    "version_major": 2,
    "version_minor": 0
   }
  }
 },
 "nbformat": 4,
 "nbformat_minor": 4
}
