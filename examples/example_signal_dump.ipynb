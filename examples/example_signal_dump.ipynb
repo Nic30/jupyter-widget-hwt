{
 "cells": [
  {
   "cell_type": "code",
   "execution_count": 1,
   "metadata": {
    "scrolled": false
   },
   "outputs": [
    {
     "data": {
      "application/vnd.jupyter.widget-view+json": {
       "model_id": "2a6e40a4afb9472da95bf00b1119d0e3",
       "version_major": 2,
       "version_minor": 0
      },
      "text/plain": [
       "HwtSignalDumpWidget(height='600px', value={'name': 'FifoTC__Fifo', 'type': {'name': 'struct'}, 'children': [{'…"
      ]
     },
     "metadata": {},
     "output_type": "display_data"
    }
   ],
   "source": [
    "from jupyter_widget_hwt import HwtSignalDumpWidget\n",
    "from hwtLib.mem.fifo_test import FifoTC\n",
    "\n",
    "trace = HwtSignalDumpWidget(FifoTC('test_normalOp'), width=1000, height=600)\n",
    "import json\n",
    "# with open(\"FifoTC_test_normalOp.json\", \"w\") as f:\n",
    "#     json.dump(trace.value, f)\n",
    "display(trace)"
   ]
  },
  {
   "cell_type": "code",
   "execution_count": 2,
   "metadata": {},
   "outputs": [
    {
     "data": {
      "application/vnd.jupyter.widget-view+json": {
       "model_id": "1ff2693d6bed4b089c7e190aa960fb30",
       "version_major": 2,
       "version_minor": 0
      },
      "text/plain": [
       "HwtSignalDumpWidget(height='800px', value={'name': 'CuckooHashTableWithRamTC__CuckooHashTableWithRam', 'type':…"
      ]
     },
     "metadata": {},
     "output_type": "display_data"
    }
   ],
   "source": [
    "from hwtLib.mem.cuckooHashTableWithRam_test import CuckooHashTableWithRamTC\n",
    "trace = HwtSignalDumpWidget(CuckooHashTableWithRamTC('test_simpleInsertAndLookup_randomized'), width=1000, height=800)\n",
    "display(trace)"
   ]
  }
 ],
 "metadata": {
  "kernelspec": {
   "display_name": "Python 3",
   "language": "python",
   "name": "python3"
  },
  "language_info": {
   "codemirror_mode": {
    "name": "ipython",
    "version": 3
   },
   "file_extension": ".py",
   "mimetype": "text/x-python",
   "name": "python",
   "nbconvert_exporter": "python",
   "pygments_lexer": "ipython3",
   "version": "3.8.2"
  }
 },
 "nbformat": 4,
 "nbformat_minor": 4
}
