{
 "cells": [
  {
   "cell_type": "code",
   "execution_count": 1,
   "metadata": {},
   "outputs": [
    {
     "data": {
      "application/vnd.jupyter.widget-view+json": {
       "model_id": "38cd9cb763db4bf7b0dd362a04bcae34",
       "version_major": 2,
       "version_minor": 0
      },
      "text/plain": [
       "HwtSignalDumpWidget(height='600px', value={'name': 'FifoTC__Fifo', 'type': {'name': 'struct'}, 'data': [{'name…"
      ]
     },
     "metadata": {},
     "output_type": "display_data"
    }
   ],
   "source": [
    "from jupyter_widget_hwt import HwtSignalDumpWidget\n",
    "from hwtLib.mem.fifo_test import FifoTC\n",
    "\n",
    "trace = HwtSignalDumpWidget(FifoTC('test_normalOp'), width=1000, height=600)\n",
    "import json\n",
    "with open(\"FifoTC_test_normalOp.json\", \"w\") as f:\n",
    "    json.dump(trace.value, f)\n",
    "display(trace)"
   ]
  },
  {
   "cell_type": "code",
   "execution_count": null,
   "metadata": {},
   "outputs": [],
   "source": []
  },
  {
   "cell_type": "code",
   "execution_count": null,
   "metadata": {},
   "outputs": [],
   "source": []
  }
 ],
 "metadata": {
  "kernelspec": {
   "display_name": "Python 3",
   "language": "python",
   "name": "python3"
  },
  "language_info": {
   "codemirror_mode": {
    "name": "ipython",
    "version": 3
   },
   "file_extension": ".py",
   "mimetype": "text/x-python",
   "name": "python",
   "nbconvert_exporter": "python",
   "pygments_lexer": "ipython3",
   "version": "3.8.2"
  }
 },
 "nbformat": 4,
 "nbformat_minor": 4
}
