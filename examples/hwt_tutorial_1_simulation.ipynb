{
 "cells": [
  {
   "cell_type": "code",
   "execution_count": 1,
   "metadata": {},
   "outputs": [],
   "source": [
    "from hwt.hdl.constants import Time\n",
    "from hwt.simulator.simTestCase import SimTestCase\n",
    "from hwt.synthesizer.unit import Unit\n",
    "from hwt.interfaces.std import Signal\n",
    "\n",
    "\n",
    "# example component from previous tutorial\n",
    "class DirectWire(Unit):\n",
    "    def _declr(self):\n",
    "        self.a = Signal()\n",
    "        self.b = Signal()._m()\n",
    "\n",
    "    def _impl(self):\n",
    "        self.b(self.a)\n",
    "\n",
    "        \n",
    "# SimTestCase is derived from unittest.TestCase\n",
    "# which is class of unit test framework from standard python library\n",
    "class WireTC(SimTestCase):\n",
    "\n",
    "    # if method name starts with \"test\" unittest framework\n",
    "    # know that this method is test\n",
    "    def test_simple(self):\n",
    "        # create a unit instance\n",
    "        u = DirectWire()\n",
    "        # convert it to rtl level\n",
    "        # decorate interface with agents (._ag property) which will\n",
    "        # drive or monitor values on the interface\n",
    "        self.compileSimAndStart(u)\n",
    "\n",
    "        # there we have our test data, because SimpleUnit has only connection inside\n",
    "        # None represents invalid value (like universal \"x\" in vhdl)\n",
    "        inputData = [0, 1, 0, 1, None, 0, None, 1, None, 0]\n",
    "\n",
    "        # add inputData to agent for interface \"a\"\n",
    "        # now agent of \"a\" will popleft data from input data\n",
    "        # and it will put them on interface \"a\"\n",
    "        u.a._ag.data.extend(inputData)\n",
    "\n",
    "        # now we run simulation, we use our unit \"u\", our monitors\n",
    "        # and drivers of interfaces stored in \"procs\",\n",
    "        # we save dum of value changes into file \"tmp/simple.vcd\"\n",
    "        # (which is default) and we let simulation run for 100 ns\n",
    "        self.runSim(100*Time.ns)\n",
    "\n",
    "        # now we use part of unittest framework to check results\n",
    "        # use assertValSequenceEqual which sill automatically convert\n",
    "        # value objects to integer representation and checks them\n",
    "        self.assertValSequenceEqual(u.b._ag.data, inputData)"
   ]
  },
  {
   "cell_type": "code",
   "execution_count": 2,
   "metadata": {},
   "outputs": [
    {
     "name": "stderr",
     "output_type": "stream",
     "text": [
      "test_simple (__main__.WireTC) ... ok\n",
      "\n",
      "----------------------------------------------------------------------\n",
      "Ran 1 test in 0.006s\n",
      "\n",
      "OK\n"
     ]
    },
    {
     "data": {
      "text/plain": [
       "<unittest.runner.TextTestResult run=1 errors=0 failures=0>"
      ]
     },
     "execution_count": 2,
     "metadata": {},
     "output_type": "execute_result"
    }
   ],
   "source": [
    "import unittest\n",
    "\n",
    "# this is how you run unittest.TestCase (there is nothing specific to HWT SimTestCase)\n",
    "suite = unittest.TestSuite()\n",
    "\n",
    "# this is how you can select specific test\n",
    "# suite.addTest(WireTC('test_simple'))\n",
    "\n",
    "# this is how you add all test from testcase\n",
    "suite.addTest(unittest.makeSuite(WireTC))\n",
    "runner = unittest.TextTestRunner(verbosity=3)\n",
    "runner.run(suite)"
   ]
  },
  {
   "cell_type": "code",
   "execution_count": 3,
   "metadata": {},
   "outputs": [
    {
     "name": "stdout",
     "output_type": "stream",
     "text": [
      "FifoTC_test_normalOp.json  WireTC_test_simple.json\r\n",
      "FifoTC_test_normalOp.vcd   WireTC_test_simple.vcd\r\n"
     ]
    }
   ],
   "source": [
    "# there is an vcd file generated in tmp directory by default\n",
    "# (this behavior is specified by DEFAULT_LOG_DIR and DEFAULT_SIMULATOR property on test case)\n",
    "!ls tmp"
   ]
  },
  {
   "cell_type": "code",
   "execution_count": 4,
   "metadata": {},
   "outputs": [
    {
     "data": {
      "application/vnd.jupyter.widget-view+json": {
       "model_id": "95f7444581f243d7a087b51515d4fe64",
       "version_major": 2,
       "version_minor": 0
      },
      "text/plain": [
       "HwtSignalDumpWidget(height='150px', value={'name': 'WireTC_test_simple__DirectWire', 'type': {'name': 'struct'…"
      ]
     },
     "metadata": {},
     "output_type": "display_data"
    }
   ],
   "source": [
    "# Another way how to view and simulation output is to use HwtSignalDumpWidget\n",
    "from jupyter_widget_hwt import HwtSignalDumpWidget\n",
    "\n",
    "selected_test = WireTC('test_simple')\n",
    "trace = HwtSignalDumpWidget(selected_test, width=1000, height=150)\n",
    "display(trace)"
   ]
  }
 ],
 "metadata": {
  "kernelspec": {
   "display_name": "Python 3",
   "language": "python",
   "name": "python3"
  },
  "language_info": {
   "codemirror_mode": {
    "name": "ipython",
    "version": 3
   },
   "file_extension": ".py",
   "mimetype": "text/x-python",
   "name": "python",
   "nbconvert_exporter": "python",
   "pygments_lexer": "ipython3",
   "version": "3.8.2"
  }
 },
 "nbformat": 4,
 "nbformat_minor": 4
}
