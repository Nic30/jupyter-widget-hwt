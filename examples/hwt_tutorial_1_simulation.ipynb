{
 "cells": [
  {
   "cell_type": "code",
   "execution_count": 1,
   "metadata": {},
   "outputs": [],
   "source": [
    "from hwt.hdl.constants import Time\n",
    "from hwt.simulator.simTestCase import SimTestCase\n",
    "from hwt.synthesizer.unit import Unit\n",
    "from hwt.interfaces.std import Signal\n",
    "\n",
    "\n",
    "# example component from previous tutorial\n",
    "class DirectWire(Unit):\n",
    "    def _declr(self):\n",
    "        self.a = Signal()\n",
    "        self.b = Signal()._m()\n",
    "\n",
    "    def _impl(self):\n",
    "        self.b(self.a)\n",
    "\n",
    "        \n",
    "# SimTestCase is derived from unittest.TestCase\n",
    "# which is class of unit test framework from standard python library\n",
    "class WireTC(SimTestCase):\n",
    "\n",
    "    # if method name starts with \"test\" unittest framework\n",
    "    # know that this method is test\n",
    "    def test_simple(self):\n",
    "        # create a unit instance\n",
    "        u = DirectWire()\n",
    "        # convert it to rtl level\n",
    "        # decorate interface with agents (._ag property) which will\n",
    "        # drive or monitor values on the interface\n",
    "        self.compileSimAndStart(u)\n",
    "\n",
    "        # there we have our test data, because SimpleUnit has only connection inside\n",
    "        # None represents invalid value (like universal \"x\" in vhdl)\n",
    "        inputData = [0, 1, 0, 1, None, 0, None, 1, None, 0]\n",
    "\n",
    "        # add inputData to agent for interface \"a\"\n",
    "        # now agent of \"a\" will popleft data from input data\n",
    "        # and it will put them on interface \"a\"\n",
    "        u.a._ag.data.extend(inputData)\n",
    "\n",
    "        # now we run simulation, we use our unit \"u\", our monitors\n",
    "        # and drivers of interfaces stored in \"procs\",\n",
    "        # we save dum of value changes into file \"tmp/simple.vcd\"\n",
    "        # (which is default) and we let simulation run for 100 ns\n",
    "        self.runSim(100*Time.ns)\n",
    "\n",
    "        # now we use part of unittest framework to check results\n",
    "        # use assertValSequenceEqual which sill automatically convert\n",
    "        # value objects to integer representation and checks them\n",
    "        self.assertValSequenceEqual(u.b._ag.data, inputData)"
   ]
  },
  {
   "cell_type": "code",
   "execution_count": 2,
   "metadata": {},
   "outputs": [
    {
     "name": "stderr",
     "output_type": "stream",
     "text": [
      "test_simple (__main__.WireTC) ... "
     ]
    },
    {
     "name": "stderr",
     "output_type": "stream",
     "text": [
      "ok\n",
      "\n",
      "----------------------------------------------------------------------\n",
      "Ran 1 test in 0.003s\n",
      "\n",
      "OK\n"
     ]
    },
    {
     "data": {
      "text/plain": [
       "<unittest.runner.TextTestResult run=1 errors=0 failures=0>"
      ]
     },
     "execution_count": 2,
     "metadata": {},
     "output_type": "execute_result"
    }
   ],
   "source": [
    "import unittest\n",
    "\n",
    "# this is how you run unittest.TestCase (there is nothing specific to HWT SimTestCase)\n",
    "suite = unittest.TestSuite()\n",
    "\n",
    "# this is how you can select specific test\n",
    "# suite.addTest(WireTC('test_simple'))\n",
    "\n",
    "# this is how you add all test from testcase\n",
    "suite.addTest(unittest.makeSuite(WireTC))\n",
    "runner = unittest.TextTestRunner(verbosity=3)\n",
    "runner.run(suite)"
   ]
  },
  {
   "cell_type": "code",
   "execution_count": 3,
   "metadata": {},
   "outputs": [
    {
     "name": "stdout",
     "output_type": "stream",
     "text": [
      "WireTC_test_simple.vcd\r\n"
     ]
    }
   ],
   "source": [
    "# there is an vcd file generated in tmp directory by default\n",
    "# (this behavior is specified by DEFAULT_LOG_DIR and DEFAULT_SIMULATOR property on test case)\n",
    "!ls tmp"
   ]
  },
  {
   "cell_type": "code",
   "execution_count": 4,
   "metadata": {},
   "outputs": [
    {
     "data": {
      "application/vnd.jupyter.widget-view+json": {
       "model_id": "f05f68bf7b8b4ee7a97d426f35471151",
       "version_major": 2,
       "version_minor": 0
      },
      "text/plain": [
       "HwtSignalDumpWidget(height='150px', signal_data={'name': 'WireTC_test_simple__DirectWire', 'type': {'name': 's…"
      ]
     },
     "metadata": {},
     "output_type": "display_data"
    }
   ],
   "source": [
    "# Another way how to view and simulation output is to use HwtSignalDumpWidget\n",
    "from jupyter_widget_hwt import HwtSignalDumpWidget\n",
    "\n",
    "selected_test = WireTC('test_simple')\n",
    "trace = HwtSignalDumpWidget(selected_test, width=1000, height=150)\n",
    "display(trace)"
   ]
  }
 ],
 "metadata": {
  "kernelspec": {
   "display_name": "Python 3",
   "language": "python",
   "name": "python3"
  },
  "language_info": {
   "codemirror_mode": {
    "name": "ipython",
    "version": 3
   },
   "file_extension": ".py",
   "mimetype": "text/x-python",
   "name": "python",
   "nbconvert_exporter": "python",
   "pygments_lexer": "ipython3",
   "version": "3.8.2"
  },
  "widgets": {
   "application/vnd.jupyter.widget-state+json": {
    "state": {
     "83864e44d4674003b8f013da0c8f94f0": {
      "model_module": "@jupyter-widgets/base",
      "model_module_version": "1.2.0",
      "model_name": "LayoutModel",
      "state": {
       "_model_module": "@jupyter-widgets/base",
       "_model_module_version": "1.2.0",
       "_model_name": "LayoutModel",
       "_view_count": null,
       "_view_module": "@jupyter-widgets/base",
       "_view_module_version": "1.2.0",
       "_view_name": "LayoutView",
       "align_content": null,
       "align_items": null,
       "align_self": null,
       "border": null,
       "bottom": null,
       "display": null,
       "flex": null,
       "flex_flow": null,
       "grid_area": null,
       "grid_auto_columns": null,
       "grid_auto_flow": null,
       "grid_auto_rows": null,
       "grid_column": null,
       "grid_gap": null,
       "grid_row": null,
       "grid_template_areas": null,
       "grid_template_columns": null,
       "grid_template_rows": null,
       "height": null,
       "justify_content": null,
       "justify_items": null,
       "left": null,
       "margin": null,
       "max_height": null,
       "max_width": null,
       "min_height": null,
       "min_width": null,
       "object_fit": null,
       "object_position": null,
       "order": null,
       "overflow": null,
       "overflow_x": null,
       "overflow_y": null,
       "padding": null,
       "right": null,
       "top": null,
       "visibility": null,
       "width": null
      }
     },
     "f05f68bf7b8b4ee7a97d426f35471151": {
      "model_module": "jupyter_widget_hwt",
      "model_module_version": "^0.0.1",
      "model_name": "HwtSignalDumpModel",
      "state": {
       "_dom_classes": [],
       "_model_module": "jupyter_widget_hwt",
       "_model_module_version": "^0.0.1",
       "_model_name": "HwtSignalDumpModel",
       "_view_count": null,
       "_view_module": "jupyter_widget_hwt",
       "_view_module_version": "^0.0.1",
       "_view_name": "HwtSignalDumpView",
       "height": "150px",
       "layout": "IPY_MODEL_83864e44d4674003b8f013da0c8f94f0",
       "signal_data": {
        "children": [
         {
          "data": [
           [
            0,
            "0"
           ],
           [
            10000,
            "1"
           ],
           [
            20000,
            "0"
           ],
           [
            30000,
            "1"
           ],
           [
            40000,
            "X"
           ],
           [
            50000,
            "0"
           ],
           [
            60000,
            "X"
           ],
           [
            70000,
            "1"
           ],
           [
            80000,
            "X"
           ],
           [
            90000,
            "0"
           ]
          ],
          "name": "a",
          "type": {
           "name": "wire",
           "width": 1
          }
         },
         {
          "data": [
           [
            0,
            "0"
           ],
           [
            10000,
            "1"
           ],
           [
            20000,
            "0"
           ],
           [
            30000,
            "1"
           ],
           [
            40000,
            "X"
           ],
           [
            50000,
            "0"
           ],
           [
            60000,
            "X"
           ],
           [
            70000,
            "1"
           ],
           [
            80000,
            "X"
           ],
           [
            90000,
            "0"
           ]
          ],
          "name": "b",
          "type": {
           "name": "wire",
           "width": 1
          }
         }
        ],
        "name": "WireTC_test_simple__DirectWire",
        "type": {
         "name": "struct"
        }
       },
       "width": "1000px"
      }
     }
    },
    "version_major": 2,
    "version_minor": 0
   }
  }
 },
 "nbformat": 4,
 "nbformat_minor": 4
}
