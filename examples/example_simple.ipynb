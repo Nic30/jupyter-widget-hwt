{
 "cells": [
  {
   "cell_type": "code",
   "execution_count": 1,
   "metadata": {},
   "outputs": [],
   "source": [
    "from jupyter_widget_hwt.scheme import HwtSchemeWidget\n",
    "# currently HwtSchemeWidget can be used only once for each Unit istance as it modifies it\n",
    "# in order to create a new schema of same unit you need to deep copy it before passing it to HwtSchemeWidget\n",
    "# (temporary solution)"
   ]
  },
  {
   "cell_type": "code",
   "execution_count": 2,
   "metadata": {},
   "outputs": [
    {
     "data": {
      "application/vnd.jupyter.widget-view+json": {
       "model_id": "1581df2400d04dcca68b04e446edb3d6",
       "version_major": 2,
       "version_minor": 0
      },
      "text/plain": [
       "HwtSchemeWidget(height='50px', value={'hwMeta': {'name': 'SimpleUnit', 'maxId': 5}, 'properties': {'org.eclips…"
      ]
     },
     "metadata": {},
     "output_type": "display_data"
    }
   ],
   "source": [
    "from hwtLib.examples.simple import SimpleUnit\n",
    "u = SimpleUnit()\n",
    "HwtSchemeWidget(u, height=50)"
   ]
  },
  {
   "cell_type": "code",
   "execution_count": 3,
   "metadata": {},
   "outputs": [
    {
     "data": {
      "application/vnd.jupyter.widget-view+json": {
       "model_id": "c914d6d9aeff4e739b44286bdaebc06f",
       "version_major": 2,
       "version_minor": 0
      },
      "text/plain": [
       "HwtSchemeWidget(height='100px', value={'hwMeta': {'name': 'DReg_asyncRst', 'maxId': 34}, 'properties': {'org.e…"
      ]
     },
     "metadata": {},
     "output_type": "display_data"
    }
   ],
   "source": [
    "from hwtLib.examples.mem.reg import DReg_asyncRst\n",
    "u = DReg_asyncRst()\n",
    "HwtSchemeWidget(u, height=100)"
   ]
  },
  {
   "cell_type": "code",
   "execution_count": 4,
   "metadata": {},
   "outputs": [
    {
     "data": {
      "application/vnd.jupyter.widget-view+json": {
       "model_id": "5d830ef2cbb94863a8a4470a8b4a7072",
       "version_major": 2,
       "version_minor": 0
      },
      "text/plain": [
       "HwtSchemeWidget(height='250px', value={'hwMeta': {'name': 'Cdc', 'maxId': 86}, 'properties': {'org.eclipse.elk…"
      ]
     },
     "metadata": {},
     "output_type": "display_data"
    }
   ],
   "source": [
    "from hwtLib.clocking.cdc import Cdc\n",
    "u = Cdc()\n",
    "HwtSchemeWidget(u, height=250, width=2000)"
   ]
  },
  {
   "cell_type": "code",
   "execution_count": 5,
   "metadata": {},
   "outputs": [
    {
     "data": {
      "application/vnd.jupyter.widget-view+json": {
       "model_id": "cb182c0915ff4c72b248fb82945f72ae",
       "version_major": 2,
       "version_minor": 0
      },
      "text/plain": [
       "HwtSchemeWidget(height='400px', value={'hwMeta': {'name': 'PidController', 'maxId': 159}, 'properties': {'org.…"
      ]
     },
     "metadata": {},
     "output_type": "display_data"
    }
   ],
   "source": [
    "from hwtLib.logic.pid import PidController\n",
    "u = PidController()\n",
    "HwtSchemeWidget(u, height=400, width=2000)"
   ]
  },
  {
   "cell_type": "code",
   "execution_count": 6,
   "metadata": {},
   "outputs": [
    {
     "data": {
      "application/vnd.jupyter.widget-view+json": {
       "model_id": "2e0478d70d414f469f16af336289e979",
       "version_major": 2,
       "version_minor": 0
      },
      "text/plain": [
       "HwtSchemeWidget(height='600px', value={'hwMeta': {'name': 'HsFifoAsync', 'maxId': 578}, 'properties': {'org.ec…"
      ]
     },
     "metadata": {},
     "output_type": "display_data"
    }
   ],
   "source": [
    "from hwtLib.handshaked.fifoAsync import HsFifoAsync\n",
    "from hwt.interfaces.std import Handshaked\n",
    "u = HsFifoAsync(Handshaked)\n",
    "u.DEPTH = 8 + 1\n",
    "HwtSchemeWidget(u, height=600, width=2000)"
   ]
  },
  {
   "cell_type": "code",
   "execution_count": null,
   "metadata": {},
   "outputs": [],
   "source": []
  }
 ],
 "metadata": {
  "kernelspec": {
   "display_name": "Python 3",
   "language": "python",
   "name": "python3"
  },
  "language_info": {
   "codemirror_mode": {
    "name": "ipython",
    "version": 3
   },
   "file_extension": ".py",
   "mimetype": "text/x-python",
   "name": "python",
   "nbconvert_exporter": "python",
   "pygments_lexer": "ipython3",
   "version": "3.8.2"
  }
 },
 "nbformat": 4,
 "nbformat_minor": 4
}
