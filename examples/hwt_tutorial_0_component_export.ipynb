{
 "cells": [
  {
   "cell_type": "code",
   "execution_count": 1,
   "metadata": {},
   "outputs": [],
   "source": [
    "%reload_ext jupyter_widget_hwt\n",
    "\n",
    "# HWT essentials\n",
    "# Signal is a basic interface, its is like wire in Verilog or port in VHDL\n",
    "from hwt.interfaces.std import Signal\n",
    "# Unit is a base class of HWT components\n",
    "from hwt.synthesizer.unit import Unit\n",
    "\n",
    "# jupyter_code_format is just shortcut cunction for pygments syntax highligh\n",
    "from jupyter_code_format import jupyter_code_format\n",
    "\n",
    "\n",
    "# This is a very simple component which is just a direct wire\n",
    "class DirectWire(Unit):\n",
    "    \"\"\"\n",
    "    In order to create a new unit you have to make new class derived from Unit (or subunit).\n",
    "    \"\"\"\n",
    "\n",
    "    def _declr(self):\n",
    "        \"\"\"\n",
    "        _declr() is like header of Verilog module or VHDL entity.\n",
    "        There you have to declare things which should be visible from outside.\n",
    "        \"\"\"\n",
    "        # interfaces \"a\" and \"b\" are accessible from outside when declared\n",
    "        # in _declr method, this means they will be interfaces of Entity/Module\n",
    "        # and parent unit can connect signals to this interfaces\n",
    "        # note that interfaces has to be properties of this object\n",
    "        # which is kind of registration and without it, they can not be discovered\n",
    "        self.a = Signal()\n",
    "        # \"b\" is output and has to be marked with \"._m()\" as master then\n",
    "        self.b = Signal()._m()\n",
    "\n",
    "    def _impl(self):\n",
    "        \"\"\"\n",
    "        _impl() is like body of Verilog module or VHDL architecture.\n",
    "        Logic and connections are specified i`qn this function.\n",
    "        \"\"\"\n",
    "\n",
    "        # call operator creates assignment. First parameter is source rest\n",
    "        # are destinations.\n",
    "        self.b(self.a)  # a drives b, \"()\" because \"=\" can not be overriden"
   ]
  },
  {
   "cell_type": "code",
   "execution_count": 2,
   "metadata": {},
   "outputs": [
    {
     "data": {
      "application/vnd.jupyter.widget-view+json": {
       "model_id": "554c63cadefb49289fca01d4957841e0",
       "version_major": 2,
       "version_minor": 0
      },
      "text/plain": [
       "HwtSchemeWidget(height='40px', value={'hwMeta': {'name': 'DirectWire', 'maxId': 5}, 'properties': {'org.eclips…"
      ]
     },
     "metadata": {},
     "output_type": "display_data"
    }
   ],
   "source": [
    "# You can use HwtSchemeWidget to draw the component schematic (if you have it installed)\n",
    "from jupyter_widget_hwt import HwtSchemeWidget\n",
    "HwtSchemeWidget(DirectWire(), width=200, height=40)"
   ]
  },
  {
   "cell_type": "code",
   "execution_count": 3,
   "metadata": {},
   "outputs": [
    {
     "data": {
      "text/html": [
       "<style>.highlight .hll { background-color: #ffffcc }\n",
       ".highlight  { background: #f8f8f8; }\n",
       ".highlight .c { color: #408080; font-style: italic } /* Comment */\n",
       ".highlight .err { border: 1px solid #FF0000 } /* Error */\n",
       ".highlight .k { color: #008000; font-weight: bold } /* Keyword */\n",
       ".highlight .o { color: #666666 } /* Operator */\n",
       ".highlight .ch { color: #408080; font-style: italic } /* Comment.Hashbang */\n",
       ".highlight .cm { color: #408080; font-style: italic } /* Comment.Multiline */\n",
       ".highlight .cp { color: #BC7A00 } /* Comment.Preproc */\n",
       ".highlight .cpf { color: #408080; font-style: italic } /* Comment.PreprocFile */\n",
       ".highlight .c1 { color: #408080; font-style: italic } /* Comment.Single */\n",
       ".highlight .cs { color: #408080; font-style: italic } /* Comment.Special */\n",
       ".highlight .gd { color: #A00000 } /* Generic.Deleted */\n",
       ".highlight .ge { font-style: italic } /* Generic.Emph */\n",
       ".highlight .gr { color: #FF0000 } /* Generic.Error */\n",
       ".highlight .gh { color: #000080; font-weight: bold } /* Generic.Heading */\n",
       ".highlight .gi { color: #00A000 } /* Generic.Inserted */\n",
       ".highlight .go { color: #888888 } /* Generic.Output */\n",
       ".highlight .gp { color: #000080; font-weight: bold } /* Generic.Prompt */\n",
       ".highlight .gs { font-weight: bold } /* Generic.Strong */\n",
       ".highlight .gu { color: #800080; font-weight: bold } /* Generic.Subheading */\n",
       ".highlight .gt { color: #0044DD } /* Generic.Traceback */\n",
       ".highlight .kc { color: #008000; font-weight: bold } /* Keyword.Constant */\n",
       ".highlight .kd { color: #008000; font-weight: bold } /* Keyword.Declaration */\n",
       ".highlight .kn { color: #008000; font-weight: bold } /* Keyword.Namespace */\n",
       ".highlight .kp { color: #008000 } /* Keyword.Pseudo */\n",
       ".highlight .kr { color: #008000; font-weight: bold } /* Keyword.Reserved */\n",
       ".highlight .kt { color: #B00040 } /* Keyword.Type */\n",
       ".highlight .m { color: #666666 } /* Literal.Number */\n",
       ".highlight .s { color: #BA2121 } /* Literal.String */\n",
       ".highlight .na { color: #7D9029 } /* Name.Attribute */\n",
       ".highlight .nb { color: #008000 } /* Name.Builtin */\n",
       ".highlight .nc { color: #0000FF; font-weight: bold } /* Name.Class */\n",
       ".highlight .no { color: #880000 } /* Name.Constant */\n",
       ".highlight .nd { color: #AA22FF } /* Name.Decorator */\n",
       ".highlight .ni { color: #999999; font-weight: bold } /* Name.Entity */\n",
       ".highlight .ne { color: #D2413A; font-weight: bold } /* Name.Exception */\n",
       ".highlight .nf { color: #0000FF } /* Name.Function */\n",
       ".highlight .nl { color: #A0A000 } /* Name.Label */\n",
       ".highlight .nn { color: #0000FF; font-weight: bold } /* Name.Namespace */\n",
       ".highlight .nt { color: #008000; font-weight: bold } /* Name.Tag */\n",
       ".highlight .nv { color: #19177C } /* Name.Variable */\n",
       ".highlight .ow { color: #AA22FF; font-weight: bold } /* Operator.Word */\n",
       ".highlight .w { color: #bbbbbb } /* Text.Whitespace */\n",
       ".highlight .mb { color: #666666 } /* Literal.Number.Bin */\n",
       ".highlight .mf { color: #666666 } /* Literal.Number.Float */\n",
       ".highlight .mh { color: #666666 } /* Literal.Number.Hex */\n",
       ".highlight .mi { color: #666666 } /* Literal.Number.Integer */\n",
       ".highlight .mo { color: #666666 } /* Literal.Number.Oct */\n",
       ".highlight .sa { color: #BA2121 } /* Literal.String.Affix */\n",
       ".highlight .sb { color: #BA2121 } /* Literal.String.Backtick */\n",
       ".highlight .sc { color: #BA2121 } /* Literal.String.Char */\n",
       ".highlight .dl { color: #BA2121 } /* Literal.String.Delimiter */\n",
       ".highlight .sd { color: #BA2121; font-style: italic } /* Literal.String.Doc */\n",
       ".highlight .s2 { color: #BA2121 } /* Literal.String.Double */\n",
       ".highlight .se { color: #BB6622; font-weight: bold } /* Literal.String.Escape */\n",
       ".highlight .sh { color: #BA2121 } /* Literal.String.Heredoc */\n",
       ".highlight .si { color: #BB6688; font-weight: bold } /* Literal.String.Interpol */\n",
       ".highlight .sx { color: #008000 } /* Literal.String.Other */\n",
       ".highlight .sr { color: #BB6688 } /* Literal.String.Regex */\n",
       ".highlight .s1 { color: #BA2121 } /* Literal.String.Single */\n",
       ".highlight .ss { color: #19177C } /* Literal.String.Symbol */\n",
       ".highlight .bp { color: #008000 } /* Name.Builtin.Pseudo */\n",
       ".highlight .fm { color: #0000FF } /* Name.Function.Magic */\n",
       ".highlight .vc { color: #19177C } /* Name.Variable.Class */\n",
       ".highlight .vg { color: #19177C } /* Name.Variable.Global */\n",
       ".highlight .vi { color: #19177C } /* Name.Variable.Instance */\n",
       ".highlight .vm { color: #19177C } /* Name.Variable.Magic */\n",
       ".highlight .il { color: #666666 } /* Literal.Number.Integer.Long */</style>"
      ],
      "text/plain": [
       "<IPython.core.display.HTML object>"
      ]
     },
     "metadata": {},
     "output_type": "display_data"
    },
    {
     "data": {
      "text/html": [
       "<div class=\"highlight\"><pre><span></span><span class=\"k\">LIBRARY</span> <span class=\"nn\">IEEE</span><span class=\"p\">;</span>\n",
       "<span class=\"k\">USE</span> <span class=\"nn\">IEEE.std_logic_1164.</span><span class=\"k\">ALL</span><span class=\"p\">;</span>\n",
       "<span class=\"k\">USE</span> <span class=\"nn\">IEEE.numeric_std.</span><span class=\"k\">ALL</span><span class=\"p\">;</span>\n",
       "<span class=\"c1\">--</span>\n",
       "<span class=\"c1\">--    In order to create a new unit you have to make new class derived from Unit (or subunit).</span>\n",
       "<span class=\"c1\">--    </span>\n",
       "<span class=\"k\">ENTITY</span> <span class=\"nc\">DirectWire</span> <span class=\"k\">IS</span>\n",
       "    <span class=\"k\">PORT</span><span class=\"p\">(</span>\n",
       "        <span class=\"n\">a</span> <span class=\"o\">:</span> <span class=\"k\">IN</span> <span class=\"kt\">STD_LOGIC</span><span class=\"p\">;</span>\n",
       "        <span class=\"n\">b</span> <span class=\"o\">:</span> <span class=\"k\">OUT</span> <span class=\"kt\">STD_LOGIC</span>\n",
       "    <span class=\"p\">);</span>\n",
       "<span class=\"k\">END</span> <span class=\"k\">ENTITY</span><span class=\"p\">;</span>\n",
       "\n",
       "<span class=\"k\">ARCHITECTURE</span> <span class=\"nc\">rtl</span> <span class=\"k\">OF</span> <span class=\"nc\">DirectWire</span> <span class=\"k\">IS</span>\n",
       "<span class=\"k\">BEGIN</span>\n",
       "    <span class=\"n\">b</span> <span class=\"o\">&lt;=</span> <span class=\"n\">a</span><span class=\"p\">;</span>\n",
       "<span class=\"k\">END</span> <span class=\"k\">ARCHITECTURE</span><span class=\"p\">;</span>\n",
       "</pre></div>\n"
      ],
      "text/plain": [
       "<IPython.core.display.HTML object>"
      ]
     },
     "metadata": {},
     "output_type": "display_data"
    }
   ],
   "source": [
    "# to_rtl_str can be imported anywhere but we prefer to import it only\n",
    "# when this script is running as main\n",
    "from hwt.synthesizer.utils import to_rtl_str\n",
    "from hwt.serializer.vhdl import Vhdl2008Serializer\n",
    "\n",
    "\n",
    "# we create instance of our unit\n",
    "u = DirectWire()\n",
    "# to_rtl_str() returns hdl string, you can also generate files with to_rtl, IP-xact packages with IpPackager\n",
    "vhdl_str = to_rtl_str(u, serializer_cls=Vhdl2008Serializer)\n",
    "jupyter_code_format(vhdl_str, 'vhdl')"
   ]
  },
  {
   "cell_type": "code",
   "execution_count": 4,
   "metadata": {},
   "outputs": [
    {
     "data": {
      "text/html": [
       "<style>.highlight .hll { background-color: #ffffcc }\n",
       ".highlight  { background: #f8f8f8; }\n",
       ".highlight .c { color: #408080; font-style: italic } /* Comment */\n",
       ".highlight .err { border: 1px solid #FF0000 } /* Error */\n",
       ".highlight .k { color: #008000; font-weight: bold } /* Keyword */\n",
       ".highlight .o { color: #666666 } /* Operator */\n",
       ".highlight .ch { color: #408080; font-style: italic } /* Comment.Hashbang */\n",
       ".highlight .cm { color: #408080; font-style: italic } /* Comment.Multiline */\n",
       ".highlight .cp { color: #BC7A00 } /* Comment.Preproc */\n",
       ".highlight .cpf { color: #408080; font-style: italic } /* Comment.PreprocFile */\n",
       ".highlight .c1 { color: #408080; font-style: italic } /* Comment.Single */\n",
       ".highlight .cs { color: #408080; font-style: italic } /* Comment.Special */\n",
       ".highlight .gd { color: #A00000 } /* Generic.Deleted */\n",
       ".highlight .ge { font-style: italic } /* Generic.Emph */\n",
       ".highlight .gr { color: #FF0000 } /* Generic.Error */\n",
       ".highlight .gh { color: #000080; font-weight: bold } /* Generic.Heading */\n",
       ".highlight .gi { color: #00A000 } /* Generic.Inserted */\n",
       ".highlight .go { color: #888888 } /* Generic.Output */\n",
       ".highlight .gp { color: #000080; font-weight: bold } /* Generic.Prompt */\n",
       ".highlight .gs { font-weight: bold } /* Generic.Strong */\n",
       ".highlight .gu { color: #800080; font-weight: bold } /* Generic.Subheading */\n",
       ".highlight .gt { color: #0044DD } /* Generic.Traceback */\n",
       ".highlight .kc { color: #008000; font-weight: bold } /* Keyword.Constant */\n",
       ".highlight .kd { color: #008000; font-weight: bold } /* Keyword.Declaration */\n",
       ".highlight .kn { color: #008000; font-weight: bold } /* Keyword.Namespace */\n",
       ".highlight .kp { color: #008000 } /* Keyword.Pseudo */\n",
       ".highlight .kr { color: #008000; font-weight: bold } /* Keyword.Reserved */\n",
       ".highlight .kt { color: #B00040 } /* Keyword.Type */\n",
       ".highlight .m { color: #666666 } /* Literal.Number */\n",
       ".highlight .s { color: #BA2121 } /* Literal.String */\n",
       ".highlight .na { color: #7D9029 } /* Name.Attribute */\n",
       ".highlight .nb { color: #008000 } /* Name.Builtin */\n",
       ".highlight .nc { color: #0000FF; font-weight: bold } /* Name.Class */\n",
       ".highlight .no { color: #880000 } /* Name.Constant */\n",
       ".highlight .nd { color: #AA22FF } /* Name.Decorator */\n",
       ".highlight .ni { color: #999999; font-weight: bold } /* Name.Entity */\n",
       ".highlight .ne { color: #D2413A; font-weight: bold } /* Name.Exception */\n",
       ".highlight .nf { color: #0000FF } /* Name.Function */\n",
       ".highlight .nl { color: #A0A000 } /* Name.Label */\n",
       ".highlight .nn { color: #0000FF; font-weight: bold } /* Name.Namespace */\n",
       ".highlight .nt { color: #008000; font-weight: bold } /* Name.Tag */\n",
       ".highlight .nv { color: #19177C } /* Name.Variable */\n",
       ".highlight .ow { color: #AA22FF; font-weight: bold } /* Operator.Word */\n",
       ".highlight .w { color: #bbbbbb } /* Text.Whitespace */\n",
       ".highlight .mb { color: #666666 } /* Literal.Number.Bin */\n",
       ".highlight .mf { color: #666666 } /* Literal.Number.Float */\n",
       ".highlight .mh { color: #666666 } /* Literal.Number.Hex */\n",
       ".highlight .mi { color: #666666 } /* Literal.Number.Integer */\n",
       ".highlight .mo { color: #666666 } /* Literal.Number.Oct */\n",
       ".highlight .sa { color: #BA2121 } /* Literal.String.Affix */\n",
       ".highlight .sb { color: #BA2121 } /* Literal.String.Backtick */\n",
       ".highlight .sc { color: #BA2121 } /* Literal.String.Char */\n",
       ".highlight .dl { color: #BA2121 } /* Literal.String.Delimiter */\n",
       ".highlight .sd { color: #BA2121; font-style: italic } /* Literal.String.Doc */\n",
       ".highlight .s2 { color: #BA2121 } /* Literal.String.Double */\n",
       ".highlight .se { color: #BB6622; font-weight: bold } /* Literal.String.Escape */\n",
       ".highlight .sh { color: #BA2121 } /* Literal.String.Heredoc */\n",
       ".highlight .si { color: #BB6688; font-weight: bold } /* Literal.String.Interpol */\n",
       ".highlight .sx { color: #008000 } /* Literal.String.Other */\n",
       ".highlight .sr { color: #BB6688 } /* Literal.String.Regex */\n",
       ".highlight .s1 { color: #BA2121 } /* Literal.String.Single */\n",
       ".highlight .ss { color: #19177C } /* Literal.String.Symbol */\n",
       ".highlight .bp { color: #008000 } /* Name.Builtin.Pseudo */\n",
       ".highlight .fm { color: #0000FF } /* Name.Function.Magic */\n",
       ".highlight .vc { color: #19177C } /* Name.Variable.Class */\n",
       ".highlight .vg { color: #19177C } /* Name.Variable.Global */\n",
       ".highlight .vi { color: #19177C } /* Name.Variable.Instance */\n",
       ".highlight .vm { color: #19177C } /* Name.Variable.Magic */\n",
       ".highlight .il { color: #666666 } /* Literal.Number.Integer.Long */</style>"
      ],
      "text/plain": [
       "<IPython.core.display.HTML object>"
      ]
     },
     "metadata": {},
     "output_type": "display_data"
    },
    {
     "data": {
      "text/html": [
       "<div class=\"highlight\"><pre><span></span><span class=\"c1\">//</span>\n",
       "<span class=\"c1\">//    In order to create a new unit you have to make new class derived from Unit (or subunit).</span>\n",
       "<span class=\"c1\">//    </span>\n",
       "<span class=\"k\">module</span> <span class=\"n\">DirectWire</span> <span class=\"p\">(</span>\n",
       "    <span class=\"k\">input</span>  <span class=\"n\">a</span><span class=\"p\">,</span>\n",
       "    <span class=\"k\">output</span>  <span class=\"n\">b</span>\n",
       "<span class=\"p\">);</span>\n",
       "    <span class=\"k\">assign</span> <span class=\"n\">b</span> <span class=\"o\">=</span> <span class=\"n\">a</span><span class=\"p\">;</span>\n",
       "<span class=\"k\">endmodule</span>\n",
       "</pre></div>\n"
      ],
      "text/plain": [
       "<IPython.core.display.HTML object>"
      ]
     },
     "metadata": {},
     "output_type": "display_data"
    }
   ],
   "source": [
    "from hwt.serializer.verilog import VerilogSerializer\n",
    "verilog_str = to_rtl_str(DirectWire(), serializer_cls=VerilogSerializer)\n",
    "jupyter_code_format(verilog_str, 'verilog')"
   ]
  },
  {
   "cell_type": "code",
   "execution_count": 5,
   "metadata": {},
   "outputs": [
    {
     "name": "stdout",
     "output_type": "stream",
     "text": [
      "component_hw.tcl  component.xml  src  xgui\r\n"
     ]
    }
   ],
   "source": [
    "# you can use IpPackager to export the component as IP-XACT format\n",
    "# to import componet to Xilinx Vivado/Intel Quartus\n",
    "from hwt.serializer.ip_packager import IpPackager\n",
    "p = IpPackager(DirectWire(), name=\"simple_ip\")\n",
    "p.createPackage(\"/tmp/\")\n",
    "\n",
    "!ls /tmp/simple_ip"
   ]
  }
 ],
 "metadata": {
  "kernelspec": {
   "display_name": "Python 3",
   "language": "python",
   "name": "python3"
  },
  "language_info": {
   "codemirror_mode": {
    "name": "ipython",
    "version": 3
   },
   "file_extension": ".py",
   "mimetype": "text/x-python",
   "name": "python",
   "nbconvert_exporter": "python",
   "pygments_lexer": "ipython3",
   "version": "3.8.2"
  },
  "widgets": {
   "application/vnd.jupyter.widget-state+json": {
    "state": {
     "4400372c19a64f03bda6ee2317f56d16": {
      "model_module": "@jupyter-widgets/base",
      "model_module_version": "1.2.0",
      "model_name": "LayoutModel",
      "state": {}
     },
     "554c63cadefb49289fca01d4957841e0": {
      "model_module": "jupyter_widget_hwt",
      "model_module_version": "^0.0.1",
      "model_name": "HwtSchemeModel",
      "state": {
       "_model_module_version": "^0.0.1",
       "_view_module_version": "^0.0.1",
       "height": "40px",
       "layout": "IPY_MODEL_4400372c19a64f03bda6ee2317f56d16",
       "value": {
        "children": [
         {
          "hideChildren": true,
          "hwMeta": {
           "isExternalPort": true,
           "maxId": 4,
           "name": "a"
          },
          "id": "1",
          "ports": [
           {
            "direction": "OUTPUT",
            "hwMeta": {
             "level": 0,
             "name": "a"
            },
            "id": "3",
            "properties": {
             "portIndex": 0,
             "portSide": "EAST"
            }
           }
          ],
          "properties": {
           "org.eclipse.elk.layered.mergeEdges": 1,
           "org.eclipse.elk.portConstraints": "FIXED_ORDER",
           "org.eclipse.elk.randomSeed": 0
          }
         },
         {
          "hideChildren": true,
          "hwMeta": {
           "isExternalPort": true,
           "maxId": 4,
           "name": "b"
          },
          "id": "2",
          "ports": [
           {
            "direction": "INPUT",
            "hwMeta": {
             "level": 0,
             "name": "b"
            },
            "id": "4",
            "properties": {
             "portIndex": 0,
             "portSide": "WEST"
            }
           }
          ],
          "properties": {
           "org.eclipse.elk.layered.mergeEdges": 1,
           "org.eclipse.elk.portConstraints": "FIXED_ORDER",
           "org.eclipse.elk.randomSeed": 0
          }
         }
        ],
        "edges": [
         {
          "hwMeta": {
           "name": "b"
          },
          "id": "5",
          "source": "1",
          "sourcePort": "3",
          "target": "2",
          "targetPort": "4"
         }
        ],
        "hwMeta": {
         "maxId": 5,
         "name": "DirectWire"
        },
        "ports": [],
        "properties": {
         "org.eclipse.elk.layered.mergeEdges": 1,
         "org.eclipse.elk.portConstraints": "FIXED_ORDER",
         "org.eclipse.elk.randomSeed": 0
        }
       },
       "width": "200px"
      }
     }
    },
    "version_major": 2,
    "version_minor": 0
   }
  }
 },
 "nbformat": 4,
 "nbformat_minor": 4
}
